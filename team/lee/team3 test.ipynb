{
 "cells": [
  {
   "cell_type": "code",
   "execution_count": 1,
   "id": "f92b1558",
   "metadata": {},
   "outputs": [],
   "source": [
    "import numpy as np\n",
    "import pandas as pd\n",
    "import matplotlib.pyplot as plt\n",
    "import seaborn as sns\n",
    "\n",
    "import warnings\n",
    "warnings.filterwarnings(action=\"ignore\")\n",
    "\n",
    "import matplotlib.font_manager as fm\n",
    "font_name = fm.FontProperties(fname=\"C:/Windows/Fonts/malgun.ttf\").get_name()\n",
    "plt.rc(\"font\", family=font_name)\n",
    "\n",
    "import matplotlib as mpl\n",
    "mpl.rcParams[\"axes.unicode_minus\"] = False\n",
    "\n",
    "import tensorflow as tf\n",
    "\n",
    "import warnings\n",
    "warnings.filterwarnings(action=\"ignore\")\n"
   ]
  },
  {
   "cell_type": "code",
   "execution_count": null,
   "id": "323e237a",
   "metadata": {},
   "outputs": [],
   "source": [
    "# 사용할 변수\n",
    "\n",
    "# 식수 인원, 요일별 평균, 월평균?\n",
    "# 메뉴\n",
    "# 요일\n",
    "# 휴일여부\n",
    "# 날씨"
   ]
  },
  {
   "cell_type": "code",
   "execution_count": 2,
   "id": "2bdb9209",
   "metadata": {},
   "outputs": [],
   "source": [
    "# 데이터 준비\n",
    "train = pd.read_csv('data/train.csv')\n",
    "test = pd.read_csv('data/test.csv')\n",
    "submission = pd.read_csv('data/sample_submission.csv')"
   ]
  },
  {
   "cell_type": "code",
   "execution_count": 3,
   "id": "dab6ecdd",
   "metadata": {},
   "outputs": [],
   "source": [
    "# 컬럼 정리\n",
    "train.rename(columns={'본사정원수':'근무자수', '본사휴가자수':'휴가자수', '본사출장자수':'출장자수',\n",
    "                      '본사시간외근무명령서승인건수':'야근자수', '현본사소속재택근무자수':'재택근무'}, inplace=True)\n",
    "\n",
    "test.rename(columns={'본사정원수':'근무자수', '본사휴가자수':'휴가자수', '본사출장자수':'출장자수', \n",
    "            '본사시간외근무명령서승인건수':'야근자수', '현본사소속재택근무자수':'재택근무'}, inplace=True)"
   ]
  },
  {
   "cell_type": "code",
   "execution_count": 6,
   "id": "5a22681f",
   "metadata": {},
   "outputs": [
    {
     "name": "stdout",
     "output_type": "stream",
     "text": [
      "<class 'pandas.core.frame.DataFrame'>\n",
      "RangeIndex: 1205 entries, 0 to 1204\n",
      "Data columns (total 12 columns):\n",
      " #   Column  Non-Null Count  Dtype  \n",
      "---  ------  --------------  -----  \n",
      " 0   일자      1205 non-null   object \n",
      " 1   요일      1205 non-null   object \n",
      " 2   근무자수    1205 non-null   int64  \n",
      " 3   휴가자수    1205 non-null   int64  \n",
      " 4   출장자수    1205 non-null   int64  \n",
      " 5   야근자수    1205 non-null   int64  \n",
      " 6   재택근무    1205 non-null   float64\n",
      " 7   조식메뉴    1205 non-null   object \n",
      " 8   중식메뉴    1205 non-null   object \n",
      " 9   석식메뉴    1205 non-null   object \n",
      " 10  중식계     1205 non-null   float64\n",
      " 11  석식계     1205 non-null   float64\n",
      "dtypes: float64(3), int64(4), object(5)\n",
      "memory usage: 113.1+ KB\n"
     ]
    }
   ],
   "source": [
    "train.head(3)\n",
    "train.info()"
   ]
  },
  {
   "cell_type": "code",
   "execution_count": 19,
   "id": "64dc49ff",
   "metadata": {},
   "outputs": [],
   "source": [
    "# 일자를 datetime 형식으로 변환\n",
    "\n",
    "train['일자'] = pd.to_datetime(train['일자'])"
   ]
  },
  {
   "cell_type": "code",
   "execution_count": 20,
   "id": "db172caf",
   "metadata": {},
   "outputs": [
    {
     "name": "stdout",
     "output_type": "stream",
     "text": [
      "<class 'pandas.core.frame.DataFrame'>\n",
      "RangeIndex: 1205 entries, 0 to 1204\n",
      "Data columns (total 12 columns):\n",
      " #   Column  Non-Null Count  Dtype         \n",
      "---  ------  --------------  -----         \n",
      " 0   일자      1205 non-null   datetime64[ns]\n",
      " 1   요일      1205 non-null   object        \n",
      " 2   근무자수    1205 non-null   int64         \n",
      " 3   휴가자수    1205 non-null   int64         \n",
      " 4   출장자수    1205 non-null   int64         \n",
      " 5   야근자수    1205 non-null   int64         \n",
      " 6   재택근무    1205 non-null   float64       \n",
      " 7   조식메뉴    1205 non-null   object        \n",
      " 8   중식메뉴    1205 non-null   object        \n",
      " 9   석식메뉴    1205 non-null   object        \n",
      " 10  중식계     1205 non-null   float64       \n",
      " 11  석식계     1205 non-null   float64       \n",
      "dtypes: datetime64[ns](1), float64(3), int64(4), object(4)\n",
      "memory usage: 113.1+ KB\n"
     ]
    }
   ],
   "source": [
    "train.head(2)\n",
    "train.info()"
   ]
  },
  {
   "cell_type": "code",
   "execution_count": 21,
   "id": "5dc4a684",
   "metadata": {},
   "outputs": [
    {
     "data": {
      "text/html": [
       "<div>\n",
       "<style scoped>\n",
       "    .dataframe tbody tr th:only-of-type {\n",
       "        vertical-align: middle;\n",
       "    }\n",
       "\n",
       "    .dataframe tbody tr th {\n",
       "        vertical-align: top;\n",
       "    }\n",
       "\n",
       "    .dataframe thead th {\n",
       "        text-align: right;\n",
       "    }\n",
       "</style>\n",
       "<table border=\"1\" class=\"dataframe\">\n",
       "  <thead>\n",
       "    <tr style=\"text-align: right;\">\n",
       "      <th></th>\n",
       "      <th>근무자수</th>\n",
       "      <th>휴가자수</th>\n",
       "      <th>출장자수</th>\n",
       "      <th>야근자수</th>\n",
       "      <th>재택근무</th>\n",
       "      <th>중식계</th>\n",
       "      <th>석식계</th>\n",
       "    </tr>\n",
       "  </thead>\n",
       "  <tbody>\n",
       "    <tr>\n",
       "      <th>count</th>\n",
       "      <td>1205.000000</td>\n",
       "      <td>1205.000000</td>\n",
       "      <td>1205.000000</td>\n",
       "      <td>1205.000000</td>\n",
       "      <td>1205.000000</td>\n",
       "      <td>1205.000000</td>\n",
       "      <td>1205.000000</td>\n",
       "    </tr>\n",
       "    <tr>\n",
       "      <th>mean</th>\n",
       "      <td>2807.815768</td>\n",
       "      <td>157.913693</td>\n",
       "      <td>241.142739</td>\n",
       "      <td>274.117012</td>\n",
       "      <td>43.506224</td>\n",
       "      <td>890.334440</td>\n",
       "      <td>461.772614</td>\n",
       "    </tr>\n",
       "    <tr>\n",
       "      <th>std</th>\n",
       "      <td>171.264404</td>\n",
       "      <td>144.190572</td>\n",
       "      <td>43.532298</td>\n",
       "      <td>246.239651</td>\n",
       "      <td>109.937400</td>\n",
       "      <td>209.505057</td>\n",
       "      <td>139.179202</td>\n",
       "    </tr>\n",
       "    <tr>\n",
       "      <th>min</th>\n",
       "      <td>2601.000000</td>\n",
       "      <td>23.000000</td>\n",
       "      <td>41.000000</td>\n",
       "      <td>0.000000</td>\n",
       "      <td>0.000000</td>\n",
       "      <td>296.000000</td>\n",
       "      <td>0.000000</td>\n",
       "    </tr>\n",
       "    <tr>\n",
       "      <th>25%</th>\n",
       "      <td>2645.000000</td>\n",
       "      <td>71.000000</td>\n",
       "      <td>217.000000</td>\n",
       "      <td>4.000000</td>\n",
       "      <td>0.000000</td>\n",
       "      <td>758.000000</td>\n",
       "      <td>406.000000</td>\n",
       "    </tr>\n",
       "    <tr>\n",
       "      <th>50%</th>\n",
       "      <td>2760.000000</td>\n",
       "      <td>105.000000</td>\n",
       "      <td>245.000000</td>\n",
       "      <td>299.000000</td>\n",
       "      <td>0.000000</td>\n",
       "      <td>879.000000</td>\n",
       "      <td>483.000000</td>\n",
       "    </tr>\n",
       "    <tr>\n",
       "      <th>75%</th>\n",
       "      <td>2962.000000</td>\n",
       "      <td>185.000000</td>\n",
       "      <td>272.000000</td>\n",
       "      <td>452.000000</td>\n",
       "      <td>0.000000</td>\n",
       "      <td>1032.000000</td>\n",
       "      <td>545.000000</td>\n",
       "    </tr>\n",
       "    <tr>\n",
       "      <th>max</th>\n",
       "      <td>3305.000000</td>\n",
       "      <td>1224.000000</td>\n",
       "      <td>378.000000</td>\n",
       "      <td>1044.000000</td>\n",
       "      <td>533.000000</td>\n",
       "      <td>1459.000000</td>\n",
       "      <td>905.000000</td>\n",
       "    </tr>\n",
       "  </tbody>\n",
       "</table>\n",
       "</div>"
      ],
      "text/plain": [
       "              근무자수         휴가자수         출장자수         야근자수         재택근무  \\\n",
       "count  1205.000000  1205.000000  1205.000000  1205.000000  1205.000000   \n",
       "mean   2807.815768   157.913693   241.142739   274.117012    43.506224   \n",
       "std     171.264404   144.190572    43.532298   246.239651   109.937400   \n",
       "min    2601.000000    23.000000    41.000000     0.000000     0.000000   \n",
       "25%    2645.000000    71.000000   217.000000     4.000000     0.000000   \n",
       "50%    2760.000000   105.000000   245.000000   299.000000     0.000000   \n",
       "75%    2962.000000   185.000000   272.000000   452.000000     0.000000   \n",
       "max    3305.000000  1224.000000   378.000000  1044.000000   533.000000   \n",
       "\n",
       "               중식계          석식계  \n",
       "count  1205.000000  1205.000000  \n",
       "mean    890.334440   461.772614  \n",
       "std     209.505057   139.179202  \n",
       "min     296.000000     0.000000  \n",
       "25%     758.000000   406.000000  \n",
       "50%     879.000000   483.000000  \n",
       "75%    1032.000000   545.000000  \n",
       "max    1459.000000   905.000000  "
      ]
     },
     "execution_count": 21,
     "metadata": {},
     "output_type": "execute_result"
    }
   ],
   "source": [
    "train.describe()"
   ]
  },
  {
   "cell_type": "code",
   "execution_count": 38,
   "id": "3f77bce2",
   "metadata": {},
   "outputs": [
    {
     "data": {
      "text/html": [
       "<div>\n",
       "<style scoped>\n",
       "    .dataframe tbody tr th:only-of-type {\n",
       "        vertical-align: middle;\n",
       "    }\n",
       "\n",
       "    .dataframe tbody tr th {\n",
       "        vertical-align: top;\n",
       "    }\n",
       "\n",
       "    .dataframe thead th {\n",
       "        text-align: right;\n",
       "    }\n",
       "</style>\n",
       "<table border=\"1\" class=\"dataframe\">\n",
       "  <thead>\n",
       "    <tr style=\"text-align: right;\">\n",
       "      <th></th>\n",
       "      <th>요일</th>\n",
       "      <th>중식계</th>\n",
       "    </tr>\n",
       "  </thead>\n",
       "  <tbody>\n",
       "    <tr>\n",
       "      <th>0</th>\n",
       "      <td>월</td>\n",
       "      <td>1144.331950</td>\n",
       "    </tr>\n",
       "    <tr>\n",
       "      <th>1</th>\n",
       "      <td>화</td>\n",
       "      <td>925.620833</td>\n",
       "    </tr>\n",
       "    <tr>\n",
       "      <th>2</th>\n",
       "      <td>수</td>\n",
       "      <td>905.213389</td>\n",
       "    </tr>\n",
       "    <tr>\n",
       "      <th>3</th>\n",
       "      <td>목</td>\n",
       "      <td>823.991803</td>\n",
       "    </tr>\n",
       "    <tr>\n",
       "      <th>4</th>\n",
       "      <td>금</td>\n",
       "      <td>653.609959</td>\n",
       "    </tr>\n",
       "  </tbody>\n",
       "</table>\n",
       "</div>"
      ],
      "text/plain": [
       "  요일          중식계\n",
       "0  월  1144.331950\n",
       "1  화   925.620833\n",
       "2  수   905.213389\n",
       "3  목   823.991803\n",
       "4  금   653.609959"
      ]
     },
     "execution_count": 38,
     "metadata": {},
     "output_type": "execute_result"
    }
   ],
   "source": [
    "# 요일별 평균\n",
    "\n",
    "lunch_mean = pd.pivot_table(train, values = '중식계', index=['요일'], aggfunc = np.mean).reset_index()\n",
    "lunch_mean = lunch_mean.sort_values('중식계', ascending=False)\n",
    "lunch_mean = lunch_mean.reset_index(drop=True)\n",
    "lunch_mean"
   ]
  },
  {
   "cell_type": "code",
   "execution_count": 39,
   "id": "058e9ef8",
   "metadata": {},
   "outputs": [
    {
     "data": {
      "text/html": [
       "<div>\n",
       "<style scoped>\n",
       "    .dataframe tbody tr th:only-of-type {\n",
       "        vertical-align: middle;\n",
       "    }\n",
       "\n",
       "    .dataframe tbody tr th {\n",
       "        vertical-align: top;\n",
       "    }\n",
       "\n",
       "    .dataframe thead th {\n",
       "        text-align: right;\n",
       "    }\n",
       "</style>\n",
       "<table border=\"1\" class=\"dataframe\">\n",
       "  <thead>\n",
       "    <tr style=\"text-align: right;\">\n",
       "      <th></th>\n",
       "      <th>0_금</th>\n",
       "      <th>0_목</th>\n",
       "      <th>0_수</th>\n",
       "      <th>0_월</th>\n",
       "      <th>0_화</th>\n",
       "    </tr>\n",
       "  </thead>\n",
       "  <tbody>\n",
       "    <tr>\n",
       "      <th>0</th>\n",
       "      <td>0</td>\n",
       "      <td>0</td>\n",
       "      <td>0</td>\n",
       "      <td>0</td>\n",
       "      <td>1</td>\n",
       "    </tr>\n",
       "    <tr>\n",
       "      <th>1</th>\n",
       "      <td>0</td>\n",
       "      <td>1</td>\n",
       "      <td>0</td>\n",
       "      <td>0</td>\n",
       "      <td>0</td>\n",
       "    </tr>\n",
       "    <tr>\n",
       "      <th>2</th>\n",
       "      <td>0</td>\n",
       "      <td>0</td>\n",
       "      <td>0</td>\n",
       "      <td>1</td>\n",
       "      <td>0</td>\n",
       "    </tr>\n",
       "    <tr>\n",
       "      <th>3</th>\n",
       "      <td>1</td>\n",
       "      <td>0</td>\n",
       "      <td>0</td>\n",
       "      <td>0</td>\n",
       "      <td>0</td>\n",
       "    </tr>\n",
       "    <tr>\n",
       "      <th>4</th>\n",
       "      <td>0</td>\n",
       "      <td>0</td>\n",
       "      <td>1</td>\n",
       "      <td>0</td>\n",
       "      <td>0</td>\n",
       "    </tr>\n",
       "  </tbody>\n",
       "</table>\n",
       "</div>"
      ],
      "text/plain": [
       "   0_금  0_목  0_수  0_월  0_화\n",
       "0    0    0    0    0    1\n",
       "1    0    1    0    0    0\n",
       "2    0    0    0    1    0\n",
       "3    1    0    0    0    0\n",
       "4    0    0    1    0    0"
      ]
     },
     "execution_count": 39,
     "metadata": {},
     "output_type": "execute_result"
    }
   ],
   "source": [
    "# 요일 원핫 인코딩\n",
    "\n",
    "df = pd.DataFrame({'월', '화', '수', '목', '금'})\n",
    "pd.get_dummies(df)"
   ]
  },
  {
   "cell_type": "code",
   "execution_count": null,
   "id": "23ccd1fc",
   "metadata": {},
   "outputs": [],
   "source": [
    "# 월평균?"
   ]
  },
  {
   "cell_type": "code",
   "execution_count": null,
   "id": "a89842aa",
   "metadata": {},
   "outputs": [],
   "source": [
    "# 날씨\n",
    "\n",
    "# 여름철 폭염 : 기상청의 폭염주의보는 일 최고기온이 33도 이상인 상태가 2일정도\n",
    "# 지속될 것으로 예상할 때\n",
    "\n",
    "# 불쾌지수 \n",
    "#  DI＝9/5(기온)－0.55(1－상대습도)(9/5(기온)－26)＋32 \n",
    "# 현재 기상청에서 제공하고 있지 않음.\n",
    "\n",
    "# 체감온도\n",
    "# 체감온도 = 13.12 + 0.6215T - 11.37 V0.16 + 0.3965 V0.16T\n",
    "# T : 기온, V : 풍속\n"
   ]
  },
  {
   "cell_type": "code",
   "execution_count": null,
   "id": "119692dd",
   "metadata": {},
   "outputs": [],
   "source": [
    "# 매해 같은 메뉴\n",
    "# ex) 초복 삼계탕\n",
    "\n",
    "# 이벤트 여부?"
   ]
  },
  {
   "cell_type": "code",
   "execution_count": null,
   "id": "48284ea6",
   "metadata": {},
   "outputs": [],
   "source": [
    "# 휴일 여부"
   ]
  },
  {
   "cell_type": "code",
   "execution_count": null,
   "id": "861cbe73",
   "metadata": {},
   "outputs": [],
   "source": [
    "# 연휴 여부"
   ]
  },
  {
   "cell_type": "code",
   "execution_count": null,
   "id": "96ed6176",
   "metadata": {},
   "outputs": [],
   "source": [
    "# 코로나로 인한 재택근무"
   ]
  },
  {
   "cell_type": "code",
   "execution_count": null,
   "id": "276f5aad",
   "metadata": {},
   "outputs": [],
   "source": [
    "# 연말"
   ]
  },
  {
   "cell_type": "code",
   "execution_count": null,
   "id": "5b85ef76",
   "metadata": {},
   "outputs": [],
   "source": [
    "# 메뉴\n",
    "\n",
    "# open api 활용해서 메뉴 분류"
   ]
  },
  {
   "cell_type": "code",
   "execution_count": null,
   "id": "d1f4bf9f",
   "metadata": {},
   "outputs": [],
   "source": []
  },
  {
   "cell_type": "code",
   "execution_count": null,
   "id": "d3938fa8",
   "metadata": {},
   "outputs": [],
   "source": []
  },
  {
   "cell_type": "code",
   "execution_count": null,
   "id": "2017e24b",
   "metadata": {},
   "outputs": [],
   "source": []
  },
  {
   "cell_type": "code",
   "execution_count": null,
   "id": "b3220d43",
   "metadata": {},
   "outputs": [],
   "source": []
  },
  {
   "cell_type": "code",
   "execution_count": null,
   "id": "a7ef591d",
   "metadata": {},
   "outputs": [],
   "source": []
  },
  {
   "cell_type": "code",
   "execution_count": null,
   "id": "d4819ede",
   "metadata": {},
   "outputs": [],
   "source": []
  },
  {
   "cell_type": "code",
   "execution_count": null,
   "id": "408adc18",
   "metadata": {},
   "outputs": [],
   "source": []
  },
  {
   "cell_type": "code",
   "execution_count": null,
   "id": "33c8c2f6",
   "metadata": {},
   "outputs": [],
   "source": []
  },
  {
   "cell_type": "code",
   "execution_count": null,
   "id": "101812ec",
   "metadata": {},
   "outputs": [],
   "source": []
  },
  {
   "cell_type": "code",
   "execution_count": null,
   "id": "c8e523f2",
   "metadata": {},
   "outputs": [],
   "source": []
  },
  {
   "cell_type": "code",
   "execution_count": null,
   "id": "9f6cdff0",
   "metadata": {},
   "outputs": [],
   "source": []
  },
  {
   "cell_type": "code",
   "execution_count": null,
   "id": "59aed000",
   "metadata": {},
   "outputs": [],
   "source": []
  },
  {
   "cell_type": "code",
   "execution_count": null,
   "id": "80d82ab3",
   "metadata": {},
   "outputs": [],
   "source": []
  },
  {
   "cell_type": "code",
   "execution_count": null,
   "id": "a6203442",
   "metadata": {},
   "outputs": [],
   "source": []
  },
  {
   "cell_type": "code",
   "execution_count": null,
   "id": "7d484af4",
   "metadata": {},
   "outputs": [],
   "source": []
  },
  {
   "cell_type": "code",
   "execution_count": null,
   "id": "e25f8d3c",
   "metadata": {},
   "outputs": [],
   "source": []
  },
  {
   "cell_type": "code",
   "execution_count": null,
   "id": "9b5c63e7",
   "metadata": {},
   "outputs": [],
   "source": []
  },
  {
   "cell_type": "code",
   "execution_count": null,
   "id": "ed6ec99b",
   "metadata": {},
   "outputs": [],
   "source": []
  },
  {
   "cell_type": "code",
   "execution_count": null,
   "id": "133737d2",
   "metadata": {},
   "outputs": [],
   "source": []
  },
  {
   "cell_type": "code",
   "execution_count": null,
   "id": "3fe19c97",
   "metadata": {},
   "outputs": [],
   "source": []
  },
  {
   "cell_type": "code",
   "execution_count": null,
   "id": "c9a4ec73",
   "metadata": {},
   "outputs": [],
   "source": []
  },
  {
   "cell_type": "code",
   "execution_count": null,
   "id": "483af0d9",
   "metadata": {},
   "outputs": [],
   "source": []
  },
  {
   "cell_type": "code",
   "execution_count": null,
   "id": "3c1d3848",
   "metadata": {},
   "outputs": [],
   "source": []
  },
  {
   "cell_type": "code",
   "execution_count": null,
   "id": "d9dd5ca3",
   "metadata": {},
   "outputs": [],
   "source": []
  },
  {
   "cell_type": "code",
   "execution_count": null,
   "id": "1006dc37",
   "metadata": {},
   "outputs": [],
   "source": []
  },
  {
   "cell_type": "code",
   "execution_count": null,
   "id": "608dc8de",
   "metadata": {},
   "outputs": [],
   "source": []
  },
  {
   "cell_type": "code",
   "execution_count": null,
   "id": "3ab035dc",
   "metadata": {},
   "outputs": [],
   "source": []
  }
 ],
 "metadata": {
  "kernelspec": {
   "display_name": "Python 3",
   "language": "python",
   "name": "python3"
  },
  "language_info": {
   "codemirror_mode": {
    "name": "ipython",
    "version": 3
   },
   "file_extension": ".py",
   "mimetype": "text/x-python",
   "name": "python",
   "nbconvert_exporter": "python",
   "pygments_lexer": "ipython3",
   "version": "3.8.8"
  }
 },
 "nbformat": 4,
 "nbformat_minor": 5
}
