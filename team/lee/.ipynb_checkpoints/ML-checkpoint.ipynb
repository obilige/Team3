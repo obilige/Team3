{
 "cells": [
  {
   "cell_type": "code",
   "execution_count": 71,
   "id": "66a9c68c",
   "metadata": {},
   "outputs": [],
   "source": [
    "import numpy as np\n",
    "import pandas as pd\n",
    "import matplotlib.pyplot as plt\n",
    "import seaborn as sns\n",
    "\n",
    "import warnings\n",
    "warnings.filterwarnings(action=\"ignore\")\n",
    "\n",
    "import matplotlib.font_manager as fm\n",
    "font_name = fm.FontProperties(fname=\"C:/Windows/Fonts/malgun.ttf\").get_name()\n",
    "plt.rc(\"font\", family=font_name)\n",
    "\n",
    "import matplotlib as mpl\n",
    "mpl.rcParams[\"axes.unicode_minus\"] = False\n",
    "\n",
    "import tensorflow as tf\n",
    "\n",
    "import datetime\n",
    "\n",
    "from sklearn.linear_model import LinearRegression\n",
    "\n",
    "from sklearn.linear_model import LogisticRegression\n",
    "from sklearn.svm import LinearSVC\n",
    "\n",
    "from sklearn.ensemble import RandomForestClassifier\n",
    "from sklearn.ensemble import GradientBoostingClassifier\n",
    "from sklearn.ensemble import VotingClassifier\n",
    "\n",
    "import xgboost as xgb\n",
    "from sklearn.model_selection import train_test_split, cross_val_score, GridSearchCV, cross_validate\n",
    "from xgboost import XGBRegressor\n",
    "from sklearn.ensemble import VotingClassifier\n",
    "from sklearn.ensemble import RandomForestRegressor\n",
    "from sklearn.linear_model import LogisticRegression\n",
    "from sklearn.neighbors import KNeighborsClassifier\n",
    "from sklearn.svm import SVC\n",
    "from sklearn.naive_bayes import GaussianNB\n",
    "from sklearn.ensemble import GradientBoostingClassifier\n",
    "\n",
    "from lightgbm import LGBMClassifier, LGBMRegressor\n",
    "from lightgbm import plot_importance, plot_tree, plot_metric"
   ]
  },
  {
   "cell_type": "markdown",
   "id": "83a1fd46",
   "metadata": {},
   "source": [
    "## 데이터 불러오기"
   ]
  },
  {
   "cell_type": "code",
   "execution_count": 51,
   "id": "c469077d",
   "metadata": {
    "scrolled": true
   },
   "outputs": [
    {
     "data": {
      "text/html": [
       "<div>\n",
       "<style scoped>\n",
       "    .dataframe tbody tr th:only-of-type {\n",
       "        vertical-align: middle;\n",
       "    }\n",
       "\n",
       "    .dataframe tbody tr th {\n",
       "        vertical-align: top;\n",
       "    }\n",
       "\n",
       "    .dataframe thead th {\n",
       "        text-align: right;\n",
       "    }\n",
       "</style>\n",
       "<table border=\"1\" class=\"dataframe\">\n",
       "  <thead>\n",
       "    <tr style=\"text-align: right;\">\n",
       "      <th></th>\n",
       "      <th>datetime</th>\n",
       "      <th>month</th>\n",
       "      <th>date</th>\n",
       "      <th>worker_number</th>\n",
       "      <th>real_number</th>\n",
       "      <th>vacation_number</th>\n",
       "      <th>biztrip_number</th>\n",
       "      <th>overtime_number</th>\n",
       "      <th>telecom_number</th>\n",
       "      <th>temperature</th>\n",
       "      <th>...</th>\n",
       "      <th>season_winter</th>\n",
       "      <th>weekdays_friday</th>\n",
       "      <th>weekdays_monday</th>\n",
       "      <th>weekdays_thursday</th>\n",
       "      <th>weekdays_tuesday</th>\n",
       "      <th>weekdays_wednesday</th>\n",
       "      <th>vacation_N</th>\n",
       "      <th>vacation_Y</th>\n",
       "      <th>new_lunch_N</th>\n",
       "      <th>new_lunch_Y</th>\n",
       "    </tr>\n",
       "  </thead>\n",
       "  <tbody>\n",
       "    <tr>\n",
       "      <th>0</th>\n",
       "      <td>2016-02-01</td>\n",
       "      <td>2</td>\n",
       "      <td>1</td>\n",
       "      <td>2601</td>\n",
       "      <td>2401</td>\n",
       "      <td>50</td>\n",
       "      <td>150</td>\n",
       "      <td>238</td>\n",
       "      <td>0</td>\n",
       "      <td>-0.6</td>\n",
       "      <td>...</td>\n",
       "      <td>1</td>\n",
       "      <td>0</td>\n",
       "      <td>1</td>\n",
       "      <td>0</td>\n",
       "      <td>0</td>\n",
       "      <td>0</td>\n",
       "      <td>1</td>\n",
       "      <td>0</td>\n",
       "      <td>1</td>\n",
       "      <td>0</td>\n",
       "    </tr>\n",
       "    <tr>\n",
       "      <th>1</th>\n",
       "      <td>2016-02-02</td>\n",
       "      <td>2</td>\n",
       "      <td>2</td>\n",
       "      <td>2601</td>\n",
       "      <td>2378</td>\n",
       "      <td>50</td>\n",
       "      <td>173</td>\n",
       "      <td>319</td>\n",
       "      <td>0</td>\n",
       "      <td>-2.3</td>\n",
       "      <td>...</td>\n",
       "      <td>1</td>\n",
       "      <td>0</td>\n",
       "      <td>0</td>\n",
       "      <td>0</td>\n",
       "      <td>1</td>\n",
       "      <td>0</td>\n",
       "      <td>1</td>\n",
       "      <td>0</td>\n",
       "      <td>1</td>\n",
       "      <td>0</td>\n",
       "    </tr>\n",
       "    <tr>\n",
       "      <th>2</th>\n",
       "      <td>2016-02-03</td>\n",
       "      <td>2</td>\n",
       "      <td>3</td>\n",
       "      <td>2601</td>\n",
       "      <td>2365</td>\n",
       "      <td>56</td>\n",
       "      <td>180</td>\n",
       "      <td>111</td>\n",
       "      <td>0</td>\n",
       "      <td>-1.7</td>\n",
       "      <td>...</td>\n",
       "      <td>1</td>\n",
       "      <td>0</td>\n",
       "      <td>0</td>\n",
       "      <td>0</td>\n",
       "      <td>0</td>\n",
       "      <td>1</td>\n",
       "      <td>1</td>\n",
       "      <td>0</td>\n",
       "      <td>1</td>\n",
       "      <td>0</td>\n",
       "    </tr>\n",
       "    <tr>\n",
       "      <th>3</th>\n",
       "      <td>2016-02-04</td>\n",
       "      <td>2</td>\n",
       "      <td>4</td>\n",
       "      <td>2601</td>\n",
       "      <td>2277</td>\n",
       "      <td>104</td>\n",
       "      <td>220</td>\n",
       "      <td>355</td>\n",
       "      <td>0</td>\n",
       "      <td>-0.2</td>\n",
       "      <td>...</td>\n",
       "      <td>1</td>\n",
       "      <td>0</td>\n",
       "      <td>0</td>\n",
       "      <td>1</td>\n",
       "      <td>0</td>\n",
       "      <td>0</td>\n",
       "      <td>1</td>\n",
       "      <td>0</td>\n",
       "      <td>1</td>\n",
       "      <td>0</td>\n",
       "    </tr>\n",
       "    <tr>\n",
       "      <th>4</th>\n",
       "      <td>2016-02-05</td>\n",
       "      <td>2</td>\n",
       "      <td>5</td>\n",
       "      <td>2601</td>\n",
       "      <td>2142</td>\n",
       "      <td>278</td>\n",
       "      <td>181</td>\n",
       "      <td>34</td>\n",
       "      <td>0</td>\n",
       "      <td>1.3</td>\n",
       "      <td>...</td>\n",
       "      <td>1</td>\n",
       "      <td>1</td>\n",
       "      <td>0</td>\n",
       "      <td>0</td>\n",
       "      <td>0</td>\n",
       "      <td>0</td>\n",
       "      <td>0</td>\n",
       "      <td>1</td>\n",
       "      <td>1</td>\n",
       "      <td>0</td>\n",
       "    </tr>\n",
       "  </tbody>\n",
       "</table>\n",
       "<p>5 rows × 30 columns</p>\n",
       "</div>"
      ],
      "text/plain": [
       "     datetime  month  date  worker_number  real_number  vacation_number  \\\n",
       "0  2016-02-01      2     1           2601         2401               50   \n",
       "1  2016-02-02      2     2           2601         2378               50   \n",
       "2  2016-02-03      2     3           2601         2365               56   \n",
       "3  2016-02-04      2     4           2601         2277              104   \n",
       "4  2016-02-05      2     5           2601         2142              278   \n",
       "\n",
       "   biztrip_number  overtime_number  telecom_number  temperature  ...  \\\n",
       "0             150              238               0         -0.6  ...   \n",
       "1             173              319               0         -2.3  ...   \n",
       "2             180              111               0         -1.7  ...   \n",
       "3             220              355               0         -0.2  ...   \n",
       "4             181               34               0          1.3  ...   \n",
       "\n",
       "   season_winter  weekdays_friday  weekdays_monday  weekdays_thursday  \\\n",
       "0              1                0                1                  0   \n",
       "1              1                0                0                  0   \n",
       "2              1                0                0                  0   \n",
       "3              1                0                0                  1   \n",
       "4              1                1                0                  0   \n",
       "\n",
       "   weekdays_tuesday  weekdays_wednesday  vacation_N  vacation_Y  new_lunch_N  \\\n",
       "0                 0                   0           1           0            1   \n",
       "1                 1                   0           1           0            1   \n",
       "2                 0                   1           1           0            1   \n",
       "3                 0                   0           1           0            1   \n",
       "4                 0                   0           0           1            1   \n",
       "\n",
       "   new_lunch_Y  \n",
       "0            0  \n",
       "1            0  \n",
       "2            0  \n",
       "3            0  \n",
       "4            0  \n",
       "\n",
       "[5 rows x 30 columns]"
      ]
     },
     "execution_count": 51,
     "metadata": {},
     "output_type": "execute_result"
    }
   ],
   "source": [
    "train = pd.read_csv('data/lunch_df_encoding.csv', encoding='utf-8')\n",
    "train.head()"
   ]
  },
  {
   "cell_type": "code",
   "execution_count": 52,
   "id": "d67053b7",
   "metadata": {},
   "outputs": [],
   "source": [
    "# 결측치 확인 및 제거\n",
    "\n",
    "train.isnull().sum()\n",
    "train = train.replace(np.NaN, 0)"
   ]
  },
  {
   "cell_type": "code",
   "execution_count": 5,
   "id": "5348f48d",
   "metadata": {},
   "outputs": [
    {
     "name": "stdout",
     "output_type": "stream",
     "text": [
      "<class 'pandas.core.frame.DataFrame'>\n",
      "RangeIndex: 1205 entries, 0 to 1204\n",
      "Data columns (total 30 columns):\n",
      " #   Column                 Non-Null Count  Dtype  \n",
      "---  ------                 --------------  -----  \n",
      " 0   datetime               1205 non-null   object \n",
      " 1   month                  1205 non-null   int64  \n",
      " 2   date                   1205 non-null   int64  \n",
      " 3   worker_number          1205 non-null   int64  \n",
      " 4   real_number            1205 non-null   int64  \n",
      " 5   vacation_number        1205 non-null   int64  \n",
      " 6   biztrip_number         1205 non-null   int64  \n",
      " 7   overtime_number        1205 non-null   int64  \n",
      " 8   telecom_number         1205 non-null   int64  \n",
      " 9   temperature            1205 non-null   float64\n",
      " 10  rain                   1205 non-null   float64\n",
      " 11  wind                   1205 non-null   float64\n",
      " 12  humidity               1205 non-null   float64\n",
      " 13  discomfort_index       1205 non-null   float64\n",
      " 14  perceived_temperature  1205 non-null   float64\n",
      " 15  lunch_rice             1205 non-null   int64  \n",
      " 16  lunch_number           1205 non-null   int64  \n",
      " 17  season_fall            1205 non-null   int64  \n",
      " 18  season_spring          1205 non-null   int64  \n",
      " 19  season_summer          1205 non-null   int64  \n",
      " 20  season_winter          1205 non-null   int64  \n",
      " 21  weekdays_friday        1205 non-null   int64  \n",
      " 22  weekdays_monday        1205 non-null   int64  \n",
      " 23  weekdays_thursday      1205 non-null   int64  \n",
      " 24  weekdays_tuesday       1205 non-null   int64  \n",
      " 25  weekdays_wednesday     1205 non-null   int64  \n",
      " 26  vacation_N             1205 non-null   int64  \n",
      " 27  vacation_Y             1205 non-null   int64  \n",
      " 28  new_lunch_N            1205 non-null   int64  \n",
      " 29  new_lunch_Y            1205 non-null   int64  \n",
      "dtypes: float64(6), int64(23), object(1)\n",
      "memory usage: 282.5+ KB\n"
     ]
    }
   ],
   "source": [
    "train.info()"
   ]
  },
  {
   "cell_type": "code",
   "execution_count": 53,
   "id": "2c43b3f1",
   "metadata": {},
   "outputs": [
    {
     "data": {
      "text/html": [
       "<div>\n",
       "<style scoped>\n",
       "    .dataframe tbody tr th:only-of-type {\n",
       "        vertical-align: middle;\n",
       "    }\n",
       "\n",
       "    .dataframe tbody tr th {\n",
       "        vertical-align: top;\n",
       "    }\n",
       "\n",
       "    .dataframe thead th {\n",
       "        text-align: right;\n",
       "    }\n",
       "</style>\n",
       "<table border=\"1\" class=\"dataframe\">\n",
       "  <thead>\n",
       "    <tr style=\"text-align: right;\">\n",
       "      <th></th>\n",
       "      <th>datetime</th>\n",
       "      <th>year</th>\n",
       "      <th>month</th>\n",
       "      <th>date</th>\n",
       "      <th>worker_number</th>\n",
       "      <th>real_number</th>\n",
       "      <th>vacation_number</th>\n",
       "      <th>biztrip_number</th>\n",
       "      <th>overtime_number</th>\n",
       "      <th>telecom_number</th>\n",
       "      <th>...</th>\n",
       "      <th>season_winter</th>\n",
       "      <th>weekdays_friday</th>\n",
       "      <th>weekdays_monday</th>\n",
       "      <th>weekdays_thursday</th>\n",
       "      <th>weekdays_tuesday</th>\n",
       "      <th>weekdays_wednesday</th>\n",
       "      <th>vacation_N</th>\n",
       "      <th>vacation_Y</th>\n",
       "      <th>new_lunch_N</th>\n",
       "      <th>new_lunch_Y</th>\n",
       "    </tr>\n",
       "  </thead>\n",
       "  <tbody>\n",
       "    <tr>\n",
       "      <th>0</th>\n",
       "      <td>2021-01-27</td>\n",
       "      <td>2021</td>\n",
       "      <td>1</td>\n",
       "      <td>27</td>\n",
       "      <td>2983</td>\n",
       "      <td>2355.0</td>\n",
       "      <td>88</td>\n",
       "      <td>182</td>\n",
       "      <td>5</td>\n",
       "      <td>358.0</td>\n",
       "      <td>...</td>\n",
       "      <td>1</td>\n",
       "      <td>0</td>\n",
       "      <td>0</td>\n",
       "      <td>0</td>\n",
       "      <td>0</td>\n",
       "      <td>1</td>\n",
       "      <td>1</td>\n",
       "      <td>0</td>\n",
       "      <td>1</td>\n",
       "      <td>0</td>\n",
       "    </tr>\n",
       "    <tr>\n",
       "      <th>1</th>\n",
       "      <td>2021-01-28</td>\n",
       "      <td>2021</td>\n",
       "      <td>1</td>\n",
       "      <td>28</td>\n",
       "      <td>2983</td>\n",
       "      <td>2319.0</td>\n",
       "      <td>104</td>\n",
       "      <td>212</td>\n",
       "      <td>409</td>\n",
       "      <td>348.0</td>\n",
       "      <td>...</td>\n",
       "      <td>1</td>\n",
       "      <td>0</td>\n",
       "      <td>0</td>\n",
       "      <td>1</td>\n",
       "      <td>0</td>\n",
       "      <td>0</td>\n",
       "      <td>1</td>\n",
       "      <td>0</td>\n",
       "      <td>1</td>\n",
       "      <td>0</td>\n",
       "    </tr>\n",
       "    <tr>\n",
       "      <th>2</th>\n",
       "      <td>2021-01-29</td>\n",
       "      <td>2021</td>\n",
       "      <td>1</td>\n",
       "      <td>29</td>\n",
       "      <td>2983</td>\n",
       "      <td>2170.0</td>\n",
       "      <td>270</td>\n",
       "      <td>249</td>\n",
       "      <td>0</td>\n",
       "      <td>294.0</td>\n",
       "      <td>...</td>\n",
       "      <td>1</td>\n",
       "      <td>1</td>\n",
       "      <td>0</td>\n",
       "      <td>0</td>\n",
       "      <td>0</td>\n",
       "      <td>0</td>\n",
       "      <td>1</td>\n",
       "      <td>0</td>\n",
       "      <td>1</td>\n",
       "      <td>0</td>\n",
       "    </tr>\n",
       "    <tr>\n",
       "      <th>3</th>\n",
       "      <td>2021-02-01</td>\n",
       "      <td>2021</td>\n",
       "      <td>2</td>\n",
       "      <td>1</td>\n",
       "      <td>2924</td>\n",
       "      <td>2340.0</td>\n",
       "      <td>108</td>\n",
       "      <td>154</td>\n",
       "      <td>538</td>\n",
       "      <td>322.0</td>\n",
       "      <td>...</td>\n",
       "      <td>1</td>\n",
       "      <td>0</td>\n",
       "      <td>1</td>\n",
       "      <td>0</td>\n",
       "      <td>0</td>\n",
       "      <td>0</td>\n",
       "      <td>1</td>\n",
       "      <td>0</td>\n",
       "      <td>1</td>\n",
       "      <td>0</td>\n",
       "    </tr>\n",
       "    <tr>\n",
       "      <th>4</th>\n",
       "      <td>2021-02-02</td>\n",
       "      <td>2021</td>\n",
       "      <td>2</td>\n",
       "      <td>2</td>\n",
       "      <td>2924</td>\n",
       "      <td>2362.0</td>\n",
       "      <td>62</td>\n",
       "      <td>186</td>\n",
       "      <td>455</td>\n",
       "      <td>314.0</td>\n",
       "      <td>...</td>\n",
       "      <td>1</td>\n",
       "      <td>0</td>\n",
       "      <td>0</td>\n",
       "      <td>0</td>\n",
       "      <td>1</td>\n",
       "      <td>0</td>\n",
       "      <td>1</td>\n",
       "      <td>0</td>\n",
       "      <td>1</td>\n",
       "      <td>0</td>\n",
       "    </tr>\n",
       "  </tbody>\n",
       "</table>\n",
       "<p>5 rows × 28 columns</p>\n",
       "</div>"
      ],
      "text/plain": [
       "     datetime  year  month  date  worker_number  real_number  vacation_number  \\\n",
       "0  2021-01-27  2021      1    27           2983       2355.0               88   \n",
       "1  2021-01-28  2021      1    28           2983       2319.0              104   \n",
       "2  2021-01-29  2021      1    29           2983       2170.0              270   \n",
       "3  2021-02-01  2021      2     1           2924       2340.0              108   \n",
       "4  2021-02-02  2021      2     2           2924       2362.0               62   \n",
       "\n",
       "   biztrip_number  overtime_number  telecom_number  ...  season_winter  \\\n",
       "0             182                5           358.0  ...              1   \n",
       "1             212              409           348.0  ...              1   \n",
       "2             249                0           294.0  ...              1   \n",
       "3             154              538           322.0  ...              1   \n",
       "4             186              455           314.0  ...              1   \n",
       "\n",
       "   weekdays_friday  weekdays_monday  weekdays_thursday  weekdays_tuesday  \\\n",
       "0                0                0                  0                 0   \n",
       "1                0                0                  1                 0   \n",
       "2                1                0                  0                 0   \n",
       "3                0                1                  0                 0   \n",
       "4                0                0                  0                 1   \n",
       "\n",
       "   weekdays_wednesday  vacation_N  vacation_Y  new_lunch_N  new_lunch_Y  \n",
       "0                   1           1           0            1            0  \n",
       "1                   0           1           0            1            0  \n",
       "2                   0           1           0            1            0  \n",
       "3                   0           1           0            1            0  \n",
       "4                   0           1           0            1            0  \n",
       "\n",
       "[5 rows x 28 columns]"
      ]
     },
     "execution_count": 53,
     "metadata": {},
     "output_type": "execute_result"
    }
   ],
   "source": [
    "test = pd.read_csv('data/lunch_test_encoding.csv', encoding='utf-8')\n",
    "test.head()"
   ]
  },
  {
   "cell_type": "code",
   "execution_count": 54,
   "id": "55dc5ef5",
   "metadata": {
    "collapsed": true
   },
   "outputs": [
    {
     "data": {
      "text/plain": [
       "datetime                 0\n",
       "year                     0\n",
       "month                    0\n",
       "date                     0\n",
       "worker_number            0\n",
       "real_number              0\n",
       "vacation_number          0\n",
       "biztrip_number           0\n",
       "overtime_number          0\n",
       "telecom_number           0\n",
       "temperature              0\n",
       "rain                     0\n",
       "wind                     0\n",
       "humidity                 0\n",
       "discomfort_index         0\n",
       "perceived_temperature    0\n",
       "lunch_rice               0\n",
       "season_spring            0\n",
       "season_winter            0\n",
       "weekdays_friday          0\n",
       "weekdays_monday          0\n",
       "weekdays_thursday        0\n",
       "weekdays_tuesday         0\n",
       "weekdays_wednesday       0\n",
       "vacation_N               0\n",
       "vacation_Y               0\n",
       "new_lunch_N              0\n",
       "new_lunch_Y              0\n",
       "dtype: int64"
      ]
     },
     "execution_count": 54,
     "metadata": {},
     "output_type": "execute_result"
    }
   ],
   "source": [
    "test.isnull().sum()"
   ]
  },
  {
   "cell_type": "code",
   "execution_count": 56,
   "id": "e5f843cc",
   "metadata": {},
   "outputs": [
    {
     "data": {
      "text/html": [
       "<div>\n",
       "<style scoped>\n",
       "    .dataframe tbody tr th:only-of-type {\n",
       "        vertical-align: middle;\n",
       "    }\n",
       "\n",
       "    .dataframe tbody tr th {\n",
       "        vertical-align: top;\n",
       "    }\n",
       "\n",
       "    .dataframe thead th {\n",
       "        text-align: right;\n",
       "    }\n",
       "</style>\n",
       "<table border=\"1\" class=\"dataframe\">\n",
       "  <thead>\n",
       "    <tr style=\"text-align: right;\">\n",
       "      <th></th>\n",
       "      <th>datetime</th>\n",
       "      <th>month</th>\n",
       "      <th>date</th>\n",
       "      <th>worker_number</th>\n",
       "      <th>real_number</th>\n",
       "      <th>vacation_number</th>\n",
       "      <th>biztrip_number</th>\n",
       "      <th>overtime_number</th>\n",
       "      <th>telecom_number</th>\n",
       "      <th>temperature</th>\n",
       "      <th>...</th>\n",
       "      <th>season_winter</th>\n",
       "      <th>weekdays_friday</th>\n",
       "      <th>weekdays_monday</th>\n",
       "      <th>weekdays_thursday</th>\n",
       "      <th>weekdays_tuesday</th>\n",
       "      <th>weekdays_wednesday</th>\n",
       "      <th>vacation_N</th>\n",
       "      <th>vacation_Y</th>\n",
       "      <th>new_dinner_N</th>\n",
       "      <th>new_dinner_Y</th>\n",
       "    </tr>\n",
       "  </thead>\n",
       "  <tbody>\n",
       "    <tr>\n",
       "      <th>0</th>\n",
       "      <td>2016-02-01</td>\n",
       "      <td>2</td>\n",
       "      <td>1</td>\n",
       "      <td>2601</td>\n",
       "      <td>2401</td>\n",
       "      <td>50</td>\n",
       "      <td>150</td>\n",
       "      <td>238</td>\n",
       "      <td>0</td>\n",
       "      <td>-0.6</td>\n",
       "      <td>...</td>\n",
       "      <td>1</td>\n",
       "      <td>0</td>\n",
       "      <td>1</td>\n",
       "      <td>0</td>\n",
       "      <td>0</td>\n",
       "      <td>0</td>\n",
       "      <td>1</td>\n",
       "      <td>0</td>\n",
       "      <td>1</td>\n",
       "      <td>0</td>\n",
       "    </tr>\n",
       "    <tr>\n",
       "      <th>1</th>\n",
       "      <td>2016-02-02</td>\n",
       "      <td>2</td>\n",
       "      <td>2</td>\n",
       "      <td>2601</td>\n",
       "      <td>2378</td>\n",
       "      <td>50</td>\n",
       "      <td>173</td>\n",
       "      <td>319</td>\n",
       "      <td>0</td>\n",
       "      <td>-2.3</td>\n",
       "      <td>...</td>\n",
       "      <td>1</td>\n",
       "      <td>0</td>\n",
       "      <td>0</td>\n",
       "      <td>0</td>\n",
       "      <td>1</td>\n",
       "      <td>0</td>\n",
       "      <td>1</td>\n",
       "      <td>0</td>\n",
       "      <td>1</td>\n",
       "      <td>0</td>\n",
       "    </tr>\n",
       "    <tr>\n",
       "      <th>2</th>\n",
       "      <td>2016-02-03</td>\n",
       "      <td>2</td>\n",
       "      <td>3</td>\n",
       "      <td>2601</td>\n",
       "      <td>2365</td>\n",
       "      <td>56</td>\n",
       "      <td>180</td>\n",
       "      <td>111</td>\n",
       "      <td>0</td>\n",
       "      <td>-1.7</td>\n",
       "      <td>...</td>\n",
       "      <td>1</td>\n",
       "      <td>0</td>\n",
       "      <td>0</td>\n",
       "      <td>0</td>\n",
       "      <td>0</td>\n",
       "      <td>1</td>\n",
       "      <td>1</td>\n",
       "      <td>0</td>\n",
       "      <td>1</td>\n",
       "      <td>0</td>\n",
       "    </tr>\n",
       "    <tr>\n",
       "      <th>3</th>\n",
       "      <td>2016-02-04</td>\n",
       "      <td>2</td>\n",
       "      <td>4</td>\n",
       "      <td>2601</td>\n",
       "      <td>2277</td>\n",
       "      <td>104</td>\n",
       "      <td>220</td>\n",
       "      <td>355</td>\n",
       "      <td>0</td>\n",
       "      <td>-0.2</td>\n",
       "      <td>...</td>\n",
       "      <td>1</td>\n",
       "      <td>0</td>\n",
       "      <td>0</td>\n",
       "      <td>1</td>\n",
       "      <td>0</td>\n",
       "      <td>0</td>\n",
       "      <td>1</td>\n",
       "      <td>0</td>\n",
       "      <td>1</td>\n",
       "      <td>0</td>\n",
       "    </tr>\n",
       "    <tr>\n",
       "      <th>4</th>\n",
       "      <td>2016-02-05</td>\n",
       "      <td>2</td>\n",
       "      <td>5</td>\n",
       "      <td>2601</td>\n",
       "      <td>2142</td>\n",
       "      <td>278</td>\n",
       "      <td>181</td>\n",
       "      <td>34</td>\n",
       "      <td>0</td>\n",
       "      <td>1.3</td>\n",
       "      <td>...</td>\n",
       "      <td>1</td>\n",
       "      <td>1</td>\n",
       "      <td>0</td>\n",
       "      <td>0</td>\n",
       "      <td>0</td>\n",
       "      <td>0</td>\n",
       "      <td>0</td>\n",
       "      <td>1</td>\n",
       "      <td>1</td>\n",
       "      <td>0</td>\n",
       "    </tr>\n",
       "  </tbody>\n",
       "</table>\n",
       "<p>5 rows × 30 columns</p>\n",
       "</div>"
      ],
      "text/plain": [
       "     datetime  month  date  worker_number  real_number  vacation_number  \\\n",
       "0  2016-02-01      2     1           2601         2401               50   \n",
       "1  2016-02-02      2     2           2601         2378               50   \n",
       "2  2016-02-03      2     3           2601         2365               56   \n",
       "3  2016-02-04      2     4           2601         2277              104   \n",
       "4  2016-02-05      2     5           2601         2142              278   \n",
       "\n",
       "   biztrip_number  overtime_number  telecom_number  temperature  ...  \\\n",
       "0             150              238               0         -0.6  ...   \n",
       "1             173              319               0         -2.3  ...   \n",
       "2             180              111               0         -1.7  ...   \n",
       "3             220              355               0         -0.2  ...   \n",
       "4             181               34               0          1.3  ...   \n",
       "\n",
       "   season_winter  weekdays_friday  weekdays_monday  weekdays_thursday  \\\n",
       "0              1                0                1                  0   \n",
       "1              1                0                0                  0   \n",
       "2              1                0                0                  0   \n",
       "3              1                0                0                  1   \n",
       "4              1                1                0                  0   \n",
       "\n",
       "   weekdays_tuesday  weekdays_wednesday  vacation_N  vacation_Y  new_dinner_N  \\\n",
       "0                 0                   0           1           0             1   \n",
       "1                 1                   0           1           0             1   \n",
       "2                 0                   1           1           0             1   \n",
       "3                 0                   0           1           0             1   \n",
       "4                 0                   0           0           1             1   \n",
       "\n",
       "   new_dinner_Y  \n",
       "0             0  \n",
       "1             0  \n",
       "2             0  \n",
       "3             0  \n",
       "4             0  \n",
       "\n",
       "[5 rows x 30 columns]"
      ]
     },
     "execution_count": 56,
     "metadata": {},
     "output_type": "execute_result"
    }
   ],
   "source": [
    "train_dinner = pd.read_csv('data/dinner_df_encoding.csv', encoding='utf-8')\n",
    "train_dinner.head()"
   ]
  },
  {
   "cell_type": "code",
   "execution_count": 57,
   "id": "85eece8b",
   "metadata": {},
   "outputs": [],
   "source": [
    "# 결측치 확인 및 제거\n",
    "\n",
    "train_dinner.isnull().sum()\n",
    "train_dinner = train_dinner.replace(np.NaN, 0)"
   ]
  },
  {
   "cell_type": "code",
   "execution_count": 58,
   "id": "a5094b20",
   "metadata": {},
   "outputs": [
    {
     "name": "stdout",
     "output_type": "stream",
     "text": [
      "<class 'pandas.core.frame.DataFrame'>\n",
      "RangeIndex: 1205 entries, 0 to 1204\n",
      "Data columns (total 30 columns):\n",
      " #   Column                 Non-Null Count  Dtype  \n",
      "---  ------                 --------------  -----  \n",
      " 0   datetime               1205 non-null   object \n",
      " 1   month                  1205 non-null   int64  \n",
      " 2   date                   1205 non-null   int64  \n",
      " 3   worker_number          1205 non-null   int64  \n",
      " 4   real_number            1205 non-null   int64  \n",
      " 5   vacation_number        1205 non-null   int64  \n",
      " 6   biztrip_number         1205 non-null   int64  \n",
      " 7   overtime_number        1205 non-null   int64  \n",
      " 8   telecom_number         1205 non-null   int64  \n",
      " 9   temperature            1205 non-null   float64\n",
      " 10  rain                   1205 non-null   float64\n",
      " 11  wind                   1205 non-null   float64\n",
      " 12  humidity               1205 non-null   float64\n",
      " 13  discomfort_index       1205 non-null   float64\n",
      " 14  perceived_temperature  1205 non-null   float64\n",
      " 15  dinner_rice            1205 non-null   int64  \n",
      " 16  dinner_number          1205 non-null   int64  \n",
      " 17  season_fall            1205 non-null   int64  \n",
      " 18  season_spring          1205 non-null   int64  \n",
      " 19  season_summer          1205 non-null   int64  \n",
      " 20  season_winter          1205 non-null   int64  \n",
      " 21  weekdays_friday        1205 non-null   int64  \n",
      " 22  weekdays_monday        1205 non-null   int64  \n",
      " 23  weekdays_thursday      1205 non-null   int64  \n",
      " 24  weekdays_tuesday       1205 non-null   int64  \n",
      " 25  weekdays_wednesday     1205 non-null   int64  \n",
      " 26  vacation_N             1205 non-null   int64  \n",
      " 27  vacation_Y             1205 non-null   int64  \n",
      " 28  new_dinner_N           1205 non-null   int64  \n",
      " 29  new_dinner_Y           1205 non-null   int64  \n",
      "dtypes: float64(6), int64(23), object(1)\n",
      "memory usage: 282.5+ KB\n"
     ]
    }
   ],
   "source": [
    "train_dinner.info()"
   ]
  },
  {
   "cell_type": "code",
   "execution_count": 21,
   "id": "ee30d060",
   "metadata": {},
   "outputs": [
    {
     "data": {
      "text/html": [
       "<div>\n",
       "<style scoped>\n",
       "    .dataframe tbody tr th:only-of-type {\n",
       "        vertical-align: middle;\n",
       "    }\n",
       "\n",
       "    .dataframe tbody tr th {\n",
       "        vertical-align: top;\n",
       "    }\n",
       "\n",
       "    .dataframe thead th {\n",
       "        text-align: right;\n",
       "    }\n",
       "</style>\n",
       "<table border=\"1\" class=\"dataframe\">\n",
       "  <thead>\n",
       "    <tr style=\"text-align: right;\">\n",
       "      <th></th>\n",
       "      <th>datetime</th>\n",
       "      <th>year</th>\n",
       "      <th>month</th>\n",
       "      <th>date</th>\n",
       "      <th>worker_number</th>\n",
       "      <th>real_number</th>\n",
       "      <th>vacation_number</th>\n",
       "      <th>biztrip_number</th>\n",
       "      <th>overtime_number</th>\n",
       "      <th>telecom_number</th>\n",
       "      <th>...</th>\n",
       "      <th>season_winter</th>\n",
       "      <th>weekdays_friday</th>\n",
       "      <th>weekdays_monday</th>\n",
       "      <th>weekdays_thursday</th>\n",
       "      <th>weekdays_tuesday</th>\n",
       "      <th>weekdays_wednesday</th>\n",
       "      <th>vacation_N</th>\n",
       "      <th>vacation_Y</th>\n",
       "      <th>new_dinner_N</th>\n",
       "      <th>new_dinner_Y</th>\n",
       "    </tr>\n",
       "  </thead>\n",
       "  <tbody>\n",
       "    <tr>\n",
       "      <th>0</th>\n",
       "      <td>2021-01-27</td>\n",
       "      <td>2021</td>\n",
       "      <td>1</td>\n",
       "      <td>27</td>\n",
       "      <td>2983</td>\n",
       "      <td>2355.0</td>\n",
       "      <td>88</td>\n",
       "      <td>182</td>\n",
       "      <td>5</td>\n",
       "      <td>358.0</td>\n",
       "      <td>...</td>\n",
       "      <td>1</td>\n",
       "      <td>0</td>\n",
       "      <td>0</td>\n",
       "      <td>0</td>\n",
       "      <td>0</td>\n",
       "      <td>1</td>\n",
       "      <td>1</td>\n",
       "      <td>0</td>\n",
       "      <td>0</td>\n",
       "      <td>1</td>\n",
       "    </tr>\n",
       "    <tr>\n",
       "      <th>1</th>\n",
       "      <td>2021-01-28</td>\n",
       "      <td>2021</td>\n",
       "      <td>1</td>\n",
       "      <td>28</td>\n",
       "      <td>2983</td>\n",
       "      <td>2319.0</td>\n",
       "      <td>104</td>\n",
       "      <td>212</td>\n",
       "      <td>409</td>\n",
       "      <td>348.0</td>\n",
       "      <td>...</td>\n",
       "      <td>1</td>\n",
       "      <td>0</td>\n",
       "      <td>0</td>\n",
       "      <td>1</td>\n",
       "      <td>0</td>\n",
       "      <td>0</td>\n",
       "      <td>1</td>\n",
       "      <td>0</td>\n",
       "      <td>1</td>\n",
       "      <td>0</td>\n",
       "    </tr>\n",
       "    <tr>\n",
       "      <th>2</th>\n",
       "      <td>2021-01-29</td>\n",
       "      <td>2021</td>\n",
       "      <td>1</td>\n",
       "      <td>29</td>\n",
       "      <td>2983</td>\n",
       "      <td>2170.0</td>\n",
       "      <td>270</td>\n",
       "      <td>249</td>\n",
       "      <td>0</td>\n",
       "      <td>294.0</td>\n",
       "      <td>...</td>\n",
       "      <td>1</td>\n",
       "      <td>1</td>\n",
       "      <td>0</td>\n",
       "      <td>0</td>\n",
       "      <td>0</td>\n",
       "      <td>0</td>\n",
       "      <td>1</td>\n",
       "      <td>0</td>\n",
       "      <td>1</td>\n",
       "      <td>0</td>\n",
       "    </tr>\n",
       "    <tr>\n",
       "      <th>3</th>\n",
       "      <td>2021-02-01</td>\n",
       "      <td>2021</td>\n",
       "      <td>2</td>\n",
       "      <td>1</td>\n",
       "      <td>2924</td>\n",
       "      <td>2340.0</td>\n",
       "      <td>108</td>\n",
       "      <td>154</td>\n",
       "      <td>538</td>\n",
       "      <td>322.0</td>\n",
       "      <td>...</td>\n",
       "      <td>1</td>\n",
       "      <td>0</td>\n",
       "      <td>1</td>\n",
       "      <td>0</td>\n",
       "      <td>0</td>\n",
       "      <td>0</td>\n",
       "      <td>1</td>\n",
       "      <td>0</td>\n",
       "      <td>1</td>\n",
       "      <td>0</td>\n",
       "    </tr>\n",
       "    <tr>\n",
       "      <th>4</th>\n",
       "      <td>2021-02-02</td>\n",
       "      <td>2021</td>\n",
       "      <td>2</td>\n",
       "      <td>2</td>\n",
       "      <td>2924</td>\n",
       "      <td>2362.0</td>\n",
       "      <td>62</td>\n",
       "      <td>186</td>\n",
       "      <td>455</td>\n",
       "      <td>314.0</td>\n",
       "      <td>...</td>\n",
       "      <td>1</td>\n",
       "      <td>0</td>\n",
       "      <td>0</td>\n",
       "      <td>0</td>\n",
       "      <td>1</td>\n",
       "      <td>0</td>\n",
       "      <td>1</td>\n",
       "      <td>0</td>\n",
       "      <td>1</td>\n",
       "      <td>0</td>\n",
       "    </tr>\n",
       "  </tbody>\n",
       "</table>\n",
       "<p>5 rows × 28 columns</p>\n",
       "</div>"
      ],
      "text/plain": [
       "     datetime  year  month  date  worker_number  real_number  vacation_number  \\\n",
       "0  2021-01-27  2021      1    27           2983       2355.0               88   \n",
       "1  2021-01-28  2021      1    28           2983       2319.0              104   \n",
       "2  2021-01-29  2021      1    29           2983       2170.0              270   \n",
       "3  2021-02-01  2021      2     1           2924       2340.0              108   \n",
       "4  2021-02-02  2021      2     2           2924       2362.0               62   \n",
       "\n",
       "   biztrip_number  overtime_number  telecom_number  ...  season_winter  \\\n",
       "0             182                5           358.0  ...              1   \n",
       "1             212              409           348.0  ...              1   \n",
       "2             249                0           294.0  ...              1   \n",
       "3             154              538           322.0  ...              1   \n",
       "4             186              455           314.0  ...              1   \n",
       "\n",
       "   weekdays_friday  weekdays_monday  weekdays_thursday  weekdays_tuesday  \\\n",
       "0                0                0                  0                 0   \n",
       "1                0                0                  1                 0   \n",
       "2                1                0                  0                 0   \n",
       "3                0                1                  0                 0   \n",
       "4                0                0                  0                 1   \n",
       "\n",
       "   weekdays_wednesday  vacation_N  vacation_Y  new_dinner_N  new_dinner_Y  \n",
       "0                   1           1           0             0             1  \n",
       "1                   0           1           0             1             0  \n",
       "2                   0           1           0             1             0  \n",
       "3                   0           1           0             1             0  \n",
       "4                   0           1           0             1             0  \n",
       "\n",
       "[5 rows x 28 columns]"
      ]
     },
     "execution_count": 21,
     "metadata": {},
     "output_type": "execute_result"
    }
   ],
   "source": [
    "test_dinner = pd.read_csv('data/dinner_test_encoding.csv', encoding='utf-8')\n",
    "test_dinner.head()"
   ]
  },
  {
   "cell_type": "markdown",
   "id": "aa7461f9",
   "metadata": {},
   "source": [
    "## ML"
   ]
  },
  {
   "cell_type": "markdown",
   "id": "21e1575e",
   "metadata": {},
   "source": [
    "### 선형회귀모델"
   ]
  },
  {
   "cell_type": "code",
   "execution_count": 34,
   "id": "11d485ca",
   "metadata": {},
   "outputs": [],
   "source": [
    "X_train = train[['month', 'date', 'worker_number', 'real_number', 'vacation_number', 'biztrip_number',\n",
    "'overtime_number', 'telecom_number', 'temperature', 'rain', 'wind', 'humidity',\n",
    "'discomfort_index', 'lunch_rice', 'season_fall', 'season_spring',\n",
    "'season_summer', 'season_winter', 'weekdays_friday', 'weekdays_monday', 'weekdays_thursday',\n",
    "'weekdays_tuesday', 'weekdays_wednesday', 'vacation_N', 'vacation_Y', 'new_lunch_N', 'new_lunch_Y']] \n",
    "\n",
    "y_train = train['lunch_number']"
   ]
  },
  {
   "cell_type": "code",
   "execution_count": 35,
   "id": "3d144612",
   "metadata": {},
   "outputs": [
    {
     "data": {
      "text/plain": [
       "LinearRegression()"
      ]
     },
     "execution_count": 35,
     "metadata": {},
     "output_type": "execute_result"
    }
   ],
   "source": [
    "lr = LinearRegression()\n",
    "lr.fit(X_train, y_train)"
   ]
  },
  {
   "cell_type": "code",
   "execution_count": 36,
   "id": "44945316",
   "metadata": {},
   "outputs": [
    {
     "name": "stdout",
     "output_type": "stream",
     "text": [
      "훈련 점수 :  0.7829456666883802\n"
     ]
    }
   ],
   "source": [
    "print(\"훈련 점수 : \", lr.score(X_train, y_train))"
   ]
  },
  {
   "cell_type": "code",
   "execution_count": 37,
   "id": "9c32cf57",
   "metadata": {},
   "outputs": [
    {
     "data": {
      "text/plain": [
       "LinearRegression()"
      ]
     },
     "execution_count": 37,
     "metadata": {},
     "output_type": "execute_result"
    }
   ],
   "source": [
    "X_train, X_test, y_train, y_test = train_test_split(X_train, y_train, random_state=42)\n",
    "lr = LinearRegression()\n",
    "lr.fit(X_train, y_train)"
   ]
  },
  {
   "cell_type": "code",
   "execution_count": 38,
   "id": "9d661c9e",
   "metadata": {},
   "outputs": [
    {
     "name": "stdout",
     "output_type": "stream",
     "text": [
      "훈련 점수 :  0.7857162029171774\n",
      "테스트 점수 :  0.7671885812263572\n"
     ]
    }
   ],
   "source": [
    "print(\"훈련 점수 : \", lr.score(X_train, y_train))\n",
    "print(\"테스트 점수 : \", lr.score(X_test, y_test))"
   ]
  },
  {
   "cell_type": "code",
   "execution_count": 39,
   "id": "38bacd86",
   "metadata": {},
   "outputs": [
    {
     "data": {
      "text/html": [
       "<div>\n",
       "<style scoped>\n",
       "    .dataframe tbody tr th:only-of-type {\n",
       "        vertical-align: middle;\n",
       "    }\n",
       "\n",
       "    .dataframe tbody tr th {\n",
       "        vertical-align: top;\n",
       "    }\n",
       "\n",
       "    .dataframe thead th {\n",
       "        text-align: right;\n",
       "    }\n",
       "</style>\n",
       "<table border=\"1\" class=\"dataframe\">\n",
       "  <thead>\n",
       "    <tr style=\"text-align: right;\">\n",
       "      <th></th>\n",
       "      <th>lunch_number</th>\n",
       "    </tr>\n",
       "  </thead>\n",
       "  <tbody>\n",
       "    <tr>\n",
       "      <th>month</th>\n",
       "      <td>-0.154664</td>\n",
       "    </tr>\n",
       "    <tr>\n",
       "      <th>date</th>\n",
       "      <td>-0.097392</td>\n",
       "    </tr>\n",
       "    <tr>\n",
       "      <th>worker_number</th>\n",
       "      <td>-0.115529</td>\n",
       "    </tr>\n",
       "    <tr>\n",
       "      <th>real_number</th>\n",
       "      <td>0.286810</td>\n",
       "    </tr>\n",
       "    <tr>\n",
       "      <th>vacation_number</th>\n",
       "      <td>-0.391975</td>\n",
       "    </tr>\n",
       "    <tr>\n",
       "      <th>biztrip_number</th>\n",
       "      <td>-0.512680</td>\n",
       "    </tr>\n",
       "    <tr>\n",
       "      <th>overtime_number</th>\n",
       "      <td>0.535611</td>\n",
       "    </tr>\n",
       "    <tr>\n",
       "      <th>telecom_number</th>\n",
       "      <td>0.076509</td>\n",
       "    </tr>\n",
       "    <tr>\n",
       "      <th>temperature</th>\n",
       "      <td>-0.093201</td>\n",
       "    </tr>\n",
       "    <tr>\n",
       "      <th>rain</th>\n",
       "      <td>0.088758</td>\n",
       "    </tr>\n",
       "    <tr>\n",
       "      <th>wind</th>\n",
       "      <td>0.039646</td>\n",
       "    </tr>\n",
       "    <tr>\n",
       "      <th>humidity</th>\n",
       "      <td>-0.007796</td>\n",
       "    </tr>\n",
       "    <tr>\n",
       "      <th>discomfort_index</th>\n",
       "      <td>-0.090823</td>\n",
       "    </tr>\n",
       "    <tr>\n",
       "      <th>perceived_temperature</th>\n",
       "      <td>-0.095842</td>\n",
       "    </tr>\n",
       "    <tr>\n",
       "      <th>lunch_rice</th>\n",
       "      <td>NaN</td>\n",
       "    </tr>\n",
       "    <tr>\n",
       "      <th>lunch_number</th>\n",
       "      <td>1.000000</td>\n",
       "    </tr>\n",
       "    <tr>\n",
       "      <th>season_fall</th>\n",
       "      <td>-0.004976</td>\n",
       "    </tr>\n",
       "    <tr>\n",
       "      <th>season_spring</th>\n",
       "      <td>0.036706</td>\n",
       "    </tr>\n",
       "    <tr>\n",
       "      <th>season_summer</th>\n",
       "      <td>-0.098327</td>\n",
       "    </tr>\n",
       "    <tr>\n",
       "      <th>season_winter</th>\n",
       "      <td>0.067337</td>\n",
       "    </tr>\n",
       "    <tr>\n",
       "      <th>weekdays_friday</th>\n",
       "      <td>-0.565196</td>\n",
       "    </tr>\n",
       "    <tr>\n",
       "      <th>weekdays_monday</th>\n",
       "      <td>0.606436</td>\n",
       "    </tr>\n",
       "    <tr>\n",
       "      <th>weekdays_thursday</th>\n",
       "      <td>-0.159629</td>\n",
       "    </tr>\n",
       "    <tr>\n",
       "      <th>weekdays_tuesday</th>\n",
       "      <td>0.084030</td>\n",
       "    </tr>\n",
       "    <tr>\n",
       "      <th>weekdays_wednesday</th>\n",
       "      <td>0.035340</td>\n",
       "    </tr>\n",
       "    <tr>\n",
       "      <th>vacation_N</th>\n",
       "      <td>0.181528</td>\n",
       "    </tr>\n",
       "    <tr>\n",
       "      <th>vacation_Y</th>\n",
       "      <td>-0.181528</td>\n",
       "    </tr>\n",
       "    <tr>\n",
       "      <th>new_lunch_N</th>\n",
       "      <td>-0.036582</td>\n",
       "    </tr>\n",
       "    <tr>\n",
       "      <th>new_lunch_Y</th>\n",
       "      <td>0.036582</td>\n",
       "    </tr>\n",
       "  </tbody>\n",
       "</table>\n",
       "</div>"
      ],
      "text/plain": [
       "                       lunch_number\n",
       "month                     -0.154664\n",
       "date                      -0.097392\n",
       "worker_number             -0.115529\n",
       "real_number                0.286810\n",
       "vacation_number           -0.391975\n",
       "biztrip_number            -0.512680\n",
       "overtime_number            0.535611\n",
       "telecom_number             0.076509\n",
       "temperature               -0.093201\n",
       "rain                       0.088758\n",
       "wind                       0.039646\n",
       "humidity                  -0.007796\n",
       "discomfort_index          -0.090823\n",
       "perceived_temperature     -0.095842\n",
       "lunch_rice                      NaN\n",
       "lunch_number               1.000000\n",
       "season_fall               -0.004976\n",
       "season_spring              0.036706\n",
       "season_summer             -0.098327\n",
       "season_winter              0.067337\n",
       "weekdays_friday           -0.565196\n",
       "weekdays_monday            0.606436\n",
       "weekdays_thursday         -0.159629\n",
       "weekdays_tuesday           0.084030\n",
       "weekdays_wednesday         0.035340\n",
       "vacation_N                 0.181528\n",
       "vacation_Y                -0.181528\n",
       "new_lunch_N               -0.036582\n",
       "new_lunch_Y                0.036582"
      ]
     },
     "execution_count": 39,
     "metadata": {},
     "output_type": "execute_result"
    }
   ],
   "source": [
    "train.corr()[['lunch_number']]"
   ]
  },
  {
   "cell_type": "code",
   "execution_count": 39,
   "id": "908900bc",
   "metadata": {},
   "outputs": [
    {
     "data": {
      "text/html": [
       "<div>\n",
       "<style scoped>\n",
       "    .dataframe tbody tr th:only-of-type {\n",
       "        vertical-align: middle;\n",
       "    }\n",
       "\n",
       "    .dataframe tbody tr th {\n",
       "        vertical-align: top;\n",
       "    }\n",
       "\n",
       "    .dataframe thead th {\n",
       "        text-align: right;\n",
       "    }\n",
       "</style>\n",
       "<table border=\"1\" class=\"dataframe\">\n",
       "  <thead>\n",
       "    <tr style=\"text-align: right;\">\n",
       "      <th></th>\n",
       "      <th>dinner_number</th>\n",
       "    </tr>\n",
       "  </thead>\n",
       "  <tbody>\n",
       "    <tr>\n",
       "      <th>month</th>\n",
       "      <td>-0.127142</td>\n",
       "    </tr>\n",
       "    <tr>\n",
       "      <th>date</th>\n",
       "      <td>-0.185565</td>\n",
       "    </tr>\n",
       "    <tr>\n",
       "      <th>worker_number</th>\n",
       "      <td>-0.173852</td>\n",
       "    </tr>\n",
       "    <tr>\n",
       "      <th>real_number</th>\n",
       "      <td>0.172373</td>\n",
       "    </tr>\n",
       "    <tr>\n",
       "      <th>vacation_number</th>\n",
       "      <td>-0.316894</td>\n",
       "    </tr>\n",
       "    <tr>\n",
       "      <th>biztrip_number</th>\n",
       "      <td>-0.188164</td>\n",
       "    </tr>\n",
       "    <tr>\n",
       "      <th>overtime_number</th>\n",
       "      <td>0.571168</td>\n",
       "    </tr>\n",
       "    <tr>\n",
       "      <th>telecom_number</th>\n",
       "      <td>-0.057534</td>\n",
       "    </tr>\n",
       "    <tr>\n",
       "      <th>temperature</th>\n",
       "      <td>0.008470</td>\n",
       "    </tr>\n",
       "    <tr>\n",
       "      <th>rain</th>\n",
       "      <td>0.027613</td>\n",
       "    </tr>\n",
       "    <tr>\n",
       "      <th>wind</th>\n",
       "      <td>0.101806</td>\n",
       "    </tr>\n",
       "    <tr>\n",
       "      <th>humidity</th>\n",
       "      <td>-0.062259</td>\n",
       "    </tr>\n",
       "    <tr>\n",
       "      <th>discomfort_index</th>\n",
       "      <td>0.007206</td>\n",
       "    </tr>\n",
       "    <tr>\n",
       "      <th>perceived_temperature</th>\n",
       "      <td>0.001176</td>\n",
       "    </tr>\n",
       "    <tr>\n",
       "      <th>dinner_number</th>\n",
       "      <td>1.000000</td>\n",
       "    </tr>\n",
       "  </tbody>\n",
       "</table>\n",
       "</div>"
      ],
      "text/plain": [
       "                       dinner_number\n",
       "month                      -0.127142\n",
       "date                       -0.185565\n",
       "worker_number              -0.173852\n",
       "real_number                 0.172373\n",
       "vacation_number            -0.316894\n",
       "biztrip_number             -0.188164\n",
       "overtime_number             0.571168\n",
       "telecom_number             -0.057534\n",
       "temperature                 0.008470\n",
       "rain                        0.027613\n",
       "wind                        0.101806\n",
       "humidity                   -0.062259\n",
       "discomfort_index            0.007206\n",
       "perceived_temperature       0.001176\n",
       "dinner_number               1.000000"
      ]
     },
     "execution_count": 39,
     "metadata": {},
     "output_type": "execute_result"
    }
   ],
   "source": [
    "train_dinner.corr()[['dinner_number']]"
   ]
  },
  {
   "cell_type": "code",
   "execution_count": 42,
   "id": "dafc62ac",
   "metadata": {},
   "outputs": [
    {
     "data": {
      "text/plain": [
       "<AxesSubplot:xlabel='weekdays', ylabel='lunch_number'>"
      ]
     },
     "execution_count": 42,
     "metadata": {},
     "output_type": "execute_result"
    },
    {
     "data": {
      "image/png": "[encoded data removed]",
      "text/plain": [
       "<Figure size 720x864 with 6 Axes>"
      ]
     },
     "metadata": {
      "needs_background": "light"
     },
     "output_type": "display_data"
    }
   ],
   "source": [
    "# 그래프(중식)\n",
    "\n",
    "train_ = pd.read_csv('data/lunch_train_exencoding.csv')\n",
    "\n",
    "fig, ax = plt.subplots(6)\n",
    "fig.set_size_inches(10, 12)\n",
    "\n",
    "sns.lineplot(data=train_, x='weekdays', y='real_number', ax=ax[0])\n",
    "sns.lineplot(data=train_, x='weekdays', y='vacation_number', ax=ax[1])\n",
    "sns.lineplot(data=train_, x='weekdays', y='overtime_number', ax=ax[2])\n",
    "sns.lineplot(data=train_, x='weekdays', y='biztrip_number', ax=ax[3])\n",
    "sns.lineplot(data=train_, x='weekdays', y='telecom_number', ax=ax[4])\n",
    "sns.lineplot(data=train_, x='weekdays', y='lunch_number', ax=ax[5])"
   ]
  },
  {
   "cell_type": "code",
   "execution_count": 38,
   "id": "12f01798",
   "metadata": {},
   "outputs": [
    {
     "data": {
      "text/plain": [
       "<AxesSubplot:xlabel='weekdays', ylabel='dinner_number'>"
      ]
     },
     "execution_count": 38,
     "metadata": {},
     "output_type": "execute_result"
    },
    {
     "data": {
      "image/png": "[encoded data removed]",
      "text/plain": [
       "<Figure size 720x864 with 6 Axes>"
      ]
     },
     "metadata": {
      "needs_background": "light"
     },
     "output_type": "display_data"
    }
   ],
   "source": [
    "# 그래프(석식)\n",
    "\n",
    "train_dinner = pd.read_csv('data/dinner_train_exencoding.csv')\n",
    "\n",
    "fig, ax = plt.subplots(6)\n",
    "fig.set_size_inches(10, 12)\n",
    "\n",
    "sns.lineplot(data=train_dinner, x='weekdays', y='real_number', ax=ax[0])\n",
    "sns.lineplot(data=train_dinner, x='weekdays', y='vacation_number', ax=ax[1])\n",
    "sns.lineplot(data=train_dinner, x='weekdays', y='overtime_number', ax=ax[2])\n",
    "sns.lineplot(data=train_dinner, x='weekdays', y='biztrip_number', ax=ax[3])\n",
    "sns.lineplot(data=train_dinner, x='weekdays', y='telecom_number', ax=ax[4])\n",
    "sns.lineplot(data=train_dinner, x='weekdays', y='dinner_number', ax=ax[5])"
   ]
  },
  {
   "cell_type": "markdown",
   "id": "ede9113b",
   "metadata": {},
   "source": [
    "##  XGBoost"
   ]
  },
  {
   "cell_type": "markdown",
   "id": "db8a9db4",
   "metadata": {},
   "source": [
    "### 중식"
   ]
  },
  {
   "cell_type": "markdown",
   "id": "de98a14c",
   "metadata": {},
   "source": [
    "#### XGBClassifier"
   ]
  },
  {
   "cell_type": "code",
   "execution_count": 82,
   "id": "1890c301",
   "metadata": {},
   "outputs": [],
   "source": [
    "X_train = train[['month', 'date', 'worker_number', 'real_number', 'vacation_number', 'biztrip_number',\n",
    "'overtime_number', 'telecom_number', 'temperature', 'rain', 'wind', 'humidity',\n",
    "'discomfort_index', 'lunch_rice', 'weekdays_friday', 'weekdays_monday', 'weekdays_thursday',\n",
    "'weekdays_tuesday', 'weekdays_wednesday', 'vacation_N', 'vacation_Y', 'new_lunch_N', 'new_lunch_Y']] \n",
    "\n",
    "y_train = train['lunch_number']"
   ]
  },
  {
   "cell_type": "code",
   "execution_count": 83,
   "id": "6e56edea",
   "metadata": {},
   "outputs": [],
   "source": [
    "X_test = test[['month', 'date', 'worker_number', 'real_number', 'vacation_number', 'biztrip_number',\n",
    "'overtime_number', 'telecom_number', 'temperature', 'rain', 'wind', 'humidity',\n",
    "'discomfort_index', 'lunch_rice', 'weekdays_friday', 'weekdays_monday', 'weekdays_thursday',\n",
    "'weekdays_tuesday', 'weekdays_wednesday', 'vacation_N', 'vacation_Y', 'new_lunch_N', 'new_lunch_Y']]"
   ]
  },
  {
   "cell_type": "code",
   "execution_count": 12,
   "id": "44ed4866",
   "metadata": {
    "scrolled": true
   },
   "outputs": [
    {
     "name": "stdout",
     "output_type": "stream",
     "text": [
      "[15:35:56] WARNING: ..\\src\\learner.cc:1061: Starting in XGBoost 1.3.0, the default evaluation metric used with the objective 'multi:softprob' was changed from 'merror' to 'mlogloss'. Explicitly set eval_metric if you'd like to restore the old behavior.\n",
      "훈련 정확도 :  0.8780082987551867\n"
     ]
    }
   ],
   "source": [
    "xgbc = xgb.XGBClassifier(n_estimators=200, learning_rate=0.1, max_depth=3)\n",
    "xgbc.fit(X_train, y_train)\n",
    "\n",
    "print(\"훈련 정확도 : \", xgbc.score(X_train, y_train))"
   ]
  },
  {
   "cell_type": "markdown",
   "id": "fb9a33b7",
   "metadata": {},
   "source": [
    "#### XGBRegressor"
   ]
  },
  {
   "cell_type": "code",
   "execution_count": 90,
   "id": "0e5bfe5c",
   "metadata": {},
   "outputs": [
    {
     "name": "stdout",
     "output_type": "stream",
     "text": [
      "{'colsample_bylevel': 0.7, 'colsample_bytree': 1, 'max_depth': 2, 'n_estimators': 300}\n"
     ]
    },
    {
     "data": {
      "text/plain": [
       "XGBRegressor(base_score=0.5, booster='gbtree', colsample_bylevel=0.7,\n",
       "             colsample_bynode=None, colsample_bytree=1, gamma=0, gpu_id=None,\n",
       "             importance_type='gain', interaction_constraints=None,\n",
       "             learning_rate=0.1, max_delta_step=0, max_depth=2,\n",
       "             min_child_weight=None, missing=nan, monotone_constraints=None,\n",
       "             n_estimators=300, n_jobs=1, num_parallel_tree=None,\n",
       "             objective='reg:linear', random_state=0, reg_alpha=None,\n",
       "             reg_lambda=None, scale_pos_weight=None, subsample=None,\n",
       "             tree_method=None, validate_parameters=None, verbosity=None)"
      ]
     },
     "execution_count": 90,
     "metadata": {},
     "output_type": "execute_result"
    }
   ],
   "source": [
    "param = {\n",
    "    'max_depth':[2, 3, 4],\n",
    "    'n_estimators':range(300,600,100),\n",
    "    'colsample_bytree':[0.5,0.7,1],\n",
    "    'colsample_bylevel':[0.5,0.7,1],\n",
    "}\n",
    "\n",
    "model = xgb.XGBRegressor()\n",
    "grid_search = GridSearchCV(estimator=model, param_grid=param, cv=10, \n",
    "                           scoring='neg_mean_squared_error',\n",
    "                           n_jobs=-1)\n",
    "\n",
    "grid_search.fit(X_train, y_train)\n",
    "print(grid_search.best_params_)\n",
    "XGBRegressor(base_score=0.5, booster='gbtree', colsample_bylevel=0.7,\n",
    "             colsample_bytree=1, gamma=0, learning_rate=0.1, max_delta_step=0,\n",
    "             max_depth=2, n_estimators=300, n_jobs=1, objective='reg:linear', random_state=0,\n",
    "             )"
   ]
  },
  {
   "cell_type": "code",
   "execution_count": 92,
   "id": "89efcabd",
   "metadata": {},
   "outputs": [
    {
     "data": {
      "text/plain": [
       "array([ 994.5683 ,  957.2725 ,  702.07196, 1275.901  , 1013.544  ,\n",
       "        851.95245,  923.29083,  679.441  , 1296.2904 , 1076.1497 ,\n",
       "        811.3537 , 1355.5178 , 1113.6975 , 1072.603  ,  896.28174,\n",
       "        704.17474, 1251.6913 , 1043.6018 ,  876.77594,  821.62476,\n",
       "        557.91064, 1116.2003 ,  980.2466 ,  959.3704 ,  662.9674 ,\n",
       "       1419.9445 , 1214.0808 , 1001.19824,  894.2454 ,  787.89557,\n",
       "       1243.3551 , 1010.8413 , 1034.5413 ,  878.24396,  642.8952 ,\n",
       "       1255.8912 , 1043.112  ,  903.0897 ,  802.862  ,  632.669  ,\n",
       "       1286.5992 , 1035.579  ,  977.2908 ,  866.6063 ,  631.1612 ,\n",
       "       1237.7262 , 1058.1853 ,  963.652  ,  885.7453 ,  603.6339 ],\n",
       "      dtype=float32)"
      ]
     },
     "execution_count": 92,
     "metadata": {},
     "output_type": "execute_result"
    }
   ],
   "source": [
    "# 중식 예측값\n",
    "\n",
    "y_pred = grid_search.predict(X_test)\n",
    "y_pred"
   ]
  },
  {
   "cell_type": "code",
   "execution_count": 91,
   "id": "608734e4",
   "metadata": {},
   "outputs": [
    {
     "name": "stdout",
     "output_type": "stream",
     "text": [
      "훈련 정확도 :  0.9412638246013624\n"
     ]
    }
   ],
   "source": [
    "xgbc = xgb.XGBRegressor(n_estimators=300, learning_rate=0.1, max_depth=3)\n",
    "xgbc.fit(X_train, y_train)\n",
    "\n",
    "print(\"훈련 정확도 : \", xgbc.score(X_train, y_train))"
   ]
  },
  {
   "cell_type": "markdown",
   "id": "021fb478",
   "metadata": {},
   "source": [
    "### 석식"
   ]
  },
  {
   "cell_type": "markdown",
   "id": "30b46ea9",
   "metadata": {},
   "source": [
    "#### XGBClassifier"
   ]
  },
  {
   "cell_type": "code",
   "execution_count": 23,
   "id": "a24fb507",
   "metadata": {},
   "outputs": [
    {
     "name": "stdout",
     "output_type": "stream",
     "text": [
      "<class 'pandas.core.frame.DataFrame'>\n",
      "RangeIndex: 1205 entries, 0 to 1204\n",
      "Data columns (total 30 columns):\n",
      " #   Column                 Non-Null Count  Dtype  \n",
      "---  ------                 --------------  -----  \n",
      " 0   datetime               1205 non-null   object \n",
      " 1   month                  1205 non-null   int64  \n",
      " 2   date                   1205 non-null   int64  \n",
      " 3   worker_number          1205 non-null   int64  \n",
      " 4   real_number            1205 non-null   int64  \n",
      " 5   vacation_number        1205 non-null   int64  \n",
      " 6   biztrip_number         1205 non-null   int64  \n",
      " 7   overtime_number        1205 non-null   int64  \n",
      " 8   telecom_number         1205 non-null   int64  \n",
      " 9   temperature            1205 non-null   float64\n",
      " 10  rain                   1205 non-null   float64\n",
      " 11  wind                   1205 non-null   float64\n",
      " 12  humidity               1205 non-null   float64\n",
      " 13  discomfort_index       1205 non-null   float64\n",
      " 14  perceived_temperature  1205 non-null   float64\n",
      " 15  dinner_rice            1205 non-null   int64  \n",
      " 16  dinner_number          1205 non-null   int64  \n",
      " 17  season_fall            1205 non-null   int64  \n",
      " 18  season_spring          1205 non-null   int64  \n",
      " 19  season_summer          1205 non-null   int64  \n",
      " 20  season_winter          1205 non-null   int64  \n",
      " 21  weekdays_friday        1205 non-null   int64  \n",
      " 22  weekdays_monday        1205 non-null   int64  \n",
      " 23  weekdays_thursday      1205 non-null   int64  \n",
      " 24  weekdays_tuesday       1205 non-null   int64  \n",
      " 25  weekdays_wednesday     1205 non-null   int64  \n",
      " 26  vacation_N             1205 non-null   int64  \n",
      " 27  vacation_Y             1205 non-null   int64  \n",
      " 28  new_dinner_N           1205 non-null   int64  \n",
      " 29  new_dinner_Y           1205 non-null   int64  \n",
      "dtypes: float64(6), int64(23), object(1)\n",
      "memory usage: 282.5+ KB\n"
     ]
    }
   ],
   "source": [
    "train_dinner.info()"
   ]
  },
  {
   "cell_type": "code",
   "execution_count": 59,
   "id": "8a34cd18",
   "metadata": {},
   "outputs": [],
   "source": [
    "X_train = train_dinner[['month', 'date', 'worker_number', 'real_number', 'vacation_number', 'biztrip_number',\n",
    "'overtime_number', 'telecom_number', 'temperature', 'rain', 'wind', 'humidity', 'discomfort_index', \n",
    "'perceived_temperature', 'dinner_rice', 'weekdays_friday', 'weekdays_monday', 'weekdays_thursday',\n",
    "'weekdays_tuesday', 'weekdays_wednesday', 'vacation_N', 'vacation_Y', 'new_dinner_N', 'new_dinner_Y']] \n",
    "\n",
    "y_train = train_dinner['dinner_number']"
   ]
  },
  {
   "cell_type": "code",
   "execution_count": 60,
   "id": "e9206e40",
   "metadata": {},
   "outputs": [],
   "source": [
    "X_test = test_dinner[['month', 'date', 'worker_number', 'real_number', 'vacation_number', 'biztrip_number',\n",
    "'overtime_number', 'telecom_number', 'temperature', 'rain', 'wind', 'humidity', 'discomfort_index', \n",
    "'perceived_temperature', 'dinner_rice', 'weekdays_friday', 'weekdays_monday', 'weekdays_thursday',\n",
    "'weekdays_tuesday', 'weekdays_wednesday', 'vacation_N', 'vacation_Y', 'new_dinner_N', 'new_dinner_Y']]"
   ]
  },
  {
   "cell_type": "code",
   "execution_count": 61,
   "id": "86ee00cb",
   "metadata": {},
   "outputs": [
    {
     "name": "stdout",
     "output_type": "stream",
     "text": [
      "[16:24:02] WARNING: ..\\src\\learner.cc:1061: Starting in XGBoost 1.3.0, the default evaluation metric used with the objective 'multi:softprob' was changed from 'merror' to 'mlogloss'. Explicitly set eval_metric if you'd like to restore the old behavior.\n",
      "훈련 정확도 :  0.9734439834024896\n"
     ]
    }
   ],
   "source": [
    "xgbc = xgb.XGBClassifier(n_estimators=200, learning_rate=0.1, max_depth=3)\n",
    "xgbc.fit(X_train, y_train)\n",
    "\n",
    "print(\"훈련 정확도 : \", xgbc.score(X_train, y_train))"
   ]
  },
  {
   "cell_type": "markdown",
   "id": "f0674734",
   "metadata": {},
   "source": [
    "#### XGBRegressor"
   ]
  },
  {
   "cell_type": "code",
   "execution_count": 34,
   "id": "1d3e8b0a",
   "metadata": {},
   "outputs": [
    {
     "name": "stdout",
     "output_type": "stream",
     "text": [
      "{'colsample_bylevel': 1, 'colsample_bytree': 0.5, 'max_depth': 3, 'n_estimators': 300}\n"
     ]
    },
    {
     "data": {
      "text/plain": [
       "XGBRegressor(base_score=0.5, booster='gbtree', colsample_bylevel=1,\n",
       "             colsample_bynode=None, colsample_bytree=0.5, gamma=0, gpu_id=None,\n",
       "             importance_type='gain', interaction_constraints=None,\n",
       "             learning_rate=0.1, max_delta_step=0, max_depth=3,\n",
       "             min_child_weight=None, missing=nan, monotone_constraints=None,\n",
       "             n_estimators=300, n_jobs=1, num_parallel_tree=None,\n",
       "             objective='reg:linear', random_state=0, reg_alpha=None,\n",
       "             reg_lambda=None, scale_pos_weight=None, subsample=None,\n",
       "             tree_method=None, validate_parameters=None, verbosity=None)"
      ]
     },
     "execution_count": 34,
     "metadata": {},
     "output_type": "execute_result"
    }
   ],
   "source": [
    "param = {\n",
    "    'max_depth':[1, 2, 3],\n",
    "    'n_estimators':range(300,600,100),\n",
    "    'colsample_bytree':[0.5,0.7,1],\n",
    "    'colsample_bylevel':[0.5,0.7,1],\n",
    "}\n",
    "\n",
    "model = xgb.XGBRegressor()\n",
    "grid_search = GridSearchCV(estimator=model, param_grid=param, cv=10, \n",
    "                           scoring='neg_mean_squared_error',\n",
    "                           n_jobs=-1)\n",
    "\n",
    "grid_search.fit(X_train, y_train)\n",
    "print(grid_search.best_params_)\n",
    "XGBRegressor(base_score=0.5, booster='gbtree', colsample_bylevel=1,\n",
    "             colsample_bytree=0.5, gamma=0, learning_rate=0.1, max_delta_step=0,\n",
    "             max_depth=3, n_estimators=300, n_jobs=1, objective='reg:linear', random_state=0,\n",
    "             )"
   ]
  },
  {
   "cell_type": "code",
   "execution_count": 62,
   "id": "98f7cc9d",
   "metadata": {},
   "outputs": [
    {
     "data": {
      "text/plain": [
       "array([255.38104, 436.941  , 258.72925, 578.8796 , 485.00192, 391.61307,\n",
       "       513.9564 , 364.8491 , 636.21075, 492.44135, 191.10867, 719.7337 ,\n",
       "       679.34326, 438.32922, 527.89453, 365.7433 , 649.6424 , 683.1214 ,\n",
       "       302.06326, 590.16156, 283.92953, 635.1722 , 468.04895, 567.39026,\n",
       "       393.98117, 736.43665, 682.4076 , 437.88815, 539.75525, 318.91693,\n",
       "       713.4089 , 614.38025, 439.76904, 484.98178, 329.94235, 625.57166,\n",
       "       568.52155, 386.21042, 463.08908, 259.5637 , 655.65   , 587.54034,\n",
       "       259.6944 , 464.8417 , 327.75677, 625.5961 , 572.128  , 421.28537,\n",
       "       485.20987, 294.54315], dtype=float32)"
      ]
     },
     "execution_count": 62,
     "metadata": {},
     "output_type": "execute_result"
    }
   ],
   "source": [
    "y_pred_dinner = grid_search.predict(X_test)\n",
    "y_pred_dinner"
   ]
  },
  {
   "cell_type": "markdown",
   "id": "db5f2e87",
   "metadata": {},
   "source": [
    "### Random Forest"
   ]
  },
  {
   "cell_type": "markdown",
   "id": "03fe36c6",
   "metadata": {},
   "source": [
    "#### 중식"
   ]
  },
  {
   "cell_type": "code",
   "execution_count": 65,
   "id": "f4b2edc7",
   "metadata": {},
   "outputs": [],
   "source": [
    "X_train = train[['month', 'date', 'worker_number', 'real_number', 'vacation_number', 'biztrip_number',\n",
    "'overtime_number', 'telecom_number', 'temperature', 'rain', 'wind', 'humidity',\n",
    "'discomfort_index', 'lunch_rice', 'weekdays_friday', 'weekdays_monday', 'weekdays_thursday',\n",
    "'weekdays_tuesday', 'weekdays_wednesday', 'vacation_N', 'vacation_Y', 'new_lunch_N', 'new_lunch_Y']] \n",
    "\n",
    "y_train = train['lunch_number']"
   ]
  },
  {
   "cell_type": "code",
   "execution_count": 66,
   "id": "900e2b35",
   "metadata": {},
   "outputs": [],
   "source": [
    "X_test = test[['month', 'date', 'worker_number', 'real_number', 'vacation_number', 'biztrip_number',\n",
    "'overtime_number', 'telecom_number', 'temperature', 'rain', 'wind', 'humidity',\n",
    "'discomfort_index', 'lunch_rice', 'weekdays_friday', 'weekdays_monday', 'weekdays_thursday',\n",
    "'weekdays_tuesday', 'weekdays_wednesday', 'vacation_N', 'vacation_Y', 'new_lunch_N', 'new_lunch_Y']]"
   ]
  },
  {
   "cell_type": "code",
   "execution_count": 67,
   "id": "fc1aca45",
   "metadata": {},
   "outputs": [
    {
     "data": {
      "text/plain": [
       "RandomForestRegressor(criterion='mae', n_jobs=-1, random_state=42)"
      ]
     },
     "execution_count": 67,
     "metadata": {},
     "output_type": "execute_result"
    }
   ],
   "source": [
    "forest = RandomForestRegressor(n_jobs=-1, random_state=42,criterion='mae')\n",
    "forest.fit(X_train, y_train)"
   ]
  },
  {
   "cell_type": "code",
   "execution_count": 75,
   "id": "73fdac51",
   "metadata": {},
   "outputs": [
    {
     "name": "stdout",
     "output_type": "stream",
     "text": [
      "훈련 정확도 :  0.9436121659961975\n"
     ]
    }
   ],
   "source": [
    "RF = RandomForestRegressor(random_state=0, n_estimators=5).fit(X_train, y_train)\n",
    "\n",
    "print(\"훈련 정확도 : \", RF.score(X_train, y_train))"
   ]
  },
  {
   "cell_type": "code",
   "execution_count": 68,
   "id": "75f82c31",
   "metadata": {},
   "outputs": [],
   "source": [
    "y_pred_RF = forest.predict(X_test)"
   ]
  },
  {
   "cell_type": "code",
   "execution_count": 69,
   "id": "197af1a9",
   "metadata": {},
   "outputs": [
    {
     "data": {
      "text/plain": [
       "array([1032.36 ,  966.15 ,  599.13 , 1188.235,  996.45 , 1021.6  ,\n",
       "        986.72 ,  641.8  , 1328.77 , 1052.8  ,  741.93 , 1234.065,\n",
       "       1063.06 ,  932.04 ,  877.82 ,  636.55 , 1206.74 , 1058.92 ,\n",
       "        897.65 ,  829.815,  596.4  , 1059.72 , 1005.6  ,  901.42 ,\n",
       "        649.61 , 1240.625, 1087.96 , 1024.76 ,  888.455,  689.91 ,\n",
       "       1205.265,  996.83 , 1024.4  ,  886.935,  635.34 , 1229.3  ,\n",
       "        982.345,  871.58 ,  824.875,  586.04 , 1193.09 ,  982.61 ,\n",
       "        928.   ,  876.215,  608.97 , 1197.105, 1002.97 ,  984.91 ,\n",
       "        892.235,  616.12 ])"
      ]
     },
     "execution_count": 69,
     "metadata": {},
     "output_type": "execute_result"
    }
   ],
   "source": [
    "y_pred_RF"
   ]
  },
  {
   "cell_type": "markdown",
   "id": "36280f92",
   "metadata": {},
   "source": [
    "#### 석식"
   ]
  },
  {
   "cell_type": "code",
   "execution_count": 76,
   "id": "3ed8e329",
   "metadata": {},
   "outputs": [],
   "source": [
    "X_train = train_dinner[['month', 'date', 'worker_number', 'real_number', 'vacation_number', 'biztrip_number',\n",
    "'overtime_number', 'telecom_number', 'temperature', 'rain', 'wind', 'humidity', 'discomfort_index', \n",
    "'perceived_temperature', 'dinner_rice', 'weekdays_friday', 'weekdays_monday', 'weekdays_thursday',\n",
    "'weekdays_tuesday', 'weekdays_wednesday', 'vacation_N', 'vacation_Y', 'new_dinner_N', 'new_dinner_Y']] \n",
    "\n",
    "y_train = train_dinner['dinner_number']"
   ]
  },
  {
   "cell_type": "code",
   "execution_count": 77,
   "id": "b976f9cb",
   "metadata": {},
   "outputs": [],
   "source": [
    "X_test = test_dinner[['month', 'date', 'worker_number', 'real_number', 'vacation_number', 'biztrip_number',\n",
    "'overtime_number', 'telecom_number', 'temperature', 'rain', 'wind', 'humidity', 'discomfort_index', \n",
    "'perceived_temperature', 'dinner_rice', 'weekdays_friday', 'weekdays_monday', 'weekdays_thursday',\n",
    "'weekdays_tuesday', 'weekdays_wednesday', 'vacation_N', 'vacation_Y', 'new_dinner_N', 'new_dinner_Y']]"
   ]
  },
  {
   "cell_type": "code",
   "execution_count": 78,
   "id": "6fb4b368",
   "metadata": {},
   "outputs": [
    {
     "data": {
      "text/plain": [
       "RandomForestRegressor(criterion='mae', n_jobs=-1, random_state=42)"
      ]
     },
     "execution_count": 78,
     "metadata": {},
     "output_type": "execute_result"
    }
   ],
   "source": [
    "forest = RandomForestRegressor(n_jobs=-1, random_state=42, criterion='mae')\n",
    "forest.fit(X_train, y_train)"
   ]
  },
  {
   "cell_type": "code",
   "execution_count": 79,
   "id": "160bc754",
   "metadata": {},
   "outputs": [
    {
     "name": "stdout",
     "output_type": "stream",
     "text": [
      "훈련 정확도 :  0.9050473899011711\n"
     ]
    }
   ],
   "source": [
    "RF = RandomForestRegressor(random_state=0, n_estimators=5).fit(X_train, y_train)\n",
    "\n",
    "print(\"훈련 정확도 : \", RF.score(X_train, y_train))"
   ]
  },
  {
   "cell_type": "code",
   "execution_count": 80,
   "id": "e78c65b8",
   "metadata": {},
   "outputs": [],
   "source": [
    "y_pred_RF = forest.predict(X_test)"
   ]
  },
  {
   "cell_type": "code",
   "execution_count": 81,
   "id": "f6511a99",
   "metadata": {},
   "outputs": [
    {
     "data": {
      "text/plain": [
       "array([245.91, 406.16, 280.12, 493.32, 435.75, 397.79, 455.27, 373.41,\n",
       "       655.4 , 480.27, 216.14, 683.27, 675.56, 384.  , 494.87, 385.81,\n",
       "       657.85, 632.99, 343.76, 479.57, 284.08, 639.43, 413.32, 560.66,\n",
       "       371.09, 672.05, 670.42, 412.  , 525.06, 285.23, 675.02, 592.92,\n",
       "       405.  , 454.42, 302.64, 621.17, 595.23, 352.86, 414.86, 278.97,\n",
       "       605.55, 580.52, 221.13, 417.37, 313.98, 604.87, 592.25, 419.81,\n",
       "       458.8 , 284.39])"
      ]
     },
     "execution_count": 81,
     "metadata": {},
     "output_type": "execute_result"
    }
   ],
   "source": [
    "y_pred_RF"
   ]
  },
  {
   "cell_type": "code",
   "execution_count": null,
   "id": "c4794c0e",
   "metadata": {},
   "outputs": [],
   "source": []
  },
  {
   "cell_type": "code",
   "execution_count": null,
   "id": "cbe6986a",
   "metadata": {},
   "outputs": [],
   "source": []
  },
  {
   "cell_type": "code",
   "execution_count": null,
   "id": "4848dd49",
   "metadata": {},
   "outputs": [],
   "source": []
  }
 ],
 "metadata": {
  "kernelspec": {
   "display_name": "Python 3",
   "language": "python",
   "name": "python3"
  },
  "language_info": {
   "codemirror_mode": {
    "name": "ipython",
    "version": 3
   },
   "file_extension": ".py",
   "mimetype": "text/x-python",
   "name": "python",
   "nbconvert_exporter": "python",
   "pygments_lexer": "ipython3",
   "version": "3.8.8"
  }
 },
 "nbformat": 4,
 "nbformat_minor": 5
}
