{
 "cells": [
  {
   "cell_type": "code",
   "execution_count": 1,
   "id": "5d94297a",
   "metadata": {},
   "outputs": [],
   "source": [
    "import numpy as np\n",
    "import pandas as pd\n",
    "import matplotlib.pyplot as plt\n",
    "import seaborn as sns\n",
    "import re\n",
    "\n",
    "import matplotlib.font_manager as fm\n",
    "font_name = fm.FontProperties(fname=\"C:/Windows/Fonts/malgun.ttf\").get_name()\n",
    "plt.rc(\"font\", family=font_name)\n",
    "import matplotlib as mpl\n",
    "mpl.rcParams[\"axes.unicode_minus\"] = False\n",
    "\n",
    "#SQLite 관련 library import\n",
    "import sqlite3\n",
    "from os import mkdir\n",
    "import csv"
   ]
  },
  {
   "cell_type": "markdown",
   "id": "364630d5",
   "metadata": {},
   "source": [
    "## 1. DB 만들기 "
   ]
  },
  {
   "cell_type": "code",
   "execution_count": 2,
   "id": "9e7b88b3",
   "metadata": {},
   "outputs": [],
   "source": [
    "def data_read():\n",
    "    data = pd.read_csv(\"data/data.csv\", encoding='utf-8')\n",
    "    weather = pd.read_csv(\"data/weather.csv\", encoding='euc-kr')\n",
    "    return data, weather"
   ]
  },
  {
   "cell_type": "code",
   "execution_count": 3,
   "id": "b03cdd0e",
   "metadata": {},
   "outputs": [],
   "source": [
    "def make_database():\n",
    "    try:\n",
    "        conn = sqlite3.connect('data/team3.db')\n",
    "    except sqlite3.OperationalError:\n",
    "        mkdir('folder_A')\n",
    "    finally:\n",
    "        conn = sqlite3.connect('data/team3.db')\n",
    "        cur = conn.cursor()\n",
    "\n",
    "    hr = \"\"\"create table if not exists hr(\n",
    "        datetime  datetime,\n",
    "        worker_number   int,\n",
    "        real_number int,\n",
    "        biztrip_number  int,\n",
    "        overtime_number int,\n",
    "        telecom_number  int    \n",
    "    )\n",
    "    \"\"\"\n",
    "    cur.execute(hr)\n",
    "    conn.commit()\n",
    "\n",
    "\n",
    "    lunch = \"\"\"create table if not exists lunch(\n",
    "        datetime  datetime,\n",
    "        new_lunch   varchar(10),\n",
    "        lunch_rice varchar(20),\n",
    "        lunch_soup  varchar(20),\n",
    "        lunch_main varchar(20),\n",
    "        lunch_number  int    \n",
    "    )\n",
    "    \"\"\"\n",
    "    cur.execute(lunch)\n",
    "    conn.commit()\n",
    "\n",
    "\n",
    "    dinner = \"\"\"create table if not exists dinner(\n",
    "        datetime  datetime,\n",
    "        new_dinner   varchar(10),\n",
    "        dinner_rice varchar(20),\n",
    "        dinner_soup  varchar(20),\n",
    "        dinner_main varchar(20),\n",
    "        dinner_number  int    \n",
    "    )\n",
    "    \"\"\"\n",
    "    cur.execute(dinner)\n",
    "    conn.commit()\n",
    "\n",
    "\n",
    "    weather = \"\"\"create table if not exists weather(\n",
    "        datetime  datetime,\n",
    "        temperature   float(32),\n",
    "        rain float(32),\n",
    "        wind float(32),\n",
    "        humidity  float(32),\n",
    "        discomfort_index    float(32),\n",
    "        perceived_temperature   float(32)\n",
    "    )\n",
    "    \"\"\"\n",
    "    cur.execute(weather)\n",
    "    conn.commit()\n",
    "\n",
    "    calendar = \"\"\"create table if not exists calendar(\n",
    "        datetime  datetime,\n",
    "        month   int,\n",
    "        date int,\n",
    "        weekdays  varchar(16),\n",
    "        season varchar(16),\n",
    "        vacation  int    \n",
    "        )\n",
    "        \"\"\"\n",
    "    cur.execute(calendar)\n",
    "    conn.commit()\n",
    "\n",
    "\n",
    "    conn.close()"
   ]
  },
  {
   "cell_type": "code",
   "execution_count": 4,
   "id": "378f05c7",
   "metadata": {},
   "outputs": [],
   "source": [
    "def transform(data, weather):\n",
    "    #### 1. 일자를 datetime 형태로 변경\n",
    "    data['일자'] = pd.to_datetime(data['일자'])\n",
    "    #### 2. 실질 사내 근무자 수\n",
    "    data['실질정원수'] = data['본사정원수'] - (data['본사휴가자수'] + data['본사출장자수'] + data['현본사소속재택근무자수'])\n",
    "    data = data.loc[:, ['일자', '요일', '본사정원수', '실질정원수', '본사휴가자수', '본사출장자수', '본사시간외근무명령서승인건수', '현본사소속재택근무자수', '중식메뉴', '석식메뉴', '중식계', '석식계']]\n",
    "    #### 3. 월, 일 칼럼과 계절 칼럼, 연휴 칼럼 만들기\n",
    "    data['Month'] = data['일자'].dt.strftime('%m')\n",
    "    data['Date'] = data['일자'].dt.strftime('%d')\n",
    "    season = []\n",
    "\n",
    "    for index in range(len(data)):\n",
    "        if data['Month'][index] == '03' or data['Month'][index] == '04' or data['Month'][index] == '05':\n",
    "            season.append('봄')\n",
    "        elif data['Month'][index] == '06' or data['Month'][index] == '07' or data['Month'][index] == '08':\n",
    "            season.append('여름')\n",
    "        elif data['Month'][index] == '09' or data['Month'][index] == '10' or data['Month'][index] == '11':\n",
    "            season.append('가을')\n",
    "        elif data['Month'][index] == '12' or data['Month'][index] == '01' or data['Month'][index] == '02':\n",
    "            season.append('겨울')\n",
    "    \n",
    "    data['Season'] = season\n",
    "\n",
    "\n",
    "\n",
    "    holiday_gap=[]\n",
    "\n",
    "    for i in range(len(data)):\n",
    "        if i == len(data) - 1:\n",
    "            holiday_gap.append(0)\n",
    "        elif int((pd.to_datetime(data['일자'][i+1])-pd.to_datetime(data['일자'][i])).days)==1:\n",
    "            holiday_gap.append(0)\n",
    "        elif int((pd.to_datetime(data['일자'][i+1])-pd.to_datetime(data['일자'][i])).days)==2:\n",
    "            holiday_gap.append(1)\n",
    "        elif int((pd.to_datetime(data['일자'][i+1])-pd.to_datetime(data['일자'][i])).days)==3:\n",
    "            holiday_gap.append(0)\n",
    "        else:\n",
    "            holiday_gap.append(1)\n",
    "            \n",
    "    data['연휴'] = holiday_gap\n",
    "\n",
    "\n",
    "\n",
    "    #### 4. 신메뉴 여부 칼럼 만들기 Y = 신메뉴 / N = 신메뉴 X\n",
    "    New_lunch = []\n",
    "    New_dinner = []\n",
    "\n",
    "    for index in range(len(data)):\n",
    "        if 'New' in data['중식메뉴'][index]:\n",
    "            New_lunch.append('Y')\n",
    "        else:\n",
    "            New_lunch.append('N')\n",
    "\n",
    "    for index in range(len(data)):\n",
    "        if 'New' in data['석식메뉴'][index]:\n",
    "            New_dinner.append('Y')\n",
    "        else:\n",
    "            New_dinner.append('N')\n",
    "    \n",
    "    data['New_lunch'] = New_lunch\n",
    "    data['New_dinner'] = New_dinner\n",
    "\n",
    "    #### 5. 점심, 저녁에서 밥, 국, 메인반찬 칼럼 만들기\n",
    "    #점심\n",
    "    lunch = []\n",
    "    for index in range(len(data)):\n",
    "        tmp = data.loc[index,'중식메뉴'].split(' ') # 스페이스로 구분\n",
    "        tmp = ' '.join(tmp).split()    # 빈칸 제거\n",
    "\n",
    "        # ()안에 있는 내용 제거\n",
    "        for menu in tmp:\n",
    "            if '(' in menu:\n",
    "                tmp.remove(menu)\n",
    "        lunch.append(tmp)\n",
    "\n",
    "    for index in range(len(data)):\n",
    "        if '쌀밥' in lunch[index][0]:\n",
    "            lunch[index][0] = '밥'\n",
    "    \n",
    "    rice=[]\n",
    "    soup=[]\n",
    "    main=[]\n",
    "\n",
    "    for i in range(len(data)):\n",
    "        if lunch[i][0]:\n",
    "            rice.append(lunch[i][0])\n",
    "        if lunch[i][1]:\n",
    "            soup.append(lunch[i][1])\n",
    "        if lunch[i][2]:\n",
    "            main.append(lunch[i][2])\n",
    "\n",
    "    data['lunch_rice'] = rice\n",
    "    data['lunch_soup'] = soup\n",
    "    data['lunch_main'] = main\n",
    "\n",
    "    #저녁\n",
    "    dinner = []\n",
    "\n",
    "    for index in range(len(data)):\n",
    "        tmp = data.loc[index,'석식메뉴'].split(' ')\n",
    "        tmp = ' '.join(tmp).split()\n",
    "\n",
    "        for menu_d in tmp:\n",
    "            if '(' in menu_d:\n",
    "                tmp.remove(menu_d)\n",
    "        dinner.append(tmp)\n",
    "\n",
    "    dinner_rice=[]\n",
    "    dinner_soup=[]\n",
    "    dinner_main=[]\n",
    "\n",
    "\n",
    "    for word in dinner:\n",
    "        \n",
    "        \n",
    "        if len(word) == 0:\n",
    "            dinner_rice.append('None')\n",
    "            dinner_soup.append('None')\n",
    "            dinner_main.append('None')\n",
    "        elif '*' in word:\n",
    "            dinner_rice.append('None')\n",
    "            dinner_soup.append('None')\n",
    "            dinner_main.append('None')\n",
    "        elif '가정의날' in word:\n",
    "            dinner_rice.append('None') \n",
    "            dinner_soup.append('None')\n",
    "            dinner_main.append('None')\n",
    "        elif '가정의달' in word:\n",
    "            dinner_rice.append('None') \n",
    "            dinner_soup.append('None')\n",
    "            dinner_main.append('None')\n",
    "        elif '자기계발의날' in word:\n",
    "            dinner_rice.append('None') \n",
    "            dinner_soup.append('None')\n",
    "            dinner_main.append('None')\n",
    "        elif '*자기계발의날*' in word:\n",
    "            dinner_rice.append('None') \n",
    "            dinner_soup.append('None')\n",
    "            dinner_main.append('None')\n",
    "        elif '자기개발의날' in word:\n",
    "            dinner_rice.append('None') \n",
    "            dinner_soup.append('None')\n",
    "            dinner_main.append('None')\n",
    "\n",
    "        else:\n",
    "            dinner_rice.append(word[0])\n",
    "            dinner_soup.append(word[1])\n",
    "            dinner_main.append(word[2])\n",
    "    \n",
    "    data['dinner_rice'] = dinner_rice\n",
    "    data['dinner_soup'] = dinner_soup\n",
    "    data['dinner_main'] = dinner_main\n",
    "\n",
    "    for index in range(len(data)):\n",
    "        if '쌀밥' in data['dinner_rice'][index]:\n",
    "            data['dinner_rice'][index] = '밥'\n",
    "        elif '흑미밥' in data['dinner_rice'][index]:\n",
    "            data['dinner_rice'][index] = '밥'\n",
    "        \n",
    "    del data['중식메뉴']\n",
    "    del data['석식메뉴']\n",
    "\n",
    "\n",
    "\n",
    "    #### 6. 날짜 데이터 merge\n",
    "    # merge 전 날짜 데이터 전처리\n",
    "    weather['일자'] = pd.to_datetime(weather['일시'])\n",
    "    del weather['일시']\n",
    "    del weather['지점']\n",
    "    del weather['지점명']\n",
    "\n",
    "    #결측치 제거\n",
    "    weather['일강수량(mm)']=weather['일강수량(mm)'].replace({np.NaN:0})\n",
    "    weather['평균 상대습도(%)'] = weather['평균 상대습도(%)'].replace({np.NaN:0})\n",
    "\n",
    "    #칼럼명 변경\n",
    "    weather.columns = ['기온', '강수량', '풍속', '습도', '일자']\n",
    "\n",
    "    # 불쾌지수, 체감온도 칼럼 생성\n",
    "    weather['불쾌지수'] = 9/5 * weather['기온'] - 0.55 * (1-weather['습도']/100) * (9/5 * weather['기온'] - 26) + 32\n",
    "    weather['체감온도'] = 13.12 + 0.6215 * weather['기온'] - 11.37 * (weather['풍속'] ** 0.16) + 0.3965 * (weather['풍속'] ** 0.16) * weather['기온']    #### 7. 칼럼명 영어로 바꾸기\n",
    "    \n",
    "    \n",
    "    #### 7. 칼럼명 영어로 바꾸기\n",
    "    df = pd.merge(data, weather, how='inner', on='일자')\n",
    "\n",
    "    col_eng = ['datetime', 'weekdays', 'worker_number', 'real_number', 'vacation_number', 'biztrip_number', 'overtime_number', 'telecom_number', 'lunch_number',\n",
    "    'dinner_number', 'month', 'date', 'season', 'vacation', 'new_lunch', 'new_dinner', 'lunch_rice', 'lunch_soup', 'lunch_main', 'dinner_rice', 'dinner_soup', 'dinner_main',\n",
    "    'temperature', 'rain', 'wind', 'humidity', 'discomfort_index', 'perceived_temperature']\n",
    "\n",
    "    df.columns=col_eng\n",
    "\n",
    "    return df"
   ]
  },
  {
   "cell_type": "code",
   "execution_count": 5,
   "id": "5a38f46c",
   "metadata": {},
   "outputs": [],
   "source": [
    "def split(data):\n",
    "    hr_data = data.loc[:, [\"datetime\", \"worker_number\", \"real_number\", \"biztrip_number\", \"overtime_number\", \"telecom_number\"]]\n",
    "    lunch_data = data.loc[:, [\"datetime\", \"new_lunch\", \"lunch_rice\", \"lunch_soup\", \"lunch_main\", \"lunch_number\"]]\n",
    "    dinner_data = data.loc[:, [\"datetime\", \"new_dinner\", \"dinner_rice\", \"dinner_soup\", \"dinner_main\", \"dinner_number\"]]\n",
    "    weather_data = data.loc[:, [\"datetime\", \"temperature\", 'rain', 'wind', 'humidity', 'discomfort_index', 'perceived_temperature']]\n",
    "    calendar_data = data.loc[:, ['datetime', 'month', 'date', 'weekdays', 'season', 'vacation']]\n",
    "\n",
    "    return hr_data, lunch_data, dinner_data, weather_data, calendar_data"
   ]
  },
  {
   "cell_type": "code",
   "execution_count": 6,
   "id": "8b39d398",
   "metadata": {},
   "outputs": [],
   "source": [
    "def save(hr_data, lunch_data, dinner_data, weather_data, calendar_data):\n",
    "    hr_data.to_csv(\"data/hr_data.csv\", encoding='euc-kr', index=False)\n",
    "    lunch_data.to_csv(\"data/lunch_data.csv\", encoding='euc-kr', index=False)\n",
    "    dinner_data.to_csv(\"data/dinner_data.csv\", encoding='euc-kr', index=False)\n",
    "    weather_data.to_csv(\"data/weather_data.csv\", encoding='euc-kr', index=False)\n",
    "    calendar_data.to_csv(\"data/calendar_data.csv\", encoding='euc-kr', index=False)"
   ]
  },
  {
   "cell_type": "code",
   "execution_count": 7,
   "id": "ce5ea853",
   "metadata": {},
   "outputs": [],
   "source": [
    "def hr_db():\n",
    "    conn = sqlite3.connect(\"data/team3.db\")\n",
    "    cur = conn.cursor()\n",
    "\n",
    "    file = csv.reader(open(\"data/hr_data.csv\", \"r\"), delimiter=\",\")\n",
    "    next(file)\n",
    "\n",
    "    for row in file:\n",
    "        cur.execute(\"insert into hr values(?, ?, ?, ?, ?, ?)\", row)\n",
    "\n",
    "    conn.commit()\n",
    "    conn.close()"
   ]
  },
  {
   "cell_type": "code",
   "execution_count": 8,
   "id": "4e589ba2",
   "metadata": {},
   "outputs": [],
   "source": [
    "def lunch_db():\n",
    "    conn = sqlite3.connect(\"data/team3.db\")\n",
    "    cur = conn.cursor()\n",
    "\n",
    "    file = csv.reader(open(\"data/lunch_data.csv\", \"r\"), delimiter=\",\")\n",
    "    next(file)\n",
    "\n",
    "    for row in file:\n",
    "        cur.execute(\"insert into lunch values(?, ?, ?, ?, ?, ?)\", row)\n",
    "\n",
    "    conn.commit()\n",
    "    conn.close()"
   ]
  },
  {
   "cell_type": "code",
   "execution_count": 9,
   "id": "a31af548",
   "metadata": {},
   "outputs": [],
   "source": [
    "def dinner_db():\n",
    "    conn = sqlite3.connect(\"data/team3.db\")\n",
    "    cur = conn.cursor()\n",
    "\n",
    "    file = csv.reader(open(\"data/dinner_data.csv\", \"r\"), delimiter=\",\")\n",
    "    next(file)\n",
    "\n",
    "    for row in file:\n",
    "        cur.execute(\"insert into dinner values(?, ?, ?, ?, ?, ?)\", row)\n",
    "\n",
    "    conn.commit()\n",
    "    conn.close()"
   ]
  },
  {
   "cell_type": "code",
   "execution_count": 10,
   "id": "cf5b189b",
   "metadata": {},
   "outputs": [],
   "source": [
    "def weather_db():\n",
    "    conn = sqlite3.connect(\"data/team3.db\")\n",
    "    cur = conn.cursor()\n",
    "\n",
    "    file = csv.reader(open(\"data/weather_data.csv\", \"r\"), delimiter=\",\")\n",
    "    next(file)\n",
    "\n",
    "    for row in file:\n",
    "        cur.execute(\"insert into weather values(?, ?, ?, ?, ?, ?, ?)\", row)\n",
    "\n",
    "    conn.commit()\n",
    "    conn.close()"
   ]
  },
  {
   "cell_type": "code",
   "execution_count": 11,
   "id": "81b77622",
   "metadata": {},
   "outputs": [],
   "source": [
    "def calendar_db():\n",
    "    conn = sqlite3.connect(\"data/team3.db\")\n",
    "    cur = conn.cursor()\n",
    "\n",
    "    file = csv.reader(open(\"data/calendar_data.csv\", \"r\"), delimiter=\",\")\n",
    "    next(file)\n",
    "\n",
    "    for row in file:\n",
    "        cur.execute(\"insert into calendar values(?, ?, ?, ?, ?, ?)\", row)\n",
    "\n",
    "    conn.commit()\n",
    "    conn.close()"
   ]
  },
  {
   "cell_type": "code",
   "execution_count": 12,
   "id": "77f24090",
   "metadata": {},
   "outputs": [
    {
     "name": "stderr",
     "output_type": "stream",
     "text": [
      "<ipython-input-4-2abd544986c7>:156: SettingWithCopyWarning: \n",
      "A value is trying to be set on a copy of a slice from a DataFrame\n",
      "\n",
      "See the caveats in the documentation: https://pandas.pydata.org/pandas-docs/stable/user_guide/indexing.html#returning-a-view-versus-a-copy\n",
      "  data['dinner_rice'][index] = '밥'\n",
      "<ipython-input-4-2abd544986c7>:158: SettingWithCopyWarning: \n",
      "A value is trying to be set on a copy of a slice from a DataFrame\n",
      "\n",
      "See the caveats in the documentation: https://pandas.pydata.org/pandas-docs/stable/user_guide/indexing.html#returning-a-view-versus-a-copy\n",
      "  data['dinner_rice'][index] = '밥'\n"
     ]
    }
   ],
   "source": [
    "data, weather = data_read()\n",
    "make_database()\n",
    "df = transform(data, weather)\n",
    "hr_data, lunch_data, dinner_data, weather_data, calendar_data = split(df)\n",
    "save(hr_data, lunch_data, dinner_data, weather_data, calendar_data)\n",
    "hr_db()\n",
    "lunch_db()\n",
    "dinner_db()\n",
    "weather_db()\n",
    "calendar_db()"
   ]
  },
  {
   "cell_type": "markdown",
   "id": "125aaa38",
   "metadata": {},
   "source": [
    "## 2. EDA- 쿼리문 작성 "
   ]
  },
  {
   "cell_type": "markdown",
   "id": "b009440d",
   "metadata": {},
   "source": [
    "### (1) 메뉴 관련 EDA"
   ]
  },
  {
   "cell_type": "code",
   "execution_count": 2,
   "id": "cc37067e",
   "metadata": {},
   "outputs": [],
   "source": [
    "import sqlite3"
   ]
  },
  {
   "cell_type": "code",
   "execution_count": 3,
   "id": "3bc94219",
   "metadata": {},
   "outputs": [
    {
     "name": "stdout",
     "output_type": "stream",
     "text": [
      "(851.009900990099,)\n"
     ]
    }
   ],
   "source": [
    "#일반 '밥'아닌 메뉴 평균 중식계\n",
    "conn = sqlite3.connect(\"data/team3.db\")\n",
    "cur= conn.cursor()\n",
    "cur.execute(\"SELECT avg(lunch_number) FROM lunch WHERE lunch_rice != '밥'\")\n",
    "\n",
    "for row in cur:\n",
    "    print(row)"
   ]
  },
  {
   "cell_type": "code",
   "execution_count": 15,
   "id": "bcae207a",
   "metadata": {},
   "outputs": [
    {
     "name": "stdout",
     "output_type": "stream",
     "text": [
      "(898.5249500998004,)\n"
     ]
    }
   ],
   "source": [
    "#일반 '밥'인 메뉴 평균 중식계\n",
    "conn = sqlite3.connect(\"data/team3.db\")\n",
    "cur= conn.cursor()\n",
    "cur.execute(\"SELECT avg(lunch_number) FROM lunch WHERE lunch_rice = '밥'\")\n",
    "\n",
    "for row in cur:\n",
    "    print(row)"
   ]
  },
  {
   "cell_type": "code",
   "execution_count": 16,
   "id": "4f4d5c6e",
   "metadata": {},
   "outputs": [],
   "source": [
    "# 중식계의 경우 일반 밥+ 반찬 조합 평균이 높음 "
   ]
  },
  {
   "cell_type": "code",
   "execution_count": 17,
   "id": "b86475dd",
   "metadata": {},
   "outputs": [
    {
     "name": "stdout",
     "output_type": "stream",
     "text": [
      "(462.52561247216033,)\n"
     ]
    }
   ],
   "source": [
    "#일반 '밥'아닌 메뉴 평균 석식계\n",
    "conn = sqlite3.connect(\"data/team3.db\")\n",
    "cur= conn.cursor()\n",
    "cur.execute(\"SELECT avg(dinner_number) FROM dinner WHERE dinner_rice != '밥'\")\n",
    "\n",
    "for row in cur:\n",
    "    print(row)"
   ]
  },
  {
   "cell_type": "code",
   "execution_count": 18,
   "id": "18695650",
   "metadata": {},
   "outputs": [
    {
     "name": "stdout",
     "output_type": "stream",
     "text": [
      "(461.36688741721855,)\n"
     ]
    }
   ],
   "source": [
    "#일반 '밥'인 메뉴 평균 중식계\n",
    "conn = sqlite3.connect(\"data/team3.db\")\n",
    "cur= conn.cursor()\n",
    "cur.execute(\"SELECT avg(dinner_number) FROM dinner WHERE dinner_rice = '밥'\")\n",
    "\n",
    "for row in cur:\n",
    "    print(row)"
   ]
  },
  {
   "cell_type": "code",
   "execution_count": 19,
   "id": "1ed7bebe",
   "metadata": {},
   "outputs": [],
   "source": [
    "# 석식계의 경우 일반 '밥'이 아닌 경우와 일반밥의 평균이 거의 차이 없음 "
   ]
  },
  {
   "cell_type": "code",
   "execution_count": 20,
   "id": "9066dce2",
   "metadata": {},
   "outputs": [
    {
     "name": "stdout",
     "output_type": "stream",
     "text": [
      "(888.9820627802691,)\n"
     ]
    }
   ],
   "source": [
    "# 점심중 찌개/ 국 중 선호하는 것 \n",
    "conn = sqlite3.connect(\"data/team3.db\")\n",
    "cur= conn.cursor()\n",
    "cur.execute(\"SELECT avg(lunch_number) FROM lunch WHERE lunch_soup LIKE '%찌개%'\")\n",
    "\n",
    "for row in cur:\n",
    "    print(row)\n"
   ]
  },
  {
   "cell_type": "code",
   "execution_count": 21,
   "id": "a3be5a31",
   "metadata": {},
   "outputs": [
    {
     "name": "stdout",
     "output_type": "stream",
     "text": [
      "(897.7946210268949,)\n"
     ]
    }
   ],
   "source": [
    "conn = sqlite3.connect(\"data/team3.db\")\n",
    "cur= conn.cursor()\n",
    "cur.execute(\"SELECT avg(lunch_number) FROM lunch WHERE lunch_soup LIKE '%국%'\")\n",
    "\n",
    "for row in cur:\n",
    "    print(row)"
   ]
  },
  {
   "cell_type": "code",
   "execution_count": 22,
   "id": "568c8a85",
   "metadata": {},
   "outputs": [],
   "source": [
    "# 중식계의 경우 국의 선호도가 더 높음"
   ]
  },
  {
   "cell_type": "code",
   "execution_count": 23,
   "id": "15f3e2fe",
   "metadata": {},
   "outputs": [
    {
     "name": "stdout",
     "output_type": "stream",
     "text": [
      "(472.6605504587156,)\n"
     ]
    }
   ],
   "source": [
    "# 저녁중 찌개/ 국 중 선호하는 것 \n",
    "conn = sqlite3.connect(\"data/team3.db\")\n",
    "cur= conn.cursor()\n",
    "cur.execute(\"SELECT avg(dinner_number) FROM dinner WHERE dinner_soup LIKE '%찌개%'\")\n",
    "\n",
    "for row in cur:\n",
    "    print(row)"
   ]
  },
  {
   "cell_type": "code",
   "execution_count": 24,
   "id": "51600705",
   "metadata": {},
   "outputs": [
    {
     "name": "stdout",
     "output_type": "stream",
     "text": [
      "(481.5720588235294,)\n"
     ]
    }
   ],
   "source": [
    "conn = sqlite3.connect(\"data/team3.db\")\n",
    "cur= conn.cursor()\n",
    "cur.execute(\"SELECT avg(dinner_number) FROM dinner WHERE dinner_soup LIKE '%국%'\")\n",
    "\n",
    "for row in cur:\n",
    "    print(row)"
   ]
  },
  {
   "cell_type": "code",
   "execution_count": 25,
   "id": "83e20f37",
   "metadata": {},
   "outputs": [],
   "source": [
    "# 석식계도  국의 선호도가 더 높음"
   ]
  },
  {
   "cell_type": "code",
   "execution_count": 26,
   "id": "64baf519",
   "metadata": {},
   "outputs": [
    {
     "name": "stdout",
     "output_type": "stream",
     "text": [
      "(967.7272727272727,)\n"
     ]
    }
   ],
   "source": [
    "# 면이 포함된 날과 포함되지 않은날 차이가 존재할까?\n",
    "\n",
    "# 면이 포함된 중식계 \n",
    "conn = sqlite3.connect(\"data/team3.db\")\n",
    "cur= conn.cursor()\n",
    "cur.execute(\"SELECT avg(lunch_number) FROM lunch WHERE lunch_main LIKE '%면%'\")\n",
    "\n",
    "for row in cur:\n",
    "    print(row)"
   ]
  },
  {
   "cell_type": "code",
   "execution_count": 27,
   "id": "2e231149",
   "metadata": {},
   "outputs": [
    {
     "name": "stdout",
     "output_type": "stream",
     "text": [
      "(889.8415758591785,)\n"
     ]
    }
   ],
   "source": [
    "# 면이 포함되지 않은 중식계\n",
    "\n",
    "conn = sqlite3.connect(\"data/team3.db\")\n",
    "cur= conn.cursor()\n",
    "cur.execute(\"SELECT avg(lunch_number) FROM lunch WHERE NOT lunch_main LIKE '%면%'\")\n",
    "\n",
    "for row in cur:\n",
    "    print(row)"
   ]
  },
  {
   "cell_type": "code",
   "execution_count": 28,
   "id": "97b8170f",
   "metadata": {},
   "outputs": [],
   "source": [
    "#중식계의 경우 면이 있는 경우 평균적으로 더 많이 찾아옴 "
   ]
  },
  {
   "cell_type": "code",
   "execution_count": 29,
   "id": "2dfdd1ee",
   "metadata": {},
   "outputs": [
    {
     "name": "stdout",
     "output_type": "stream",
     "text": [
      "(447.1,)\n"
     ]
    }
   ],
   "source": [
    "# 면 포함된 석식계  확인 \n",
    "conn = sqlite3.connect(\"data/team3.db\")\n",
    "cur= conn.cursor()\n",
    "cur.execute(\"SELECT avg(dinner_number) FROM dinner WHERE dinner_main LIKE '%면%'\")\n",
    "\n",
    "for row in cur:\n",
    "    print(row)"
   ]
  },
  {
   "cell_type": "code",
   "execution_count": 30,
   "id": "7918fa56",
   "metadata": {},
   "outputs": [
    {
     "name": "stdout",
     "output_type": "stream",
     "text": [
      "(461.9221105527638,)\n"
     ]
    }
   ],
   "source": [
    "#석식계도 살펴보자 \n",
    "conn = sqlite3.connect(\"data/team3.db\")\n",
    "cur= conn.cursor()\n",
    "cur.execute(\"SELECT avg(dinner_number) FROM dinner WHERE NOT dinner_main LIKE '%면%'\")\n",
    "\n",
    "for row in cur:\n",
    "    print(row)"
   ]
  },
  {
   "cell_type": "code",
   "execution_count": 31,
   "id": "941679f7",
   "metadata": {},
   "outputs": [],
   "source": [
    "#석식계의 경우는 큰 차이를 보이고 있지 않음 "
   ]
  },
  {
   "cell_type": "markdown",
   "id": "586ee7cc",
   "metadata": {},
   "source": [
    "### (2) 중식계 상관분석"
   ]
  },
  {
   "cell_type": "markdown",
   "id": "1456085c",
   "metadata": {},
   "source": [
    "## (3) 날씨 관련 EDA\n",
    "\n",
    "+ 계절\n",
    "+ 기온 "
   ]
  },
  {
   "cell_type": "code",
   "execution_count": 45,
   "id": "4f59dcf1",
   "metadata": {},
   "outputs": [
    {
     "name": "stdout",
     "output_type": "stream",
     "text": [
      "(903.4239482200647,)\n",
      "(855.1172638436482,)\n",
      "(889.3924914675767,)\n",
      "(915.1016949152543,)\n"
     ]
    }
   ],
   "source": [
    "# 계절을 join 사용하여 조회하고 불러오기 \n",
    "# SQLite는 왼쪽 외부 조인을 하는 LEFT OUTER JOIN 절에서만 지원함 \n",
    "\n",
    "#중식계 4계절 \n",
    "conn = sqlite3.connect(\"data/team3.db\")\n",
    "cur= conn.cursor()\n",
    "cur.execute(\"SELECT avg(lunch_number) FROM lunch LEFT JOIN calendar ON lunch.rowid=calendar.rowid WHERE season = '봄'\")\n",
    "\n",
    "for row in cur:\n",
    "    print(row)\n",
    "\n",
    "conn = sqlite3.connect(\"data/team3.db\")\n",
    "cur= conn.cursor()\n",
    "cur.execute(\"SELECT avg(lunch_number) FROM lunch LEFT JOIN calendar ON lunch.rowid=calendar.rowid WHERE season = '여름'\")\n",
    "\n",
    "for row in cur:\n",
    "    print(row)\n",
    "    \n",
    "conn = sqlite3.connect(\"data/team3.db\")\n",
    "cur= conn.cursor()\n",
    "cur.execute(\"SELECT avg(lunch_number) FROM lunch LEFT JOIN calendar ON lunch.rowid=calendar.rowid WHERE season = '가을'\")\n",
    "\n",
    "for row in cur:\n",
    "    print(row)\n",
    "\n",
    "conn = sqlite3.connect(\"data/team3.db\")\n",
    "cur= conn.cursor()\n",
    "cur.execute(\"SELECT avg(lunch_number) FROM lunch LEFT JOIN calendar ON lunch.rowid=calendar.rowid WHERE season = '겨울'\")\n",
    "\n",
    "for row in cur:\n",
    "    print(row)\n"
   ]
  },
  {
   "cell_type": "code",
   "execution_count": 46,
   "id": "89fdbe4f",
   "metadata": {},
   "outputs": [],
   "source": [
    "#중식계의 경우 겨울 평균 식수인원이 915.1016949152543 가장 많고 여름이 855.1172638436482 가장 적음 "
   ]
  },
  {
   "cell_type": "code",
   "execution_count": 47,
   "id": "26628452",
   "metadata": {},
   "outputs": [
    {
     "name": "stdout",
     "output_type": "stream",
     "text": [
      "(490.8252427184466,)\n",
      "(451.79153094462544,)\n",
      "(458.5665529010239,)\n",
      "(445.02033898305086,)\n"
     ]
    }
   ],
   "source": [
    "#석식계 4계절 \n",
    "conn = sqlite3.connect(\"data/team3.db\")\n",
    "cur= conn.cursor()\n",
    "cur.execute(\"SELECT avg(dinner_number) FROM dinner LEFT JOIN calendar ON dinner.rowid=calendar.rowid WHERE season = '봄'\")\n",
    "\n",
    "for row in cur:\n",
    "    print(row)\n",
    "\n",
    "conn = sqlite3.connect(\"data/team3.db\")\n",
    "cur= conn.cursor()\n",
    "cur.execute(\"SELECT avg(dinner_number) FROM dinner LEFT JOIN calendar ON dinner.rowid=calendar.rowid WHERE season = '여름'\")\n",
    "\n",
    "for row in cur:\n",
    "    print(row)\n",
    "    \n",
    "conn = sqlite3.connect(\"data/team3.db\")\n",
    "cur= conn.cursor()\n",
    "cur.execute(\"SELECT avg(dinner_number) FROM dinner LEFT JOIN calendar ON dinner.rowid=calendar.rowid WHERE season = '가을'\")\n",
    "\n",
    "for row in cur:\n",
    "    print(row)\n",
    "\n",
    "    \n",
    "conn = sqlite3.connect(\"data/team3.db\")\n",
    "cur= conn.cursor()\n",
    "cur.execute(\"SELECT avg(dinner_number) FROM dinner LEFT JOIN calendar ON dinner.rowid=calendar.rowid WHERE season = '겨울'\")\n",
    "\n",
    "for row in cur:\n",
    "    print(row)\n"
   ]
  },
  {
   "cell_type": "code",
   "execution_count": 48,
   "id": "017924ad",
   "metadata": {},
   "outputs": [],
   "source": [
    "#석식계의 경우 봄 평균 식수인원이 490.8252427184466 으로 가장 많고 겨울이 445.02033898305086가장 적음 "
   ]
  },
  {
   "cell_type": "code",
   "execution_count": 52,
   "id": "87d135f1",
   "metadata": {},
   "outputs": [
    {
     "name": "stdout",
     "output_type": "stream",
     "text": [
      "(914.9879518072289,)\n",
      "(889.3443328550933,)\n",
      "(878.0416666666666,)\n"
     ]
    }
   ],
   "source": [
    "# 중식계 기온- 1.영하인경우 \n",
    "\n",
    "conn = sqlite3.connect(\"data/team3.db\")\n",
    "cur= conn.cursor()\n",
    "cur.execute(\"SELECT avg(lunch_number) FROM lunch LEFT JOIN weather ON lunch.rowid=weather.rowid WHERE perceived_temperature LIKE'-%'\")\n",
    "\n",
    "for row in cur:\n",
    "    print(row)\n",
    "\n",
    "#기온- 2.0-25 사이인경우 \n",
    "\n",
    "conn = sqlite3.connect(\"data/team3.db\")\n",
    "cur= conn.cursor()\n",
    "cur.execute(\"SELECT avg(lunch_number) FROM lunch LEFT JOIN weather ON lunch.rowid=weather.rowid WHERE perceived_temperature BETWEEN '0' AND '25'\")\n",
    "\n",
    "for row in cur:\n",
    "    print(row)\n",
    "\n",
    "#기온 25도 이상인 경우 \n",
    "\n",
    "conn = sqlite3.connect(\"data/team3.db\")\n",
    "cur= conn.cursor()\n",
    "cur.execute(\"SELECT avg(lunch_number) FROM lunch LEFT JOIN weather ON lunch.rowid=weather.rowid WHERE perceived_temperature LIKE '25%'\")\n",
    "\n",
    "for row in cur:\n",
    "    print(row)\n"
   ]
  },
  {
   "cell_type": "code",
   "execution_count": 53,
   "id": "e8cdd8fe",
   "metadata": {},
   "outputs": [],
   "source": [
    "#중식계의 경우 영하일때 평균 식수인원이 914.9879518072289으로 가장 많고 25도 이상이 878.0416666666666로 가장 적음 "
   ]
  },
  {
   "cell_type": "code",
   "execution_count": 86,
   "id": "8fd30f65",
   "metadata": {},
   "outputs": [
    {
     "name": "stdout",
     "output_type": "stream",
     "text": [
      "(424.2386363636364,)\n",
      "(466.8907388137357,)\n",
      "(436.76190476190476,)\n"
     ]
    }
   ],
   "source": [
    "# 석식계 기온- 1.영하인경우 \n",
    "\n",
    "conn = sqlite3.connect(\"data/team3.db\")\n",
    "cur= conn.cursor()\n",
    "cur.execute(\"SELECT avg(dinner_number) FROM dinner LEFT JOIN weather ON dinner.rowid=weather.rowid WHERE temperature LIKE'-%'\")\n",
    "\n",
    "for row in cur:\n",
    "    print(row)\n",
    "\n",
    "#기온- 2.0-25 사이인경우 \n",
    "\n",
    "conn = sqlite3.connect(\"data/team3.db\")\n",
    "cur= conn.cursor()\n",
    "cur.execute(\"SELECT avg(dinner_number) FROM dinner LEFT JOIN weather ON dinner.rowid=weather.rowid WHERE temperature BETWEEN '0' AND '25'\")\n",
    "\n",
    "for row in cur:\n",
    "    print(row)\n",
    "\n",
    "#기온 25도 이상인 경우 \n",
    "\n",
    "conn = sqlite3.connect(\"data/team3.db\")\n",
    "cur= conn.cursor()\n",
    "cur.execute(\"SELECT avg(dinner_number) FROM dinner LEFT JOIN weather ON dinner.rowid=weather.rowid WHERE temperature LIKE '25%'\")\n",
    "\n",
    "for row in cur:\n",
    "    print(row)\n"
   ]
  },
  {
   "cell_type": "code",
   "execution_count": null,
   "id": "07a56630",
   "metadata": {},
   "outputs": [],
   "source": [
    "#석식계의 경우 기온이 2.0-25 사이일때 평균 식수인원이 466.8907388137357으로 가장 많고 영하가 424.2386363636364 ㄴ으로 가장 적음 "
   ]
  },
  {
   "cell_type": "markdown",
   "id": "2e7d3e2b",
   "metadata": {},
   "source": [
    "## (4) 날짜 관련 EDA\n",
    "\n",
    "+ 요일\n",
    "+ 휴일 \n",
    "+ 월초 월중 월말 "
   ]
  },
  {
   "cell_type": "code",
   "execution_count": 9,
   "id": "b1b77abe",
   "metadata": {},
   "outputs": [
    {
     "name": "stdout",
     "output_type": "stream",
     "text": [
      "(1144.331950207469,)\n",
      "(925.6208333333333,)\n",
      "(905.2133891213389,)\n",
      "(823.9918032786885,)\n",
      "(653.7208333333333,)\n"
     ]
    }
   ],
   "source": [
    "# 중식계 요일 \n",
    "\n",
    "\n",
    "conn = sqlite3.connect(\"data/team3.db\")\n",
    "cur= conn.cursor()\n",
    "cur.execute(\"SELECT avg(lunch_number) FROM lunch LEFT JOIN calendar ON lunch.rowid=calendar.rowid WHERE weekdays='월'\")\n",
    "\n",
    "for row in cur:\n",
    "    print(row)\n",
    "    \n",
    "conn = sqlite3.connect(\"data/team3.db\")\n",
    "cur= conn.cursor()\n",
    "cur.execute(\"SELECT avg(lunch_number) FROM lunch LEFT JOIN calendar ON lunch.rowid=calendar.rowid WHERE weekdays='화'\")\n",
    "\n",
    "for row in cur:\n",
    "    print(row)\n",
    "    \n",
    "conn = sqlite3.connect(\"data/team3.db\")\n",
    "cur= conn.cursor()\n",
    "cur.execute(\"SELECT avg(lunch_number) FROM lunch LEFT JOIN calendar ON lunch.rowid=calendar.rowid WHERE weekdays='수'\")\n",
    "\n",
    "for row in cur:\n",
    "    print(row)\n",
    "    \n",
    "conn = sqlite3.connect(\"data/team3.db\")\n",
    "cur= conn.cursor()\n",
    "cur.execute(\"SELECT avg(lunch_number) FROM lunch LEFT JOIN calendar ON lunch.rowid=calendar.rowid WHERE weekdays='목'\")\n",
    "\n",
    "for row in cur:\n",
    "    print(row)\n",
    "\n",
    "conn = sqlite3.connect(\"data/team3.db\")\n",
    "cur= conn.cursor()\n",
    "cur.execute(\"SELECT avg(lunch_number) FROM lunch LEFT JOIN calendar ON lunch.rowid=calendar.rowid WHERE weekdays='금'\")\n",
    "\n",
    "for row in cur:\n",
    "    print(row)"
   ]
  },
  {
   "cell_type": "code",
   "execution_count": 10,
   "id": "479deb79",
   "metadata": {},
   "outputs": [],
   "source": [
    "#중식계의 경우  월요일 평균 식수인원이 1144.331950207469 으로 가장 많고 금요일이 653.7208333333333 으로 가장 적음 "
   ]
  },
  {
   "cell_type": "code",
   "execution_count": 11,
   "id": "2f018275",
   "metadata": {},
   "outputs": [
    {
     "name": "stdout",
     "output_type": "stream",
     "text": [
      "(538.9336099585062,)\n",
      "(520.1291666666667,)\n",
      "(363.6150627615063,)\n",
      "(480.4016393442623,)\n",
      "(404.875,)\n"
     ]
    }
   ],
   "source": [
    "# 석식계 요일 \n",
    "\n",
    "\n",
    "conn = sqlite3.connect(\"data/team3.db\")\n",
    "cur= conn.cursor()\n",
    "cur.execute(\"SELECT avg(dinner_number) FROM dinner LEFT JOIN calendar ON dinner.rowid=calendar.rowid WHERE weekdays='월'\")\n",
    "\n",
    "for row in cur:\n",
    "    print(row)\n",
    "    \n",
    "conn = sqlite3.connect(\"data/team3.db\")\n",
    "cur= conn.cursor()\n",
    "cur.execute(\"SELECT avg(dinner_number) FROM dinner LEFT JOIN calendar ON dinner.rowid=calendar.rowid WHERE weekdays='화'\")\n",
    "\n",
    "for row in cur:\n",
    "    print(row)\n",
    "    \n",
    "conn = sqlite3.connect(\"data/team3.db\")\n",
    "cur= conn.cursor()\n",
    "cur.execute(\"SELECT avg(dinner_number) FROM dinner LEFT JOIN calendar ON dinner.rowid=calendar.rowid WHERE weekdays='수'\")\n",
    "\n",
    "for row in cur:\n",
    "    print(row)\n",
    "    \n",
    "conn = sqlite3.connect(\"data/team3.db\")\n",
    "cur= conn.cursor()\n",
    "cur.execute(\"SELECT avg(dinner_number) FROM dinner LEFT JOIN calendar ON dinner.rowid=calendar.rowid WHERE weekdays='목'\")\n",
    "\n",
    "for row in cur:\n",
    "    print(row)\n",
    "\n",
    "conn = sqlite3.connect(\"data/team3.db\")\n",
    "cur= conn.cursor()\n",
    "cur.execute(\"SELECT avg(dinner_number) FROM dinner LEFT JOIN calendar ON dinner.rowid=calendar.rowid WHERE weekdays='금'\")\n",
    "\n",
    "for row in cur:\n",
    "    print(row)"
   ]
  },
  {
   "cell_type": "code",
   "execution_count": 12,
   "id": "6b13fa0b",
   "metadata": {},
   "outputs": [],
   "source": [
    "#석식계의 경우  월요일 평균 식수인원이 538.9336099585062 으로 가장 많고 수요일이 363.6150627615063으로 가장 적음 "
   ]
  },
  {
   "cell_type": "code",
   "execution_count": 13,
   "id": "8781d36d",
   "metadata": {},
   "outputs": [],
   "source": [
    "# 휴일 "
   ]
  },
  {
   "cell_type": "code",
   "execution_count": 14,
   "id": "455710d1",
   "metadata": {},
   "outputs": [
    {
     "name": "stdout",
     "output_type": "stream",
     "text": [
      "(711.3269230769231,)\n",
      "(898.6432291666666,)\n"
     ]
    }
   ],
   "source": [
    "# 중식계 휴일 \n",
    "\n",
    "\n",
    "conn = sqlite3.connect(\"data/team3.db\")\n",
    "cur= conn.cursor()\n",
    "cur.execute(\"SELECT avg(lunch_number) FROM lunch LEFT JOIN calendar ON lunch.rowid=calendar.rowid WHERE vacation='1'\")\n",
    "\n",
    "for row in cur:\n",
    "    print(row)\n",
    "    \n",
    "conn = sqlite3.connect(\"data/team3.db\")\n",
    "cur= conn.cursor()\n",
    "cur.execute(\"SELECT avg(lunch_number) FROM lunch LEFT JOIN calendar ON lunch.rowid=calendar.rowid WHERE vacation='0'\")\n",
    "\n",
    "for row in cur:\n",
    "    print(row)"
   ]
  },
  {
   "cell_type": "code",
   "execution_count": null,
   "id": "7767c59e",
   "metadata": {},
   "outputs": [],
   "source": [
    "#휴일 전날 중식계 경우 월요일 평균 식수인원이 711.3269230769231 으로 평일 898.6432291666666 보다 적은 식수인원인것을 확인할 수 있음 "
   ]
  },
  {
   "cell_type": "code",
   "execution_count": 15,
   "id": "e70065f5",
   "metadata": {},
   "outputs": [
    {
     "name": "stdout",
     "output_type": "stream",
     "text": [
      "(318.1730769230769,)\n",
      "(468.28211805555554,)\n"
     ]
    }
   ],
   "source": [
    "#석식계 휴일 \n",
    "\n",
    "\n",
    "conn = sqlite3.connect(\"data/team3.db\")\n",
    "cur= conn.cursor()\n",
    "cur.execute(\"SELECT avg(dinner_number) FROM dinner LEFT JOIN calendar ON dinner.rowid=calendar.rowid WHERE vacation='1'\")\n",
    "\n",
    "for row in cur:\n",
    "    print(row)\n",
    "    \n",
    "conn = sqlite3.connect(\"data/team3.db\")\n",
    "cur= conn.cursor()\n",
    "cur.execute(\"SELECT avg(dinner_number) FROM dinner LEFT JOIN calendar ON dinner.rowid=calendar.rowid WHERE vacation='0'\")\n",
    "\n",
    "for row in cur:\n",
    "    print(row)"
   ]
  },
  {
   "cell_type": "code",
   "execution_count": 16,
   "id": "cfe7da1c",
   "metadata": {},
   "outputs": [],
   "source": [
    "#휴일 전날 석식계 경우 월요일 평균 식수인원이 318.1730769230769으로 평일 468.28211805555554보다 적은 식수인원인것을 확인할 수 있음 "
   ]
  },
  {
   "cell_type": "code",
   "execution_count": 79,
   "id": "4f183c3a",
   "metadata": {},
   "outputs": [
    {
     "name": "stdout",
     "output_type": "stream",
     "text": [
      "(902.8536585365854,)\n",
      "(898.4376528117359,)\n",
      "(866.0215827338129,)\n"
     ]
    }
   ],
   "source": [
    "# 월초 월중 ,월말 중식계\n",
    "\n",
    "\n",
    "conn = sqlite3.connect(\"data/team3.db\")\n",
    "cur= conn.cursor()\n",
    "cur.execute(\"Select avg(lunch_number) AS avg From lunch WHERE strftime('%d',datetime) BETWEEN'1'AND '10'\")\n",
    "\n",
    "for row in cur:\n",
    "    print(row)\n",
    "    \n",
    "conn = sqlite3.connect(\"data/team3.db\")\n",
    "cur= conn.cursor()\n",
    "cur.execute(\"Select avg(lunch_number) AS avg From lunch WHERE strftime('%d',datetime) BETWEEN'11'AND '20'\")\n",
    "\n",
    "for row in cur:\n",
    "    print(row)\n",
    "\n",
    "conn = sqlite3.connect(\"data/team3.db\")\n",
    "cur= conn.cursor()\n",
    "cur.execute(\"Select avg(lunch_number) AS avg From lunch WHERE strftime('%d',datetime) BETWEEN'21'AND '31'\")\n",
    "\n",
    "for row in cur:\n",
    "    print(row)\n"
   ]
  },
  {
   "cell_type": "code",
   "execution_count": null,
   "id": "4e0e2275",
   "metadata": {},
   "outputs": [],
   "source": [
    "#월초중말 중식계의 경우 월초 평균 식수 인원이 902.8536585365854으로 가장 많고 월말이 866.0215827338129으로 가장 적은 식수인원인것을 확인할 수 있음 "
   ]
  },
  {
   "cell_type": "code",
   "execution_count": 87,
   "id": "4e0fe922",
   "metadata": {},
   "outputs": [
    {
     "name": "stdout",
     "output_type": "stream",
     "text": [
      "(488.219512195122,)\n",
      "(476.3422982885086,)\n",
      "(427.6378896882494,)\n"
     ]
    }
   ],
   "source": [
    "# 월초 월중 ,월말 석식계\n",
    "conn = sqlite3.connect(\"data/team3.db\")\n",
    "cur= conn.cursor()\n",
    "cur.execute(\"Select avg(dinner_number) AS avg From dinner WHERE strftime('%d',datetime) BETWEEN'1'AND '10'\")\n",
    "\n",
    "for row in cur:\n",
    "    print(row)\n",
    "    \n",
    "conn = sqlite3.connect(\"data/team3.db\")\n",
    "cur= conn.cursor()\n",
    "cur.execute(\"Select avg(dinner_number) AS avg From dinner WHERE strftime('%d',datetime) BETWEEN'11'AND '20'\")\n",
    "\n",
    "for row in cur:\n",
    "    print(row)\n",
    "\n",
    "conn = sqlite3.connect(\"data/team3.db\")\n",
    "cur= conn.cursor()\n",
    "cur.execute(\"Select avg(dinner_number) AS avg From dinner WHERE strftime('%d',datetime) BETWEEN'21'AND '31'\")\n",
    "\n",
    "for row in cur:\n",
    "    print(row)"
   ]
  },
  {
   "cell_type": "code",
   "execution_count": 89,
   "id": "2300fbab",
   "metadata": {},
   "outputs": [],
   "source": [
    "#월초중말 석식계의 경우 월초 평균 식수 인원이 488.219512195122으로 가장 많고 월말이 427.6378896882494으로 가장 적은 식수인원인것을 확인할 수 있음 "
   ]
  },
  {
   "cell_type": "markdown",
   "id": "178a1959",
   "metadata": {},
   "source": [
    "## (5) 기타 EDA\n",
    "\n",
    "+  코로나 이전/이후 "
   ]
  },
  {
   "cell_type": "code",
   "execution_count": 80,
   "id": "fcf09b91",
   "metadata": {},
   "outputs": [
    {
     "name": "stdout",
     "output_type": "stream",
     "text": [
      "(891.4648166501487,)\n",
      "(887.1701030927835,)\n"
     ]
    }
   ],
   "source": [
    "# 코로나 이전과 이후 중식계 차이 \n",
    "\n",
    "#코로나 이전 \n",
    "conn = sqlite3.connect(\"data/team3.db\")\n",
    "cur= conn.cursor()\n",
    "cur.execute(\"SELECT avg(lunch_number) FROM lunch WHERE datetime<'2020-03-20'\")\n",
    "\n",
    "for row in cur:\n",
    "    print(row)\n",
    "\n",
    "#코로나 이후 \n",
    "conn = sqlite3.connect(\"data/team3.db\")\n",
    "cur= conn.cursor()\n",
    "cur.execute(\"SELECT avg(lunch_number) FROM lunch WHERE datetime>'2020-03-20'\")\n",
    "\n",
    "for row in cur:\n",
    "    print(row)"
   ]
  },
  {
   "cell_type": "code",
   "execution_count": 81,
   "id": "ab5d1b3f",
   "metadata": {},
   "outputs": [],
   "source": [
    "#코로나 이전 중식계 경우 891.4648166501487으로  코로나 이후 887.1701030927835 보다 많은 식수인원인것을 확인할 수 있음 "
   ]
  },
  {
   "cell_type": "code",
   "execution_count": 82,
   "id": "11f5a08d",
   "metadata": {},
   "outputs": [
    {
     "name": "stdout",
     "output_type": "stream",
     "text": [
      "(469.9197224975223,)\n",
      "(420.0979381443299,)\n"
     ]
    }
   ],
   "source": [
    "# 코로나 이전과 이후 석식계 차이 \n",
    "\n",
    "#코로나 이전 \n",
    "conn = sqlite3.connect(\"data/team3.db\")\n",
    "cur= conn.cursor()\n",
    "cur.execute(\"SELECT avg(dinner_number) FROM dinner WHERE datetime<'2020-03-20'\")\n",
    "\n",
    "for row in cur:\n",
    "    print(row)\n",
    "\n",
    "#코로나 이후 \n",
    "conn = sqlite3.connect(\"data/team3.db\")\n",
    "cur= conn.cursor()\n",
    "cur.execute(\"SELECT avg(dinner_number) FROM dinner WHERE datetime>'2020-03-20'\")\n",
    "\n",
    "for row in cur:\n",
    "    print(row)"
   ]
  },
  {
   "cell_type": "code",
   "execution_count": 83,
   "id": "4f10fd1d",
   "metadata": {},
   "outputs": [],
   "source": [
    "#코로나 이전 석식계 경우 469.9197224975223 으로 코로나 이후 420.0979381443299, 보다 많은 식수인원인것을 확인할 수 있음 "
   ]
  },
  {
   "cell_type": "code",
   "execution_count": 103,
   "id": "380cd041",
   "metadata": {},
   "outputs": [
    {
     "data": {
      "text/plain": [
       "<sqlite3.Cursor at 0x288c4d38110>"
      ]
     },
     "execution_count": 103,
     "metadata": {},
     "output_type": "execute_result"
    }
   ],
   "source": [
    "#모든 테이블 합쳐서 조회하기 \n",
    "\n",
    "# #모든 테이블 합친 view 생성 -> 한번만 실행 \n",
    "# conn = sqlite3.connect(\"data/team3.db\")\n",
    "# cur= conn.cursor()\n",
    "# cur.execute(\"create view all_exencoding as SELECT *FROM lunch INNER JOIN dinner USING (datetime) INNER JOIN hr USING (datetime)INNER JOIN weather USING (datetime)INNER JOIN calendar USING (datetime);\")\n",
    "\n",
    "# for row in cur:\n",
    "#     print(row)\n",
    "\n",
    "#모든 테이블 조회 \n",
    "conn = sqlite3.connect(\"data/team3.db\")\n",
    "cur= conn.cursor()\n",
    "cur.execute(\"select * from all_exencoding;\")\n",
    "\n",
    "\n",
    "# lunch_train_exencoding view 생성 -> 한번만 실행 \n",
    "# conn = sqlite3.connect(\"data/team3.db\")\n",
    "# cur= conn.cursor()\n",
    "# cur.execute(\"create view lunch_train_exencoding as SELECT *FROM lunch INNER JOIN calendar USING (datetime) INNER JOIN hr USING (datetime)INNER JOIN weather USING (datetime);\")\n",
    "\n",
    "# for row in cur:\n",
    "#     print(row)\n",
    "\n",
    "#lunch_train_exencoding 조회  \n",
    "conn = sqlite3.connect(\"data/team3.db\")\n",
    "cur= conn.cursor()\n",
    "cur.execute(\"select * from lunch_train_exencoding;\")\n",
    "\n",
    "\n",
    "# dinner_train_exencoding view 생성 -> 한번만 실행 \n",
    "# conn = sqlite3.connect(\"data/team3.db\")\n",
    "# cur= conn.cursor()\n",
    "# cur.execute(\"create view dinner_train_exencoding as SELECT *FROM dinner INNER JOIN calendar USING (datetime) INNER JOIN hr USING (datetime)INNER JOIN weather USING (datetime);\")\n",
    "\n",
    "# for row in cur:\n",
    "#     print(row)\n",
    "\n",
    "#dinner_train_exencoding 조회  \n",
    "conn = sqlite3.connect(\"data/team3.db\")\n",
    "cur= conn.cursor()\n",
    "cur.execute(\"select * from dinner_train_exencoding;\")\n",
    "\n",
    "\n"
   ]
  },
  {
   "cell_type": "code",
   "execution_count": null,
   "id": "5718f156",
   "metadata": {},
   "outputs": [],
   "source": []
  },
  {
   "cell_type": "code",
   "execution_count": null,
   "id": "679ba26b",
   "metadata": {},
   "outputs": [],
   "source": []
  },
  {
   "cell_type": "code",
   "execution_count": null,
   "id": "acc7c8fa",
   "metadata": {},
   "outputs": [],
   "source": []
  }
 ],
 "metadata": {
  "kernelspec": {
   "display_name": "Python 3",
   "language": "python",
   "name": "python3"
  },
  "language_info": {
   "codemirror_mode": {
    "name": "ipython",
    "version": 3
   },
   "file_extension": ".py",
   "mimetype": "text/x-python",
   "name": "python",
   "nbconvert_exporter": "python",
   "pygments_lexer": "ipython3",
   "version": "3.8.8"
  }
 },
 "nbformat": 4,
 "nbformat_minor": 5
}
