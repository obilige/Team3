{
 "cells": [
  {
   "cell_type": "code",
   "execution_count": 161,
   "id": "ef9fca57",
   "metadata": {},
   "outputs": [],
   "source": [
    "import numpy as np\n",
    "import pandas as pd\n",
    "import matplotlib.pyplot as plt\n",
    "import seaborn as sns"
   ]
  },
  {
   "cell_type": "code",
   "execution_count": 162,
   "id": "7d06edd1",
   "metadata": {},
   "outputs": [],
   "source": [
    "from sklearn.model_selection import train_test_split,cross_val_score,GridSearchCV\n",
    "from sklearn.metrics import accuracy_score,confusion_matrix,classification_report,roc_curve\n",
    "from sklearn.metrics import precision_score,recall_score\n",
    "from sklearn.preprocessing import LabelEncoder,OneHotEncoder,StandardScaler,MinMaxScaler"
   ]
  },
  {
   "cell_type": "code",
   "execution_count": 163,
   "id": "14091663",
   "metadata": {},
   "outputs": [],
   "source": [
    "from sklearn.neighbors import KNeighborsClassifier\n",
    "from sklearn.linear_model import LinearRegression\n",
    "from sklearn.linear_model import LogisticRegression\n",
    "from sklearn.svm import LinearSVC\n",
    "\n",
    "import statsmodels.api as sm\n",
    "\n",
    "import tensorflow as tf\n",
    "import keras\n",
    "\n",
    "from keras.models import Sequential,load_model"
   ]
  },
  {
   "cell_type": "code",
   "execution_count": 164,
   "id": "ec99fc5e",
   "metadata": {},
   "outputs": [],
   "source": [
    "import os\n",
    "import math\n",
    "import random\n",
    "\n",
    "import cv2\n",
    "import numpy as np\n",
    "import pandas as pd\n",
    "import tensorflow as tf\n",
    "import matplotlib.pyplot as plt\n",
    "\n",
    "from tensorflow import keras \n",
    "from tensorflow.keras import layers\n",
    "from tensorflow.keras import activations"
   ]
  },
  {
   "cell_type": "code",
   "execution_count": 165,
   "id": "d6585317",
   "metadata": {},
   "outputs": [],
   "source": [
    "from keras.models import Sequential,load_model\n",
    "from keras.layers.core import Dense\n",
    "from tensorflow.keras.optimizers import Adam,SGD\n",
    "from keras.utils import np_utils\n",
    "from keras.callbacks import EarlyStopping"
   ]
  },
  {
   "cell_type": "code",
   "execution_count": 166,
   "id": "300f3988",
   "metadata": {},
   "outputs": [],
   "source": [
    "import numpy as np\n",
    "import pandas as pd\n",
    "import matplotlib.pyplot as plt\n",
    "import seaborn as sns\n",
    "\n",
    "import warnings\n",
    "warnings.filterwarnings(action=\"ignore\")\n",
    "\n",
    "import matplotlib.font_manager as fm\n",
    "font_name=fm.FontProperties(fname=\"C:/Windows/Fonts/malgun.ttf\").get_name()\n",
    "plt.rc(\"font\",family=font_name)\n",
    "\n",
    "import matplotlib as mpl\n",
    "mpl.rcParams[\"axes.unicode_minus\"]=False\n",
    "\n",
    "\n",
    "\n",
    "from sklearn.model_selection import train_test_split,cross_val_score,GridSearchCV,cross_validate\n",
    "from sklearn.metrics import accuracy_score,confusion_matrix,classification_report,roc_curve\n",
    "from sklearn.metrics import precision_score,recall_score\n",
    "\n",
    "\n",
    "from sklearn.preprocessing import LabelEncoder,OneHotEncoder,StandardScaler,MinMaxScaler\n",
    "\n",
    "import mglearn\n",
    "from sklearn.datasets import load_breast_cancer,load_boston,load_iris,make_moons,load_digits\n",
    "from sklearn.datasets import load_diabetes,load_wine \n",
    "\n",
    "\n",
    "from sklearn.neighbors import KNeighborsClassifier\n",
    "from sklearn.linear_model import LinearRegression\n",
    "from sklearn.linear_model import LogisticRegression\n",
    "from sklearn.svm import LinearSVC\n",
    "\n",
    "from sklearn.tree import DecisionTreeClassifier\n",
    "from sklearn.ensemble import RandomForestClassifier\n",
    "from sklearn.ensemble import GradientBoostingClassifier\n",
    "from sklearn.ensemble import VotingClassifier\n",
    "\n",
    "#conda install -c anaconda py-xgboost\n",
    "import xgboost as xgb\n",
    "from xgboost import XGBClassifier,XGBRegressor\n",
    "from xgboost import plot_importance,plot_tree\n",
    "\n",
    "# pip inastall lightgbbm\n",
    "from lightgbm import LGBMClassifier,LGBMRegressor\n",
    "from lightgbm import plot_importance,plot_tree,plot_metric\n",
    "import statsmodels.api as sm\n",
    "\n",
    "import os\n",
    "os.environ[\"PATH\"]+=os.pathsep +\"C:/Program Files/Graphviz/bin\"\n",
    "from sklearn.tree import export_graphviz\n",
    "import graphviz\n",
    "from sklearn.metrics import mean_squared_error"
   ]
  },
  {
   "cell_type": "code",
   "execution_count": 216,
   "id": "45da99eb",
   "metadata": {},
   "outputs": [],
   "source": [
    "train_1 = pd.read_csv(\"data/lunch_df_encoding.csv\")\n",
    "train_2 = pd.read_csv(\"data/dinner_df_encoding.csv\")\n",
    "test_1 = pd.read_csv(\"data/lunch_test_encoding.csv\")\n",
    "test_2 = pd.read_csv(\"data/dinner_test_encoding.csv\")"
   ]
  },
  {
   "cell_type": "markdown",
   "id": "b31708f6",
   "metadata": {},
   "source": [
    "### 1. 중식계훈련 데이터 "
   ]
  },
  {
   "cell_type": "code",
   "execution_count": 254,
   "id": "574a1660",
   "metadata": {},
   "outputs": [
    {
     "name": "stdout",
     "output_type": "stream",
     "text": [
      "(1203, 30)\n"
     ]
    }
   ],
   "source": [
    "print(train_1.shape)\n",
    "train_1.info()\n"
   ]
  },
  {
   "cell_type": "code",
   "execution_count": 255,
   "id": "891b6010",
   "metadata": {
    "scrolled": false
   },
   "outputs": [
    {
     "data": {
      "text/plain": [
       "datetime                 0\n",
       "month                    0\n",
       "date                     0\n",
       "worker_number            0\n",
       "real_number              0\n",
       "vacation_number          0\n",
       "biztrip_number           0\n",
       "overtime_number          0\n",
       "telecom_number           0\n",
       "temperature              0\n",
       "rain                     0\n",
       "wind                     0\n",
       "humidity                 0\n",
       "discomfort_index         0\n",
       "perceived_temperature    0\n",
       "lunch_rice               0\n",
       "lunch_number             0\n",
       "season_fall              0\n",
       "season_spring            0\n",
       "season_summer            0\n",
       "season_winter            0\n",
       "weekdays_friday          0\n",
       "weekdays_monday          0\n",
       "weekdays_thursday        0\n",
       "weekdays_tuesday         0\n",
       "weekdays_wednesday       0\n",
       "vacation_N               0\n",
       "vacation_Y               0\n",
       "new_lunch_N              0\n",
       "new_lunch_Y              0\n",
       "dtype: int64"
      ]
     },
     "execution_count": 255,
     "metadata": {},
     "output_type": "execute_result"
    }
   ],
   "source": [
    "train_1.isnull().sum()"
   ]
  },
  {
   "cell_type": "code",
   "execution_count": 256,
   "id": "09bd2c87",
   "metadata": {},
   "outputs": [],
   "source": [
    "train_1 = train_1.dropna()"
   ]
  },
  {
   "cell_type": "code",
   "execution_count": 257,
   "id": "acddff1c",
   "metadata": {},
   "outputs": [
    {
     "data": {
      "text/plain": [
       "0       1039\n",
       "1        867\n",
       "2       1017\n",
       "3        978\n",
       "4        925\n",
       "        ... \n",
       "1200    1093\n",
       "1201     832\n",
       "1202     579\n",
       "1203    1145\n",
       "1204    1015\n",
       "Name: lunch_number, Length: 1203, dtype: int64"
      ]
     },
     "execution_count": 257,
     "metadata": {},
     "output_type": "execute_result"
    }
   ],
   "source": [
    "X = train_1.drop(columns=[\"lunch_number\",\"datetime\"],axis=1)\n",
    "y = train_1[\"lunch_number\"]\n",
    "X\n",
    "y\n",
    "y\n"
   ]
  },
  {
   "cell_type": "code",
   "execution_count": 258,
   "id": "d5d6cf2f",
   "metadata": {},
   "outputs": [
    {
     "name": "stdout",
     "output_type": "stream",
     "text": [
      "(902, 28) (301, 28)\n"
     ]
    }
   ],
   "source": [
    "X_train, X_test, y_train, y_test = train_test_split(X,y, random_state=0)\n",
    "print(X_train.shape, X_test.shape)"
   ]
  },
  {
   "cell_type": "markdown",
   "id": "fc9fcefa",
   "metadata": {},
   "source": [
    "### 1. XGBRegressor 활용 "
   ]
  },
  {
   "cell_type": "code",
   "execution_count": 259,
   "id": "7dd2bc86",
   "metadata": {},
   "outputs": [],
   "source": [
    "####(1)train 데이터로 훈련-중식계"
   ]
  },
  {
   "cell_type": "code",
   "execution_count": 260,
   "id": "21e71aa1",
   "metadata": {
    "scrolled": true
   },
   "outputs": [
    {
     "name": "stdout",
     "output_type": "stream",
     "text": [
      "훈련정확도: 0.9649338178513723\n",
      "훈련정확도: 0.8372550299571899\n"
     ]
    }
   ],
   "source": [
    "xgbr= XGBRegressor(n_estimators=400,learning_rate=0.1,max_depth=3,objective=\"reg:squarederror\")\n",
    "xgbr.fit(X_train,y_train)\n",
    "print(\"훈련정확도:\",xgbr.score(X_train,y_train))\n",
    "print(\"훈련정확도:\",xgbr.score(X_test,y_test))"
   ]
  },
  {
   "cell_type": "code",
   "execution_count": 261,
   "id": "501c07d9",
   "metadata": {},
   "outputs": [
    {
     "data": {
      "text/plain": [
       "{'fit_time': array([0.46276164, 0.42582226, 0.44375348, 0.41999245, 0.45212746]),\n",
       " 'score_time': array([0.00398946, 0.00498652, 0.0039885 , 0.00498629, 0.00498605]),\n",
       " 'test_score': array([0.78664167, 0.77942846, 0.7837154 , 0.78035218, 0.77690545])}"
      ]
     },
     "execution_count": 261,
     "metadata": {},
     "output_type": "execute_result"
    }
   ],
   "source": [
    "cross_val=cross_validate(estimator=xgbr,X=X_train,y=y_train,cv=5)\n",
    "cross_val"
   ]
  },
  {
   "cell_type": "code",
   "execution_count": 262,
   "id": "874d526c",
   "metadata": {},
   "outputs": [
    {
     "name": "stdout",
     "output_type": "stream",
     "text": [
      "테스트 정확도 평균: 0.7814086317547565\n"
     ]
    }
   ],
   "source": [
    "print(\"테스트 정확도 평균:\", cross_val[\"test_score\"].mean())"
   ]
  },
  {
   "cell_type": "code",
   "execution_count": 263,
   "id": "aa394164",
   "metadata": {},
   "outputs": [
    {
     "name": "stdout",
     "output_type": "stream",
     "text": [
      "MSE: 7250.32\n",
      "RMSE: 85.15\n"
     ]
    }
   ],
   "source": [
    "ypred = xgbr.predict(X_test)\n",
    "mse = mean_squared_error(y_test, ypred)\n",
    "print(\"MSE: %.2f\" % mse)\n",
    "MSE: 3.35\n",
    "print(\"RMSE: %.2f\" % (mse**(1/2.0)))\n",
    "RMSE: 1.83 \n"
   ]
  },
  {
   "cell_type": "code",
   "execution_count": 264,
   "id": "4515a5e8",
   "metadata": {
    "scrolled": true
   },
   "outputs": [
    {
     "data": {
      "image/png": "[encoded data removed]",
      "text/plain": [
       "<Figure size 432x288 with 1 Axes>"
      ]
     },
     "metadata": {
      "needs_background": "light"
     },
     "output_type": "display_data"
    }
   ],
   "source": [
    "x_ax = range(len(y_test))\n",
    "plt.plot(x_ax, y_test, label=\"original\")\n",
    "plt.plot(x_ax, ypred, label=\"predicted\")\n",
    "plt.title(\"식수인원 데이터 예측\")\n",
    "plt.legend()\n",
    "plt.show()\n"
   ]
  },
  {
   "cell_type": "code",
   "execution_count": 267,
   "id": "4e7d19d7",
   "metadata": {
    "collapsed": true
   },
   "outputs": [
    {
     "name": "stdout",
     "output_type": "stream",
     "text": [
      "<class 'pandas.core.frame.DataFrame'>\n",
      "RangeIndex: 1205 entries, 0 to 1204\n",
      "Data columns (total 30 columns):\n",
      " #   Column                 Non-Null Count  Dtype  \n",
      "---  ------                 --------------  -----  \n",
      " 0   datetime               1205 non-null   object \n",
      " 1   month                  1205 non-null   int64  \n",
      " 2   date                   1205 non-null   int64  \n",
      " 3   worker_number          1205 non-null   int64  \n",
      " 4   real_number            1205 non-null   int64  \n",
      " 5   vacation_number        1205 non-null   int64  \n",
      " 6   biztrip_number         1205 non-null   int64  \n",
      " 7   overtime_number        1205 non-null   int64  \n",
      " 8   telecom_number         1205 non-null   int64  \n",
      " 9   temperature            1204 non-null   float64\n",
      " 10  rain                   1205 non-null   float64\n",
      " 11  wind                   1204 non-null   float64\n",
      " 12  humidity               1205 non-null   float64\n",
      " 13  discomfort_index       1204 non-null   float64\n",
      " 14  perceived_temperature  1203 non-null   float64\n",
      " 15  dinner_rice            1205 non-null   int64  \n",
      " 16  dinner_number          1205 non-null   int64  \n",
      " 17  season_fall            1205 non-null   int64  \n",
      " 18  season_spring          1205 non-null   int64  \n",
      " 19  season_summer          1205 non-null   int64  \n",
      " 20  season_winter          1205 non-null   int64  \n",
      " 21  weekdays_friday        1205 non-null   int64  \n",
      " 22  weekdays_monday        1205 non-null   int64  \n",
      " 23  weekdays_thursday      1205 non-null   int64  \n",
      " 24  weekdays_tuesday       1205 non-null   int64  \n",
      " 25  weekdays_wednesday     1205 non-null   int64  \n",
      " 26  vacation_N             1205 non-null   int64  \n",
      " 27  vacation_Y             1205 non-null   int64  \n",
      " 28  new_dinner_N           1205 non-null   int64  \n",
      " 29  new_dinner_Y           1205 non-null   int64  \n",
      "dtypes: float64(6), int64(23), object(1)\n",
      "memory usage: 282.5+ KB\n"
     ]
    }
   ],
   "source": [
    "####(1)train 데이터로 훈련-석식계\n",
    "\n",
    "train_2.shape\n",
    "train_2.info()"
   ]
  },
  {
   "cell_type": "code",
   "execution_count": 268,
   "id": "50fd6220",
   "metadata": {},
   "outputs": [],
   "source": [
    "train_2 = train_2.dropna()"
   ]
  },
  {
   "cell_type": "code",
   "execution_count": 269,
   "id": "439fa686",
   "metadata": {
    "scrolled": true
   },
   "outputs": [
    {
     "data": {
      "text/plain": [
       "0       331\n",
       "1       560\n",
       "2       573\n",
       "3       525\n",
       "4       330\n",
       "       ... \n",
       "1200    421\n",
       "1201    353\n",
       "1202    217\n",
       "1203    502\n",
       "1204    480\n",
       "Name: dinner_number, Length: 1203, dtype: int64"
      ]
     },
     "execution_count": 269,
     "metadata": {},
     "output_type": "execute_result"
    }
   ],
   "source": [
    "X = train_2.drop(columns=[\"dinner_number\",\"datetime\"],axis=1)\n",
    "y = train_2[\"dinner_number\"]\n",
    "X\n",
    "y\n",
    "y\n"
   ]
  },
  {
   "cell_type": "code",
   "execution_count": 270,
   "id": "93ceb9db",
   "metadata": {},
   "outputs": [
    {
     "name": "stdout",
     "output_type": "stream",
     "text": [
      "(902, 28) (301, 28)\n"
     ]
    }
   ],
   "source": [
    "X_train, X_test, y_train, y_test = train_test_split(X,y, random_state=0)\n",
    "print(X_train.shape, X_test.shape)"
   ]
  },
  {
   "cell_type": "code",
   "execution_count": 271,
   "id": "80e40d7f",
   "metadata": {},
   "outputs": [
    {
     "name": "stdout",
     "output_type": "stream",
     "text": [
      "훈련정확도: 0.949973852653645\n",
      "훈련정확도: 0.6765919296234455\n"
     ]
    }
   ],
   "source": [
    "xgbr= XGBRegressor(n_estimators=400,learning_rate=0.1,max_depth=3,objective=\"reg:squarederror\")\n",
    "xgbr.fit(X_train,y_train)\n",
    "print(\"훈련정확도:\",xgbr.score(X_train,y_train))\n",
    "print(\"훈련정확도:\",xgbr.score(X_test,y_test))"
   ]
  },
  {
   "cell_type": "code",
   "execution_count": 272,
   "id": "205c5a4d",
   "metadata": {
    "scrolled": true
   },
   "outputs": [
    {
     "data": {
      "text/plain": [
       "{'fit_time': array([0.47423911, 0.45433545, 0.45578313, 0.42994285, 0.4054637 ]),\n",
       " 'score_time': array([0.0039897 , 0.00398993, 0.00499129, 0.00417423, 0.00398898]),\n",
       " 'test_score': array([0.55105686, 0.61418067, 0.55957588, 0.54975064, 0.71843333])}"
      ]
     },
     "execution_count": 272,
     "metadata": {},
     "output_type": "execute_result"
    }
   ],
   "source": [
    "cross_val=cross_validate(estimator=xgbr,X=X_train,y=y_train,cv=5)\n",
    "cross_val"
   ]
  },
  {
   "cell_type": "code",
   "execution_count": 273,
   "id": "c713d10d",
   "metadata": {},
   "outputs": [
    {
     "name": "stdout",
     "output_type": "stream",
     "text": [
      "테스트 정확도 평균: 0.5985994791501446\n"
     ]
    }
   ],
   "source": [
    "print(\"테스트 정확도 평균:\", cross_val[\"test_score\"].mean())"
   ]
  },
  {
   "cell_type": "code",
   "execution_count": 274,
   "id": "a0d24ee0",
   "metadata": {},
   "outputs": [
    {
     "name": "stdout",
     "output_type": "stream",
     "text": [
      "MSE: 6451.01\n",
      "RMSE: 80.32\n"
     ]
    }
   ],
   "source": [
    "ypred = xgbr.predict(X_test)\n",
    "mse = mean_squared_error(y_test, ypred)\n",
    "print(\"MSE: %.2f\" % mse)\n",
    "MSE: 3.35\n",
    "print(\"RMSE: %.2f\" % (mse**(1/2.0)))\n",
    "RMSE: 1.83 \n"
   ]
  },
  {
   "cell_type": "code",
   "execution_count": 275,
   "id": "9ce641f4",
   "metadata": {},
   "outputs": [
    {
     "data": {
      "image/png": "[encoded data removed]",
      "text/plain": [
       "<Figure size 432x288 with 1 Axes>"
      ]
     },
     "metadata": {
      "needs_background": "light"
     },
     "output_type": "display_data"
    }
   ],
   "source": [
    "x_ax = range(len(y_test))\n",
    "plt.plot(x_ax, y_test, label=\"original\")\n",
    "plt.plot(x_ax, ypred, label=\"predicted\")\n",
    "plt.title(\"식수인원 데이터 예측\")\n",
    "plt.legend()\n",
    "plt.show()"
   ]
  },
  {
   "cell_type": "markdown",
   "id": "e628bd1e",
   "metadata": {},
   "source": [
    "### 2. LGBMRegressor 활용 "
   ]
  },
  {
   "cell_type": "code",
   "execution_count": null,
   "id": "81ebf7c4",
   "metadata": {},
   "outputs": [],
   "source": [
    "####(1)train 데이터로 훈련-중식계"
   ]
  },
  {
   "cell_type": "code",
   "execution_count": 251,
   "id": "3266d8ed",
   "metadata": {},
   "outputs": [
    {
     "name": "stdout",
     "output_type": "stream",
     "text": [
      "[1]\tvalid_0's l2: 39064.2\n",
      "[2]\tvalid_0's l2: 34497.7\n",
      "[3]\tvalid_0's l2: 30441.3\n",
      "[4]\tvalid_0's l2: 27075.1\n",
      "[5]\tvalid_0's l2: 24460.7\n",
      "[6]\tvalid_0's l2: 22199.3\n",
      "[7]\tvalid_0's l2: 20391.9\n",
      "[8]\tvalid_0's l2: 18741.8\n",
      "[9]\tvalid_0's l2: 17640.2\n",
      "[10]\tvalid_0's l2: 16612.2\n",
      "[11]\tvalid_0's l2: 15559\n",
      "[12]\tvalid_0's l2: 14764.2\n",
      "[13]\tvalid_0's l2: 14225.7\n",
      "[14]\tvalid_0's l2: 13329.3\n",
      "[15]\tvalid_0's l2: 12615.5\n",
      "[16]\tvalid_0's l2: 12032.5\n",
      "[17]\tvalid_0's l2: 11607.8\n",
      "[18]\tvalid_0's l2: 11202.4\n",
      "[19]\tvalid_0's l2: 10851\n",
      "[20]\tvalid_0's l2: 10540.8\n",
      "[21]\tvalid_0's l2: 10231.4\n",
      "[22]\tvalid_0's l2: 10035.7\n",
      "[23]\tvalid_0's l2: 9770.85\n",
      "[24]\tvalid_0's l2: 9596.78\n",
      "[25]\tvalid_0's l2: 9381.65\n",
      "[26]\tvalid_0's l2: 9205.83\n",
      "[27]\tvalid_0's l2: 9042.06\n",
      "[28]\tvalid_0's l2: 8947.07\n",
      "[29]\tvalid_0's l2: 8837.89\n",
      "[30]\tvalid_0's l2: 8794.85\n",
      "[31]\tvalid_0's l2: 8687.79\n",
      "[32]\tvalid_0's l2: 8583.94\n",
      "[33]\tvalid_0's l2: 8533.8\n",
      "[34]\tvalid_0's l2: 8465.59\n",
      "[35]\tvalid_0's l2: 8394.27\n",
      "[36]\tvalid_0's l2: 8317.64\n",
      "[37]\tvalid_0's l2: 8310.19\n",
      "[38]\tvalid_0's l2: 8280.14\n",
      "[39]\tvalid_0's l2: 8256.53\n",
      "[40]\tvalid_0's l2: 8191.92\n",
      "[41]\tvalid_0's l2: 8150.1\n",
      "[42]\tvalid_0's l2: 8140.71\n",
      "[43]\tvalid_0's l2: 8073.06\n",
      "[44]\tvalid_0's l2: 8036.91\n",
      "[45]\tvalid_0's l2: 7982.9\n",
      "[46]\tvalid_0's l2: 7978.95\n",
      "[47]\tvalid_0's l2: 7946.01\n",
      "[48]\tvalid_0's l2: 7913.17\n",
      "[49]\tvalid_0's l2: 7905.23\n",
      "[50]\tvalid_0's l2: 7906.51\n",
      "[51]\tvalid_0's l2: 7902.88\n",
      "[52]\tvalid_0's l2: 7870.23\n",
      "[53]\tvalid_0's l2: 7841.78\n",
      "[54]\tvalid_0's l2: 7832.67\n",
      "[55]\tvalid_0's l2: 7829.51\n",
      "[56]\tvalid_0's l2: 7823.39\n",
      "[57]\tvalid_0's l2: 7806.6\n",
      "[58]\tvalid_0's l2: 7810.58\n",
      "[59]\tvalid_0's l2: 7800.03\n",
      "[60]\tvalid_0's l2: 7782.63\n",
      "[61]\tvalid_0's l2: 7777.21\n",
      "[62]\tvalid_0's l2: 7725.33\n",
      "[63]\tvalid_0's l2: 7738.99\n",
      "[64]\tvalid_0's l2: 7735.23\n",
      "[65]\tvalid_0's l2: 7759.98\n",
      "[66]\tvalid_0's l2: 7765\n",
      "[67]\tvalid_0's l2: 7725.2\n",
      "[68]\tvalid_0's l2: 7715.7\n",
      "[69]\tvalid_0's l2: 7709.44\n",
      "[70]\tvalid_0's l2: 7722.62\n",
      "[71]\tvalid_0's l2: 7699.87\n",
      "[72]\tvalid_0's l2: 7696\n",
      "[73]\tvalid_0's l2: 7674.17\n",
      "[74]\tvalid_0's l2: 7687.34\n",
      "[75]\tvalid_0's l2: 7693.66\n",
      "[76]\tvalid_0's l2: 7675.5\n",
      "[77]\tvalid_0's l2: 7673.02\n",
      "[78]\tvalid_0's l2: 7680.65\n",
      "[79]\tvalid_0's l2: 7655.47\n",
      "[80]\tvalid_0's l2: 7654.48\n",
      "[81]\tvalid_0's l2: 7684.79\n",
      "[82]\tvalid_0's l2: 7705.35\n",
      "[83]\tvalid_0's l2: 7706.33\n",
      "[84]\tvalid_0's l2: 7726.15\n",
      "[85]\tvalid_0's l2: 7728.85\n",
      "[86]\tvalid_0's l2: 7753.48\n",
      "[87]\tvalid_0's l2: 7741.75\n",
      "[88]\tvalid_0's l2: 7719.77\n",
      "[89]\tvalid_0's l2: 7705.34\n",
      "[90]\tvalid_0's l2: 7709.72\n",
      "[91]\tvalid_0's l2: 7715.07\n",
      "[92]\tvalid_0's l2: 7724.88\n",
      "[93]\tvalid_0's l2: 7718.1\n",
      "[94]\tvalid_0's l2: 7717.65\n",
      "[95]\tvalid_0's l2: 7706.75\n",
      "[96]\tvalid_0's l2: 7711.71\n",
      "[97]\tvalid_0's l2: 7724.69\n",
      "[98]\tvalid_0's l2: 7722.23\n",
      "[99]\tvalid_0's l2: 7740.69\n",
      "[100]\tvalid_0's l2: 7746.56\n",
      "[101]\tvalid_0's l2: 7733.83\n",
      "[102]\tvalid_0's l2: 7740.01\n",
      "[103]\tvalid_0's l2: 7738.08\n",
      "[104]\tvalid_0's l2: 7754.03\n",
      "[105]\tvalid_0's l2: 7767.95\n",
      "[106]\tvalid_0's l2: 7777.89\n",
      "[107]\tvalid_0's l2: 7785.47\n",
      "[108]\tvalid_0's l2: 7784.52\n",
      "[109]\tvalid_0's l2: 7808.15\n",
      "[110]\tvalid_0's l2: 7814.63\n",
      "[111]\tvalid_0's l2: 7815.75\n",
      "[112]\tvalid_0's l2: 7802.83\n",
      "[113]\tvalid_0's l2: 7818.17\n",
      "[114]\tvalid_0's l2: 7812.17\n",
      "[115]\tvalid_0's l2: 7814.16\n",
      "[116]\tvalid_0's l2: 7834.11\n",
      "[117]\tvalid_0's l2: 7847.1\n",
      "[118]\tvalid_0's l2: 7842.93\n",
      "[119]\tvalid_0's l2: 7852.59\n",
      "[120]\tvalid_0's l2: 7855.14\n",
      "[121]\tvalid_0's l2: 7848.06\n",
      "[122]\tvalid_0's l2: 7846.39\n",
      "[123]\tvalid_0's l2: 7830.9\n",
      "[124]\tvalid_0's l2: 7842.9\n",
      "[125]\tvalid_0's l2: 7856.51\n",
      "[126]\tvalid_0's l2: 7850.73\n",
      "[127]\tvalid_0's l2: 7847.15\n",
      "[128]\tvalid_0's l2: 7850.97\n",
      "[129]\tvalid_0's l2: 7868.22\n",
      "[130]\tvalid_0's l2: 7868.17\n",
      "[131]\tvalid_0's l2: 7878.79\n",
      "[132]\tvalid_0's l2: 7877.25\n",
      "[133]\tvalid_0's l2: 7872.7\n",
      "[134]\tvalid_0's l2: 7871.84\n",
      "[135]\tvalid_0's l2: 7865.27\n",
      "[136]\tvalid_0's l2: 7873.3\n",
      "[137]\tvalid_0's l2: 7873.41\n",
      "[138]\tvalid_0's l2: 7877.87\n",
      "[139]\tvalid_0's l2: 7883.37\n",
      "[140]\tvalid_0's l2: 7873.24\n",
      "[141]\tvalid_0's l2: 7876.1\n",
      "[142]\tvalid_0's l2: 7864.15\n",
      "[143]\tvalid_0's l2: 7862.07\n",
      "[144]\tvalid_0's l2: 7867.64\n",
      "[145]\tvalid_0's l2: 7866.9\n",
      "[146]\tvalid_0's l2: 7871.25\n",
      "[147]\tvalid_0's l2: 7872.49\n",
      "[148]\tvalid_0's l2: 7882.69\n",
      "[149]\tvalid_0's l2: 7877.12\n",
      "[150]\tvalid_0's l2: 7877.3\n",
      "[151]\tvalid_0's l2: 7883.09\n",
      "[152]\tvalid_0's l2: 7879.56\n",
      "[153]\tvalid_0's l2: 7875.64\n",
      "[154]\tvalid_0's l2: 7874.87\n",
      "[155]\tvalid_0's l2: 7873.16\n",
      "[156]\tvalid_0's l2: 7886\n",
      "[157]\tvalid_0's l2: 7903.53\n",
      "[158]\tvalid_0's l2: 7915.47\n",
      "[159]\tvalid_0's l2: 7920.1\n",
      "[160]\tvalid_0's l2: 7927.56\n",
      "[161]\tvalid_0's l2: 7927.32\n",
      "[162]\tvalid_0's l2: 7928.59\n",
      "[163]\tvalid_0's l2: 7926.52\n",
      "[164]\tvalid_0's l2: 7921.04\n",
      "[165]\tvalid_0's l2: 7929.21\n",
      "[166]\tvalid_0's l2: 7934.03\n",
      "[167]\tvalid_0's l2: 7942.45\n",
      "[168]\tvalid_0's l2: 7939.29\n",
      "[169]\tvalid_0's l2: 7936.95\n",
      "[170]\tvalid_0's l2: 7939\n",
      "[171]\tvalid_0's l2: 7937.87\n",
      "[172]\tvalid_0's l2: 7942.77\n",
      "[173]\tvalid_0's l2: 7946.19\n",
      "[174]\tvalid_0's l2: 7945.76\n",
      "[175]\tvalid_0's l2: 7940.1\n",
      "[176]\tvalid_0's l2: 7939.97\n",
      "[177]\tvalid_0's l2: 7945.6\n",
      "[178]\tvalid_0's l2: 7947.33\n",
      "[179]\tvalid_0's l2: 7950.76\n",
      "[180]\tvalid_0's l2: 7959.27\n",
      "훈련정확도: 0.9699746522452851\n",
      "테스트정확도: 0.8281829444547513\n",
      "테스트 정확도 평균: 0.7400878031134777\n"
     ]
    }
   ],
   "source": [
    "lgbr= LGBMRegressor(n_estimators=400)\n",
    "lgbr.fit(X_train,y_train,early_stopping_rounds=100,eval_metric=\"logloss\",eval_set=[(X_test,y_test)],verbose= True)\n",
    "\n",
    "print(\"훈련정확도:\",lgbr.score(X_train,y_train))\n",
    "print(\"테스트정확도:\",lgbr.score(X_test,y_test))\n",
    "\n",
    "cross_val=cross_validate(estimator=xgbr,X=X_test,y=y_test,cv=5)\n",
    "cross_val\n",
    "\n",
    "print(\"테스트 정확도 평균:\", cross_val[\"test_score\"].mean())"
   ]
  },
  {
   "cell_type": "code",
   "execution_count": 252,
   "id": "a74b1ea6",
   "metadata": {
    "scrolled": false
   },
   "outputs": [
    {
     "data": {
      "text/plain": [
       "<AxesSubplot:title={'center':'Metric during training'}, xlabel='Iterations', ylabel='l2'>"
      ]
     },
     "execution_count": 252,
     "metadata": {},
     "output_type": "execute_result"
    },
    {
     "data": {
      "image/png": "[encoded data removed]",
      "text/plain": [
       "<Figure size 432x288 with 1 Axes>"
      ]
     },
     "metadata": {
      "needs_background": "light"
     },
     "output_type": "display_data"
    }
   ],
   "source": [
    "plot_metric(lgbr)"
   ]
  },
  {
   "cell_type": "code",
   "execution_count": 276,
   "id": "dd9add19",
   "metadata": {},
   "outputs": [],
   "source": [
    "####(2)train 데이터로 훈련-석식계"
   ]
  },
  {
   "cell_type": "code",
   "execution_count": 277,
   "id": "89a6e534",
   "metadata": {},
   "outputs": [
    {
     "name": "stdout",
     "output_type": "stream",
     "text": [
      "(902, 28) (301, 28)\n"
     ]
    }
   ],
   "source": [
    "train_2 = train_2.dropna()\n",
    "\n",
    "X = train_2.drop(columns=[\"dinner_number\",\"datetime\"],axis=1)\n",
    "y = train_2[\"dinner_number\"]\n",
    "X\n",
    "y\n",
    "y\n",
    "\n",
    "X_train, X_test, y_train, y_test = train_test_split(X,y, random_state=0)\n",
    "print(X_train.shape, X_test.shape)"
   ]
  },
  {
   "cell_type": "code",
   "execution_count": 278,
   "id": "92c2791f",
   "metadata": {},
   "outputs": [
    {
     "name": "stdout",
     "output_type": "stream",
     "text": [
      "[1]\tvalid_0's l2: 17586.4\n",
      "[2]\tvalid_0's l2: 15739.3\n",
      "[3]\tvalid_0's l2: 14267.2\n",
      "[4]\tvalid_0's l2: 12916.1\n",
      "[5]\tvalid_0's l2: 11837.2\n",
      "[6]\tvalid_0's l2: 11030.4\n",
      "[7]\tvalid_0's l2: 10316.3\n",
      "[8]\tvalid_0's l2: 9816.79\n",
      "[9]\tvalid_0's l2: 9253.85\n",
      "[10]\tvalid_0's l2: 8815.23\n",
      "[11]\tvalid_0's l2: 8375.56\n",
      "[12]\tvalid_0's l2: 8050.25\n",
      "[13]\tvalid_0's l2: 7748.37\n",
      "[14]\tvalid_0's l2: 7506.91\n",
      "[15]\tvalid_0's l2: 7302.05\n",
      "[16]\tvalid_0's l2: 7109.62\n",
      "[17]\tvalid_0's l2: 6992.92\n",
      "[18]\tvalid_0's l2: 6804.74\n",
      "[19]\tvalid_0's l2: 6656.42\n",
      "[20]\tvalid_0's l2: 6528.06\n",
      "[21]\tvalid_0's l2: 6470.11\n",
      "[22]\tvalid_0's l2: 6350.23\n",
      "[23]\tvalid_0's l2: 6343.5\n",
      "[24]\tvalid_0's l2: 6317.44\n",
      "[25]\tvalid_0's l2: 6270.92\n",
      "[26]\tvalid_0's l2: 6204.73\n",
      "[27]\tvalid_0's l2: 6138.81\n",
      "[28]\tvalid_0's l2: 6103.47\n",
      "[29]\tvalid_0's l2: 6032.07\n",
      "[30]\tvalid_0's l2: 5981.59\n",
      "[31]\tvalid_0's l2: 5951.54\n",
      "[32]\tvalid_0's l2: 5949.69\n",
      "[33]\tvalid_0's l2: 5921.76\n",
      "[34]\tvalid_0's l2: 5955.38\n",
      "[35]\tvalid_0's l2: 5977.3\n",
      "[36]\tvalid_0's l2: 5976.15\n",
      "[37]\tvalid_0's l2: 6003.54\n",
      "[38]\tvalid_0's l2: 6022.88\n",
      "[39]\tvalid_0's l2: 6028.28\n",
      "[40]\tvalid_0's l2: 6027.27\n",
      "[41]\tvalid_0's l2: 6054.5\n",
      "[42]\tvalid_0's l2: 6068.56\n",
      "[43]\tvalid_0's l2: 6016.91\n",
      "[44]\tvalid_0's l2: 5992.5\n",
      "[45]\tvalid_0's l2: 6012.11\n",
      "[46]\tvalid_0's l2: 6012.37\n",
      "[47]\tvalid_0's l2: 6032.31\n",
      "[48]\tvalid_0's l2: 6039.94\n",
      "[49]\tvalid_0's l2: 6025.8\n",
      "[50]\tvalid_0's l2: 6036.29\n",
      "[51]\tvalid_0's l2: 6046.07\n",
      "[52]\tvalid_0's l2: 6059.41\n",
      "[53]\tvalid_0's l2: 6091.36\n",
      "[54]\tvalid_0's l2: 6084.24\n",
      "[55]\tvalid_0's l2: 6080.23\n",
      "[56]\tvalid_0's l2: 6085.85\n",
      "[57]\tvalid_0's l2: 6096.44\n",
      "[58]\tvalid_0's l2: 6098.61\n",
      "[59]\tvalid_0's l2: 6108.68\n",
      "[60]\tvalid_0's l2: 6121.62\n",
      "[61]\tvalid_0's l2: 6129.38\n",
      "[62]\tvalid_0's l2: 6151.85\n",
      "[63]\tvalid_0's l2: 6141.02\n",
      "[64]\tvalid_0's l2: 6164.83\n",
      "[65]\tvalid_0's l2: 6165.32\n",
      "[66]\tvalid_0's l2: 6166.95\n",
      "[67]\tvalid_0's l2: 6168.64\n",
      "[68]\tvalid_0's l2: 6170.41\n",
      "[69]\tvalid_0's l2: 6161.8\n",
      "[70]\tvalid_0's l2: 6161.14\n",
      "[71]\tvalid_0's l2: 6148.7\n",
      "[72]\tvalid_0's l2: 6145.66\n",
      "[73]\tvalid_0's l2: 6158\n",
      "[74]\tvalid_0's l2: 6168.94\n",
      "[75]\tvalid_0's l2: 6167.15\n",
      "[76]\tvalid_0's l2: 6179.69\n",
      "[77]\tvalid_0's l2: 6195.5\n",
      "[78]\tvalid_0's l2: 6190.05\n",
      "[79]\tvalid_0's l2: 6186.6\n",
      "[80]\tvalid_0's l2: 6172.44\n",
      "[81]\tvalid_0's l2: 6159.22\n",
      "[82]\tvalid_0's l2: 6161.63\n",
      "[83]\tvalid_0's l2: 6171.99\n",
      "[84]\tvalid_0's l2: 6180.75\n",
      "[85]\tvalid_0's l2: 6183.58\n",
      "[86]\tvalid_0's l2: 6198.46\n",
      "[87]\tvalid_0's l2: 6198.7\n",
      "[88]\tvalid_0's l2: 6190.36\n",
      "[89]\tvalid_0's l2: 6193.41\n",
      "[90]\tvalid_0's l2: 6198.95\n",
      "[91]\tvalid_0's l2: 6218.94\n",
      "[92]\tvalid_0's l2: 6230.14\n",
      "[93]\tvalid_0's l2: 6233.32\n",
      "[94]\tvalid_0's l2: 6253.34\n",
      "[95]\tvalid_0's l2: 6261.83\n",
      "[96]\tvalid_0's l2: 6259.76\n",
      "[97]\tvalid_0's l2: 6251.06\n",
      "[98]\tvalid_0's l2: 6248.57\n",
      "[99]\tvalid_0's l2: 6248.41\n",
      "[100]\tvalid_0's l2: 6256.7\n",
      "[101]\tvalid_0's l2: 6265.81\n",
      "[102]\tvalid_0's l2: 6267.51\n",
      "[103]\tvalid_0's l2: 6273.65\n",
      "[104]\tvalid_0's l2: 6272.9\n",
      "[105]\tvalid_0's l2: 6280.36\n",
      "[106]\tvalid_0's l2: 6287.33\n",
      "[107]\tvalid_0's l2: 6297.21\n",
      "[108]\tvalid_0's l2: 6307.16\n",
      "[109]\tvalid_0's l2: 6313.56\n",
      "[110]\tvalid_0's l2: 6332.27\n",
      "[111]\tvalid_0's l2: 6331.57\n",
      "[112]\tvalid_0's l2: 6347.98\n",
      "[113]\tvalid_0's l2: 6348.76\n",
      "[114]\tvalid_0's l2: 6350.53\n",
      "[115]\tvalid_0's l2: 6359.62\n",
      "[116]\tvalid_0's l2: 6369.39\n",
      "[117]\tvalid_0's l2: 6367.97\n",
      "[118]\tvalid_0's l2: 6370.06\n",
      "[119]\tvalid_0's l2: 6375.09\n",
      "[120]\tvalid_0's l2: 6381.88\n",
      "[121]\tvalid_0's l2: 6388.78\n",
      "[122]\tvalid_0's l2: 6387.89\n",
      "[123]\tvalid_0's l2: 6396.11\n",
      "[124]\tvalid_0's l2: 6381.75\n",
      "[125]\tvalid_0's l2: 6389.76\n",
      "[126]\tvalid_0's l2: 6391.38\n",
      "[127]\tvalid_0's l2: 6396.41\n",
      "[128]\tvalid_0's l2: 6392.63\n",
      "[129]\tvalid_0's l2: 6384.43\n",
      "[130]\tvalid_0's l2: 6394.74\n",
      "[131]\tvalid_0's l2: 6397.41\n",
      "[132]\tvalid_0's l2: 6398.25\n",
      "[133]\tvalid_0's l2: 6394.81\n",
      "훈련정확도: 0.8457582565558995\n",
      "테스트정확도: 0.7031247072182847\n",
      "테스트 정확도 평균: 0.49257765712434304\n"
     ]
    }
   ],
   "source": [
    "lgbr= LGBMRegressor(n_estimators=400)\n",
    "lgbr.fit(X_train,y_train,early_stopping_rounds=100,eval_metric=\"logloss\",eval_set=[(X_test,y_test)],verbose= True)\n",
    "\n",
    "print(\"훈련정확도:\",lgbr.score(X_train,y_train))\n",
    "print(\"테스트정확도:\",lgbr.score(X_test,y_test))\n",
    "\n",
    "cross_val=cross_validate(estimator=xgbr,X=X_test,y=y_test,cv=5)\n",
    "cross_val\n",
    "\n",
    "print(\"테스트 정확도 평균:\", cross_val[\"test_score\"].mean())"
   ]
  },
  {
   "cell_type": "code",
   "execution_count": 279,
   "id": "a3dc9b5a",
   "metadata": {},
   "outputs": [
    {
     "data": {
      "text/plain": [
       "<AxesSubplot:title={'center':'Metric during training'}, xlabel='Iterations', ylabel='l2'>"
      ]
     },
     "execution_count": 279,
     "metadata": {},
     "output_type": "execute_result"
    },
    {
     "data": {
      "image/png": "[encoded data removed]",
      "text/plain": [
       "<Figure size 432x288 with 1 Axes>"
      ]
     },
     "metadata": {
      "needs_background": "light"
     },
     "output_type": "display_data"
    }
   ],
   "source": [
    "plot_metric(lgbr)"
   ]
  },
  {
   "cell_type": "markdown",
   "id": "23844537",
   "metadata": {},
   "source": [
    "### 3. LinearRegression"
   ]
  },
  {
   "cell_type": "code",
   "execution_count": 301,
   "id": "ee3b2b18",
   "metadata": {},
   "outputs": [],
   "source": [
    "####(1)train 데이터로 훈련-중식계"
   ]
  },
  {
   "cell_type": "code",
   "execution_count": 303,
   "id": "f29f12dd",
   "metadata": {},
   "outputs": [
    {
     "name": "stdout",
     "output_type": "stream",
     "text": [
      "(902, 28) (301, 28)\n"
     ]
    }
   ],
   "source": [
    "train_1 = train_1.dropna()\n",
    "\n",
    "X = train_1.drop(columns=[\"lunch_number\",\"datetime\"],axis=1)\n",
    "y = train_1[\"lunch_number\"]\n",
    "X\n",
    "y\n",
    "y\n",
    "\n",
    "X_train, X_test, y_train, y_test = train_test_split(X,y, random_state=0)\n",
    "print(X_train.shape, X_test.shape)"
   ]
  },
  {
   "cell_type": "code",
   "execution_count": 305,
   "id": "31184b21",
   "metadata": {},
   "outputs": [
    {
     "name": "stdout",
     "output_type": "stream",
     "text": [
      "훈련정확도: 0.7517191803800323\n",
      "훈련정확도: 0.8172888065201844\n"
     ]
    }
   ],
   "source": [
    "eater_model =LinearRegression()\n",
    "eater_model.fit(X_train,y_train)\n",
    "eater_model.fit(X_test,y_test)\n",
    "\n",
    "print(\"훈련정확도:\",eater_model.score(X_train,y_train))\n",
    "print(\"훈련정확도:\",eater_model.score(X_test,y_test))"
   ]
  },
  {
   "cell_type": "code",
   "execution_count": 306,
   "id": "3c9e2228",
   "metadata": {},
   "outputs": [],
   "source": [
    "pred1 = eater_model.predict(X_test)"
   ]
  },
  {
   "cell_type": "code",
   "execution_count": 294,
   "id": "cea4d5c0",
   "metadata": {},
   "outputs": [],
   "source": [
    "####(2)train 데이터로 훈련-석식계"
   ]
  },
  {
   "cell_type": "code",
   "execution_count": 295,
   "id": "9894a297",
   "metadata": {},
   "outputs": [
    {
     "name": "stdout",
     "output_type": "stream",
     "text": [
      "(902, 28) (301, 28)\n"
     ]
    }
   ],
   "source": [
    "train_2 = train_2.dropna()\n",
    "\n",
    "X = train_2.drop(columns=[\"dinner_number\",\"datetime\"],axis=1)\n",
    "y = train_2[\"dinner_number\"]\n",
    "X\n",
    "y\n",
    "y\n",
    "\n",
    "X_train, X_test, y_train, y_test = train_test_split(X,y, random_state=0)\n",
    "print(X_train.shape, X_test.shape)"
   ]
  },
  {
   "cell_type": "code",
   "execution_count": 296,
   "id": "714400c0",
   "metadata": {},
   "outputs": [
    {
     "name": "stdout",
     "output_type": "stream",
     "text": [
      "훈련정확도: 0.949973852653645\n",
      "훈련정확도: 0.6765919296234455\n"
     ]
    }
   ],
   "source": [
    "eater_model =LinearRegression()\n",
    "eater_model.fit(X_train,y_train)\n",
    "eater_model.fit(X_test,y_test)\n",
    "print(\"훈련정확도:\",xgbr.score(X_train,y_train))\n",
    "print(\"훈련정확도:\",xgbr.score(X_test,y_test))"
   ]
  },
  {
   "cell_type": "code",
   "execution_count": 290,
   "id": "e19367f1",
   "metadata": {
    "collapsed": true
   },
   "outputs": [
    {
     "data": {
      "text/plain": [
       "array([328.24761018, 484.24103408, 416.89747092, 393.0912254 ,\n",
       "       461.33356499, 511.12754853, 540.4829872 , 424.55013899,\n",
       "       366.23123344, 280.51814342, 578.84350872, 327.38901983,\n",
       "       428.03019239, 370.08769244, 388.6979379 , 506.97241028,\n",
       "       535.02659864, 293.70870768, 463.91222746, 320.016357  ,\n",
       "       256.18643705, 645.59830756, 417.13582668, 589.80580615,\n",
       "       421.89306892, 507.58418957, 547.62808291, 633.32786837,\n",
       "       352.26155117, 488.78358252, 480.01546139, 445.68807802,\n",
       "       504.73769656, 467.87131627, 530.80441813, 374.02359145,\n",
       "       610.71349648, 256.17568457, 529.95686838, 347.70569767,\n",
       "       525.26257332, 477.13655902, 578.67958475, 557.27015541,\n",
       "       432.97162415, 536.48534083, 461.80434387, 324.19678113,\n",
       "       665.38391416, 351.42641493, 101.48315576, 574.79503207,\n",
       "       462.35881627, 515.3006817 , 311.98553789, 559.46297104,\n",
       "       444.25363295, 327.3445967 , 424.60183798, 447.88870509,\n",
       "       439.07337008, 394.94971708, 247.29247934, 440.73940108,\n",
       "       448.81155492, 469.08119456, 599.31897439, 542.22644753,\n",
       "       551.9492107 , 324.74043145, 514.60624713, 270.76018911,\n",
       "       399.99283156, 559.16279576, 498.15314504, 497.56931312,\n",
       "       434.41235826, 495.771492  , 603.48436344, 369.38384986,\n",
       "       363.5428066 , 527.24773948, 493.41446864, 513.52672436,\n",
       "       479.65366158, 445.07659151, 379.39737807, 311.20388847,\n",
       "       374.49936655, 459.94773678, 308.59074322, 243.08644227,\n",
       "       266.37739834, 460.96723822, 530.47824751, 631.15413838,\n",
       "       480.2392418 , 501.9601219 , 389.75699406, 560.56107481,\n",
       "       482.18632884, 565.64341225, 456.50977439, 372.98300279,\n",
       "       522.74671961, 494.25933393, 461.56385431, 599.94073355,\n",
       "       429.0128745 , 309.73069625, 587.17017915, 583.94206156,\n",
       "       525.2593649 , 531.82473226, 412.22724302, 313.2375273 ,\n",
       "       486.98586876, 523.88627586, 672.41666541, 386.74969963,\n",
       "       534.45635075, 427.89096818, 303.2487336 , 463.69745696,\n",
       "       551.88070063, 358.10832853, 464.18707577, 574.01488286,\n",
       "       245.69595972, 447.6210351 , 608.22372589, 508.62663838,\n",
       "       440.67028306, 495.44996125, 363.29686685, 553.53213765,\n",
       "       458.44125811, 649.06506999, 589.55553849, 371.80537241,\n",
       "       460.56188717, 476.343693  , 441.64077974, 446.14499451,\n",
       "       301.25514496, 322.93676971, 466.89500447, 461.22133639,\n",
       "       441.36115518, 510.50856966, 494.77433435, 561.63634515,\n",
       "       533.46644145, 378.61662548, 570.88546824, 539.98559882,\n",
       "       224.18814552, 360.9403173 , 458.17302915, 256.88634158,\n",
       "       506.10555258, 374.98786611, 585.93541244, 358.91232486,\n",
       "       407.99414295, 395.41354785, 463.08674275, 348.32422759,\n",
       "       499.41606224, 451.00526831, 500.63845282, 359.37563294,\n",
       "       490.93193535, 568.53502498, 569.31088236, 517.85713561,\n",
       "       608.96405835, 524.52489838, 427.37681023, 548.17962624,\n",
       "       327.30158102, 552.52027531, 353.52084275, 364.24562553,\n",
       "       489.86707913, 432.9501192 , 477.51920645, 403.96895401,\n",
       "       628.890191  , 549.86298375, 528.37153591, 257.26034382,\n",
       "       474.68797042, 513.14453051, 354.53314286, 283.63378315,\n",
       "       618.24655708, 243.93679234, 465.86407014, 332.34525765,\n",
       "       562.94488822, 356.7496685 , 471.99728825, 477.07695511,\n",
       "       500.31556851, 644.87810481, 505.28149363, 539.04855991,\n",
       "       527.00979463, 447.36622855, 623.80984239, 576.76378509,\n",
       "       436.0142786 , 568.65679121, 569.68501321, 542.45641945,\n",
       "       561.45194399, 470.83177786, 558.93489564, 705.5751632 ,\n",
       "       432.9455155 , 586.39760472, 403.63550238, 577.38088778,\n",
       "       270.12266993, 594.34367775, 517.50792047, 578.87335659,\n",
       "       355.14681717, 431.7588282 , 338.65593984, 351.10874066,\n",
       "       254.49064851, 211.39132709, 473.39648569, 322.68388769,\n",
       "       347.84983849, 418.8289778 , 591.49168696, 498.79051994,\n",
       "       486.1716019 , 574.35948441, 404.68346335, 414.24083794,\n",
       "       501.04336392, 530.60691326, 493.35550732, 546.60490867,\n",
       "       481.8960904 , 320.59061906, 247.43575971, 531.48312071,\n",
       "        97.17003501, 514.51407379, 518.18964015, 487.32442196,\n",
       "       490.38114477, 504.99046429, 289.34582628, 458.43097027,\n",
       "       346.80099586, 527.88067223, 484.34313019, 290.31095228,\n",
       "       334.40270758, 511.15012501, 494.26092484, 534.31024182,\n",
       "       475.03131164, 498.89951057, 499.86569421, 392.24577563,\n",
       "       469.39979987, 511.89395626, 525.72299841, 613.20587071,\n",
       "       588.62990516, 393.12636368, 462.88698816, 588.84499946,\n",
       "       299.67632232, 364.66575085, 383.80166359, 447.90516913,\n",
       "       576.64032967, 299.71027291, 473.13712335, 369.3149375 ,\n",
       "       512.44476258, 602.5338767 , 466.68625834, 437.40480139,\n",
       "       536.12034264, 120.99737699, 476.48122257, 561.49373258,\n",
       "       657.34649832, 297.66518231, 345.2534201 , 457.11120472,\n",
       "       385.65989829])"
      ]
     },
     "execution_count": 290,
     "metadata": {},
     "output_type": "execute_result"
    }
   ],
   "source": [
    "pred1 = eater_model.predict(X_test)"
   ]
  },
  {
   "cell_type": "markdown",
   "id": "c8cc4d97",
   "metadata": {},
   "source": [
    "### 4. Ridge"
   ]
  },
  {
   "cell_type": "code",
   "execution_count": 309,
   "id": "96780f01",
   "metadata": {},
   "outputs": [],
   "source": [
    "####(1)train 데이터로 훈련-중식계"
   ]
  },
  {
   "cell_type": "code",
   "execution_count": 310,
   "id": "b3c09415",
   "metadata": {},
   "outputs": [
    {
     "name": "stdout",
     "output_type": "stream",
     "text": [
      "(902, 28) (301, 28)\n"
     ]
    }
   ],
   "source": [
    "train_1 = train_1.dropna()\n",
    "\n",
    "X = train_1.drop(columns=[\"lunch_number\",\"datetime\"],axis=1)\n",
    "y = train_1[\"lunch_number\"]\n",
    "X\n",
    "y\n",
    "y\n",
    "\n",
    "X_train, X_test, y_train, y_test = train_test_split(X,y, random_state=0)\n",
    "print(X_train.shape, X_test.shape)"
   ]
  },
  {
   "cell_type": "code",
   "execution_count": 311,
   "id": "cb19caee",
   "metadata": {},
   "outputs": [
    {
     "name": "stdout",
     "output_type": "stream",
     "text": [
      "훈련점수: 0.7785842772252942\n",
      "테스트점수: 0.7876841241137968\n"
     ]
    }
   ],
   "source": [
    "from sklearn.linear_model import Ridge\n",
    "\n",
    "ridge = Ridge().fit(X_train,y_train) #alpha=1.0\n",
    "\n",
    "print(\"훈련점수:\",ridge.score(X_train,y_train))\n",
    "print(\"테스트점수:\",ridge.score(X_test,y_test))"
   ]
  },
  {
   "cell_type": "code",
   "execution_count": 312,
   "id": "2f856989",
   "metadata": {},
   "outputs": [
    {
     "name": "stdout",
     "output_type": "stream",
     "text": [
      "훈련점수: 0.7776664701754177\n",
      "테스트점수: 0.7870562976733818\n",
      "훈련점수: 0.7785961708617393\n",
      "테스트점수: 0.787651648443955\n"
     ]
    }
   ],
   "source": [
    "ridge10 = Ridge(alpha=10).fit(X_train,y_train) #alpha=1.0\n",
    "\n",
    "print(\"훈련점수:\",ridge10.score(X_train,y_train))\n",
    "print(\"테스트점수:\",ridge10.score(X_test,y_test))\n",
    "\n",
    "ridge01 = Ridge(alpha=0.1).fit(X_train,y_train) #alpha=1.0\n",
    "\n",
    "print(\"훈련점수:\",ridge01.score(X_train,y_train))\n",
    "print(\"테스트점수:\",ridge01.score(X_test,y_test))"
   ]
  },
  {
   "cell_type": "code",
   "execution_count": 315,
   "id": "71990640",
   "metadata": {},
   "outputs": [],
   "source": [
    "pred1 = ridge01.predict(X_test)"
   ]
  },
  {
   "cell_type": "code",
   "execution_count": 317,
   "id": "d3c54da0",
   "metadata": {},
   "outputs": [],
   "source": [
    "####(2)train 데이터로 훈련-석식계"
   ]
  },
  {
   "cell_type": "code",
   "execution_count": 318,
   "id": "a25112c8",
   "metadata": {},
   "outputs": [
    {
     "name": "stdout",
     "output_type": "stream",
     "text": [
      "(902, 28) (301, 28)\n"
     ]
    }
   ],
   "source": [
    "train_2 = train_2.dropna()\n",
    "\n",
    "X = train_2.drop(columns=[\"dinner_number\",\"datetime\"],axis=1)\n",
    "y = train_2[\"dinner_number\"]\n",
    "X\n",
    "y\n",
    "y\n",
    "\n",
    "X_train, X_test, y_train, y_test = train_test_split(X,y, random_state=0)\n",
    "print(X_train.shape, X_test.shape)"
   ]
  },
  {
   "cell_type": "code",
   "execution_count": 322,
   "id": "54e8f773",
   "metadata": {},
   "outputs": [
    {
     "name": "stdout",
     "output_type": "stream",
     "text": [
      "훈련점수: 0.49732247491835335\n",
      "테스트점수: 0.5083613287261718\n"
     ]
    }
   ],
   "source": [
    "ridge = Ridge().fit(X_train,y_train) #alpha=1.0\n",
    "\n",
    "print(\"훈련점수:\",ridge.score(X_train,y_train))\n",
    "print(\"테스트점수:\",ridge.score(X_test,y_test))"
   ]
  },
  {
   "cell_type": "code",
   "execution_count": 323,
   "id": "b5cae2cf",
   "metadata": {},
   "outputs": [
    {
     "name": "stdout",
     "output_type": "stream",
     "text": [
      "훈련점수: 0.49675766800987353\n",
      "테스트점수: 0.5098888253883027\n",
      "훈련점수: 0.49733066872489073\n",
      "테스트점수: 0.5080562892158669\n"
     ]
    }
   ],
   "source": [
    "ridge10 = Ridge(alpha=10).fit(X_train,y_train) #alpha=1.0\n",
    "\n",
    "print(\"훈련점수:\",ridge10.score(X_train,y_train))\n",
    "print(\"테스트점수:\",ridge10.score(X_test,y_test))\n",
    "\n",
    "ridge01 = Ridge(alpha=0.1).fit(X_train,y_train) #alpha=1.0\n",
    "\n",
    "print(\"훈련점수:\",ridge01.score(X_train,y_train))\n",
    "print(\"테스트점수:\",ridge01.score(X_test,y_test))"
   ]
  },
  {
   "cell_type": "code",
   "execution_count": 321,
   "id": "b45f09ee",
   "metadata": {},
   "outputs": [],
   "source": [
    "pred1 = ridge01.predict(X_test)"
   ]
  },
  {
   "cell_type": "markdown",
   "id": "c9048e10",
   "metadata": {},
   "source": [
    "### 5.Lasso"
   ]
  },
  {
   "cell_type": "code",
   "execution_count": null,
   "id": "36dabcbc",
   "metadata": {},
   "outputs": [],
   "source": [
    "####(1)train 데이터로 훈련-중식계"
   ]
  },
  {
   "cell_type": "code",
   "execution_count": 325,
   "id": "d3454f62",
   "metadata": {},
   "outputs": [
    {
     "name": "stdout",
     "output_type": "stream",
     "text": [
      "(902, 28) (301, 28)\n"
     ]
    }
   ],
   "source": [
    "train_1 = train_1.dropna()\n",
    "\n",
    "X = train_1.drop(columns=[\"lunch_number\",\"datetime\"],axis=1)\n",
    "y = train_1[\"lunch_number\"]\n",
    "X\n",
    "y\n",
    "y\n",
    "\n",
    "X_train, X_test, y_train, y_test = train_test_split(X,y, random_state=0)\n",
    "print(X_train.shape, X_test.shape)"
   ]
  },
  {
   "cell_type": "code",
   "execution_count": 328,
   "id": "665d2d7e",
   "metadata": {},
   "outputs": [
    {
     "name": "stdout",
     "output_type": "stream",
     "text": [
      "훈련점수: 0.7747733356203582\n",
      "테스트점수: 0.7820478634887891\n",
      "훈련점수: 0.7785957565109678\n",
      "테스트점수: 0.7876767701035949\n"
     ]
    }
   ],
   "source": [
    "from sklearn.linear_model import Lasso\n",
    "lasso= Lasso().fit(X_train,y_train)\n",
    "print(\"훈련점수:\",lasso.score(X_train,y_train))\n",
    "print(\"테스트점수:\",lasso.score(X_test,y_test))\n",
    "\n",
    "lasso001= Lasso(alpha=0.01).fit(X_train,y_train)\n",
    "print(\"훈련점수:\",lasso001.score(X_train,y_train))\n",
    "print(\"테스트점수:\",lasso001.score(X_test,y_test))"
   ]
  },
  {
   "cell_type": "code",
   "execution_count": 329,
   "id": "05ee98b3",
   "metadata": {},
   "outputs": [],
   "source": [
    "pred1 = lasso001.predict(X_test)"
   ]
  },
  {
   "cell_type": "code",
   "execution_count": 330,
   "id": "63ab22ae",
   "metadata": {},
   "outputs": [],
   "source": [
    "####(1)train 데이터로 훈련-석식계"
   ]
  },
  {
   "cell_type": "code",
   "execution_count": 331,
   "id": "d58efa48",
   "metadata": {},
   "outputs": [
    {
     "name": "stdout",
     "output_type": "stream",
     "text": [
      "(902, 28) (301, 28)\n"
     ]
    }
   ],
   "source": [
    "train_2 = train_2.dropna()\n",
    "\n",
    "X = train_2.drop(columns=[\"dinner_number\",\"datetime\"],axis=1)\n",
    "y = train_2[\"dinner_number\"]\n",
    "X\n",
    "y\n",
    "y\n",
    "\n",
    "X_train, X_test, y_train, y_test = train_test_split(X,y, random_state=0)\n",
    "print(X_train.shape, X_test.shape)"
   ]
  },
  {
   "cell_type": "code",
   "execution_count": 333,
   "id": "13b8ce2a",
   "metadata": {},
   "outputs": [
    {
     "name": "stdout",
     "output_type": "stream",
     "text": [
      "훈련점수: 0.4930928917773645\n",
      "테스트점수: 0.5004780432744087\n",
      "훈련점수: 0.4972383031920601\n",
      "테스트점수: 0.5083743503517701\n"
     ]
    }
   ],
   "source": [
    "lasso= Lasso().fit(X_train,y_train)\n",
    "print(\"훈련점수:\",lasso.score(X_train,y_train))\n",
    "print(\"테스트점수:\",lasso.score(X_test,y_test))\n",
    "\n",
    "lasso001= Lasso(alpha=0.01).fit(X_train,y_train)\n",
    "print(\"훈련점수:\",lasso001.score(X_train,y_train))\n",
    "print(\"테스트점수:\",lasso001.score(X_test,y_test))"
   ]
  },
  {
   "cell_type": "code",
   "execution_count": 334,
   "id": "ec35121b",
   "metadata": {},
   "outputs": [],
   "source": [
    "pred1 = lasso001.predict(X_test)"
   ]
  },
  {
   "cell_type": "markdown",
   "id": "c472a6b0",
   "metadata": {},
   "source": [
    "### 6. 마지막 테스트 검증 "
   ]
  },
  {
   "cell_type": "code",
   "execution_count": 364,
   "id": "b3599a37",
   "metadata": {},
   "outputs": [],
   "source": [
    "x_train = train_1[['weekdays_friday','weekdays_monday', 'weekdays_thursday','weekdays_tuesday','weekdays_wednesday','worker_number',\n",
    "                 'biztrip_number', 'overtime_number', 'telecom_number']]\n",
    "\n",
    "y1_train = train_1['lunch_number']\n",
    "y2_train = train_2['dinner_number']\n",
    "\n",
    "x_test = test_1[['weekdays_friday','weekdays_monday', 'weekdays_thursday','weekdays_tuesday','weekdays_wednesday','worker_number',\n",
    "                 'biztrip_number', 'overtime_number', 'telecom_number']]"
   ]
  },
  {
   "cell_type": "code",
   "execution_count": 365,
   "id": "427b1896",
   "metadata": {},
   "outputs": [],
   "source": [
    "xgbr1= XGBRegressor(n_estimators=400,learning_rate=0.1,max_depth=3,objective=\"reg:squarederror\")\n",
    "xgbr2= XGBRegressor(n_estimators=400,learning_rate=0.1,max_depth=3,objective=\"reg:squarederror\")"
   ]
  },
  {
   "cell_type": "code",
   "execution_count": 366,
   "id": "0e8c5597",
   "metadata": {},
   "outputs": [
    {
     "data": {
      "text/plain": [
       "XGBRegressor(base_score=0.5, booster='gbtree', colsample_bylevel=1,\n",
       "             colsample_bynode=1, colsample_bytree=1, gamma=0, gpu_id=-1,\n",
       "             importance_type='gain', interaction_constraints='',\n",
       "             learning_rate=0.1, max_delta_step=0, max_depth=3,\n",
       "             min_child_weight=1, missing=nan, monotone_constraints='()',\n",
       "             n_estimators=400, n_jobs=8, num_parallel_tree=1, random_state=0,\n",
       "             reg_alpha=0, reg_lambda=1, scale_pos_weight=1, subsample=1,\n",
       "             tree_method='exact', validate_parameters=1, verbosity=None)"
      ]
     },
     "execution_count": 366,
     "metadata": {},
     "output_type": "execute_result"
    }
   ],
   "source": [
    "xgbr1.fit(x_train, y1_train)\n",
    "xgbr2.fit(x_train, y2_train)\n"
   ]
  },
  {
   "cell_type": "code",
   "execution_count": 370,
   "id": "8ea469bc",
   "metadata": {
    "collapsed": true
   },
   "outputs": [
    {
     "data": {
      "text/plain": [
       "array([ 988.1463 ,  981.09076,  644.80817, 1205.0834 , 1019.46655,\n",
       "        968.15906,  937.8222 ,  611.1846 , 1202.4464 ,  999.13354,\n",
       "        939.20703, 1304.8575 , 1106.9589 , 1016.0735 ,  819.69775,\n",
       "        605.11804, 1236.675  ,  956.29407,  778.5877 ,  727.1954 ,\n",
       "        551.29486, 1067.1859 , 1080.0548 ,  894.87616,  522.3206 ,\n",
       "       1289.2878 , 1200.9773 ,  950.04694,  870.3381 ,  650.4104 ,\n",
       "       1229.8412 , 1002.33624, 1065.2914 ,  923.07214,  605.2581 ,\n",
       "       1280.9822 , 1025.5455 ,  925.25446,  768.51636,  552.4156 ,\n",
       "       1214.8691 , 1020.6857 ,  961.9093 ,  800.42865,  555.4108 ,\n",
       "       1214.3195 , 1026.1467 , 1020.527  ,  859.3396 ,  551.745  ],\n",
       "      dtype=float32)"
      ]
     },
     "execution_count": 370,
     "metadata": {},
     "output_type": "execute_result"
    }
   ],
   "source": [
    "pred1 = xgbr1.predict(x_test)\n",
    "pred2 = xgbr2.predict(x_test)"
   ]
  },
  {
   "cell_type": "code",
   "execution_count": 369,
   "id": "f7855431",
   "metadata": {},
   "outputs": [],
   "source": [
    "lgbr1= LGBMRegressor(n_estimators=400)\n",
    "lgbr2= LGBMRegressor(n_estimators=400)"
   ]
  },
  {
   "cell_type": "code",
   "execution_count": 345,
   "id": "570e8772",
   "metadata": {},
   "outputs": [
    {
     "data": {
      "text/plain": [
       "LGBMRegressor(n_estimators=400)"
      ]
     },
     "execution_count": 345,
     "metadata": {},
     "output_type": "execute_result"
    }
   ],
   "source": [
    "lgbr1.fit(x_train, y1_train)\n",
    "lgbr2.fit(x_train, y2_train)"
   ]
  },
  {
   "cell_type": "code",
   "execution_count": 346,
   "id": "995b8985",
   "metadata": {},
   "outputs": [],
   "source": [
    "pred1 = lgbr1.predict(x_test)\n",
    "pred2 = lgbr2.predict(x_test)"
   ]
  },
  {
   "cell_type": "code",
   "execution_count": 349,
   "id": "7c224641",
   "metadata": {},
   "outputs": [],
   "source": [
    "eater_model1 =LinearRegression()\n",
    "eater_model2 =LinearRegression()"
   ]
  },
  {
   "cell_type": "code",
   "execution_count": 350,
   "id": "8320b204",
   "metadata": {},
   "outputs": [
    {
     "data": {
      "text/plain": [
       "LinearRegression()"
      ]
     },
     "execution_count": 350,
     "metadata": {},
     "output_type": "execute_result"
    }
   ],
   "source": [
    "eater_model1.fit(x_train, y1_train)\n",
    "eater_model2.fit(x_train, y2_train)"
   ]
  },
  {
   "cell_type": "code",
   "execution_count": 352,
   "id": "e7b9091e",
   "metadata": {},
   "outputs": [],
   "source": [
    "pred1 = eater_model1.predict(x_test)\n",
    "pred2 = eater_model2.predict(x_test)"
   ]
  },
  {
   "cell_type": "code",
   "execution_count": 353,
   "id": "cb7a27e3",
   "metadata": {},
   "outputs": [],
   "source": [
    "ridge01 = Ridge(alpha=0.1).fit(X_train,y_train)\n",
    "ridge02 = Ridge(alpha=0.1).fit(X_train,y_train)"
   ]
  },
  {
   "cell_type": "code",
   "execution_count": 356,
   "id": "da88b8be",
   "metadata": {},
   "outputs": [
    {
     "data": {
      "text/plain": [
       "Ridge(alpha=0.1)"
      ]
     },
     "execution_count": 356,
     "metadata": {},
     "output_type": "execute_result"
    }
   ],
   "source": [
    "ridge01.fit(x_train, y1_train)\n",
    "ridge02.fit(x_train, y2_train)"
   ]
  },
  {
   "cell_type": "code",
   "execution_count": 358,
   "id": "fa351fd7",
   "metadata": {},
   "outputs": [],
   "source": [
    "pred1 =ridge01.predict(x_test)\n",
    "pred2 =ridge02.predict(x_test)"
   ]
  },
  {
   "cell_type": "code",
   "execution_count": 359,
   "id": "9099d0e2",
   "metadata": {},
   "outputs": [],
   "source": [
    "lasso001= Lasso(alpha=0.01).fit(X_train,y_train)\n",
    "lasso002= Lasso(alpha=0.01).fit(X_train,y_train)"
   ]
  },
  {
   "cell_type": "code",
   "execution_count": 360,
   "id": "7ff813bf",
   "metadata": {},
   "outputs": [
    {
     "data": {
      "text/plain": [
       "Lasso(alpha=0.01)"
      ]
     },
     "execution_count": 360,
     "metadata": {},
     "output_type": "execute_result"
    }
   ],
   "source": [
    "lasso001.fit(x_train, y1_train)\n",
    "lasso002.fit(x_train, y2_train)"
   ]
  },
  {
   "cell_type": "code",
   "execution_count": 362,
   "id": "385faf93",
   "metadata": {},
   "outputs": [],
   "source": [
    "pred1 =lasso001.predict(x_test)\n",
    "pred2 =lasso002.predict(x_test)"
   ]
  },
  {
   "cell_type": "code",
   "execution_count": 65,
   "id": "808b9fad",
   "metadata": {},
   "outputs": [],
   "source": [
    "#### 정규화 \n",
    "mean= X_train.mean(axis=0)\n",
    "X_train -=mean\n",
    "std=X_train.std(axis=0)\n",
    "\n",
    "X_train/=std\n",
    "X_test-=mean\n",
    "X_test/=std"
   ]
  },
  {
   "cell_type": "code",
   "execution_count": 382,
   "id": "6ed23af2",
   "metadata": {},
   "outputs": [
    {
     "name": "stdout",
     "output_type": "stream",
     "text": [
      "Epoch 1/100\n",
      "902/902 [==============================] - 3s 2ms/step - loss: 232987.5312 - mae: 462.4754\n",
      "Epoch 2/100\n",
      "902/902 [==============================] - 2s 3ms/step - loss: 230811.1250 - mae: 460.2938\n",
      "Epoch 3/100\n",
      "902/902 [==============================] - 2s 3ms/step - loss: 228559.5938 - mae: 458.0236\n",
      "Epoch 4/100\n",
      "902/902 [==============================] - 2s 2ms/step - loss: 226790.4219 - mae: 456.2266\n",
      "Epoch 5/100\n",
      "902/902 [==============================] - 2s 3ms/step - loss: 225165.3906 - mae: 454.5738\n",
      "Epoch 6/100\n",
      "902/902 [==============================] - 2s 2ms/step - loss: 223584.0156 - mae: 452.9664\n",
      "Epoch 7/100\n",
      "902/902 [==============================] - 2s 3ms/step - loss: 222022.5312 - mae: 451.3614\n",
      "Epoch 8/100\n",
      "902/902 [==============================] - 2s 3ms/step - loss: 220474.0000 - mae: 449.7751\n",
      "Epoch 9/100\n",
      "902/902 [==============================] - 2s 3ms/step - loss: 218934.1562 - mae: 448.1923\n",
      "Epoch 10/100\n",
      "902/902 [==============================] - 2s 3ms/step - loss: 217402.2500 - mae: 446.6020\n",
      "Epoch 11/100\n",
      "902/902 [==============================] - 2s 3ms/step - loss: 215876.6875 - mae: 445.0034\n",
      "Epoch 12/100\n",
      "902/902 [==============================] - 3s 3ms/step - loss: 214357.4688 - mae: 443.4257\n",
      "Epoch 13/100\n",
      "902/902 [==============================] - 2s 2ms/step - loss: 212846.2812 - mae: 441.8376\n",
      "Epoch 14/100\n",
      "902/902 [==============================] - 2s 3ms/step - loss: 211343.7500 - mae: 440.2475\n",
      "Epoch 15/100\n",
      "902/902 [==============================] - 2s 3ms/step - loss: 209843.8125 - mae: 438.6784\n",
      "Epoch 16/100\n",
      "902/902 [==============================] - 2s 3ms/step - loss: 208350.6094 - mae: 437.0825\n",
      "Epoch 17/100\n",
      "902/902 [==============================] - 2s 3ms/step - loss: 206863.5781 - mae: 435.5023\n",
      "Epoch 18/100\n",
      "902/902 [==============================] - 2s 3ms/step - loss: 205384.3750 - mae: 433.9216\n",
      "Epoch 19/100\n",
      "902/902 [==============================] - 3s 3ms/step - loss: 203908.2188 - mae: 432.3483\n",
      "Epoch 20/100\n",
      "902/902 [==============================] - 3s 3ms/step - loss: 202440.7500 - mae: 430.7539\n",
      "Epoch 21/100\n",
      "902/902 [==============================] - 3s 3ms/step - loss: 200979.1875 - mae: 429.1762: 0s - loss: 20015\n",
      "Epoch 22/100\n",
      "902/902 [==============================] - 2s 3ms/step - loss: 199528.7344 - mae: 427.5929: 0s - loss: 202630.\n",
      "Epoch 23/100\n",
      "902/902 [==============================] - 2s 3ms/step - loss: 198082.3125 - mae: 426.0208\n",
      "Epoch 24/100\n",
      "902/902 [==============================] - 2s 3ms/step - loss: 196640.1250 - mae: 424.4421\n",
      "Epoch 25/100\n",
      "902/902 [==============================] - 2s 3ms/step - loss: 195203.9062 - mae: 422.8641\n",
      "Epoch 26/100\n",
      "902/902 [==============================] - 3s 3ms/step - loss: 193776.8281 - mae: 421.2835\n",
      "Epoch 27/100\n",
      "902/902 [==============================] - 2s 2ms/step - loss: 192355.2812 - mae: 419.7080\n",
      "Epoch 28/100\n",
      "902/902 [==============================] - 2s 3ms/step - loss: 190937.4375 - mae: 418.1377\n",
      "Epoch 29/100\n",
      "902/902 [==============================] - 2s 3ms/step - loss: 189527.9062 - mae: 416.5518\n",
      "Epoch 30/100\n",
      "902/902 [==============================] - 3s 3ms/step - loss: 188125.8281 - mae: 414.9854\n",
      "Epoch 31/100\n",
      "902/902 [==============================] - 2s 3ms/step - loss: 186729.6094 - mae: 413.4124\n",
      "Epoch 32/100\n",
      "902/902 [==============================] - 3s 3ms/step - loss: 185338.9688 - mae: 411.8311\n",
      "Epoch 33/100\n",
      "902/902 [==============================] - 2s 3ms/step - loss: 183957.0625 - mae: 410.2623\n",
      "Epoch 34/100\n",
      "902/902 [==============================] - 3s 3ms/step - loss: 182579.8906 - mae: 408.6868\n",
      "Epoch 35/100\n",
      "902/902 [==============================] - 3s 3ms/step - loss: 181210.3438 - mae: 407.1202\n",
      "Epoch 36/100\n",
      "902/902 [==============================] - 2s 3ms/step - loss: 179846.1250 - mae: 405.5489\n",
      "Epoch 37/100\n",
      "902/902 [==============================] - 3s 3ms/step - loss: 178486.1562 - mae: 403.9866\n",
      "Epoch 38/100\n",
      "902/902 [==============================] - 3s 3ms/step - loss: 177135.4531 - mae: 402.4078\n",
      "Epoch 39/100\n",
      "902/902 [==============================] - 3s 3ms/step - loss: 175793.4844 - mae: 400.8369\n",
      "Epoch 40/100\n",
      "902/902 [==============================] - 2s 3ms/step - loss: 174454.1719 - mae: 399.2828\n",
      "Epoch 41/100\n",
      "902/902 [==============================] - 3s 3ms/step - loss: 173121.5625 - mae: 397.7044\n",
      "Epoch 42/100\n",
      "902/902 [==============================] - 2s 3ms/step - loss: 171795.5312 - mae: 396.1437\n",
      "Epoch 43/100\n",
      "902/902 [==============================] - 3s 3ms/step - loss: 170476.9844 - mae: 394.5834\n",
      "Epoch 44/100\n",
      "902/902 [==============================] - 2s 3ms/step - loss: 169161.8594 - mae: 393.0184\n",
      "Epoch 45/100\n",
      "902/902 [==============================] - 3s 3ms/step - loss: 167853.0625 - mae: 391.4532\n",
      "Epoch 46/100\n",
      "902/902 [==============================] - 3s 3ms/step - loss: 166552.7031 - mae: 389.8894\n",
      "Epoch 47/100\n",
      "902/902 [==============================] - 2s 3ms/step - loss: 165259.8906 - mae: 388.3266\n",
      "Epoch 48/100\n",
      "902/902 [==============================] - 3s 3ms/step - loss: 163973.8594 - mae: 386.7649\n",
      "Epoch 49/100\n",
      "902/902 [==============================] - 3s 3ms/step - loss: 162692.7656 - mae: 385.2068\n",
      "Epoch 50/100\n",
      "902/902 [==============================] - 2s 2ms/step - loss: 161416.2969 - mae: 383.6500\n",
      "Epoch 51/100\n",
      "902/902 [==============================] - 3s 3ms/step - loss: 160147.0938 - mae: 382.0870\n",
      "Epoch 52/100\n",
      "902/902 [==============================] - 3s 3ms/step - loss: 158885.9062 - mae: 380.5368\n",
      "Epoch 53/100\n",
      "902/902 [==============================] - 3s 3ms/step - loss: 157627.6562 - mae: 378.9762: 0s - loss:\n",
      "Epoch 54/100\n",
      "902/902 [==============================] - 4s 4ms/step - loss: 156377.9531 - mae: 377.4152\n",
      "Epoch 55/100\n",
      "902/902 [==============================] - 2s 3ms/step - loss: 155135.8906 - mae: 375.8671\n",
      "Epoch 56/100\n",
      "902/902 [==============================] - 2s 3ms/step - loss: 153898.7656 - mae: 374.3073\n",
      "Epoch 57/100\n",
      "902/902 [==============================] - 2s 2ms/step - loss: 152671.9219 - mae: 372.7509\n",
      "Epoch 58/100\n",
      "902/902 [==============================] - 2s 3ms/step - loss: 151450.0000 - mae: 371.2007\n",
      "Epoch 59/100\n",
      "902/902 [==============================] - 2s 2ms/step - loss: 150229.6094 - mae: 369.6590\n",
      "Epoch 60/100\n",
      "902/902 [==============================] - 2s 2ms/step - loss: 149018.5781 - mae: 368.1044\n",
      "Epoch 61/100\n",
      "902/902 [==============================] - 2s 3ms/step - loss: 147814.7812 - mae: 366.5483: \n",
      "Epoch 62/100\n",
      "902/902 [==============================] - 2s 3ms/step - loss: 146616.6094 - mae: 365.0023\n",
      "Epoch 63/100\n",
      "902/902 [==============================] - 3s 4ms/step - loss: 145423.7031 - mae: 363.4536\n",
      "Epoch 64/100\n",
      "902/902 [==============================] - 3s 3ms/step - loss: 144236.3438 - mae: 361.9126\n",
      "Epoch 65/100\n",
      "902/902 [==============================] - 3s 3ms/step - loss: 143055.4375 - mae: 360.3653\n",
      "Epoch 66/100\n",
      "902/902 [==============================] - 3s 3ms/step - loss: 141882.3125 - mae: 358.8206\n",
      "Epoch 67/100\n",
      "902/902 [==============================] - 3s 3ms/step - loss: 140715.3906 - mae: 357.2764\n",
      "Epoch 68/100\n",
      "902/902 [==============================] - 3s 4ms/step - loss: 139555.3281 - mae: 355.7295\n",
      "Epoch 69/100\n",
      "902/902 [==============================] - 3s 3ms/step - loss: 138401.2812 - mae: 354.1967\n",
      "Epoch 70/100\n",
      "902/902 [==============================] - 2s 3ms/step - loss: 137251.3281 - mae: 352.6503\n",
      "Epoch 71/100\n",
      "902/902 [==============================] - 2s 2ms/step - loss: 136110.0781 - mae: 351.1088\n",
      "Epoch 72/100\n",
      "902/902 [==============================] - 2s 2ms/step - loss: 134976.0156 - mae: 349.5742\n",
      "Epoch 73/100\n",
      "902/902 [==============================] - 2s 2ms/step - loss: 133848.5000 - mae: 348.0391\n",
      "Epoch 74/100\n",
      "902/902 [==============================] - 2s 2ms/step - loss: 132726.4062 - mae: 346.5107\n",
      "Epoch 75/100\n",
      "902/902 [==============================] - 3s 3ms/step - loss: 131610.5781 - mae: 344.9841\n",
      "Epoch 76/100\n",
      "902/902 [==============================] - 2s 3ms/step - loss: 130499.7656 - mae: 343.4654\n",
      "Epoch 77/100\n",
      "902/902 [==============================] - 2s 3ms/step - loss: 129396.4844 - mae: 341.9237\n",
      "Epoch 78/100\n",
      "902/902 [==============================] - 2s 2ms/step - loss: 128303.0156 - mae: 340.4103\n",
      "Epoch 79/100\n"
     ]
    },
    {
     "name": "stdout",
     "output_type": "stream",
     "text": [
      "902/902 [==============================] - 2s 2ms/step - loss: 127213.6484 - mae: 338.9063\n",
      "Epoch 80/100\n",
      "902/902 [==============================] - 3s 3ms/step - loss: 126128.9844 - mae: 337.3806\n",
      "Epoch 81/100\n",
      "902/902 [==============================] - 3s 3ms/step - loss: 125048.3203 - mae: 335.8589: 0s - loss: 123409.7422 - mae - ETA: 0s - los\n",
      "Epoch 82/100\n",
      "902/902 [==============================] - 3s 3ms/step - loss: 123975.0938 - mae: 334.3442\n",
      "Epoch 83/100\n",
      "902/902 [==============================] - 3s 3ms/step - loss: 122908.9922 - mae: 332.8335\n",
      "Epoch 84/100\n",
      "902/902 [==============================] - 2s 2ms/step - loss: 121849.8359 - mae: 331.3159\n",
      "Epoch 85/100\n",
      "902/902 [==============================] - 2s 3ms/step - loss: 120797.3047 - mae: 329.8027\n",
      "Epoch 86/100\n",
      "902/902 [==============================] - 3s 3ms/step - loss: 119751.8828 - mae: 328.2829\n",
      "Epoch 87/100\n",
      "902/902 [==============================] - 3s 3ms/step - loss: 118712.5859 - mae: 326.7926\n",
      "Epoch 88/100\n",
      "902/902 [==============================] - 3s 3ms/step - loss: 117677.3594 - mae: 325.2865\n",
      "Epoch 89/100\n",
      "902/902 [==============================] - 3s 3ms/step - loss: 116649.6406 - mae: 323.7784\n",
      "Epoch 90/100\n",
      "902/902 [==============================] - 2s 3ms/step - loss: 115629.9141 - mae: 322.2744\n",
      "Epoch 91/100\n",
      "902/902 [==============================] - 3s 3ms/step - loss: 114615.7578 - mae: 320.7717\n",
      "Epoch 92/100\n",
      "902/902 [==============================] - 3s 3ms/step - loss: 113607.2109 - mae: 319.2865\n",
      "Epoch 93/100\n",
      "902/902 [==============================] - 3s 4ms/step - loss: 112604.1094 - mae: 317.7858\n",
      "Epoch 94/100\n",
      "902/902 [==============================] - 3s 3ms/step - loss: 111606.4922 - mae: 316.2838\n",
      "Epoch 95/100\n",
      "902/902 [==============================] - 3s 3ms/step - loss: 110615.3984 - mae: 314.7910\n",
      "Epoch 96/100\n",
      "902/902 [==============================] - 2s 2ms/step - loss: 109632.8516 - mae: 313.2934\n",
      "Epoch 97/100\n",
      "902/902 [==============================] - 2s 2ms/step - loss: 108654.7969 - mae: 311.8004\n",
      "Epoch 98/100\n",
      "902/902 [==============================] - 2s 3ms/step - loss: 107683.2812 - mae: 310.3065\n",
      "Epoch 99/100\n",
      "902/902 [==============================] - 2s 2ms/step - loss: 106718.9375 - mae: 308.8246\n",
      "Epoch 100/100\n",
      "902/902 [==============================] - 2s 2ms/step - loss: 105759.2109 - mae: 307.3440\n"
     ]
    },
    {
     "data": {
      "text/plain": [
       "<keras.callbacks.History at 0x2bdee89a730>"
      ]
     },
     "execution_count": 382,
     "metadata": {},
     "output_type": "execute_result"
    }
   ],
   "source": [
    "#### 실패한 딥러낭 ㅠㅠ\n",
    "\n",
    "model=tf.keras.Sequential([\n",
    "    tf.keras.layers.Dense(units=64,activation=\"softmax\",input_shape=(28,)),\n",
    "    tf.keras.layers.Dense(units=32,activation=\"softmax\"),\n",
    "    tf.keras.layers.Dense(units=32,activation=\"softmax\"),\n",
    "    tf.keras.layers.Dense(units=1)\n",
    "])\n",
    "\n",
    "model.compile(loss=\"mse\",optimizer=tf.keras.optimizers.Adam(learning_rate=0.001),metrics=[\"mae\"])#평균제곱오차 \n",
    "model.fit(X_train,y_train,epochs=100,batch_size=1)"
   ]
  },
  {
   "cell_type": "code",
   "execution_count": null,
   "id": "96a2b4ec",
   "metadata": {},
   "outputs": [],
   "source": []
  },
  {
   "cell_type": "code",
   "execution_count": null,
   "id": "fc99d0c0",
   "metadata": {},
   "outputs": [],
   "source": []
  },
  {
   "cell_type": "code",
   "execution_count": null,
   "id": "cab60913",
   "metadata": {},
   "outputs": [],
   "source": []
  },
  {
   "cell_type": "code",
   "execution_count": null,
   "id": "dd058d45",
   "metadata": {},
   "outputs": [],
   "source": []
  },
  {
   "cell_type": "code",
   "execution_count": null,
   "id": "9dd9c895",
   "metadata": {},
   "outputs": [],
   "source": []
  },
  {
   "cell_type": "code",
   "execution_count": null,
   "id": "75473ed8",
   "metadata": {},
   "outputs": [],
   "source": []
  },
  {
   "cell_type": "code",
   "execution_count": null,
   "id": "958a488b",
   "metadata": {},
   "outputs": [],
   "source": []
  },
  {
   "cell_type": "code",
   "execution_count": null,
   "id": "2cd1cc31",
   "metadata": {},
   "outputs": [],
   "source": []
  },
  {
   "cell_type": "code",
   "execution_count": null,
   "id": "6628169a",
   "metadata": {},
   "outputs": [],
   "source": []
  },
  {
   "cell_type": "code",
   "execution_count": null,
   "id": "7f7eb5e1",
   "metadata": {},
   "outputs": [],
   "source": []
  },
  {
   "cell_type": "code",
   "execution_count": null,
   "id": "55c1fc94",
   "metadata": {},
   "outputs": [],
   "source": []
  }
 ],
 "metadata": {
  "kernelspec": {
   "display_name": "Python 3",
   "language": "python",
   "name": "python3"
  },
  "language_info": {
   "codemirror_mode": {
    "name": "ipython",
    "version": 3
   },
   "file_extension": ".py",
   "mimetype": "text/x-python",
   "name": "python",
   "nbconvert_exporter": "python",
   "pygments_lexer": "ipython3",
   "version": "3.8.8"
  }
 },
 "nbformat": 4,
 "nbformat_minor": 5
}
