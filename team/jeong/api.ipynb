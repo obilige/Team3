{
 "cells": [
  {
   "cell_type": "code",
   "execution_count": 1,
   "metadata": {},
   "outputs": [],
   "source": [
    "import numpy as np\n",
    "import pandas as pd\n",
    "import matplotlib.pyplot as plt\n",
    "import seaborn as sns\n",
    "\n",
    "import matplotlib.font_manager as fm\n",
    "font_name = fm.FontProperties(fname='/Users/hoon/Library/Fonts/NanumSquareRegular.ttf').get_name()\n",
    "plt.rc(\"font\", family=font_name)\n",
    "import matplotlib as mpl\n",
    "mpl.rcParams[\"axes.unicode_minus\"] = False\n",
    "\n",
    "import urllib.request as req\n",
    "from urllib.request import urlopen\n",
    "from urllib.request import HTTPError, URLError\n",
    "import urllib.parse\n",
    "from bs4 import BeautifulSoup\n",
    "import requests\n",
    "\n",
    "from tqdm import tqdm_notebook\n",
    "import time\n",
    "\n",
    "import re"
   ]
  },
  {
   "cell_type": "code",
   "execution_count": 2,
   "metadata": {},
   "outputs": [],
   "source": [
    "import xml"
   ]
  },
  {
   "cell_type": "code",
   "execution_count": null,
   "metadata": {},
   "outputs": [],
   "source": [
    "#인터페이스 : REST\n",
    "#교환데이터표준 : XML\n",
    "#서비스인증권한 : serviceKey(encoding / decoding)\n",
    "\n",
    "encoding = \"tKtnxm8CPR1MPFe7xqO%2BykmnD1NXf32yfiWnwr8icOgHtvHmwt9piQnTDc2iqOm21d1QSszL2vX9ofX558w56w%3D%3D\"\n",
    "decoding = \"tKtnxm8CPR1MPFe7xqO+ykmnD1NXf32yfiWnwr8icOgHtvHmwt9piQnTDc2iqOm21d1QSszL2vX9ofX558w56w==\"\n",
    "\n",
    "url = \"http://apis.data.go.kr/1390802/AgriFood/MzenFoodCode\"\n",
    "callback = \"http://apis.data.go.kr/1390802/AgriFood/MzenFoodCode/getKoreanFoodList\"\n",
    "\n",
    "serviceKey = encoding\n",
    "food_Group_Code = []\n",
    "food_Name = []\n",
    "\n",
    "header = {\"Authorization\" : \"KakaoAK 84253d6c27149bf24af2d67837343aa3\"}\n",
    "\n",
    "exp_lat = []\n",
    "exp_lng = []\n",
    "chp_lat = []\n",
    "chp_lng = []\n",
    "\n",
    "for i in exp.index:\n",
    "    url = 'https://dapi.kakao.com/v2/local/search/keyword.json?query={}'.format(exp['Address'][i].split(' (')[0])\n",
    "\n",
    "    exp_lng.append(requests.get(url, headers = header).json()[\"documents\"][0].get('x')) #request~['documents'] 결과값이 리스트로 묶고 다시 딕트로 .. 그래서 리스트 풀기 위해 [0] \n",
    "    exp_lat.append(requests.get(url, headers = header).json()[\"documents\"][0].get('y'))"
   ]
  },
  {
   "cell_type": "code",
   "execution_count": null,
   "metadata": {},
   "outputs": [],
   "source": [
    "header = {\"Authorization\" : \"tKtnxm8CPR1MPFe7xqO%2BykmnD1NXf32yfiWnwr8icOgHtvHmwt9piQnTDc2iqOm21d1QSszL2vX9ofX558w56w%3D%3D\"}\n",
    "\n",
    "exp_lat = []\n",
    "exp_lng = []\n",
    "chp_lat = []\n",
    "chp_lng = []\n",
    "\n",
    "for i in exp.index:\n",
    "    url = 'https://dapi.kakao.com/v2/local/search/keyword.json?query={}'.format(exp['Address'][i].split(' (')[0])\n",
    "\n",
    "    exp_lng.append(requests.get(url, headers = header).json()[\"documents\"][0].get('x')) #request~['documents'] 결과값이 리스트로 묶고 다시 딕트로 .. 그래서 리스트 풀기 위해 [0] \n",
    "    exp_lat.append(requests.get(url, headers = header).json()[\"documents\"][0].get('y'))\n",
    "\n",
    "    url = 'https://dapi.kakao.com/v2/local/search/keyword.json?query={}'.format(chp['Address'][i].split(' (')[0])\n",
    "\n",
    "    chp_lng.append(requests.get(url, headers = header).json()[\"documents\"][0].get('x')) #request~['documents'] 결과값이 리스트로 묶고 다시 딕트로 .. 그래서 리스트 풀기 위해 [0] \n",
    "    chp_lat.append(requests.get(url, headers = header).json()[\"documents\"][0].get('y'))"
   ]
  }
 ],
 "metadata": {
  "interpreter": {
   "hash": "476a94dc85aeef50ce38d52ab019ae32fa2a67ff1ac8045d45d38aa23f62cc9d"
  },
  "kernelspec": {
   "display_name": "Python 3.9.7 64-bit ('ML': conda)",
   "language": "python",
   "name": "python3"
  },
  "language_info": {
   "codemirror_mode": {
    "name": "ipython",
    "version": 3
   },
   "file_extension": ".py",
   "mimetype": "text/x-python",
   "name": "python",
   "nbconvert_exporter": "python",
   "pygments_lexer": "ipython3",
   "version": "3.9.7"
  },
  "orig_nbformat": 4
 },
 "nbformat": 4,
 "nbformat_minor": 2
}
