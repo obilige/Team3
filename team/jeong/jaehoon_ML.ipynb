{
 "cells": [
  {
   "cell_type": "code",
   "execution_count": 1,
   "metadata": {},
   "outputs": [],
   "source": [
    "import numpy as np\n",
    "import pandas as pd\n",
    "import matplotlib.pyplot as plt\n",
    "import seaborn as sns\n",
    "\n",
    "import matplotlib.font_manager as fm\n",
    "font_name = fm.FontProperties(fname='/Users/hoon/Library/Fonts/NanumSquareRegular.ttf').get_name()\n",
    "plt.rc(\"font\", family=font_name)\n",
    "import matplotlib as mpl\n",
    "mpl.rcParams[\"axes.unicode_minus\"] = False\n",
    "\n",
    "import requests as req\n",
    "import time\n",
    "import re\n",
    "\n",
    "\n",
    "from sklearn.model_selection import train_test_split, cross_val_score, cross_validate, GridSearchCV, KFold # 데이터 나누기, 점검 및 훈련\n",
    "\n",
    "from sklearn.metrics import explained_variance_score, accuracy_score, confusion_matrix, classification_report, roc_curve, precision_score, recall_score # 평가지표\n",
    "from sklearn.preprocessing import LabelEncoder, OneHotEncoder, MinMaxScaler, StandardScaler # Feature Scaling\n",
    "\n",
    "\n",
    "from sklearn.neighbors import KNeighborsRegressor\n",
    "\n",
    "from sklearn.datasets import load_iris, load_boston, load_breast_cancer, make_moons, load_digits, load_diabetes, load_wine, make_blobs # 데이터\n",
    "import mglearn # 그래프\n",
    "\n",
    "from sklearn.linear_model import LinearRegression, Lasso, Ridge, ElasticNet\n",
    "from sklearn.svm import LinearSVC, LinearSVR\n",
    "\n",
    "# conda install -c conda -py\n",
    "import xgboost as xgb\n",
    "from xgboost import XGBRegressor\n",
    "from xgboost import plot_importance, plot_tree\n",
    "\n",
    "from sklearn.pipeline import make_pipeline\n",
    "import multiprocessing\n",
    "from sklearn.pipeline import Pipeline\n",
    "\n",
    "from sklearn.naive_bayes import GaussianNB, BernoulliNB, MultinomialNB\n",
    "from sklearn.linear_model import Perceptron\n",
    "from sklearn.neural_network import MLPRegressor\n",
    "\n",
    "# pip install lightgbm\n",
    "# conda install -c conda-forge lightgbm\n",
    "from lightgbm import LGBMRegressor\n",
    "from lightgbm import plot_importance, plot_tree, plot_metric\n",
    "\n",
    "import graphviz\n",
    "\n",
    "import statsmodels.api as sm\n",
    "\n",
    "# SVC는 분류, SVR은 회귀\n",
    "# 분류알고리즘에선 끝판왕으로 불림\n",
    "from sklearn.svm import SVR, SVC"
   ]
  },
  {
   "cell_type": "markdown",
   "metadata": {},
   "source": [
    "## 1. 데이터 불러오기"
   ]
  },
  {
   "cell_type": "code",
   "execution_count": 2,
   "metadata": {},
   "outputs": [],
   "source": [
    "lunch = pd.read_csv(\"data/lunch_df_encoding.csv\")\n",
    "dinner = pd.read_csv(\"data/dinner_df_encoding.csv\")"
   ]
  },
  {
   "cell_type": "code",
   "execution_count": 3,
   "metadata": {},
   "outputs": [
    {
     "name": "stdout",
     "output_type": "stream",
     "text": [
      "<class 'pandas.core.frame.DataFrame'>\n",
      "RangeIndex: 1205 entries, 0 to 1204\n",
      "Data columns (total 31 columns):\n",
      " #   Column                 Non-Null Count  Dtype  \n",
      "---  ------                 --------------  -----  \n",
      " 0   datetime               1205 non-null   object \n",
      " 1   year                   1205 non-null   int64  \n",
      " 2   month                  1205 non-null   int64  \n",
      " 3   date                   1205 non-null   int64  \n",
      " 4   worker_number          1205 non-null   int64  \n",
      " 5   real_number            1205 non-null   int64  \n",
      " 6   vacation_number        1205 non-null   int64  \n",
      " 7   biztrip_number         1205 non-null   int64  \n",
      " 8   overtime_number        1205 non-null   int64  \n",
      " 9   telecom_number         1205 non-null   int64  \n",
      " 10  temperature            1204 non-null   float64\n",
      " 11  rain                   1205 non-null   float64\n",
      " 12  wind                   1204 non-null   float64\n",
      " 13  humidity               1205 non-null   float64\n",
      " 14  discomfort_index       1204 non-null   float64\n",
      " 15  perceived_temperature  1203 non-null   float64\n",
      " 16  lunch_rice             1205 non-null   int64  \n",
      " 17  lunch_number           1205 non-null   int64  \n",
      " 18  season_fall            1205 non-null   int64  \n",
      " 19  season_spring          1205 non-null   int64  \n",
      " 20  season_summer          1205 non-null   int64  \n",
      " 21  season_winter          1205 non-null   int64  \n",
      " 22  weekdays_friday        1205 non-null   int64  \n",
      " 23  weekdays_monday        1205 non-null   int64  \n",
      " 24  weekdays_thursday      1205 non-null   int64  \n",
      " 25  weekdays_tuesday       1205 non-null   int64  \n",
      " 26  weekdays_wednesday     1205 non-null   int64  \n",
      " 27  vacation_N             1205 non-null   int64  \n",
      " 28  vacation_Y             1205 non-null   int64  \n",
      " 29  new_lunch_N            1205 non-null   int64  \n",
      " 30  new_lunch_Y            1205 non-null   int64  \n",
      "dtypes: float64(6), int64(24), object(1)\n",
      "memory usage: 292.0+ KB\n"
     ]
    }
   ],
   "source": [
    "lunch.info()"
   ]
  },
  {
   "cell_type": "code",
   "execution_count": 4,
   "metadata": {},
   "outputs": [
    {
     "name": "stdout",
     "output_type": "stream",
     "text": [
      "<class 'pandas.core.frame.DataFrame'>\n",
      "RangeIndex: 1205 entries, 0 to 1204\n",
      "Data columns (total 31 columns):\n",
      " #   Column                 Non-Null Count  Dtype  \n",
      "---  ------                 --------------  -----  \n",
      " 0   datetime               1205 non-null   object \n",
      " 1   year                   1205 non-null   int64  \n",
      " 2   month                  1205 non-null   int64  \n",
      " 3   date                   1205 non-null   int64  \n",
      " 4   worker_number          1205 non-null   int64  \n",
      " 5   real_number            1205 non-null   int64  \n",
      " 6   vacation_number        1205 non-null   int64  \n",
      " 7   biztrip_number         1205 non-null   int64  \n",
      " 8   overtime_number        1205 non-null   int64  \n",
      " 9   telecom_number         1205 non-null   int64  \n",
      " 10  temperature            1204 non-null   float64\n",
      " 11  rain                   1205 non-null   float64\n",
      " 12  wind                   1204 non-null   float64\n",
      " 13  humidity               1205 non-null   float64\n",
      " 14  discomfort_index       1204 non-null   float64\n",
      " 15  perceived_temperature  1203 non-null   float64\n",
      " 16  dinner_rice            1205 non-null   int64  \n",
      " 17  dinner_number          1205 non-null   int64  \n",
      " 18  season_fall            1205 non-null   int64  \n",
      " 19  season_spring          1205 non-null   int64  \n",
      " 20  season_summer          1205 non-null   int64  \n",
      " 21  season_winter          1205 non-null   int64  \n",
      " 22  weekdays_friday        1205 non-null   int64  \n",
      " 23  weekdays_monday        1205 non-null   int64  \n",
      " 24  weekdays_thursday      1205 non-null   int64  \n",
      " 25  weekdays_tuesday       1205 non-null   int64  \n",
      " 26  weekdays_wednesday     1205 non-null   int64  \n",
      " 27  vacation_N             1205 non-null   int64  \n",
      " 28  vacation_Y             1205 non-null   int64  \n",
      " 29  new_dinner_N           1205 non-null   int64  \n",
      " 30  new_dinner_Y           1205 non-null   int64  \n",
      "dtypes: float64(6), int64(24), object(1)\n",
      "memory usage: 292.0+ KB\n"
     ]
    }
   ],
   "source": [
    "dinner.info()"
   ]
  },
  {
   "cell_type": "code",
   "execution_count": 5,
   "metadata": {},
   "outputs": [],
   "source": [
    "lunch = lunch.dropna()\n",
    "dinner = dinner.dropna()"
   ]
  },
  {
   "cell_type": "code",
   "execution_count": 6,
   "metadata": {},
   "outputs": [],
   "source": [
    "def split_lunch(data):\n",
    "    data_train = data.drop([\"lunch_number\", \"datetime\"], axis = \"columns\")\n",
    "    data_target = data.loc[:, 'lunch_number']\n",
    "    X_train, X_test, y_train, y_test = train_test_split(data_train, data_target)\n",
    "\n",
    "    return X_train, X_test, y_train, y_test\n",
    "\n",
    "def split_dinner(data):\n",
    "    data_train = data.drop([\"dinner_number\", \"datetime\"], axis = \"columns\")\n",
    "    data_target = data.loc[:, 'dinner_number']\n",
    "    X_train, X_test, y_train, y_test = train_test_split(data_train, data_target)\n",
    "\n",
    "    return X_train, X_test, y_train, y_test"
   ]
  },
  {
   "cell_type": "code",
   "execution_count": 7,
   "metadata": {},
   "outputs": [],
   "source": [
    "lunch_X_train, lunch_X_test, lunch_y_train, lunch_y_test = split_lunch(lunch)\n",
    "dinner_X_train, dinner_X_test, dinner_y_train, dinner_y_test = split_dinner(dinner)"
   ]
  },
  {
   "cell_type": "code",
   "execution_count": 8,
   "metadata": {},
   "outputs": [
    {
     "data": {
      "text/html": [
       "<div>\n",
       "<style scoped>\n",
       "    .dataframe tbody tr th:only-of-type {\n",
       "        vertical-align: middle;\n",
       "    }\n",
       "\n",
       "    .dataframe tbody tr th {\n",
       "        vertical-align: top;\n",
       "    }\n",
       "\n",
       "    .dataframe thead th {\n",
       "        text-align: right;\n",
       "    }\n",
       "</style>\n",
       "<table border=\"1\" class=\"dataframe\">\n",
       "  <thead>\n",
       "    <tr style=\"text-align: right;\">\n",
       "      <th></th>\n",
       "      <th>year</th>\n",
       "      <th>month</th>\n",
       "      <th>date</th>\n",
       "      <th>worker_number</th>\n",
       "      <th>real_number</th>\n",
       "      <th>vacation_number</th>\n",
       "      <th>biztrip_number</th>\n",
       "      <th>overtime_number</th>\n",
       "      <th>telecom_number</th>\n",
       "      <th>temperature</th>\n",
       "      <th>...</th>\n",
       "      <th>season_winter</th>\n",
       "      <th>weekdays_friday</th>\n",
       "      <th>weekdays_monday</th>\n",
       "      <th>weekdays_thursday</th>\n",
       "      <th>weekdays_tuesday</th>\n",
       "      <th>weekdays_wednesday</th>\n",
       "      <th>vacation_N</th>\n",
       "      <th>vacation_Y</th>\n",
       "      <th>new_lunch_N</th>\n",
       "      <th>new_lunch_Y</th>\n",
       "    </tr>\n",
       "  </thead>\n",
       "  <tbody>\n",
       "    <tr>\n",
       "      <th>1113</th>\n",
       "      <td>2020</td>\n",
       "      <td>9</td>\n",
       "      <td>4</td>\n",
       "      <td>3132</td>\n",
       "      <td>2241</td>\n",
       "      <td>208</td>\n",
       "      <td>221</td>\n",
       "      <td>3</td>\n",
       "      <td>462</td>\n",
       "      <td>22.6</td>\n",
       "      <td>...</td>\n",
       "      <td>0</td>\n",
       "      <td>1</td>\n",
       "      <td>0</td>\n",
       "      <td>0</td>\n",
       "      <td>0</td>\n",
       "      <td>0</td>\n",
       "      <td>1</td>\n",
       "      <td>0</td>\n",
       "      <td>1</td>\n",
       "      <td>0</td>\n",
       "    </tr>\n",
       "    <tr>\n",
       "      <th>900</th>\n",
       "      <td>2019</td>\n",
       "      <td>10</td>\n",
       "      <td>14</td>\n",
       "      <td>3121</td>\n",
       "      <td>2732</td>\n",
       "      <td>152</td>\n",
       "      <td>237</td>\n",
       "      <td>529</td>\n",
       "      <td>0</td>\n",
       "      <td>15.6</td>\n",
       "      <td>...</td>\n",
       "      <td>0</td>\n",
       "      <td>0</td>\n",
       "      <td>1</td>\n",
       "      <td>0</td>\n",
       "      <td>0</td>\n",
       "      <td>0</td>\n",
       "      <td>1</td>\n",
       "      <td>0</td>\n",
       "      <td>1</td>\n",
       "      <td>0</td>\n",
       "    </tr>\n",
       "    <tr>\n",
       "      <th>784</th>\n",
       "      <td>2019</td>\n",
       "      <td>4</td>\n",
       "      <td>22</td>\n",
       "      <td>2822</td>\n",
       "      <td>2460</td>\n",
       "      <td>109</td>\n",
       "      <td>253</td>\n",
       "      <td>533</td>\n",
       "      <td>0</td>\n",
       "      <td>17.5</td>\n",
       "      <td>...</td>\n",
       "      <td>0</td>\n",
       "      <td>0</td>\n",
       "      <td>1</td>\n",
       "      <td>0</td>\n",
       "      <td>0</td>\n",
       "      <td>0</td>\n",
       "      <td>1</td>\n",
       "      <td>0</td>\n",
       "      <td>1</td>\n",
       "      <td>0</td>\n",
       "    </tr>\n",
       "    <tr>\n",
       "      <th>470</th>\n",
       "      <td>2017</td>\n",
       "      <td>12</td>\n",
       "      <td>29</td>\n",
       "      <td>2665</td>\n",
       "      <td>1934</td>\n",
       "      <td>489</td>\n",
       "      <td>242</td>\n",
       "      <td>5</td>\n",
       "      <td>0</td>\n",
       "      <td>2.1</td>\n",
       "      <td>...</td>\n",
       "      <td>1</td>\n",
       "      <td>1</td>\n",
       "      <td>0</td>\n",
       "      <td>0</td>\n",
       "      <td>0</td>\n",
       "      <td>0</td>\n",
       "      <td>0</td>\n",
       "      <td>1</td>\n",
       "      <td>1</td>\n",
       "      <td>0</td>\n",
       "    </tr>\n",
       "    <tr>\n",
       "      <th>376</th>\n",
       "      <td>2017</td>\n",
       "      <td>8</td>\n",
       "      <td>9</td>\n",
       "      <td>2645</td>\n",
       "      <td>2007</td>\n",
       "      <td>428</td>\n",
       "      <td>210</td>\n",
       "      <td>0</td>\n",
       "      <td>0</td>\n",
       "      <td>26.7</td>\n",
       "      <td>...</td>\n",
       "      <td>0</td>\n",
       "      <td>0</td>\n",
       "      <td>0</td>\n",
       "      <td>0</td>\n",
       "      <td>0</td>\n",
       "      <td>1</td>\n",
       "      <td>1</td>\n",
       "      <td>0</td>\n",
       "      <td>1</td>\n",
       "      <td>0</td>\n",
       "    </tr>\n",
       "  </tbody>\n",
       "</table>\n",
       "<p>5 rows × 29 columns</p>\n",
       "</div>"
      ],
      "text/plain": [
       "      year  month  date  worker_number  real_number  vacation_number  \\\n",
       "1113  2020      9     4           3132         2241              208   \n",
       "900   2019     10    14           3121         2732              152   \n",
       "784   2019      4    22           2822         2460              109   \n",
       "470   2017     12    29           2665         1934              489   \n",
       "376   2017      8     9           2645         2007              428   \n",
       "\n",
       "      biztrip_number  overtime_number  telecom_number  temperature  ...  \\\n",
       "1113             221                3             462         22.6  ...   \n",
       "900              237              529               0         15.6  ...   \n",
       "784              253              533               0         17.5  ...   \n",
       "470              242                5               0          2.1  ...   \n",
       "376              210                0               0         26.7  ...   \n",
       "\n",
       "      season_winter  weekdays_friday  weekdays_monday  weekdays_thursday  \\\n",
       "1113              0                1                0                  0   \n",
       "900               0                0                1                  0   \n",
       "784               0                0                1                  0   \n",
       "470               1                1                0                  0   \n",
       "376               0                0                0                  0   \n",
       "\n",
       "      weekdays_tuesday  weekdays_wednesday  vacation_N  vacation_Y  \\\n",
       "1113                 0                   0           1           0   \n",
       "900                  0                   0           1           0   \n",
       "784                  0                   0           1           0   \n",
       "470                  0                   0           0           1   \n",
       "376                  0                   1           1           0   \n",
       "\n",
       "      new_lunch_N  new_lunch_Y  \n",
       "1113            1            0  \n",
       "900             1            0  \n",
       "784             1            0  \n",
       "470             1            0  \n",
       "376             1            0  \n",
       "\n",
       "[5 rows x 29 columns]"
      ]
     },
     "execution_count": 8,
     "metadata": {},
     "output_type": "execute_result"
    }
   ],
   "source": [
    "lunch_X_train.head()"
   ]
  },
  {
   "cell_type": "code",
   "execution_count": 9,
   "metadata": {},
   "outputs": [
    {
     "data": {
      "text/html": [
       "<div>\n",
       "<style scoped>\n",
       "    .dataframe tbody tr th:only-of-type {\n",
       "        vertical-align: middle;\n",
       "    }\n",
       "\n",
       "    .dataframe tbody tr th {\n",
       "        vertical-align: top;\n",
       "    }\n",
       "\n",
       "    .dataframe thead th {\n",
       "        text-align: right;\n",
       "    }\n",
       "</style>\n",
       "<table border=\"1\" class=\"dataframe\">\n",
       "  <thead>\n",
       "    <tr style=\"text-align: right;\">\n",
       "      <th></th>\n",
       "      <th>year</th>\n",
       "      <th>month</th>\n",
       "      <th>date</th>\n",
       "      <th>worker_number</th>\n",
       "      <th>real_number</th>\n",
       "      <th>vacation_number</th>\n",
       "      <th>biztrip_number</th>\n",
       "      <th>overtime_number</th>\n",
       "      <th>telecom_number</th>\n",
       "      <th>temperature</th>\n",
       "      <th>...</th>\n",
       "      <th>season_winter</th>\n",
       "      <th>weekdays_friday</th>\n",
       "      <th>weekdays_monday</th>\n",
       "      <th>weekdays_thursday</th>\n",
       "      <th>weekdays_tuesday</th>\n",
       "      <th>weekdays_wednesday</th>\n",
       "      <th>vacation_N</th>\n",
       "      <th>vacation_Y</th>\n",
       "      <th>new_lunch_N</th>\n",
       "      <th>new_lunch_Y</th>\n",
       "    </tr>\n",
       "  </thead>\n",
       "  <tbody>\n",
       "    <tr>\n",
       "      <th>43</th>\n",
       "      <td>2016</td>\n",
       "      <td>4</td>\n",
       "      <td>6</td>\n",
       "      <td>2643</td>\n",
       "      <td>2357</td>\n",
       "      <td>37</td>\n",
       "      <td>249</td>\n",
       "      <td>0</td>\n",
       "      <td>0</td>\n",
       "      <td>11.8</td>\n",
       "      <td>...</td>\n",
       "      <td>0</td>\n",
       "      <td>0</td>\n",
       "      <td>0</td>\n",
       "      <td>0</td>\n",
       "      <td>0</td>\n",
       "      <td>1</td>\n",
       "      <td>1</td>\n",
       "      <td>0</td>\n",
       "      <td>1</td>\n",
       "      <td>0</td>\n",
       "    </tr>\n",
       "    <tr>\n",
       "      <th>505</th>\n",
       "      <td>2018</td>\n",
       "      <td>2</td>\n",
       "      <td>21</td>\n",
       "      <td>2707</td>\n",
       "      <td>2390</td>\n",
       "      <td>74</td>\n",
       "      <td>243</td>\n",
       "      <td>0</td>\n",
       "      <td>0</td>\n",
       "      <td>2.9</td>\n",
       "      <td>...</td>\n",
       "      <td>1</td>\n",
       "      <td>0</td>\n",
       "      <td>0</td>\n",
       "      <td>0</td>\n",
       "      <td>0</td>\n",
       "      <td>1</td>\n",
       "      <td>1</td>\n",
       "      <td>0</td>\n",
       "      <td>1</td>\n",
       "      <td>0</td>\n",
       "    </tr>\n",
       "    <tr>\n",
       "      <th>357</th>\n",
       "      <td>2017</td>\n",
       "      <td>7</td>\n",
       "      <td>13</td>\n",
       "      <td>2839</td>\n",
       "      <td>2483</td>\n",
       "      <td>79</td>\n",
       "      <td>277</td>\n",
       "      <td>311</td>\n",
       "      <td>0</td>\n",
       "      <td>26.8</td>\n",
       "      <td>...</td>\n",
       "      <td>0</td>\n",
       "      <td>0</td>\n",
       "      <td>0</td>\n",
       "      <td>1</td>\n",
       "      <td>0</td>\n",
       "      <td>0</td>\n",
       "      <td>1</td>\n",
       "      <td>0</td>\n",
       "      <td>1</td>\n",
       "      <td>0</td>\n",
       "    </tr>\n",
       "    <tr>\n",
       "      <th>303</th>\n",
       "      <td>2017</td>\n",
       "      <td>4</td>\n",
       "      <td>21</td>\n",
       "      <td>2626</td>\n",
       "      <td>2182</td>\n",
       "      <td>137</td>\n",
       "      <td>307</td>\n",
       "      <td>59</td>\n",
       "      <td>0</td>\n",
       "      <td>14.3</td>\n",
       "      <td>...</td>\n",
       "      <td>0</td>\n",
       "      <td>1</td>\n",
       "      <td>0</td>\n",
       "      <td>0</td>\n",
       "      <td>0</td>\n",
       "      <td>0</td>\n",
       "      <td>1</td>\n",
       "      <td>0</td>\n",
       "      <td>1</td>\n",
       "      <td>0</td>\n",
       "    </tr>\n",
       "    <tr>\n",
       "      <th>296</th>\n",
       "      <td>2017</td>\n",
       "      <td>4</td>\n",
       "      <td>12</td>\n",
       "      <td>2626</td>\n",
       "      <td>2344</td>\n",
       "      <td>41</td>\n",
       "      <td>241</td>\n",
       "      <td>0</td>\n",
       "      <td>0</td>\n",
       "      <td>14.0</td>\n",
       "      <td>...</td>\n",
       "      <td>0</td>\n",
       "      <td>0</td>\n",
       "      <td>0</td>\n",
       "      <td>0</td>\n",
       "      <td>0</td>\n",
       "      <td>1</td>\n",
       "      <td>1</td>\n",
       "      <td>0</td>\n",
       "      <td>1</td>\n",
       "      <td>0</td>\n",
       "    </tr>\n",
       "  </tbody>\n",
       "</table>\n",
       "<p>5 rows × 29 columns</p>\n",
       "</div>"
      ],
      "text/plain": [
       "     year  month  date  worker_number  real_number  vacation_number  \\\n",
       "43   2016      4     6           2643         2357               37   \n",
       "505  2018      2    21           2707         2390               74   \n",
       "357  2017      7    13           2839         2483               79   \n",
       "303  2017      4    21           2626         2182              137   \n",
       "296  2017      4    12           2626         2344               41   \n",
       "\n",
       "     biztrip_number  overtime_number  telecom_number  temperature  ...  \\\n",
       "43              249                0               0         11.8  ...   \n",
       "505             243                0               0          2.9  ...   \n",
       "357             277              311               0         26.8  ...   \n",
       "303             307               59               0         14.3  ...   \n",
       "296             241                0               0         14.0  ...   \n",
       "\n",
       "     season_winter  weekdays_friday  weekdays_monday  weekdays_thursday  \\\n",
       "43               0                0                0                  0   \n",
       "505              1                0                0                  0   \n",
       "357              0                0                0                  1   \n",
       "303              0                1                0                  0   \n",
       "296              0                0                0                  0   \n",
       "\n",
       "     weekdays_tuesday  weekdays_wednesday  vacation_N  vacation_Y  \\\n",
       "43                  0                   1           1           0   \n",
       "505                 0                   1           1           0   \n",
       "357                 0                   0           1           0   \n",
       "303                 0                   0           1           0   \n",
       "296                 0                   1           1           0   \n",
       "\n",
       "     new_lunch_N  new_lunch_Y  \n",
       "43             1            0  \n",
       "505            1            0  \n",
       "357            1            0  \n",
       "303            1            0  \n",
       "296            1            0  \n",
       "\n",
       "[5 rows x 29 columns]"
      ]
     },
     "execution_count": 9,
     "metadata": {},
     "output_type": "execute_result"
    }
   ],
   "source": [
    "lunch_X_test.head()"
   ]
  },
  {
   "cell_type": "code",
   "execution_count": 10,
   "metadata": {},
   "outputs": [
    {
     "data": {
      "text/html": [
       "<div>\n",
       "<style scoped>\n",
       "    .dataframe tbody tr th:only-of-type {\n",
       "        vertical-align: middle;\n",
       "    }\n",
       "\n",
       "    .dataframe tbody tr th {\n",
       "        vertical-align: top;\n",
       "    }\n",
       "\n",
       "    .dataframe thead th {\n",
       "        text-align: right;\n",
       "    }\n",
       "</style>\n",
       "<table border=\"1\" class=\"dataframe\">\n",
       "  <thead>\n",
       "    <tr style=\"text-align: right;\">\n",
       "      <th></th>\n",
       "      <th>year</th>\n",
       "      <th>month</th>\n",
       "      <th>date</th>\n",
       "      <th>worker_number</th>\n",
       "      <th>real_number</th>\n",
       "      <th>vacation_number</th>\n",
       "      <th>biztrip_number</th>\n",
       "      <th>overtime_number</th>\n",
       "      <th>telecom_number</th>\n",
       "      <th>temperature</th>\n",
       "      <th>...</th>\n",
       "      <th>season_winter</th>\n",
       "      <th>weekdays_friday</th>\n",
       "      <th>weekdays_monday</th>\n",
       "      <th>weekdays_thursday</th>\n",
       "      <th>weekdays_tuesday</th>\n",
       "      <th>weekdays_wednesday</th>\n",
       "      <th>vacation_N</th>\n",
       "      <th>vacation_Y</th>\n",
       "      <th>new_dinner_N</th>\n",
       "      <th>new_dinner_Y</th>\n",
       "    </tr>\n",
       "  </thead>\n",
       "  <tbody>\n",
       "    <tr>\n",
       "      <th>1133</th>\n",
       "      <td>2020</td>\n",
       "      <td>10</td>\n",
       "      <td>8</td>\n",
       "      <td>3008</td>\n",
       "      <td>2446</td>\n",
       "      <td>88</td>\n",
       "      <td>225</td>\n",
       "      <td>734</td>\n",
       "      <td>249</td>\n",
       "      <td>18.2</td>\n",
       "      <td>...</td>\n",
       "      <td>0</td>\n",
       "      <td>0</td>\n",
       "      <td>0</td>\n",
       "      <td>1</td>\n",
       "      <td>0</td>\n",
       "      <td>0</td>\n",
       "      <td>0</td>\n",
       "      <td>1</td>\n",
       "      <td>1</td>\n",
       "      <td>0</td>\n",
       "    </tr>\n",
       "    <tr>\n",
       "      <th>992</th>\n",
       "      <td>2020</td>\n",
       "      <td>2</td>\n",
       "      <td>25</td>\n",
       "      <td>2872</td>\n",
       "      <td>2597</td>\n",
       "      <td>117</td>\n",
       "      <td>158</td>\n",
       "      <td>806</td>\n",
       "      <td>0</td>\n",
       "      <td>8.1</td>\n",
       "      <td>...</td>\n",
       "      <td>1</td>\n",
       "      <td>0</td>\n",
       "      <td>0</td>\n",
       "      <td>0</td>\n",
       "      <td>1</td>\n",
       "      <td>0</td>\n",
       "      <td>1</td>\n",
       "      <td>0</td>\n",
       "      <td>1</td>\n",
       "      <td>0</td>\n",
       "    </tr>\n",
       "    <tr>\n",
       "      <th>551</th>\n",
       "      <td>2018</td>\n",
       "      <td>4</td>\n",
       "      <td>27</td>\n",
       "      <td>2714</td>\n",
       "      <td>2205</td>\n",
       "      <td>205</td>\n",
       "      <td>304</td>\n",
       "      <td>40</td>\n",
       "      <td>0</td>\n",
       "      <td>16.1</td>\n",
       "      <td>...</td>\n",
       "      <td>0</td>\n",
       "      <td>1</td>\n",
       "      <td>0</td>\n",
       "      <td>0</td>\n",
       "      <td>0</td>\n",
       "      <td>0</td>\n",
       "      <td>1</td>\n",
       "      <td>0</td>\n",
       "      <td>1</td>\n",
       "      <td>0</td>\n",
       "    </tr>\n",
       "    <tr>\n",
       "      <th>370</th>\n",
       "      <td>2017</td>\n",
       "      <td>8</td>\n",
       "      <td>1</td>\n",
       "      <td>2645</td>\n",
       "      <td>1998</td>\n",
       "      <td>466</td>\n",
       "      <td>181</td>\n",
       "      <td>320</td>\n",
       "      <td>0</td>\n",
       "      <td>27.3</td>\n",
       "      <td>...</td>\n",
       "      <td>0</td>\n",
       "      <td>0</td>\n",
       "      <td>0</td>\n",
       "      <td>0</td>\n",
       "      <td>1</td>\n",
       "      <td>0</td>\n",
       "      <td>1</td>\n",
       "      <td>0</td>\n",
       "      <td>1</td>\n",
       "      <td>0</td>\n",
       "    </tr>\n",
       "    <tr>\n",
       "      <th>518</th>\n",
       "      <td>2018</td>\n",
       "      <td>3</td>\n",
       "      <td>13</td>\n",
       "      <td>2714</td>\n",
       "      <td>2426</td>\n",
       "      <td>39</td>\n",
       "      <td>249</td>\n",
       "      <td>556</td>\n",
       "      <td>0</td>\n",
       "      <td>10.2</td>\n",
       "      <td>...</td>\n",
       "      <td>0</td>\n",
       "      <td>0</td>\n",
       "      <td>0</td>\n",
       "      <td>0</td>\n",
       "      <td>1</td>\n",
       "      <td>0</td>\n",
       "      <td>1</td>\n",
       "      <td>0</td>\n",
       "      <td>1</td>\n",
       "      <td>0</td>\n",
       "    </tr>\n",
       "  </tbody>\n",
       "</table>\n",
       "<p>5 rows × 29 columns</p>\n",
       "</div>"
      ],
      "text/plain": [
       "      year  month  date  worker_number  real_number  vacation_number  \\\n",
       "1133  2020     10     8           3008         2446               88   \n",
       "992   2020      2    25           2872         2597              117   \n",
       "551   2018      4    27           2714         2205              205   \n",
       "370   2017      8     1           2645         1998              466   \n",
       "518   2018      3    13           2714         2426               39   \n",
       "\n",
       "      biztrip_number  overtime_number  telecom_number  temperature  ...  \\\n",
       "1133             225              734             249         18.2  ...   \n",
       "992              158              806               0          8.1  ...   \n",
       "551              304               40               0         16.1  ...   \n",
       "370              181              320               0         27.3  ...   \n",
       "518              249              556               0         10.2  ...   \n",
       "\n",
       "      season_winter  weekdays_friday  weekdays_monday  weekdays_thursday  \\\n",
       "1133              0                0                0                  1   \n",
       "992               1                0                0                  0   \n",
       "551               0                1                0                  0   \n",
       "370               0                0                0                  0   \n",
       "518               0                0                0                  0   \n",
       "\n",
       "      weekdays_tuesday  weekdays_wednesday  vacation_N  vacation_Y  \\\n",
       "1133                 0                   0           0           1   \n",
       "992                  1                   0           1           0   \n",
       "551                  0                   0           1           0   \n",
       "370                  1                   0           1           0   \n",
       "518                  1                   0           1           0   \n",
       "\n",
       "      new_dinner_N  new_dinner_Y  \n",
       "1133             1             0  \n",
       "992              1             0  \n",
       "551              1             0  \n",
       "370              1             0  \n",
       "518              1             0  \n",
       "\n",
       "[5 rows x 29 columns]"
      ]
     },
     "execution_count": 10,
     "metadata": {},
     "output_type": "execute_result"
    }
   ],
   "source": [
    "dinner_X_train.head()"
   ]
  },
  {
   "cell_type": "markdown",
   "metadata": {},
   "source": [
    "## 2. LinearRegression"
   ]
  },
  {
   "cell_type": "markdown",
   "metadata": {},
   "source": [
    "### 점심"
   ]
  },
  {
   "cell_type": "code",
   "execution_count": 11,
   "metadata": {},
   "outputs": [
    {
     "name": "stdout",
     "output_type": "stream",
     "text": [
      "기울기 : [-2.83279559e+01 -7.76203495e+00 -5.49108431e-01 -2.95644221e+12\n",
      "  2.95644221e+12  2.95644221e+12  2.95644221e+12  2.70070980e-01\n",
      "  2.95644221e+12  4.41346285e+00  1.13723525e+00 -2.25726837e+00\n",
      "  3.81346261e-01  8.50344252e-01 -5.74605916e+00  1.14481806e+08\n",
      "  3.86207814e+09  3.86207810e+09  3.86207811e+09  3.86207810e+09\n",
      "  1.27028750e+09  1.27028774e+09  1.27028750e+09  1.27028755e+09\n",
      "  1.27028766e+09  2.05989889e+09  2.05989885e+09  6.34681713e+08\n",
      "  6.34681795e+08], 절편 : -7826888015.813326\n",
      "훈련 설명력 : 0.7884995383443782\n",
      "테스트 설명력 : 0.7885257367604495\n"
     ]
    }
   ],
   "source": [
    "lr = LinearRegression()\n",
    "lr.fit(lunch_X_train, lunch_y_train)\n",
    "\n",
    "print(\"기울기 : {0}, 절편 : {1}\".format(lr.coef_, lr.intercept_))\n",
    "print(\"훈련 설명력 : {}\".format(lr.score(lunch_X_train, lunch_y_train)))\n",
    "print(\"테스트 설명력 : {}\".format(lr.score(lunch_X_test, lunch_y_test)))"
   ]
  },
  {
   "cell_type": "code",
   "execution_count": 12,
   "metadata": {},
   "outputs": [
    {
     "name": "stdout",
     "output_type": "stream",
     "text": [
      "기울기 : [-3.12058940e+01 -4.84305394e+00 -1.79558571e+00  5.23301265e+12\n",
      " -5.23301265e+12 -5.23301265e+12 -5.23301265e+12  3.38120458e-01\n",
      " -5.23301265e+12  5.23691497e+00  2.80389954e-01 -8.11949646e+00\n",
      " -2.01922408e-01  2.39980185e+00 -7.73908344e+00  6.87869397e+08\n",
      " -3.00264312e+09 -3.00264312e+09 -3.00264313e+09 -3.00264316e+09\n",
      " -1.23360034e+10 -1.23360035e+10 -1.23360035e+10 -1.23360035e+10\n",
      " -1.23360035e+10 -1.21523507e+09 -1.21523512e+09  1.06575082e+09\n",
      "  1.06575081e+09], 절편 : 15488194174.580833\n",
      "훈련 설명력 : 0.5481241816870286\n",
      "테스트 설명력 : 0.4547506837269023\n"
     ]
    }
   ],
   "source": [
    "lr = LinearRegression()\n",
    "lr.fit(dinner_X_train, dinner_y_train)\n",
    "\n",
    "print(\"기울기 : {0}, 절편 : {1}\".format(lr.coef_, lr.intercept_))\n",
    "print(\"훈련 설명력 : {}\".format(lr.score(dinner_X_train, dinner_y_train)))\n",
    "print(\"테스트 설명력 : {}\".format(lr.score(dinner_X_test, dinner_y_test)))"
   ]
  },
  {
   "cell_type": "markdown",
   "metadata": {},
   "source": [
    "## 3. SVR"
   ]
  },
  {
   "cell_type": "markdown",
   "metadata": {},
   "source": [
    "### 점심"
   ]
  },
  {
   "cell_type": "code",
   "execution_count": 30,
   "metadata": {},
   "outputs": [
    {
     "name": "stdout",
     "output_type": "stream",
     "text": [
      "Fitting 5 folds for each of 6 candidates, totalling 30 fits\n",
      "{'model__C': 1.0, 'model__gamma': 'scale'}\n",
      "0.7638550567204934\n"
     ]
    }
   ],
   "source": [
    "pipe = Pipeline([('standardscaler', StandardScaler()), (\"model\", SVR(kernel='linear'))])\n",
    "params = [{\"model__gamma\":['scale', 'auto'], 'model__C':[1.0, 0.1, 0.01]}]\n",
    "\n",
    "gs = GridSearchCV(estimator=pipe, param_grid=params, n_jobs=multiprocessing.cpu_count(), verbose=True, cv=5)\n",
    "\n",
    "gs.fit(lunch_X_train, lunch_y_train)\n",
    "\n",
    "print(gs.best_params_)\n",
    "print(gs.best_score_)"
   ]
  },
  {
   "cell_type": "code",
   "execution_count": 31,
   "metadata": {},
   "outputs": [
    {
     "name": "stdout",
     "output_type": "stream",
     "text": [
      "훈련 결과 : 0.759595499908589\n",
      "점검 결과 : 0.7381701095967383\n"
     ]
    }
   ],
   "source": [
    "model = SVR(kernel='linear', C=1.0, gamma='scale')\n",
    "model.fit(lunch_X_train, lunch_y_train)\n",
    "\n",
    "print(\"훈련 결과 : {}\".format(model.score(lunch_X_train, lunch_y_train)))\n",
    "print(\"점검 결과 : {}\".format(model.score(lunch_X_test, lunch_y_test)))"
   ]
  },
  {
   "cell_type": "markdown",
   "metadata": {},
   "source": [
    "### 저녁"
   ]
  },
  {
   "cell_type": "code",
   "execution_count": 32,
   "metadata": {},
   "outputs": [
    {
     "name": "stdout",
     "output_type": "stream",
     "text": [
      "Fitting 5 folds for each of 6 candidates, totalling 30 fits\n",
      "{'model__C': 1.0, 'model__gamma': 'scale'}\n",
      "0.4611204925810097\n"
     ]
    }
   ],
   "source": [
    "pipe = Pipeline([('standardscaler', StandardScaler()), (\"model\", SVR(kernel='linear'))])\n",
    "params = [{\"model__gamma\":['scale', 'auto'], 'model__C':[1.0, 0.1, 0.01]}]\n",
    "\n",
    "gs = GridSearchCV(estimator=pipe, param_grid=params, n_jobs=multiprocessing.cpu_count(), verbose=True, cv=5)\n",
    "\n",
    "gs.fit(dinner_X_train, dinner_y_train)\n",
    "\n",
    "print(gs.best_params_)\n",
    "print(gs.best_score_)"
   ]
  },
  {
   "cell_type": "code",
   "execution_count": 33,
   "metadata": {},
   "outputs": [
    {
     "name": "stdout",
     "output_type": "stream",
     "text": [
      "훈련 결과 : 0.4908040901257823\n",
      "점검 결과 : 0.40609066677449746\n"
     ]
    }
   ],
   "source": [
    "model = SVR(kernel='linear', C=1.0, gamma='scale')\n",
    "model.fit(dinner_X_train, dinner_y_train)\n",
    "\n",
    "print(\"훈련 결과 : {}\".format(model.score(dinner_X_train, dinner_y_train)))\n",
    "print(\"점검 결과 : {}\".format(model.score(dinner_X_test, dinner_y_test)))"
   ]
  },
  {
   "cell_type": "markdown",
   "metadata": {},
   "source": [
    "## 4. XGBoost"
   ]
  },
  {
   "cell_type": "markdown",
   "metadata": {},
   "source": [
    "### 점심"
   ]
  },
  {
   "cell_type": "code",
   "execution_count": 34,
   "metadata": {},
   "outputs": [],
   "source": [
    "param = {\n",
    "    'max_depth':[2,3,4],\n",
    "    'n_estimators':range(300,600,100), #  'n_estimators':range(600,700,50) 여기에 cv 10 (이거와 별반차이가 없다.)\n",
    "    'colsample_bytree':[0.5,0.7,1],\n",
    "    'colsample_bylevel':[0.5,0.7,1],\n",
    "    'learning_rate':[1, 0.1, 0.01]\n",
    "}\n",
    "\n",
    "model = XGBRegressor()\n",
    "\n",
    "gs = GridSearchCV(estimator=model, param_grid=param, cv=10, \n",
    "                           scoring='neg_mean_squared_error',\n",
    "                           n_jobs=multiprocessing.cpu_count())\n",
    "\n",
    "gs.fit(lunch_X_train, lunch_y_train)\n",
    "\n",
    "print(gs.best_params_)\n",
    "print(gs.best_score_)"
   ]
  },
  {
   "cell_type": "code",
   "execution_count": 13,
   "metadata": {},
   "outputs": [
    {
     "data": {
      "text/plain": [
       "XGBRegressor(base_score=0.5, booster='gbtree', colsample_bylevel=1,\n",
       "             colsample_bynode=1, colsample_bytree=1, enable_categorical=False,\n",
       "             gamma=0, gpu_id=-1, importance_type=None,\n",
       "             interaction_constraints='', learning_rate=0.1, max_delta_step=0,\n",
       "             max_depth=2, min_child_weight=1, missing=nan,\n",
       "             monotone_constraints='()', n_estimators=300, n_jobs=8,\n",
       "             num_parallel_tree=1, predictor='auto', random_state=0, reg_alpha=0,\n",
       "             reg_lambda=1, scale_pos_weight=1, subsample=1, tree_method='exact',\n",
       "             validate_parameters=1, verbosity=None)"
      ]
     },
     "execution_count": 13,
     "metadata": {},
     "output_type": "execute_result"
    }
   ],
   "source": [
    "model = XGBRegressor(n_estimators=300, colsample_bylevel=1, learning_rate=0.1, colsample_bytree=1, max_depth=2)\n",
    "\n",
    "model.fit(lunch_X_train, lunch_y_train)"
   ]
  },
  {
   "cell_type": "code",
   "execution_count": 14,
   "metadata": {},
   "outputs": [
    {
     "data": {
      "text/plain": [
       "<AxesSubplot:title={'center':'Feature importance'}, xlabel='F score', ylabel='Features'>"
      ]
     },
     "execution_count": 14,
     "metadata": {},
     "output_type": "execute_result"
    },
    {
     "data": {
      "image/png": "[encoded data removed]",
      "text/plain": [
       "<Figure size 432x288 with 1 Axes>"
      ]
     },
     "metadata": {
      "needs_background": "light"
     },
     "output_type": "display_data"
    }
   ],
   "source": [
    "xgb.plot_importance(model)"
   ]
  },
  {
   "cell_type": "code",
   "execution_count": 15,
   "metadata": {},
   "outputs": [
    {
     "data": {
      "text/plain": [
       "array([ 960.8678 ,  936.72034,  798.0688 ,  662.2082 ,  959.37854,\n",
       "       1040.8041 ,  699.81836,  703.4362 ,  987.6377 ,  699.1965 ,\n",
       "        913.2566 , 1158.5857 , 1135.8577 ,  886.7263 ,  649.5993 ,\n",
       "        946.3072 ,  815.90765, 1053.5194 ,  787.353  ,  927.09735,\n",
       "        852.02246,  621.12006,  973.1312 ,  628.4922 ,  823.7763 ,\n",
       "       1264.8076 , 1126.295  ,  655.5896 ,  945.98065,  861.179  ,\n",
       "        892.605  ,  780.3052 , 1055.0251 , 1167.6787 ,  930.9845 ,\n",
       "       1002.81836,  821.6524 , 1034.706  ,  795.40594,  653.85974,\n",
       "        654.4694 ,  855.9307 , 1208.4208 ,  932.6921 ,  886.1287 ,\n",
       "       1145.435  ,  785.15546, 1029.8525 ,  740.659  ,  800.23474,\n",
       "        951.4834 ,  850.05786,  546.6953 ,  947.6377 ,  566.69934,\n",
       "        769.6461 ,  868.81885, 1030.5999 ,  530.1046 ,  668.308  ,\n",
       "       1187.7821 ,  953.80225, 1207.2384 , 1011.33826,  974.2812 ,\n",
       "        820.9433 , 1041.4054 ,  729.91266,  946.549  ,  887.96796,\n",
       "        982.6632 , 1198.1432 ,  851.74884,  704.30975,  924.7701 ,\n",
       "        605.7502 , 1103.2749 ,  730.40436, 1143.1901 ,  969.6959 ,\n",
       "        844.82745,  551.3283 ,  596.47266,  930.12036,  604.04156,\n",
       "        906.73016, 1196.2444 ,  955.2536 ,  658.1909 , 1155.3645 ,\n",
       "        764.3841 ,  705.5406 ,  836.97046,  938.5512 , 1153.2024 ,\n",
       "       1172.4497 ,  905.5339 ,  962.41144,  647.1094 ,  862.2855 ,\n",
       "        896.88794,  983.425  ,  811.82544, 1257.6858 ,  861.3591 ,\n",
       "        852.6713 ,  650.1976 ,  642.41406,  769.88416,  551.6942 ,\n",
       "       1187.6454 ,  983.33295,  575.6602 ,  866.3367 ,  917.457  ,\n",
       "        805.45233, 1027.5514 ,  887.8847 , 1107.9308 ,  911.0604 ,\n",
       "        707.1059 ,  906.96576,  610.2694 ,  738.1504 ,  867.2359 ,\n",
       "        935.7552 ,  921.02985,  824.62134,  991.16595, 1208.8884 ,\n",
       "        849.471  ,  902.1466 ,  985.6407 ,  905.20386,  800.3362 ,\n",
       "        794.9839 ,  968.68396,  812.0833 , 1228.6338 ,  748.9184 ,\n",
       "        958.2641 , 1232.2952 , 1009.7945 ,  935.91534,  957.9832 ,\n",
       "        617.4223 ,  971.92334, 1235.4604 , 1088.1578 ,  785.23785,\n",
       "        802.0744 ,  726.7926 ,  960.4871 ,  620.6345 , 1188.2117 ,\n",
       "        832.2488 ,  772.1526 ,  836.6962 ,  768.91986, 1008.2091 ,\n",
       "        933.22986,  678.9953 ,  558.8015 ,  651.06775,  971.53015,\n",
       "        904.40594, 1001.4711 , 1202.2126 , 1259.5537 ,  806.9503 ,\n",
       "        950.21735, 1001.5017 ,  905.55707,  938.8938 ,  973.3649 ,\n",
       "        981.1902 ,  538.8674 , 1264.2029 ,  778.6432 , 1208.4537 ,\n",
       "        531.86334,  873.1968 , 1150.7051 ,  714.1471 ,  692.3207 ,\n",
       "       1058.3951 ,  899.6908 ,  863.5281 ,  842.60156,  891.79224,\n",
       "        757.73615,  377.02646,  937.10724,  851.6038 , 1001.3638 ,\n",
       "        975.9058 ,  793.3017 ,  780.56226,  915.82104,  680.95624,\n",
       "        987.09106,  635.4076 , 1229.8699 ,  971.89795,  825.4967 ,\n",
       "        756.61237,  631.4772 ,  655.6467 ,  906.96625,  609.4027 ,\n",
       "        892.9415 ,  967.3405 ,  859.6734 ,  959.90704,  838.96405,\n",
       "        754.4953 , 1265.2689 ,  660.35944, 1184.8069 ,  919.34125,\n",
       "        773.95416,  686.55774,  892.1538 ,  774.687  ,  800.9314 ,\n",
       "        949.596  , 1138.397  , 1148.696  , 1195.4408 ,  929.9355 ,\n",
       "        745.74225,  844.2256 ,  915.4264 ,  867.8485 , 1265.2498 ,\n",
       "        960.0758 , 1203.8257 , 1126.9904 ,  833.32996,  717.48376,\n",
       "        597.15826,  584.02734,  937.7315 ,  959.8576 , 1156.1666 ,\n",
       "       1172.5763 ,  797.1679 ,  584.4604 ,  850.3968 ,  611.2261 ,\n",
       "       1239.0394 ,  965.609  ,  993.0146 ,  898.1768 ,  820.48126,\n",
       "        943.7114 ,  665.7887 ,  946.64124,  889.84155,  778.55444,\n",
       "        941.83997, 1142.3147 ,  745.1172 ,  996.42316,  756.4727 ,\n",
       "        818.7181 ,  934.4991 ,  971.21515, 1167.3478 , 1023.66974,\n",
       "       1056.8771 , 1165.9623 , 1135.4999 ,  656.77606, 1167.391  ,\n",
       "        562.98096, 1142.7036 ,  636.51   ,  928.3614 , 1279.2029 ,\n",
       "       1078.9191 ,  867.1537 ,  657.93616, 1192.9384 ,  916.37866,\n",
       "        776.08563, 1015.581  ,  959.13654,  906.58887,  944.35913,\n",
       "        858.1953 ,  841.8437 , 1238.5735 , 1149.6322 ,  736.6447 ,\n",
       "        776.97   , 1196.5994 , 1048.215  ,  572.0165 ,  507.6463 ,\n",
       "       1180.8597 ], dtype=float32)"
      ]
     },
     "execution_count": 15,
     "metadata": {},
     "output_type": "execute_result"
    }
   ],
   "source": [
    "pred = model.predict(lunch_X_test)\n",
    "pred"
   ]
  },
  {
   "cell_type": "code",
   "execution_count": 16,
   "metadata": {},
   "outputs": [
    {
     "name": "stdout",
     "output_type": "stream",
     "text": [
      "훈련결과 : 0.9056584700250347\n",
      "점검결과 : 0.8284791840681989\n"
     ]
    }
   ],
   "source": [
    "score = model.score(lunch_X_train, lunch_y_train)\n",
    "print(\"훈련결과 : {}\".format(score))\n",
    "print(\"점검결과 : {}\".format(model.score(lunch_X_test, lunch_y_test)))"
   ]
  },
  {
   "cell_type": "markdown",
   "metadata": {},
   "source": [
    "### 저녁"
   ]
  },
  {
   "cell_type": "code",
   "execution_count": 108,
   "metadata": {},
   "outputs": [
    {
     "name": "stdout",
     "output_type": "stream",
     "text": [
      "{'colsample_bylevel': 0.7, 'colsample_bytree': 0.7, 'learning_rate': 0.1, 'max_depth': 4, 'n_estimators': 300}\n",
      "-6867.528714179425\n"
     ]
    }
   ],
   "source": [
    "param = {\n",
    "    'max_depth':[2,3,4],\n",
    "    'n_estimators':range(300,600,100), #  'n_estimators':range(600,700,50) 여기에 cv 10 (이거와 별반차이가 없다.)\n",
    "    'colsample_bytree':[0.5,0.7,1],\n",
    "    'colsample_bylevel':[0.5,0.7,1],\n",
    "    'learning_rate':[1, 0.1, 0.01]\n",
    "}\n",
    "model = XGBRegressor()\n",
    "\n",
    "gs = GridSearchCV(estimator=model, param_grid=param, cv=10, \n",
    "                           scoring='neg_mean_squared_error',\n",
    "                           n_jobs=multiprocessing.cpu_count())\n",
    "\n",
    "gs.fit(dinner_X_train, dinner_y_train)\n",
    "\n",
    "print(gs.best_params_)\n",
    "print(gs.best_score_)"
   ]
  },
  {
   "cell_type": "code",
   "execution_count": 109,
   "metadata": {},
   "outputs": [
    {
     "data": {
      "text/plain": [
       "XGBRegressor(base_score=0.5, booster='gbtree', colsample_bylevel=0.7,\n",
       "             colsample_bynode=1, colsample_bytree=0.7, enable_categorical=False,\n",
       "             gamma=0, gpu_id=-1, importance_type=None,\n",
       "             interaction_constraints='', learning_rate=0.1, max_delta_step=0,\n",
       "             max_depth=4, min_child_weight=1, missing=nan,\n",
       "             monotone_constraints='()', n_estimators=300, n_jobs=8,\n",
       "             num_parallel_tree=1, predictor='auto', random_state=0, reg_alpha=0,\n",
       "             reg_lambda=1, scale_pos_weight=1, subsample=1, tree_method='exact',\n",
       "             validate_parameters=1, verbosity=None)"
      ]
     },
     "execution_count": 109,
     "metadata": {},
     "output_type": "execute_result"
    }
   ],
   "source": [
    "model = XGBRegressor(n_estimators=300, colsample_bylevel=0.7, learning_rate=0.1, colsample_bytree=0.7, max_depth=4)\n",
    "\n",
    "model.fit(dinner_X_train, dinner_y_train)"
   ]
  },
  {
   "cell_type": "code",
   "execution_count": 110,
   "metadata": {},
   "outputs": [
    {
     "data": {
      "text/plain": [
       "<AxesSubplot:title={'center':'Feature importance'}, xlabel='F score', ylabel='Features'>"
      ]
     },
     "execution_count": 110,
     "metadata": {},
     "output_type": "execute_result"
    },
    {
     "data": {
      "image/png": "[encoded data removed]",
      "text/plain": [
       "<Figure size 432x288 with 1 Axes>"
      ]
     },
     "metadata": {
      "needs_background": "light"
     },
     "output_type": "display_data"
    }
   ],
   "source": [
    "xgb.plot_importance(model)"
   ]
  },
  {
   "cell_type": "code",
   "execution_count": 111,
   "metadata": {},
   "outputs": [
    {
     "data": {
      "text/plain": [
       "array([506.3951  , 545.7355  , 560.67847 , 453.60538 , 477.09317 ,\n",
       "       520.46027 , 569.4673  , 521.0431  , 463.9742  , 226.07358 ,\n",
       "       405.50122 , 445.59686 , 512.42303 , 506.10297 , 263.00015 ,\n",
       "       295.478   , 440.23413 , 583.4696  , 555.2025  , 458.98215 ,\n",
       "       386.38458 , 554.3795  , 489.89307 , 416.68646 , 364.5228  ,\n",
       "       644.59827 , 494.3374  , 511.23154 , 555.58234 , 546.2775  ,\n",
       "        63.206936, 516.03723 , 517.7914  , 441.34512 , 439.2858  ,\n",
       "       518.9681  , 480.70526 , 320.0728  , 573.04364 , 470.0521  ,\n",
       "       507.63565 , 397.79785 , 502.24954 , 416.4802  , 388.6479  ,\n",
       "       381.05    ,  63.109005, 263.3234  , 393.00998 , 544.729   ,\n",
       "       460.9678  , 282.92484 , 382.7683  , 518.99976 , 636.182   ,\n",
       "       370.8419  , 416.87195 , 526.90045 , 544.76465 , 565.84485 ,\n",
       "       634.2081  , 505.45682 , 567.92236 , 278.68576 , 327.83423 ,\n",
       "       541.1308  , 461.50668 , 482.97803 , 572.64154 , 604.45636 ,\n",
       "       499.99078 , 502.67673 , 559.7296  , 477.62256 , 520.484   ,\n",
       "       287.9111  , 516.9439  , 345.34158 , 494.416   , 517.6272  ,\n",
       "       487.64175 , 610.32996 , 524.7897  , 575.5128  , 210.08836 ,\n",
       "       484.03015 , 530.31714 , 487.72766 , 399.74097 , 380.47308 ,\n",
       "       395.59738 , 367.3731  , 514.4317  , 501.8318  , 623.68066 ,\n",
       "       575.7907  , 624.7043  , 483.8007  , 562.3212  , 545.3218  ,\n",
       "       430.86017 , 122.8768  , 604.0809  , 460.47504 , 534.73706 ,\n",
       "       493.42526 ,  91.54957 , 484.48837 , 245.14606 , 669.8491  ,\n",
       "       449.1621  , 434.0985  , 342.80255 , 519.627   , 346.93747 ,\n",
       "       349.9905  , 468.37003 , 516.9375  , 359.5602  , 309.2708  ,\n",
       "       259.82303 , 565.52136 , 477.62067 , 548.5024  , 517.62616 ,\n",
       "       139.61862 , 517.0405  , 525.2666  , 484.86795 , 584.3859  ,\n",
       "       512.3667  , 490.33597 , 553.80133 , 550.4617  , 555.9265  ,\n",
       "       495.11554 , 482.63266 , 118.172356, 554.8965  , 537.7168  ,\n",
       "       566.52026 , 483.12222 , 434.15512 , 528.8926  , 336.07758 ,\n",
       "       513.919   , 310.74796 , 566.3718  , 549.41425 , 500.66992 ,\n",
       "       597.32404 , 429.95874 , 343.74658 , 529.0113  , 535.14716 ,\n",
       "       410.3776  , 544.22833 , 520.5507  , 440.67868 , 354.9043  ,\n",
       "       464.04776 , 355.5814  , 103.88046 , 196.37794 , 412.5545  ,\n",
       "       331.5011  , 529.00195 , 594.6853  , 458.18045 , 552.80853 ,\n",
       "       324.07864 , 674.32965 , 537.87195 , 479.97504 , 350.1778  ,\n",
       "       451.15808 , 453.1855  , 509.6187  , 153.24832 , 237.73352 ,\n",
       "       514.7558  , 465.25726 , 427.19455 , 453.3334  , 581.5031  ,\n",
       "       529.62897 , 376.48648 , 242.81001 , 382.09366 , 442.6977  ,\n",
       "       157.1659  , 589.4013  , 406.17157 , 283.32343 , 292.0575  ,\n",
       "       452.06802 , 513.74384 , 186.36409 , 212.9514  , 479.3117  ,\n",
       "       347.1532  , 130.81291 , 594.2829  , 414.1156  , 544.5119  ,\n",
       "       340.93335 , 509.06763 , 354.14114 , 503.93173 , 508.45337 ,\n",
       "       538.93097 , 347.65198 , 437.8815  , 638.90985 , 576.42834 ,\n",
       "       505.5053  , 617.8353  , 468.6218  , 318.35123 , 546.2344  ,\n",
       "       402.75034 , 562.602   , 389.1366  , 440.12912 , 178.68864 ,\n",
       "       579.2923  , 459.05362 , 416.13522 , 300.17715 , 420.04672 ,\n",
       "       501.62833 , 345.9502  , 235.71667 , 373.52832 , 353.06805 ,\n",
       "       415.9596  , 443.6075  , 591.989   , 641.3445  , 563.4687  ,\n",
       "       445.69925 , 531.0455  , 382.06134 , 429.8001  , 318.09442 ,\n",
       "       359.1212  , 502.36517 , 401.08154 , 537.2906  , 560.8587  ,\n",
       "       644.1407  , 478.36102 , 669.27527 , 608.284   , 502.84607 ,\n",
       "       559.15344 , 419.92877 , 560.2389  , 520.23413 , 523.363   ,\n",
       "       339.974   , 431.2566  , 494.74973 , 706.8545  , 568.7918  ,\n",
       "       528.6025  , 473.29834 , 389.6453  , 584.9667  , 381.39108 ,\n",
       "       635.8925  , 385.4257  , 393.6798  , 485.31116 , 478.85382 ,\n",
       "       456.48483 , 582.4383  , 474.89124 , 512.5568  , 553.60913 ,\n",
       "       577.1634  , 410.23746 , 642.59015 , 522.29047 , 381.51498 ,\n",
       "       505.45834 , 350.25323 , 425.52786 , 422.5757  , 525.6359  ,\n",
       "       616.14667 , 525.75934 , 559.3347  , 374.4104  , 477.87137 ,\n",
       "       483.73276 , 418.8003  , 447.5134  , 478.91568 , 433.88992 ,\n",
       "       515.4693  ], dtype=float32)"
      ]
     },
     "execution_count": 111,
     "metadata": {},
     "output_type": "execute_result"
    }
   ],
   "source": [
    "pred = model.predict(dinner_X_test)\n",
    "pred"
   ]
  },
  {
   "cell_type": "code",
   "execution_count": 112,
   "metadata": {},
   "outputs": [
    {
     "name": "stdout",
     "output_type": "stream",
     "text": [
      "훈련결과 : 0.975636673760262\n",
      "점검결과 : 0.5702548013246657\n"
     ]
    }
   ],
   "source": [
    "score = model.score(dinner_X_train, dinner_y_train)\n",
    "print(\"훈련결과 : {}\".format(score))\n",
    "print(\"점검결과 : {}\".format(model.score(dinner_X_test, dinner_y_test)))"
   ]
  },
  {
   "cell_type": "markdown",
   "metadata": {},
   "source": [
    "## 릿지, 라쏘, 엘라스틱넷"
   ]
  },
  {
   "cell_type": "markdown",
   "metadata": {},
   "source": [
    "### 1. 릿지 - 점심"
   ]
  },
  {
   "cell_type": "code",
   "execution_count": 15,
   "metadata": {},
   "outputs": [
    {
     "name": "stdout",
     "output_type": "stream",
     "text": [
      "Ridge(alpha=1)\n"
     ]
    }
   ],
   "source": [
    "param = {'alpha':[0.1, 1, 10, 100]}\n",
    "\n",
    "model = Ridge()\n",
    "gs= GridSearchCV(estimator=model, param_grid=param, scoring='neg_mean_squared_error',cv=5)\n",
    "\n",
    "gs.fit(lunch_X_train,lunch_y_train)\n",
    "print(gs.best_estimator_)"
   ]
  },
  {
   "cell_type": "code",
   "execution_count": 22,
   "metadata": {},
   "outputs": [
    {
     "name": "stdout",
     "output_type": "stream",
     "text": [
      "훈련 결과 : 0.8042355469100188\n",
      "점검 결과 : 0.7336741221016736\n"
     ]
    }
   ],
   "source": [
    "model = Ridge(alpha=1)\n",
    "\n",
    "model.fit(lunch_X_train, lunch_y_train)\n",
    "\n",
    "print(\"훈련 결과 : {}\".format(model.score(lunch_X_train, lunch_y_train)))\n",
    "print(\"점검 결과 : {}\".format(model.score(lunch_X_test, lunch_y_test)))"
   ]
  },
  {
   "cell_type": "markdown",
   "metadata": {},
   "source": [
    "### 2. 릿지 - 저녁"
   ]
  },
  {
   "cell_type": "code",
   "execution_count": 23,
   "metadata": {},
   "outputs": [
    {
     "name": "stdout",
     "output_type": "stream",
     "text": [
      "Ridge(alpha=10)\n"
     ]
    }
   ],
   "source": [
    "param = {'alpha':[0.1, 1, 10, 100]}\n",
    "\n",
    "model = Ridge()\n",
    "gs= GridSearchCV(estimator=model, param_grid=param, scoring='neg_mean_squared_error',cv=5)\n",
    "\n",
    "gs.fit(dinner_X_train,dinner_y_train)\n",
    "print(gs.best_estimator_)"
   ]
  },
  {
   "cell_type": "code",
   "execution_count": 24,
   "metadata": {},
   "outputs": [
    {
     "name": "stdout",
     "output_type": "stream",
     "text": [
      "훈련 결과 : 0.5300103974173856\n",
      "점검 결과 : 0.5204777712713953\n"
     ]
    }
   ],
   "source": [
    "model = Ridge(alpha=10)\n",
    "\n",
    "model.fit(dinner_X_train, dinner_y_train)\n",
    "\n",
    "print(\"훈련 결과 : {}\".format(model.score(dinner_X_train, dinner_y_train)))\n",
    "print(\"점검 결과 : {}\".format(model.score(dinner_X_test, dinner_y_test)))"
   ]
  },
  {
   "cell_type": "code",
   "execution_count": null,
   "metadata": {},
   "outputs": [],
   "source": []
  }
 ],
 "metadata": {
  "interpreter": {
   "hash": "476a94dc85aeef50ce38d52ab019ae32fa2a67ff1ac8045d45d38aa23f62cc9d"
  },
  "kernelspec": {
   "display_name": "Python 3.9.7 64-bit ('ML': conda)",
   "language": "python",
   "name": "python3"
  },
  "language_info": {
   "codemirror_mode": {
    "name": "ipython",
    "version": 3
   },
   "file_extension": ".py",
   "mimetype": "text/x-python",
   "name": "python",
   "nbconvert_exporter": "python",
   "pygments_lexer": "ipython3",
   "version": "3.9.7"
  },
  "orig_nbformat": 4
 },
 "nbformat": 4,
 "nbformat_minor": 2
}
