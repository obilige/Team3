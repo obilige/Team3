{
 "cells": [
  {
   "cell_type": "markdown",
   "metadata": {},
   "source": [
    "# 데이터테이블 수정 후 작업\n",
    "- 1. year, month, date가 int값으로 되어있어 회귀분석에 영향을 줌\n",
    "    + 이 셋을 categorical화 시킴\n",
    "    + one-hot을 진행해 연도, 월, 날의 불필요한 영향 제거\n",
    "\n",
    "- 2. XGBRegressor가 가장 성적이 좋으며 중식 : 90/86 // 석식 : 91/63\n",
    "- 3.  "
   ]
  },
  {
   "cell_type": "code",
   "execution_count": 1,
   "metadata": {},
   "outputs": [],
   "source": [
    "import numpy as np\n",
    "import pandas as pd\n",
    "import matplotlib.pyplot as plt\n",
    "import seaborn as sns\n",
    "\n",
    "import matplotlib.font_manager as fm\n",
    "font_name = fm.FontProperties(fname='/Users/hoon/Library/Fonts/NanumSquareRegular.ttf').get_name()\n",
    "plt.rc(\"font\", family=font_name)\n",
    "import matplotlib as mpl\n",
    "mpl.rcParams[\"axes.unicode_minus\"] = False\n",
    "\n",
    "import requests as req\n",
    "import time\n",
    "import re\n",
    "import pickle\n",
    "\n",
    "\n",
    "from sklearn.model_selection import train_test_split, cross_val_score, cross_validate, GridSearchCV, KFold # 데이터 나누기, 점검 및 훈련\n",
    "\n",
    "from sklearn.metrics import explained_variance_score, accuracy_score, confusion_matrix, classification_report, roc_curve, precision_score, recall_score # 평가지표\n",
    "from sklearn.preprocessing import LabelEncoder, OneHotEncoder, MinMaxScaler, StandardScaler # Feature Scaling\n",
    "\n",
    "\n",
    "from sklearn.neighbors import KNeighborsRegressor\n",
    "\n",
    "from sklearn.datasets import load_iris, load_boston, load_breast_cancer, make_moons, load_digits, load_diabetes, load_wine, make_blobs # 데이터\n",
    "import mglearn # 그래프\n",
    "\n",
    "from sklearn.linear_model import LinearRegression, Lasso, Ridge, ElasticNet\n",
    "from sklearn.svm import LinearSVC, LinearSVR\n",
    "\n",
    "# conda install -c conda -py\n",
    "import xgboost as xgb\n",
    "from xgboost import XGBRegressor\n",
    "from xgboost import plot_importance, plot_tree\n",
    "\n",
    "from sklearn.pipeline import make_pipeline\n",
    "import multiprocessing\n",
    "from sklearn.pipeline import Pipeline\n",
    "\n",
    "from sklearn.naive_bayes import GaussianNB, BernoulliNB, MultinomialNB\n",
    "from sklearn.linear_model import Perceptron\n",
    "from sklearn.neural_network import MLPRegressor\n",
    "\n",
    "# pip install lightgbm\n",
    "# conda install -c conda-forge lightgbm\n",
    "from lightgbm import LGBMRegressor\n",
    "from lightgbm import plot_importance, plot_tree, plot_metric\n",
    "\n",
    "import graphviz\n",
    "\n",
    "import statsmodels.api as sm\n",
    "\n",
    "# SVC는 분류, SVR은 회귀\n",
    "# 분류알고리즘에선 끝판왕으로 불림\n",
    "from sklearn.svm import SVR, SVC"
   ]
  },
  {
   "cell_type": "markdown",
   "metadata": {},
   "source": [
    "## 1. 데이터 불러오기"
   ]
  },
  {
   "cell_type": "code",
   "execution_count": 247,
   "metadata": {},
   "outputs": [],
   "source": [
    "lunch = pd.read_csv(\"data/lunch_df_encoding.csv\")\n",
    "dinner = pd.read_csv(\"data/dinner_df_encoding.csv\")"
   ]
  },
  {
   "cell_type": "code",
   "execution_count": 248,
   "metadata": {},
   "outputs": [
    {
     "name": "stdout",
     "output_type": "stream",
     "text": [
      "<class 'pandas.core.frame.DataFrame'>\n",
      "RangeIndex: 1205 entries, 0 to 1204\n",
      "Data columns (total 31 columns):\n",
      " #   Column                 Non-Null Count  Dtype  \n",
      "---  ------                 --------------  -----  \n",
      " 0   datetime               1205 non-null   object \n",
      " 1   year                   1205 non-null   int64  \n",
      " 2   month                  1205 non-null   int64  \n",
      " 3   date                   1205 non-null   int64  \n",
      " 4   worker_number          1205 non-null   int64  \n",
      " 5   real_number            1205 non-null   int64  \n",
      " 6   vacation_number        1205 non-null   int64  \n",
      " 7   biztrip_number         1205 non-null   int64  \n",
      " 8   overtime_number        1205 non-null   int64  \n",
      " 9   telecom_number         1205 non-null   int64  \n",
      " 10  temperature            1204 non-null   float64\n",
      " 11  rain                   1205 non-null   float64\n",
      " 12  wind                   1204 non-null   float64\n",
      " 13  humidity               1205 non-null   float64\n",
      " 14  discomfort_index       1204 non-null   float64\n",
      " 15  perceived_temperature  1203 non-null   float64\n",
      " 16  lunch_rice             1205 non-null   int64  \n",
      " 17  lunch_number           1205 non-null   int64  \n",
      " 18  season_fall            1205 non-null   int64  \n",
      " 19  season_spring          1205 non-null   int64  \n",
      " 20  season_summer          1205 non-null   int64  \n",
      " 21  season_winter          1205 non-null   int64  \n",
      " 22  weekdays_friday        1205 non-null   int64  \n",
      " 23  weekdays_monday        1205 non-null   int64  \n",
      " 24  weekdays_thursday      1205 non-null   int64  \n",
      " 25  weekdays_tuesday       1205 non-null   int64  \n",
      " 26  weekdays_wednesday     1205 non-null   int64  \n",
      " 27  vacation_N             1205 non-null   int64  \n",
      " 28  vacation_Y             1205 non-null   int64  \n",
      " 29  new_lunch_N            1205 non-null   int64  \n",
      " 30  new_lunch_Y            1205 non-null   int64  \n",
      "dtypes: float64(6), int64(24), object(1)\n",
      "memory usage: 292.0+ KB\n"
     ]
    }
   ],
   "source": [
    "lunch.info()"
   ]
  },
  {
   "cell_type": "code",
   "execution_count": 249,
   "metadata": {},
   "outputs": [
    {
     "name": "stdout",
     "output_type": "stream",
     "text": [
      "<class 'pandas.core.frame.DataFrame'>\n",
      "RangeIndex: 1205 entries, 0 to 1204\n",
      "Data columns (total 31 columns):\n",
      " #   Column                 Non-Null Count  Dtype  \n",
      "---  ------                 --------------  -----  \n",
      " 0   datetime               1205 non-null   object \n",
      " 1   year                   1205 non-null   int64  \n",
      " 2   month                  1205 non-null   int64  \n",
      " 3   date                   1205 non-null   int64  \n",
      " 4   worker_number          1205 non-null   int64  \n",
      " 5   real_number            1205 non-null   int64  \n",
      " 6   vacation_number        1205 non-null   int64  \n",
      " 7   biztrip_number         1205 non-null   int64  \n",
      " 8   overtime_number        1205 non-null   int64  \n",
      " 9   telecom_number         1205 non-null   int64  \n",
      " 10  temperature            1204 non-null   float64\n",
      " 11  rain                   1205 non-null   float64\n",
      " 12  wind                   1204 non-null   float64\n",
      " 13  humidity               1205 non-null   float64\n",
      " 14  discomfort_index       1204 non-null   float64\n",
      " 15  perceived_temperature  1203 non-null   float64\n",
      " 16  dinner_rice            1205 non-null   int64  \n",
      " 17  dinner_number          1205 non-null   int64  \n",
      " 18  season_fall            1205 non-null   int64  \n",
      " 19  season_spring          1205 non-null   int64  \n",
      " 20  season_summer          1205 non-null   int64  \n",
      " 21  season_winter          1205 non-null   int64  \n",
      " 22  weekdays_friday        1205 non-null   int64  \n",
      " 23  weekdays_monday        1205 non-null   int64  \n",
      " 24  weekdays_thursday      1205 non-null   int64  \n",
      " 25  weekdays_tuesday       1205 non-null   int64  \n",
      " 26  weekdays_wednesday     1205 non-null   int64  \n",
      " 27  vacation_N             1205 non-null   int64  \n",
      " 28  vacation_Y             1205 non-null   int64  \n",
      " 29  new_dinner_N           1205 non-null   int64  \n",
      " 30  new_dinner_Y           1205 non-null   int64  \n",
      "dtypes: float64(6), int64(24), object(1)\n",
      "memory usage: 292.0+ KB\n"
     ]
    }
   ],
   "source": [
    "dinner.info()"
   ]
  },
  {
   "cell_type": "code",
   "execution_count": 250,
   "metadata": {},
   "outputs": [],
   "source": [
    "lunch = lunch.dropna()\n",
    "dinner = dinner.dropna()"
   ]
  },
  {
   "cell_type": "code",
   "execution_count": 251,
   "metadata": {},
   "outputs": [],
   "source": [
    "def split_lunch(data):\n",
    "    data_train = data.drop([\"lunch_number\", \"datetime\"], axis = \"columns\")\n",
    "    data_target = data.loc[:, 'lunch_number']\n",
    "    times = ['year', 'month', 'date']\n",
    "    for col in times:\n",
    "        data_train[col] = data_train[col].astype('category')\n",
    "    data_train = pd.get_dummies(data_train)\n",
    "    X_train, X_test, y_train, y_test = train_test_split(data_train, data_target)\n",
    "\n",
    "    return X_train, X_test, y_train, y_test\n",
    "\n",
    "def split_dinner(data):\n",
    "    data_train = data.drop([\"dinner_number\", \"datetime\"], axis = \"columns\")\n",
    "    data_target = data.loc[:, 'dinner_number']\n",
    "    times = ['year', 'month', 'date']\n",
    "    for col in times:\n",
    "        data_train[col] = data_train[col].astype('category')\n",
    "    data_train = pd.get_dummies(data_train)\n",
    "    X_train, X_test, y_train, y_test = train_test_split(data_train, data_target)\n",
    "\n",
    "    return X_train, X_test, y_train, y_test"
   ]
  },
  {
   "cell_type": "code",
   "execution_count": 252,
   "metadata": {},
   "outputs": [],
   "source": [
    "lunch_X_train, lunch_X_test, lunch_y_train, lunch_y_test = split_lunch(lunch)\n",
    "dinner_X_train, dinner_X_test, dinner_y_train, dinner_y_test = split_dinner(dinner)"
   ]
  },
  {
   "cell_type": "code",
   "execution_count": 253,
   "metadata": {},
   "outputs": [
    {
     "name": "stdout",
     "output_type": "stream",
     "text": [
      "<class 'pandas.core.frame.DataFrame'>\n",
      "Int64Index: 902 entries, 1171 to 625\n",
      "Data columns (total 75 columns):\n",
      " #   Column                 Non-Null Count  Dtype  \n",
      "---  ------                 --------------  -----  \n",
      " 0   worker_number          902 non-null    int64  \n",
      " 1   real_number            902 non-null    int64  \n",
      " 2   vacation_number        902 non-null    int64  \n",
      " 3   biztrip_number         902 non-null    int64  \n",
      " 4   overtime_number        902 non-null    int64  \n",
      " 5   telecom_number         902 non-null    int64  \n",
      " 6   temperature            902 non-null    float64\n",
      " 7   rain                   902 non-null    float64\n",
      " 8   wind                   902 non-null    float64\n",
      " 9   humidity               902 non-null    float64\n",
      " 10  discomfort_index       902 non-null    float64\n",
      " 11  perceived_temperature  902 non-null    float64\n",
      " 12  lunch_rice             902 non-null    int64  \n",
      " 13  season_fall            902 non-null    int64  \n",
      " 14  season_spring          902 non-null    int64  \n",
      " 15  season_summer          902 non-null    int64  \n",
      " 16  season_winter          902 non-null    int64  \n",
      " 17  weekdays_friday        902 non-null    int64  \n",
      " 18  weekdays_monday        902 non-null    int64  \n",
      " 19  weekdays_thursday      902 non-null    int64  \n",
      " 20  weekdays_tuesday       902 non-null    int64  \n",
      " 21  weekdays_wednesday     902 non-null    int64  \n",
      " 22  vacation_N             902 non-null    int64  \n",
      " 23  vacation_Y             902 non-null    int64  \n",
      " 24  new_lunch_N            902 non-null    int64  \n",
      " 25  new_lunch_Y            902 non-null    int64  \n",
      " 26  year_2016              902 non-null    uint8  \n",
      " 27  year_2017              902 non-null    uint8  \n",
      " 28  year_2018              902 non-null    uint8  \n",
      " 29  year_2019              902 non-null    uint8  \n",
      " 30  year_2020              902 non-null    uint8  \n",
      " 31  year_2021              902 non-null    uint8  \n",
      " 32  month_1                902 non-null    uint8  \n",
      " 33  month_2                902 non-null    uint8  \n",
      " 34  month_3                902 non-null    uint8  \n",
      " 35  month_4                902 non-null    uint8  \n",
      " 36  month_5                902 non-null    uint8  \n",
      " 37  month_6                902 non-null    uint8  \n",
      " 38  month_7                902 non-null    uint8  \n",
      " 39  month_8                902 non-null    uint8  \n",
      " 40  month_9                902 non-null    uint8  \n",
      " 41  month_10               902 non-null    uint8  \n",
      " 42  month_11               902 non-null    uint8  \n",
      " 43  month_12               902 non-null    uint8  \n",
      " 44  date_1                 902 non-null    uint8  \n",
      " 45  date_2                 902 non-null    uint8  \n",
      " 46  date_3                 902 non-null    uint8  \n",
      " 47  date_4                 902 non-null    uint8  \n",
      " 48  date_5                 902 non-null    uint8  \n",
      " 49  date_6                 902 non-null    uint8  \n",
      " 50  date_7                 902 non-null    uint8  \n",
      " 51  date_8                 902 non-null    uint8  \n",
      " 52  date_9                 902 non-null    uint8  \n",
      " 53  date_10                902 non-null    uint8  \n",
      " 54  date_11                902 non-null    uint8  \n",
      " 55  date_12                902 non-null    uint8  \n",
      " 56  date_13                902 non-null    uint8  \n",
      " 57  date_14                902 non-null    uint8  \n",
      " 58  date_15                902 non-null    uint8  \n",
      " 59  date_16                902 non-null    uint8  \n",
      " 60  date_17                902 non-null    uint8  \n",
      " 61  date_18                902 non-null    uint8  \n",
      " 62  date_19                902 non-null    uint8  \n",
      " 63  date_20                902 non-null    uint8  \n",
      " 64  date_21                902 non-null    uint8  \n",
      " 65  date_22                902 non-null    uint8  \n",
      " 66  date_23                902 non-null    uint8  \n",
      " 67  date_24                902 non-null    uint8  \n",
      " 68  date_25                902 non-null    uint8  \n",
      " 69  date_26                902 non-null    uint8  \n",
      " 70  date_27                902 non-null    uint8  \n",
      " 71  date_28                902 non-null    uint8  \n",
      " 72  date_29                902 non-null    uint8  \n",
      " 73  date_30                902 non-null    uint8  \n",
      " 74  date_31                902 non-null    uint8  \n",
      "dtypes: float64(6), int64(20), uint8(49)\n",
      "memory usage: 233.4 KB\n"
     ]
    }
   ],
   "source": [
    "lunch_X_train.info()"
   ]
  },
  {
   "cell_type": "code",
   "execution_count": 254,
   "metadata": {},
   "outputs": [
    {
     "name": "stdout",
     "output_type": "stream",
     "text": [
      "<class 'pandas.core.frame.DataFrame'>\n",
      "Int64Index: 902 entries, 702 to 172\n",
      "Data columns (total 75 columns):\n",
      " #   Column                 Non-Null Count  Dtype  \n",
      "---  ------                 --------------  -----  \n",
      " 0   worker_number          902 non-null    int64  \n",
      " 1   real_number            902 non-null    int64  \n",
      " 2   vacation_number        902 non-null    int64  \n",
      " 3   biztrip_number         902 non-null    int64  \n",
      " 4   overtime_number        902 non-null    int64  \n",
      " 5   telecom_number         902 non-null    int64  \n",
      " 6   temperature            902 non-null    float64\n",
      " 7   rain                   902 non-null    float64\n",
      " 8   wind                   902 non-null    float64\n",
      " 9   humidity               902 non-null    float64\n",
      " 10  discomfort_index       902 non-null    float64\n",
      " 11  perceived_temperature  902 non-null    float64\n",
      " 12  dinner_rice            902 non-null    int64  \n",
      " 13  season_fall            902 non-null    int64  \n",
      " 14  season_spring          902 non-null    int64  \n",
      " 15  season_summer          902 non-null    int64  \n",
      " 16  season_winter          902 non-null    int64  \n",
      " 17  weekdays_friday        902 non-null    int64  \n",
      " 18  weekdays_monday        902 non-null    int64  \n",
      " 19  weekdays_thursday      902 non-null    int64  \n",
      " 20  weekdays_tuesday       902 non-null    int64  \n",
      " 21  weekdays_wednesday     902 non-null    int64  \n",
      " 22  vacation_N             902 non-null    int64  \n",
      " 23  vacation_Y             902 non-null    int64  \n",
      " 24  new_dinner_N           902 non-null    int64  \n",
      " 25  new_dinner_Y           902 non-null    int64  \n",
      " 26  year_2016              902 non-null    uint8  \n",
      " 27  year_2017              902 non-null    uint8  \n",
      " 28  year_2018              902 non-null    uint8  \n",
      " 29  year_2019              902 non-null    uint8  \n",
      " 30  year_2020              902 non-null    uint8  \n",
      " 31  year_2021              902 non-null    uint8  \n",
      " 32  month_1                902 non-null    uint8  \n",
      " 33  month_2                902 non-null    uint8  \n",
      " 34  month_3                902 non-null    uint8  \n",
      " 35  month_4                902 non-null    uint8  \n",
      " 36  month_5                902 non-null    uint8  \n",
      " 37  month_6                902 non-null    uint8  \n",
      " 38  month_7                902 non-null    uint8  \n",
      " 39  month_8                902 non-null    uint8  \n",
      " 40  month_9                902 non-null    uint8  \n",
      " 41  month_10               902 non-null    uint8  \n",
      " 42  month_11               902 non-null    uint8  \n",
      " 43  month_12               902 non-null    uint8  \n",
      " 44  date_1                 902 non-null    uint8  \n",
      " 45  date_2                 902 non-null    uint8  \n",
      " 46  date_3                 902 non-null    uint8  \n",
      " 47  date_4                 902 non-null    uint8  \n",
      " 48  date_5                 902 non-null    uint8  \n",
      " 49  date_6                 902 non-null    uint8  \n",
      " 50  date_7                 902 non-null    uint8  \n",
      " 51  date_8                 902 non-null    uint8  \n",
      " 52  date_9                 902 non-null    uint8  \n",
      " 53  date_10                902 non-null    uint8  \n",
      " 54  date_11                902 non-null    uint8  \n",
      " 55  date_12                902 non-null    uint8  \n",
      " 56  date_13                902 non-null    uint8  \n",
      " 57  date_14                902 non-null    uint8  \n",
      " 58  date_15                902 non-null    uint8  \n",
      " 59  date_16                902 non-null    uint8  \n",
      " 60  date_17                902 non-null    uint8  \n",
      " 61  date_18                902 non-null    uint8  \n",
      " 62  date_19                902 non-null    uint8  \n",
      " 63  date_20                902 non-null    uint8  \n",
      " 64  date_21                902 non-null    uint8  \n",
      " 65  date_22                902 non-null    uint8  \n",
      " 66  date_23                902 non-null    uint8  \n",
      " 67  date_24                902 non-null    uint8  \n",
      " 68  date_25                902 non-null    uint8  \n",
      " 69  date_26                902 non-null    uint8  \n",
      " 70  date_27                902 non-null    uint8  \n",
      " 71  date_28                902 non-null    uint8  \n",
      " 72  date_29                902 non-null    uint8  \n",
      " 73  date_30                902 non-null    uint8  \n",
      " 74  date_31                902 non-null    uint8  \n",
      "dtypes: float64(6), int64(20), uint8(49)\n",
      "memory usage: 233.4 KB\n"
     ]
    }
   ],
   "source": [
    "dinner_X_train.info()"
   ]
  },
  {
   "cell_type": "code",
   "execution_count": 255,
   "metadata": {},
   "outputs": [
    {
     "data": {
      "text/html": [
       "<div>\n",
       "<style scoped>\n",
       "    .dataframe tbody tr th:only-of-type {\n",
       "        vertical-align: middle;\n",
       "    }\n",
       "\n",
       "    .dataframe tbody tr th {\n",
       "        vertical-align: top;\n",
       "    }\n",
       "\n",
       "    .dataframe thead th {\n",
       "        text-align: right;\n",
       "    }\n",
       "</style>\n",
       "<table border=\"1\" class=\"dataframe\">\n",
       "  <thead>\n",
       "    <tr style=\"text-align: right;\">\n",
       "      <th></th>\n",
       "      <th>worker_number</th>\n",
       "      <th>real_number</th>\n",
       "      <th>vacation_number</th>\n",
       "      <th>biztrip_number</th>\n",
       "      <th>overtime_number</th>\n",
       "      <th>telecom_number</th>\n",
       "      <th>temperature</th>\n",
       "      <th>rain</th>\n",
       "      <th>wind</th>\n",
       "      <th>humidity</th>\n",
       "      <th>...</th>\n",
       "      <th>date_22</th>\n",
       "      <th>date_23</th>\n",
       "      <th>date_24</th>\n",
       "      <th>date_25</th>\n",
       "      <th>date_26</th>\n",
       "      <th>date_27</th>\n",
       "      <th>date_28</th>\n",
       "      <th>date_29</th>\n",
       "      <th>date_30</th>\n",
       "      <th>date_31</th>\n",
       "    </tr>\n",
       "  </thead>\n",
       "  <tbody>\n",
       "    <tr>\n",
       "      <th>817</th>\n",
       "      <td>2758</td>\n",
       "      <td>2436</td>\n",
       "      <td>55</td>\n",
       "      <td>267</td>\n",
       "      <td>624</td>\n",
       "      <td>0</td>\n",
       "      <td>19.0</td>\n",
       "      <td>1.9</td>\n",
       "      <td>1.1</td>\n",
       "      <td>75.9</td>\n",
       "      <td>...</td>\n",
       "      <td>0</td>\n",
       "      <td>0</td>\n",
       "      <td>0</td>\n",
       "      <td>0</td>\n",
       "      <td>0</td>\n",
       "      <td>0</td>\n",
       "      <td>0</td>\n",
       "      <td>0</td>\n",
       "      <td>0</td>\n",
       "      <td>0</td>\n",
       "    </tr>\n",
       "    <tr>\n",
       "      <th>554</th>\n",
       "      <td>2721</td>\n",
       "      <td>2323</td>\n",
       "      <td>102</td>\n",
       "      <td>296</td>\n",
       "      <td>332</td>\n",
       "      <td>0</td>\n",
       "      <td>13.3</td>\n",
       "      <td>0.0</td>\n",
       "      <td>3.4</td>\n",
       "      <td>45.3</td>\n",
       "      <td>...</td>\n",
       "      <td>0</td>\n",
       "      <td>0</td>\n",
       "      <td>0</td>\n",
       "      <td>0</td>\n",
       "      <td>0</td>\n",
       "      <td>0</td>\n",
       "      <td>0</td>\n",
       "      <td>0</td>\n",
       "      <td>0</td>\n",
       "      <td>0</td>\n",
       "    </tr>\n",
       "    <tr>\n",
       "      <th>749</th>\n",
       "      <td>2836</td>\n",
       "      <td>2451</td>\n",
       "      <td>213</td>\n",
       "      <td>172</td>\n",
       "      <td>708</td>\n",
       "      <td>0</td>\n",
       "      <td>10.2</td>\n",
       "      <td>0.0</td>\n",
       "      <td>0.9</td>\n",
       "      <td>63.4</td>\n",
       "      <td>...</td>\n",
       "      <td>0</td>\n",
       "      <td>0</td>\n",
       "      <td>0</td>\n",
       "      <td>0</td>\n",
       "      <td>0</td>\n",
       "      <td>0</td>\n",
       "      <td>0</td>\n",
       "      <td>0</td>\n",
       "      <td>0</td>\n",
       "      <td>0</td>\n",
       "    </tr>\n",
       "    <tr>\n",
       "      <th>202</th>\n",
       "      <td>2689</td>\n",
       "      <td>2356</td>\n",
       "      <td>114</td>\n",
       "      <td>219</td>\n",
       "      <td>397</td>\n",
       "      <td>0</td>\n",
       "      <td>3.9</td>\n",
       "      <td>0.0</td>\n",
       "      <td>0.8</td>\n",
       "      <td>61.5</td>\n",
       "      <td>...</td>\n",
       "      <td>0</td>\n",
       "      <td>0</td>\n",
       "      <td>0</td>\n",
       "      <td>0</td>\n",
       "      <td>0</td>\n",
       "      <td>0</td>\n",
       "      <td>1</td>\n",
       "      <td>0</td>\n",
       "      <td>0</td>\n",
       "      <td>0</td>\n",
       "    </tr>\n",
       "    <tr>\n",
       "      <th>678</th>\n",
       "      <td>2815</td>\n",
       "      <td>2386</td>\n",
       "      <td>147</td>\n",
       "      <td>282</td>\n",
       "      <td>291</td>\n",
       "      <td>0</td>\n",
       "      <td>8.7</td>\n",
       "      <td>0.0</td>\n",
       "      <td>0.4</td>\n",
       "      <td>74.9</td>\n",
       "      <td>...</td>\n",
       "      <td>0</td>\n",
       "      <td>0</td>\n",
       "      <td>0</td>\n",
       "      <td>0</td>\n",
       "      <td>0</td>\n",
       "      <td>0</td>\n",
       "      <td>0</td>\n",
       "      <td>0</td>\n",
       "      <td>0</td>\n",
       "      <td>0</td>\n",
       "    </tr>\n",
       "  </tbody>\n",
       "</table>\n",
       "<p>5 rows × 75 columns</p>\n",
       "</div>"
      ],
      "text/plain": [
       "     worker_number  real_number  vacation_number  biztrip_number  \\\n",
       "817           2758         2436               55             267   \n",
       "554           2721         2323              102             296   \n",
       "749           2836         2451              213             172   \n",
       "202           2689         2356              114             219   \n",
       "678           2815         2386              147             282   \n",
       "\n",
       "     overtime_number  telecom_number  temperature  rain  wind  humidity  ...  \\\n",
       "817              624               0         19.0   1.9   1.1      75.9  ...   \n",
       "554              332               0         13.3   0.0   3.4      45.3  ...   \n",
       "749              708               0         10.2   0.0   0.9      63.4  ...   \n",
       "202              397               0          3.9   0.0   0.8      61.5  ...   \n",
       "678              291               0          8.7   0.0   0.4      74.9  ...   \n",
       "\n",
       "     date_22  date_23  date_24  date_25  date_26  date_27  date_28  date_29  \\\n",
       "817        0        0        0        0        0        0        0        0   \n",
       "554        0        0        0        0        0        0        0        0   \n",
       "749        0        0        0        0        0        0        0        0   \n",
       "202        0        0        0        0        0        0        1        0   \n",
       "678        0        0        0        0        0        0        0        0   \n",
       "\n",
       "     date_30  date_31  \n",
       "817        0        0  \n",
       "554        0        0  \n",
       "749        0        0  \n",
       "202        0        0  \n",
       "678        0        0  \n",
       "\n",
       "[5 rows x 75 columns]"
      ]
     },
     "execution_count": 255,
     "metadata": {},
     "output_type": "execute_result"
    }
   ],
   "source": [
    "lunch_X_test.head()"
   ]
  },
  {
   "cell_type": "code",
   "execution_count": 256,
   "metadata": {},
   "outputs": [
    {
     "data": {
      "text/html": [
       "<div>\n",
       "<style scoped>\n",
       "    .dataframe tbody tr th:only-of-type {\n",
       "        vertical-align: middle;\n",
       "    }\n",
       "\n",
       "    .dataframe tbody tr th {\n",
       "        vertical-align: top;\n",
       "    }\n",
       "\n",
       "    .dataframe thead th {\n",
       "        text-align: right;\n",
       "    }\n",
       "</style>\n",
       "<table border=\"1\" class=\"dataframe\">\n",
       "  <thead>\n",
       "    <tr style=\"text-align: right;\">\n",
       "      <th></th>\n",
       "      <th>worker_number</th>\n",
       "      <th>real_number</th>\n",
       "      <th>vacation_number</th>\n",
       "      <th>biztrip_number</th>\n",
       "      <th>overtime_number</th>\n",
       "      <th>telecom_number</th>\n",
       "      <th>temperature</th>\n",
       "      <th>rain</th>\n",
       "      <th>wind</th>\n",
       "      <th>humidity</th>\n",
       "      <th>...</th>\n",
       "      <th>date_22</th>\n",
       "      <th>date_23</th>\n",
       "      <th>date_24</th>\n",
       "      <th>date_25</th>\n",
       "      <th>date_26</th>\n",
       "      <th>date_27</th>\n",
       "      <th>date_28</th>\n",
       "      <th>date_29</th>\n",
       "      <th>date_30</th>\n",
       "      <th>date_31</th>\n",
       "    </tr>\n",
       "  </thead>\n",
       "  <tbody>\n",
       "    <tr>\n",
       "      <th>702</th>\n",
       "      <td>2846</td>\n",
       "      <td>2504</td>\n",
       "      <td>86</td>\n",
       "      <td>256</td>\n",
       "      <td>0</td>\n",
       "      <td>0</td>\n",
       "      <td>4.6</td>\n",
       "      <td>0.0</td>\n",
       "      <td>0.8</td>\n",
       "      <td>64.6</td>\n",
       "      <td>...</td>\n",
       "      <td>0</td>\n",
       "      <td>0</td>\n",
       "      <td>0</td>\n",
       "      <td>0</td>\n",
       "      <td>0</td>\n",
       "      <td>0</td>\n",
       "      <td>0</td>\n",
       "      <td>0</td>\n",
       "      <td>0</td>\n",
       "      <td>0</td>\n",
       "    </tr>\n",
       "    <tr>\n",
       "      <th>495</th>\n",
       "      <td>2707</td>\n",
       "      <td>2418</td>\n",
       "      <td>76</td>\n",
       "      <td>213</td>\n",
       "      <td>560</td>\n",
       "      <td>0</td>\n",
       "      <td>-5.0</td>\n",
       "      <td>0.0</td>\n",
       "      <td>2.3</td>\n",
       "      <td>35.1</td>\n",
       "      <td>...</td>\n",
       "      <td>0</td>\n",
       "      <td>0</td>\n",
       "      <td>0</td>\n",
       "      <td>0</td>\n",
       "      <td>0</td>\n",
       "      <td>0</td>\n",
       "      <td>0</td>\n",
       "      <td>0</td>\n",
       "      <td>0</td>\n",
       "      <td>0</td>\n",
       "    </tr>\n",
       "    <tr>\n",
       "      <th>1080</th>\n",
       "      <td>2997</td>\n",
       "      <td>2480</td>\n",
       "      <td>157</td>\n",
       "      <td>220</td>\n",
       "      <td>518</td>\n",
       "      <td>140</td>\n",
       "      <td>26.3</td>\n",
       "      <td>0.7</td>\n",
       "      <td>1.4</td>\n",
       "      <td>88.0</td>\n",
       "      <td>...</td>\n",
       "      <td>0</td>\n",
       "      <td>0</td>\n",
       "      <td>0</td>\n",
       "      <td>0</td>\n",
       "      <td>0</td>\n",
       "      <td>0</td>\n",
       "      <td>0</td>\n",
       "      <td>0</td>\n",
       "      <td>0</td>\n",
       "      <td>0</td>\n",
       "    </tr>\n",
       "    <tr>\n",
       "      <th>932</th>\n",
       "      <td>3104</td>\n",
       "      <td>2682</td>\n",
       "      <td>134</td>\n",
       "      <td>288</td>\n",
       "      <td>1</td>\n",
       "      <td>0</td>\n",
       "      <td>8.2</td>\n",
       "      <td>0.0</td>\n",
       "      <td>0.8</td>\n",
       "      <td>65.3</td>\n",
       "      <td>...</td>\n",
       "      <td>0</td>\n",
       "      <td>0</td>\n",
       "      <td>0</td>\n",
       "      <td>0</td>\n",
       "      <td>0</td>\n",
       "      <td>1</td>\n",
       "      <td>0</td>\n",
       "      <td>0</td>\n",
       "      <td>0</td>\n",
       "      <td>0</td>\n",
       "    </tr>\n",
       "    <tr>\n",
       "      <th>1017</th>\n",
       "      <td>2950</td>\n",
       "      <td>2181</td>\n",
       "      <td>193</td>\n",
       "      <td>43</td>\n",
       "      <td>528</td>\n",
       "      <td>533</td>\n",
       "      <td>11.4</td>\n",
       "      <td>0.0</td>\n",
       "      <td>0.7</td>\n",
       "      <td>65.9</td>\n",
       "      <td>...</td>\n",
       "      <td>0</td>\n",
       "      <td>0</td>\n",
       "      <td>0</td>\n",
       "      <td>0</td>\n",
       "      <td>0</td>\n",
       "      <td>0</td>\n",
       "      <td>0</td>\n",
       "      <td>0</td>\n",
       "      <td>0</td>\n",
       "      <td>1</td>\n",
       "    </tr>\n",
       "  </tbody>\n",
       "</table>\n",
       "<p>5 rows × 75 columns</p>\n",
       "</div>"
      ],
      "text/plain": [
       "      worker_number  real_number  vacation_number  biztrip_number  \\\n",
       "702            2846         2504               86             256   \n",
       "495            2707         2418               76             213   \n",
       "1080           2997         2480              157             220   \n",
       "932            3104         2682              134             288   \n",
       "1017           2950         2181              193              43   \n",
       "\n",
       "      overtime_number  telecom_number  temperature  rain  wind  humidity  ...  \\\n",
       "702                 0               0          4.6   0.0   0.8      64.6  ...   \n",
       "495               560               0         -5.0   0.0   2.3      35.1  ...   \n",
       "1080              518             140         26.3   0.7   1.4      88.0  ...   \n",
       "932                 1               0          8.2   0.0   0.8      65.3  ...   \n",
       "1017              528             533         11.4   0.0   0.7      65.9  ...   \n",
       "\n",
       "      date_22  date_23  date_24  date_25  date_26  date_27  date_28  date_29  \\\n",
       "702         0        0        0        0        0        0        0        0   \n",
       "495         0        0        0        0        0        0        0        0   \n",
       "1080        0        0        0        0        0        0        0        0   \n",
       "932         0        0        0        0        0        1        0        0   \n",
       "1017        0        0        0        0        0        0        0        0   \n",
       "\n",
       "      date_30  date_31  \n",
       "702         0        0  \n",
       "495         0        0  \n",
       "1080        0        0  \n",
       "932         0        0  \n",
       "1017        0        1  \n",
       "\n",
       "[5 rows x 75 columns]"
      ]
     },
     "execution_count": 256,
     "metadata": {},
     "output_type": "execute_result"
    }
   ],
   "source": [
    "dinner_X_train.head()"
   ]
  },
  {
   "cell_type": "code",
   "execution_count": 290,
   "metadata": {},
   "outputs": [],
   "source": [
    "# lunch_X_train.to_csv(\"data/split/lunch_X_train.csv\", encoding='utf-8', index=False)\n",
    "# lunch_X_test.to_csv(\"data/split/lunch_X_test.csv\", encoding='utf-8', index=False)\n",
    "# lunch_y_train.to_csv(\"data/split/lunch_y_train.csv\", encoding='utf-8', index=False)\n",
    "# lunch_y_test.to_csv(\"data/split/lunch_y_test.csv\", encoding='utf-8', index=False)\n",
    "# dinner_X_train.to_csv(\"data/split/dinner_X_train.csv\", encoding='utf-8', index=False)\n",
    "# dinner_X_test.to_csv(\"data/split/dinner_X_test.csv\", encoding='utf-8', index=False)\n",
    "# dinner_y_train.to_csv(\"data/split/dinner_y_train.csv\", encoding='utf-8', index=False)\n",
    "# dinner_y_test.to_csv(\"data/split/dinner_y_test.csv\", encoding='utf-8', index=False)"
   ]
  },
  {
   "cell_type": "markdown",
   "metadata": {},
   "source": [
    "## 2. LinearRegression"
   ]
  },
  {
   "cell_type": "code",
   "execution_count": null,
   "metadata": {},
   "outputs": [],
   "source": [
    "lunch_X_train=pd.read_csv(\"data/split/lunch_X_train.csv\", encoding='utf-8', index=False)\n",
    "lunch_X_test=pd.read_csv(\"data/split/lunch_X_test.csv\", encoding='utf-8', index=False)\n",
    "lunch_y_train=pd.read_csv(\"data/split/lunch_y_train.csv\", encoding='utf-8', index=False)\n",
    "lunch_y_test=pd.read_csv(\"data/split/lunch_y_test.csv\", encoding='utf-8', index=False)\n",
    "dinner_X_train=pd.read_csv(\"data/split/dinner_X_train.csv\", encoding='utf-8', index=False)\n",
    "dinner_X_test=pd.read_csv(\"data/split/dinner_X_test.csv\", encoding='utf-8', index=False)\n",
    "dinner_y_train=pd.read_csv(\"data/split/dinner_y_train.csv\", encoding='utf-8', index=False)\n",
    "dinner_y_test=pd.read_csv(\"data/split/dinner_y_test.csv\", encoding='utf-8', index=False)"
   ]
  },
  {
   "cell_type": "markdown",
   "metadata": {},
   "source": [
    "### 점심"
   ]
  },
  {
   "cell_type": "code",
   "execution_count": 257,
   "metadata": {},
   "outputs": [
    {
     "name": "stdout",
     "output_type": "stream",
     "text": [
      "기울기 : [ 1.13059138e+13 -1.13059138e+13 -1.13059138e+13 -1.13059138e+13\n",
      "  2.38281250e-01 -1.13059138e+13  3.29296875e+01  1.26745605e+00\n",
      " -1.83566589e+01  7.85385132e-01 -5.46847534e+00 -2.63050537e+01\n",
      "  3.05175781e-05  5.03477859e+00 -1.01627350e+01  1.67403584e+01\n",
      " -1.16124783e+01 -7.36395359e+01  1.44866682e+02 -7.87282581e+01\n",
      " -4.54209833e+01  5.29222560e+01  1.73616467e+01 -1.73616519e+01\n",
      " -2.68873926e+01  2.68873892e+01  4.22482506e+01  3.58335898e+01\n",
      "  4.27073306e+01  1.26705122e+01 -7.47107023e+01 -5.87490189e+01\n",
      " -1.73876482e+01  5.79107372e+01  8.42953414e+00 -3.91913190e+01\n",
      "  2.05990554e+01 -2.80794165e+01 -1.17333224e+01  5.65530664e+01\n",
      " -7.95450979e+00  3.51998407e+01 -2.22105065e+01 -5.21355751e+01\n",
      " -1.19980212e+01  3.05332513e+01  1.42331254e+01  5.65376680e+00\n",
      " -1.06826908e+01  1.08066349e+01  2.47373862e+01  2.77672729e+01\n",
      "  1.16738781e+00  8.78349966e+00  1.81383563e+01 -7.70575871e+00\n",
      " -1.95851484e+01  8.57564775e+00 -1.24276220e+01  2.90927037e+01\n",
      "  6.71821905e+00 -7.36952024e+00  9.46448007e+00 -8.37395253e+00\n",
      " -1.22064906e+01  7.47980373e+00 -7.80843588e+00 -6.67349317e+00\n",
      " -3.51483850e+00 -1.08381601e+01  2.11289790e+01 -3.88706768e+01\n",
      " -9.35775360e+00 -2.33697581e+01 -3.34981697e+01], 절편 : 1727.6782632296308\n",
      "훈련 설명력 : 0.8060685580206686\n",
      "테스트 설명력 : 0.81850928043697\n"
     ]
    }
   ],
   "source": [
    "lr = LinearRegression()\n",
    "lr.fit(lunch_X_train, lunch_y_train)\n",
    "\n",
    "print(\"기울기 : {0}, 절편 : {1}\".format(lr.coef_, lr.intercept_))\n",
    "print(\"훈련 설명력 : {}\".format(lr.score(lunch_X_train, lunch_y_train)))\n",
    "print(\"테스트 설명력 : {}\".format(lr.score(lunch_X_test, lunch_y_test)))"
   ]
  },
  {
   "cell_type": "markdown",
   "metadata": {},
   "source": [
    "### 저녁"
   ]
  },
  {
   "cell_type": "code",
   "execution_count": 258,
   "metadata": {},
   "outputs": [
    {
     "name": "stdout",
     "output_type": "stream",
     "text": [
      "기울기 : [ 3.19558948e+12 -3.19558948e+12 -3.19558948e+12 -3.19558948e+12\n",
      "  3.07128906e-01 -3.19558948e+12  1.27355957e+01  3.65737915e-01\n",
      " -1.00421638e+01 -2.62134552e-01 -4.05921936e-01 -1.03546028e+01\n",
      " -5.72204590e-06 -4.73717308e+00  1.31138725e+01 -7.49961376e-01\n",
      " -7.62670374e+00  6.63777947e+01 -1.47301283e+01 -5.02882051e+00\n",
      " -2.03245878e+01 -2.62942872e+01  7.51502436e+00 -7.51502839e+00\n",
      "  7.97423193e+00 -7.97423261e+00  8.67263487e+01  2.89136296e+01\n",
      "  5.47083350e+01  1.40705726e+01 -5.70251600e+01 -1.27393644e+02\n",
      " -7.94776911e+00  5.56666793e+01  2.84713453e+01 -1.34939497e+01\n",
      " -1.86353449e+00 -1.71853476e+01 -1.52806927e+01  3.17160776e+01\n",
      " -1.56021438e+01  2.94010458e+01 -1.85361010e+01 -5.53456323e+01\n",
      " -1.84342786e+01  2.83781934e+01  9.57981948e+00  3.13984313e+01\n",
      "  2.20433202e+01  3.19662682e+01  2.00256427e+01  3.03066862e+01\n",
      "  1.25338656e+01  1.36909631e+01  2.42842944e+01  1.12450656e+00\n",
      "  1.12310684e+01  5.58197916e+00  1.36497432e+01  2.37115349e+01\n",
      " -6.78047550e+00  6.75871921e+00  1.30768529e+01  1.03492137e+01\n",
      "  2.57036029e+01 -1.91286100e+01  3.31007288e+01 -5.40670668e+00\n",
      " -5.62244489e+01 -4.39127168e+01 -5.85245307e+01 -2.61129709e+01\n",
      " -4.65144164e+01 -6.12838074e+01 -2.61724722e+01], 절편 : 573.9718793568352\n",
      "훈련 설명력 : 0.5918834531954169\n",
      "테스트 설명력 : 0.49013363353201655\n"
     ]
    }
   ],
   "source": [
    "lr = LinearRegression()\n",
    "lr.fit(dinner_X_train, dinner_y_train)\n",
    "\n",
    "print(\"기울기 : {0}, 절편 : {1}\".format(lr.coef_, lr.intercept_))\n",
    "print(\"훈련 설명력 : {}\".format(lr.score(dinner_X_train, dinner_y_train)))\n",
    "print(\"테스트 설명력 : {}\".format(lr.score(dinner_X_test, dinner_y_test)))"
   ]
  },
  {
   "cell_type": "markdown",
   "metadata": {},
   "source": [
    "## 3. SVR"
   ]
  },
  {
   "cell_type": "markdown",
   "metadata": {},
   "source": [
    "### 점심"
   ]
  },
  {
   "cell_type": "code",
   "execution_count": 259,
   "metadata": {},
   "outputs": [
    {
     "name": "stdout",
     "output_type": "stream",
     "text": [
      "Fitting 5 folds for each of 6 candidates, totalling 30 fits\n",
      "{'model__C': 1.0, 'model__gamma': 'scale'}\n",
      "0.7627546754441044\n"
     ]
    }
   ],
   "source": [
    "pipe = Pipeline([('standardscaler', StandardScaler()), (\"model\", SVR(kernel='linear'))])\n",
    "params = [{\"model__gamma\":['scale', 'auto'], 'model__C':[1.0, 0.1, 0.01]}]\n",
    "\n",
    "gs = GridSearchCV(estimator=pipe, param_grid=params, n_jobs=multiprocessing.cpu_count(), verbose=True, cv=5)\n",
    "\n",
    "gs.fit(lunch_X_train, lunch_y_train)\n",
    "\n",
    "print(gs.best_params_)\n",
    "print(gs.best_score_)"
   ]
  },
  {
   "cell_type": "code",
   "execution_count": 260,
   "metadata": {},
   "outputs": [
    {
     "name": "stdout",
     "output_type": "stream",
     "text": [
      "훈련 결과 : 0.7613506932960563\n",
      "점검 결과 : 0.7995813751591392\n"
     ]
    }
   ],
   "source": [
    "model = SVR(kernel='linear', C=1.0, gamma='scale')\n",
    "model.fit(lunch_X_train, lunch_y_train)\n",
    "\n",
    "print(\"훈련 결과 : {}\".format(model.score(lunch_X_train, lunch_y_train)))\n",
    "print(\"점검 결과 : {}\".format(model.score(lunch_X_test, lunch_y_test)))"
   ]
  },
  {
   "cell_type": "markdown",
   "metadata": {},
   "source": [
    "### 저녁"
   ]
  },
  {
   "cell_type": "code",
   "execution_count": 261,
   "metadata": {},
   "outputs": [
    {
     "name": "stdout",
     "output_type": "stream",
     "text": [
      "Fitting 5 folds for each of 6 candidates, totalling 30 fits\n",
      "{'model__C': 1.0, 'model__gamma': 'scale'}\n",
      "0.4763476351867186\n"
     ]
    }
   ],
   "source": [
    "pipe = Pipeline([('standardscaler', StandardScaler()), (\"model\", SVR(kernel='linear'))])\n",
    "params = [{\"model__gamma\":['scale', 'auto'], 'model__C':[1.0, 0.1, 0.01]}]\n",
    "\n",
    "gs = GridSearchCV(estimator=pipe, param_grid=params, n_jobs=multiprocessing.cpu_count(), verbose=True, cv=5)\n",
    "\n",
    "gs.fit(dinner_X_train, dinner_y_train)\n",
    "\n",
    "print(gs.best_params_)\n",
    "print(gs.best_score_)"
   ]
  },
  {
   "cell_type": "code",
   "execution_count": 262,
   "metadata": {},
   "outputs": [
    {
     "name": "stdout",
     "output_type": "stream",
     "text": [
      "훈련 결과 : 0.4852389711423035\n",
      "점검 결과 : 0.4614920262445352\n"
     ]
    }
   ],
   "source": [
    "model = SVR(kernel='linear', C=1.0, gamma='scale')\n",
    "model.fit(dinner_X_train, dinner_y_train)\n",
    "\n",
    "print(\"훈련 결과 : {}\".format(model.score(dinner_X_train, dinner_y_train)))\n",
    "print(\"점검 결과 : {}\".format(model.score(dinner_X_test, dinner_y_test)))"
   ]
  },
  {
   "cell_type": "markdown",
   "metadata": {},
   "source": [
    "## 4. XGBoost"
   ]
  },
  {
   "cell_type": "markdown",
   "metadata": {},
   "source": [
    "### 점심"
   ]
  },
  {
   "cell_type": "code",
   "execution_count": 139,
   "metadata": {},
   "outputs": [
    {
     "name": "stdout",
     "output_type": "stream",
     "text": [
      "{'colsample_bylevel': 0.5, 'colsample_bytree': 0.5, 'max_depth': 2, 'n_estimators': 300}\n",
      "-7766.8530837239505\n"
     ]
    }
   ],
   "source": [
    "param = {\n",
    "    'max_depth':[2,3,4],\n",
    "    'n_estimators':range(300,600,100), #  'n_estimators':range(600,700,50) 여기에 cv 10 (이거와 별반차이가 없다.)\n",
    "    'colsample_bytree':[0.5,0.7,1],\n",
    "    'colsample_bylevel':[0.5,0.7,1]\n",
    "}\n",
    "\n",
    "model = XGBRegressor()\n",
    "\n",
    "gs = GridSearchCV(estimator=model, param_grid=param, cv=10, \n",
    "                           scoring='neg_mean_squared_error',\n",
    "                           n_jobs=multiprocessing.cpu_count())\n",
    "\n",
    "gs.fit(lunch_X_train, lunch_y_train)\n",
    "\n",
    "print(gs.best_params_)\n",
    "print(gs.best_score_)"
   ]
  },
  {
   "cell_type": "code",
   "execution_count": 263,
   "metadata": {},
   "outputs": [
    {
     "data": {
      "text/plain": [
       "XGBRegressor(base_score=0.5, booster='gbtree', colsample_bylevel=1,\n",
       "             colsample_bynode=1, colsample_bytree=1, enable_categorical=False,\n",
       "             gamma=0, gpu_id=-1, importance_type=None,\n",
       "             interaction_constraints='', learning_rate=0.1, max_delta_step=0,\n",
       "             max_depth=2, min_child_weight=1, missing=nan,\n",
       "             monotone_constraints='()', n_estimators=300, n_jobs=8,\n",
       "             num_parallel_tree=1, predictor='auto', random_state=0, reg_alpha=0,\n",
       "             reg_lambda=1, scale_pos_weight=1, subsample=1, tree_method='exact',\n",
       "             validate_parameters=1, verbosity=None)"
      ]
     },
     "execution_count": 263,
     "metadata": {},
     "output_type": "execute_result"
    }
   ],
   "source": [
    "model = XGBRegressor(n_estimators=300, colsample_bylevel=1, learning_rate=0.1, colsample_bytree=1, max_depth=2)\n",
    "\n",
    "model.fit(lunch_X_train, lunch_y_train)"
   ]
  },
  {
   "cell_type": "code",
   "execution_count": 264,
   "metadata": {},
   "outputs": [
    {
     "data": {
      "text/plain": [
       "<AxesSubplot:title={'center':'Feature importance'}, xlabel='F score', ylabel='Features'>"
      ]
     },
     "execution_count": 264,
     "metadata": {},
     "output_type": "execute_result"
    },
    {
     "data": {
      "image/png": "[encoded data removed]",
      "text/plain": [
       "<Figure size 432x288 with 1 Axes>"
      ]
     },
     "metadata": {
      "needs_background": "light"
     },
     "output_type": "display_data"
    }
   ],
   "source": [
    "xgb.plot_importance(model)"
   ]
  },
  {
   "cell_type": "code",
   "execution_count": 265,
   "metadata": {},
   "outputs": [
    {
     "data": {
      "text/plain": [
       "array([ 885.8877 ,  794.1983 , 1223.9185 , 1136.2916 ,  737.0808 ,\n",
       "       1007.04364, 1086.426  ,  519.8119 ,  903.4033 ,  865.42993,\n",
       "        881.2333 , 1162.0223 , 1131.1565 ,  921.4428 ,  908.4274 ,\n",
       "       1032.4493 ,  953.41125,  551.23334,  623.0806 , 1129.5492 ,\n",
       "        879.37775,  555.7052 ,  880.17303,  858.84454,  957.83154,\n",
       "        913.06805,  693.0731 ,  886.8988 ,  530.79   ,  672.9007 ,\n",
       "        896.0049 ,  884.1988 ,  911.04297,  525.3153 ,  963.2154 ,\n",
       "       1169.4473 ,  946.77313,  924.90576,  791.88635,  837.08154,\n",
       "        824.07733,  633.9319 ,  702.2428 ,  704.4929 , 1176.8567 ,\n",
       "        970.8271 , 1052.9459 ,  844.4112 ,  850.15796, 1208.8363 ,\n",
       "       1219.9374 ,  887.00995,  867.4183 ,  739.895  ,  852.5577 ,\n",
       "        714.2273 ,  703.8203 ,  705.74036, 1018.21295,  946.5297 ,\n",
       "        795.39746, 1135.8949 ,  644.9801 ,  848.9449 , 1164.4419 ,\n",
       "        758.22327, 1007.86035,  758.94727, 1218.241  ,  654.19403,\n",
       "       1228.1754 ,  613.9799 , 1015.1499 , 1133.466  , 1133.6056 ,\n",
       "       1167.0497 ,  803.3351 , 1095.8235 , 1199.3301 ,  671.04596,\n",
       "        882.695  ,  872.2554 ,  834.29285,  814.3971 ,  895.1533 ,\n",
       "        912.70465,  660.02155, 1252.1259 ,  586.09973,  836.9016 ,\n",
       "        980.31726,  938.24164,  945.5911 ,  904.4373 ,  611.8693 ,\n",
       "       1115.1667 , 1010.63556, 1109.3146 ,  823.6913 , 1243.2855 ,\n",
       "        361.41873, 1150.7999 , 1083.6222 ,  827.96796, 1272.3889 ,\n",
       "        717.0195 ,  922.6343 ,  724.2733 , 1146.6766 ,  829.5686 ,\n",
       "       1215.9601 ,  898.0729 ,  835.7889 ,  628.67993,  635.20667,\n",
       "        719.83655,  885.7418 , 1062.1794 ,  994.0008 ,  656.0096 ,\n",
       "        920.9214 ,  859.5485 ,  922.5472 , 1269.0653 ,  586.8463 ,\n",
       "        681.97424, 1302.671  ,  898.71796,  874.00104,  607.5261 ,\n",
       "        863.1076 ,  810.4444 ,  917.4478 ,  887.8019 ,  991.43506,\n",
       "       1047.044  ,  655.6608 ,  964.71783,  843.5555 ,  664.75165,\n",
       "        811.46295,  849.0368 ,  897.67065, 1092.5146 ,  548.43713,\n",
       "        429.42838, 1175.5729 ,  752.12164,  966.6391 ,  580.26416,\n",
       "        989.23413,  901.1442 ,  914.5788 , 1070.4354 , 1046.9863 ,\n",
       "       1172.9991 ,  925.3966 ,  642.6207 ,  827.4072 ,  952.6586 ,\n",
       "        903.94727,  848.9345 ,  702.9749 ,  754.0389 ,  924.3504 ,\n",
       "       1194.0885 , 1300.2257 ,  634.664  ,  900.08954,  575.3213 ,\n",
       "       1314.8674 ,  735.45667,  896.5024 ,  870.9804 ,  868.0003 ,\n",
       "        541.0565 ,  606.7435 ,  945.6501 ,  931.2926 ,  608.7485 ,\n",
       "       1148.3022 ,  932.7628 ,  779.18823,  630.91016,  621.89856,\n",
       "       1011.10895, 1051.7659 , 1235.2859 , 1172.8638 ,  786.3065 ,\n",
       "       1140.3088 ,  610.80414,  883.59644,  858.5814 , 1045.3295 ,\n",
       "       1149.1841 ,  928.28723,  920.57733,  914.9243 , 1155.7129 ,\n",
       "        943.3147 ,  852.71954, 1230.5836 ,  861.7747 ,  808.04535,\n",
       "        816.102  ,  897.36743,  928.78546,  909.2659 ,  946.2113 ,\n",
       "       1129.5007 ,  641.69196,  855.1861 ,  915.7699 ,  821.23303,\n",
       "       1150.931  , 1210.5791 ,  712.6682 , 1115.0085 ,  859.7253 ,\n",
       "       1000.8176 ,  815.1995 , 1188.5804 ,  914.16046,  719.36865,\n",
       "        818.7867 ,  828.2683 ,  615.15857, 1249.8552 , 1249.9177 ,\n",
       "        749.8834 ,  790.0054 ,  922.1484 ,  865.60626, 1197.5967 ,\n",
       "       1043.2812 ,  877.66504,  850.5877 , 1148.867  ,  884.37885,\n",
       "       1003.4747 ,  896.04425,  957.5752 ,  633.9018 ,  589.93756,\n",
       "       1175.4615 ,  743.0078 , 1153.2551 ,  659.7769 , 1185.6412 ,\n",
       "        737.10455, 1196.4342 , 1208.7955 ,  658.3044 ,  929.9157 ,\n",
       "       1021.1972 ,  884.5117 ,  637.4883 ,  693.4032 ,  859.2245 ,\n",
       "       1023.5124 ,  573.98645,  714.94336,  618.2095 ,  787.5228 ,\n",
       "        930.2602 , 1167.1493 ,  868.5055 ,  767.27386,  857.1892 ,\n",
       "        796.76544,  839.42285, 1137.7833 , 1210.5226 ,  566.1553 ,\n",
       "        840.3642 , 1022.71075, 1185.9492 ,  712.0034 ,  506.2116 ,\n",
       "        917.16254,  783.4097 ,  777.433  , 1001.2587 ,  905.4563 ,\n",
       "       1236.3856 ,  950.235  , 1006.9004 , 1152.5627 ,  612.1566 ,\n",
       "       1117.9825 ,  906.49646,  794.89606,  968.85144,  940.49927,\n",
       "        792.8713 , 1143.4197 ,  796.73755,  855.30115,  819.69434,\n",
       "        884.1306 ], dtype=float32)"
      ]
     },
     "execution_count": 265,
     "metadata": {},
     "output_type": "execute_result"
    }
   ],
   "source": [
    "pred = model.predict(lunch_X_test)\n",
    "pred"
   ]
  },
  {
   "cell_type": "code",
   "execution_count": 266,
   "metadata": {},
   "outputs": [
    {
     "name": "stdout",
     "output_type": "stream",
     "text": [
      "훈련결과 : 0.9023025200953646\n",
      "점검결과 : 0.860508319733749\n"
     ]
    }
   ],
   "source": [
    "score = model.score(lunch_X_train, lunch_y_train)\n",
    "print(\"훈련결과 : {}\".format(score))\n",
    "print(\"점검결과 : {}\".format(model.score(lunch_X_test, lunch_y_test)))"
   ]
  },
  {
   "cell_type": "markdown",
   "metadata": {},
   "source": [
    "### 저녁"
   ]
  },
  {
   "cell_type": "code",
   "execution_count": 267,
   "metadata": {},
   "outputs": [
    {
     "ename": "KeyboardInterrupt",
     "evalue": "",
     "output_type": "error",
     "traceback": [
      "\u001b[0;31m---------------------------------------------------------------------------\u001b[0m",
      "\u001b[0;31mKeyboardInterrupt\u001b[0m                         Traceback (most recent call last)",
      "\u001b[0;32m/var/folders/dx/ny9cjsmd1bb3r42zbp694xkh0000gn/T/ipykernel_3892/1416354797.py\u001b[0m in \u001b[0;36m<module>\u001b[0;34m\u001b[0m\n\u001b[1;32m     11\u001b[0m                            n_jobs=multiprocessing.cpu_count())\n\u001b[1;32m     12\u001b[0m \u001b[0;34m\u001b[0m\u001b[0m\n\u001b[0;32m---> 13\u001b[0;31m \u001b[0mgs\u001b[0m\u001b[0;34m.\u001b[0m\u001b[0mfit\u001b[0m\u001b[0;34m(\u001b[0m\u001b[0mdinner_X_train\u001b[0m\u001b[0;34m,\u001b[0m \u001b[0mdinner_y_train\u001b[0m\u001b[0;34m)\u001b[0m\u001b[0;34m\u001b[0m\u001b[0;34m\u001b[0m\u001b[0m\n\u001b[0m\u001b[1;32m     14\u001b[0m \u001b[0;34m\u001b[0m\u001b[0m\n\u001b[1;32m     15\u001b[0m \u001b[0mprint\u001b[0m\u001b[0;34m(\u001b[0m\u001b[0mgs\u001b[0m\u001b[0;34m.\u001b[0m\u001b[0mbest_params_\u001b[0m\u001b[0;34m)\u001b[0m\u001b[0;34m\u001b[0m\u001b[0;34m\u001b[0m\u001b[0m\n",
      "\u001b[0;32m~/miniforge3/envs/ML/lib/python3.9/site-packages/sklearn/model_selection/_search.py\u001b[0m in \u001b[0;36mfit\u001b[0;34m(self, X, y, groups, **fit_params)\u001b[0m\n\u001b[1;32m    889\u001b[0m                 \u001b[0;32mreturn\u001b[0m \u001b[0mresults\u001b[0m\u001b[0;34m\u001b[0m\u001b[0;34m\u001b[0m\u001b[0m\n\u001b[1;32m    890\u001b[0m \u001b[0;34m\u001b[0m\u001b[0m\n\u001b[0;32m--> 891\u001b[0;31m             \u001b[0mself\u001b[0m\u001b[0;34m.\u001b[0m\u001b[0m_run_search\u001b[0m\u001b[0;34m(\u001b[0m\u001b[0mevaluate_candidates\u001b[0m\u001b[0;34m)\u001b[0m\u001b[0;34m\u001b[0m\u001b[0;34m\u001b[0m\u001b[0m\n\u001b[0m\u001b[1;32m    892\u001b[0m \u001b[0;34m\u001b[0m\u001b[0m\n\u001b[1;32m    893\u001b[0m             \u001b[0;31m# multimetric is determined here because in the case of a callable\u001b[0m\u001b[0;34m\u001b[0m\u001b[0;34m\u001b[0m\u001b[0m\n",
      "\u001b[0;32m~/miniforge3/envs/ML/lib/python3.9/site-packages/sklearn/model_selection/_search.py\u001b[0m in \u001b[0;36m_run_search\u001b[0;34m(self, evaluate_candidates)\u001b[0m\n\u001b[1;32m   1390\u001b[0m     \u001b[0;32mdef\u001b[0m \u001b[0m_run_search\u001b[0m\u001b[0;34m(\u001b[0m\u001b[0mself\u001b[0m\u001b[0;34m,\u001b[0m \u001b[0mevaluate_candidates\u001b[0m\u001b[0;34m)\u001b[0m\u001b[0;34m:\u001b[0m\u001b[0;34m\u001b[0m\u001b[0;34m\u001b[0m\u001b[0m\n\u001b[1;32m   1391\u001b[0m         \u001b[0;34m\"\"\"Search all candidates in param_grid\"\"\"\u001b[0m\u001b[0;34m\u001b[0m\u001b[0;34m\u001b[0m\u001b[0m\n\u001b[0;32m-> 1392\u001b[0;31m         \u001b[0mevaluate_candidates\u001b[0m\u001b[0;34m(\u001b[0m\u001b[0mParameterGrid\u001b[0m\u001b[0;34m(\u001b[0m\u001b[0mself\u001b[0m\u001b[0;34m.\u001b[0m\u001b[0mparam_grid\u001b[0m\u001b[0;34m)\u001b[0m\u001b[0;34m)\u001b[0m\u001b[0;34m\u001b[0m\u001b[0;34m\u001b[0m\u001b[0m\n\u001b[0m\u001b[1;32m   1393\u001b[0m \u001b[0;34m\u001b[0m\u001b[0m\n\u001b[1;32m   1394\u001b[0m \u001b[0;34m\u001b[0m\u001b[0m\n",
      "\u001b[0;32m~/miniforge3/envs/ML/lib/python3.9/site-packages/sklearn/model_selection/_search.py\u001b[0m in \u001b[0;36mevaluate_candidates\u001b[0;34m(candidate_params, cv, more_results)\u001b[0m\n\u001b[1;32m    836\u001b[0m                     )\n\u001b[1;32m    837\u001b[0m \u001b[0;34m\u001b[0m\u001b[0m\n\u001b[0;32m--> 838\u001b[0;31m                 out = parallel(\n\u001b[0m\u001b[1;32m    839\u001b[0m                     delayed(_fit_and_score)(\n\u001b[1;32m    840\u001b[0m                         \u001b[0mclone\u001b[0m\u001b[0;34m(\u001b[0m\u001b[0mbase_estimator\u001b[0m\u001b[0;34m)\u001b[0m\u001b[0;34m,\u001b[0m\u001b[0;34m\u001b[0m\u001b[0;34m\u001b[0m\u001b[0m\n",
      "\u001b[0;32m~/miniforge3/envs/ML/lib/python3.9/site-packages/joblib/parallel.py\u001b[0m in \u001b[0;36m__call__\u001b[0;34m(self, iterable)\u001b[0m\n\u001b[1;32m   1054\u001b[0m \u001b[0;34m\u001b[0m\u001b[0m\n\u001b[1;32m   1055\u001b[0m             \u001b[0;32mwith\u001b[0m \u001b[0mself\u001b[0m\u001b[0;34m.\u001b[0m\u001b[0m_backend\u001b[0m\u001b[0;34m.\u001b[0m\u001b[0mretrieval_context\u001b[0m\u001b[0;34m(\u001b[0m\u001b[0;34m)\u001b[0m\u001b[0;34m:\u001b[0m\u001b[0;34m\u001b[0m\u001b[0;34m\u001b[0m\u001b[0m\n\u001b[0;32m-> 1056\u001b[0;31m                 \u001b[0mself\u001b[0m\u001b[0;34m.\u001b[0m\u001b[0mretrieve\u001b[0m\u001b[0;34m(\u001b[0m\u001b[0;34m)\u001b[0m\u001b[0;34m\u001b[0m\u001b[0;34m\u001b[0m\u001b[0m\n\u001b[0m\u001b[1;32m   1057\u001b[0m             \u001b[0;31m# Make sure that we get a last message telling us we are done\u001b[0m\u001b[0;34m\u001b[0m\u001b[0;34m\u001b[0m\u001b[0m\n\u001b[1;32m   1058\u001b[0m             \u001b[0melapsed_time\u001b[0m \u001b[0;34m=\u001b[0m \u001b[0mtime\u001b[0m\u001b[0;34m.\u001b[0m\u001b[0mtime\u001b[0m\u001b[0;34m(\u001b[0m\u001b[0;34m)\u001b[0m \u001b[0;34m-\u001b[0m \u001b[0mself\u001b[0m\u001b[0;34m.\u001b[0m\u001b[0m_start_time\u001b[0m\u001b[0;34m\u001b[0m\u001b[0;34m\u001b[0m\u001b[0m\n",
      "\u001b[0;32m~/miniforge3/envs/ML/lib/python3.9/site-packages/joblib/parallel.py\u001b[0m in \u001b[0;36mretrieve\u001b[0;34m(self)\u001b[0m\n\u001b[1;32m    933\u001b[0m             \u001b[0;32mtry\u001b[0m\u001b[0;34m:\u001b[0m\u001b[0;34m\u001b[0m\u001b[0;34m\u001b[0m\u001b[0m\n\u001b[1;32m    934\u001b[0m                 \u001b[0;32mif\u001b[0m \u001b[0mgetattr\u001b[0m\u001b[0;34m(\u001b[0m\u001b[0mself\u001b[0m\u001b[0;34m.\u001b[0m\u001b[0m_backend\u001b[0m\u001b[0;34m,\u001b[0m \u001b[0;34m'supports_timeout'\u001b[0m\u001b[0;34m,\u001b[0m \u001b[0;32mFalse\u001b[0m\u001b[0;34m)\u001b[0m\u001b[0;34m:\u001b[0m\u001b[0;34m\u001b[0m\u001b[0;34m\u001b[0m\u001b[0m\n\u001b[0;32m--> 935\u001b[0;31m                     \u001b[0mself\u001b[0m\u001b[0;34m.\u001b[0m\u001b[0m_output\u001b[0m\u001b[0;34m.\u001b[0m\u001b[0mextend\u001b[0m\u001b[0;34m(\u001b[0m\u001b[0mjob\u001b[0m\u001b[0;34m.\u001b[0m\u001b[0mget\u001b[0m\u001b[0;34m(\u001b[0m\u001b[0mtimeout\u001b[0m\u001b[0;34m=\u001b[0m\u001b[0mself\u001b[0m\u001b[0;34m.\u001b[0m\u001b[0mtimeout\u001b[0m\u001b[0;34m)\u001b[0m\u001b[0;34m)\u001b[0m\u001b[0;34m\u001b[0m\u001b[0;34m\u001b[0m\u001b[0m\n\u001b[0m\u001b[1;32m    936\u001b[0m                 \u001b[0;32melse\u001b[0m\u001b[0;34m:\u001b[0m\u001b[0;34m\u001b[0m\u001b[0;34m\u001b[0m\u001b[0m\n\u001b[1;32m    937\u001b[0m                     \u001b[0mself\u001b[0m\u001b[0;34m.\u001b[0m\u001b[0m_output\u001b[0m\u001b[0;34m.\u001b[0m\u001b[0mextend\u001b[0m\u001b[0;34m(\u001b[0m\u001b[0mjob\u001b[0m\u001b[0;34m.\u001b[0m\u001b[0mget\u001b[0m\u001b[0;34m(\u001b[0m\u001b[0;34m)\u001b[0m\u001b[0;34m)\u001b[0m\u001b[0;34m\u001b[0m\u001b[0;34m\u001b[0m\u001b[0m\n",
      "\u001b[0;32m~/miniforge3/envs/ML/lib/python3.9/site-packages/joblib/_parallel_backends.py\u001b[0m in \u001b[0;36mwrap_future_result\u001b[0;34m(future, timeout)\u001b[0m\n\u001b[1;32m    540\u001b[0m         AsyncResults.get from multiprocessing.\"\"\"\n\u001b[1;32m    541\u001b[0m         \u001b[0;32mtry\u001b[0m\u001b[0;34m:\u001b[0m\u001b[0;34m\u001b[0m\u001b[0;34m\u001b[0m\u001b[0m\n\u001b[0;32m--> 542\u001b[0;31m             \u001b[0;32mreturn\u001b[0m \u001b[0mfuture\u001b[0m\u001b[0;34m.\u001b[0m\u001b[0mresult\u001b[0m\u001b[0;34m(\u001b[0m\u001b[0mtimeout\u001b[0m\u001b[0;34m=\u001b[0m\u001b[0mtimeout\u001b[0m\u001b[0;34m)\u001b[0m\u001b[0;34m\u001b[0m\u001b[0;34m\u001b[0m\u001b[0m\n\u001b[0m\u001b[1;32m    543\u001b[0m         \u001b[0;32mexcept\u001b[0m \u001b[0mCfTimeoutError\u001b[0m \u001b[0;32mas\u001b[0m \u001b[0me\u001b[0m\u001b[0;34m:\u001b[0m\u001b[0;34m\u001b[0m\u001b[0;34m\u001b[0m\u001b[0m\n\u001b[1;32m    544\u001b[0m             \u001b[0;32mraise\u001b[0m \u001b[0mTimeoutError\u001b[0m \u001b[0;32mfrom\u001b[0m \u001b[0me\u001b[0m\u001b[0;34m\u001b[0m\u001b[0;34m\u001b[0m\u001b[0m\n",
      "\u001b[0;32m~/miniforge3/envs/ML/lib/python3.9/concurrent/futures/_base.py\u001b[0m in \u001b[0;36mresult\u001b[0;34m(self, timeout)\u001b[0m\n\u001b[1;32m    438\u001b[0m                     \u001b[0;32mreturn\u001b[0m \u001b[0mself\u001b[0m\u001b[0;34m.\u001b[0m\u001b[0m__get_result\u001b[0m\u001b[0;34m(\u001b[0m\u001b[0;34m)\u001b[0m\u001b[0;34m\u001b[0m\u001b[0;34m\u001b[0m\u001b[0m\n\u001b[1;32m    439\u001b[0m \u001b[0;34m\u001b[0m\u001b[0m\n\u001b[0;32m--> 440\u001b[0;31m                 \u001b[0mself\u001b[0m\u001b[0;34m.\u001b[0m\u001b[0m_condition\u001b[0m\u001b[0;34m.\u001b[0m\u001b[0mwait\u001b[0m\u001b[0;34m(\u001b[0m\u001b[0mtimeout\u001b[0m\u001b[0;34m)\u001b[0m\u001b[0;34m\u001b[0m\u001b[0;34m\u001b[0m\u001b[0m\n\u001b[0m\u001b[1;32m    441\u001b[0m \u001b[0;34m\u001b[0m\u001b[0m\n\u001b[1;32m    442\u001b[0m                 \u001b[0;32mif\u001b[0m \u001b[0mself\u001b[0m\u001b[0;34m.\u001b[0m\u001b[0m_state\u001b[0m \u001b[0;32min\u001b[0m \u001b[0;34m[\u001b[0m\u001b[0mCANCELLED\u001b[0m\u001b[0;34m,\u001b[0m \u001b[0mCANCELLED_AND_NOTIFIED\u001b[0m\u001b[0;34m]\u001b[0m\u001b[0;34m:\u001b[0m\u001b[0;34m\u001b[0m\u001b[0;34m\u001b[0m\u001b[0m\n",
      "\u001b[0;32m~/miniforge3/envs/ML/lib/python3.9/threading.py\u001b[0m in \u001b[0;36mwait\u001b[0;34m(self, timeout)\u001b[0m\n\u001b[1;32m    310\u001b[0m         \u001b[0;32mtry\u001b[0m\u001b[0;34m:\u001b[0m    \u001b[0;31m# restore state no matter what (e.g., KeyboardInterrupt)\u001b[0m\u001b[0;34m\u001b[0m\u001b[0;34m\u001b[0m\u001b[0m\n\u001b[1;32m    311\u001b[0m             \u001b[0;32mif\u001b[0m \u001b[0mtimeout\u001b[0m \u001b[0;32mis\u001b[0m \u001b[0;32mNone\u001b[0m\u001b[0;34m:\u001b[0m\u001b[0;34m\u001b[0m\u001b[0;34m\u001b[0m\u001b[0m\n\u001b[0;32m--> 312\u001b[0;31m                 \u001b[0mwaiter\u001b[0m\u001b[0;34m.\u001b[0m\u001b[0macquire\u001b[0m\u001b[0;34m(\u001b[0m\u001b[0;34m)\u001b[0m\u001b[0;34m\u001b[0m\u001b[0;34m\u001b[0m\u001b[0m\n\u001b[0m\u001b[1;32m    313\u001b[0m                 \u001b[0mgotit\u001b[0m \u001b[0;34m=\u001b[0m \u001b[0;32mTrue\u001b[0m\u001b[0;34m\u001b[0m\u001b[0;34m\u001b[0m\u001b[0m\n\u001b[1;32m    314\u001b[0m             \u001b[0;32melse\u001b[0m\u001b[0;34m:\u001b[0m\u001b[0;34m\u001b[0m\u001b[0;34m\u001b[0m\u001b[0m\n",
      "\u001b[0;31mKeyboardInterrupt\u001b[0m: "
     ]
    }
   ],
   "source": [
    "param = {\n",
    "    'max_depth':[2,3,4],\n",
    "    'n_estimators':range(300,600,100), #  'n_estimators':range(600,700,50) 여기에 cv 10 (이거와 별반차이가 없다.)\n",
    "    'colsample_bytree':[0.5,0.7,1],\n",
    "    'colsample_bylevel':[0.5,0.7,1]\n",
    "}\n",
    "model = XGBRegressor()\n",
    "\n",
    "gs = GridSearchCV(estimator=model, param_grid=param, cv=10, \n",
    "                           scoring='neg_mean_squared_error',\n",
    "                           n_jobs=multiprocessing.cpu_count())\n",
    "\n",
    "gs.fit(dinner_X_train, dinner_y_train)\n",
    "\n",
    "print(gs.best_params_)\n",
    "print(gs.best_score_)"
   ]
  },
  {
   "cell_type": "code",
   "execution_count": 268,
   "metadata": {},
   "outputs": [
    {
     "data": {
      "text/plain": [
       "XGBRegressor(base_score=0.5, booster='gbtree', colsample_bylevel=0.7,\n",
       "             colsample_bynode=1, colsample_bytree=0.7, enable_categorical=False,\n",
       "             gamma=0, gpu_id=-1, importance_type=None,\n",
       "             interaction_constraints='', learning_rate=0.05, max_delta_step=0,\n",
       "             max_depth=4, min_child_weight=1, missing=nan,\n",
       "             monotone_constraints='()', n_estimators=300, n_jobs=8,\n",
       "             num_parallel_tree=1, predictor='auto', random_state=0, reg_alpha=0,\n",
       "             reg_lambda=1, scale_pos_weight=1, subsample=1, tree_method='exact',\n",
       "             validate_parameters=1, verbosity=None)"
      ]
     },
     "execution_count": 268,
     "metadata": {},
     "output_type": "execute_result"
    }
   ],
   "source": [
    "model = XGBRegressor(n_estimators=300, colsample_bylevel=0.7, learning_rate=0.05, colsample_bytree=0.7, max_depth=4)\n",
    "\n",
    "model.fit(dinner_X_train, dinner_y_train)"
   ]
  },
  {
   "cell_type": "code",
   "execution_count": 269,
   "metadata": {},
   "outputs": [
    {
     "data": {
      "text/plain": [
       "<AxesSubplot:title={'center':'Feature importance'}, xlabel='F score', ylabel='Features'>"
      ]
     },
     "execution_count": 269,
     "metadata": {},
     "output_type": "execute_result"
    },
    {
     "data": {
      "image/png": "[encoded data removed]",
      "text/plain": [
       "<Figure size 432x288 with 1 Axes>"
      ]
     },
     "metadata": {
      "needs_background": "light"
     },
     "output_type": "display_data"
    }
   ],
   "source": [
    "xgb.plot_importance(model)"
   ]
  },
  {
   "cell_type": "code",
   "execution_count": 270,
   "metadata": {},
   "outputs": [
    {
     "data": {
      "text/plain": [
       "array([480.22562, 526.5834 , 405.3524 , 414.44388, 332.87198, 434.30423,\n",
       "       372.39322, 399.183  , 539.85065, 392.26422, 407.30002, 384.70245,\n",
       "       528.97504, 485.24942, 527.2461 , 531.0751 , 332.75723, 475.74213,\n",
       "       243.96893, 488.2861 , 407.3121 , 507.25558, 486.1644 , 393.1825 ,\n",
       "       538.36346, 553.6164 , 462.32968, 251.7218 , 355.95496, 441.5005 ,\n",
       "       454.76184, 371.12283, 507.79083, 440.7959 , 503.06363, 499.10046,\n",
       "       584.76776, 406.22946, 392.89294, 381.62497, 389.54803, 446.02823,\n",
       "       139.40678, 508.43008, 529.97876, 639.4447 , 420.72903, 440.71463,\n",
       "       502.26688, 483.57144, 552.91156, 548.7373 , 555.3581 , 546.4099 ,\n",
       "       635.0276 , 436.62772, 250.17574, 391.91226, 339.24686, 532.732  ,\n",
       "       337.12253, 497.81738, 595.06445, 370.7779 , 533.8916 , 535.5832 ,\n",
       "       580.422  , 478.15335, 466.4939 , 583.17737, 354.24548, 453.99707,\n",
       "       580.7708 , 459.65262, 538.3788 , 530.64966, 536.2286 , 409.06796,\n",
       "       338.2609 , 490.4931 , 483.90805, 522.7067 , 315.4144 , 599.0518 ,\n",
       "       347.02954, 260.29605, 323.0441 , 525.7817 , 531.5807 , 423.7017 ,\n",
       "       438.33456, 569.11926, 547.12494, 507.87637, 517.0604 , 493.50192,\n",
       "       680.6564 , 551.1691 , 546.9745 , 343.7241 , 287.86334, 397.51627,\n",
       "       356.91235, 458.92795, 410.84454, 541.4547 , 533.4806 , 531.1519 ,\n",
       "       437.78183, 476.647  , 536.7501 , 428.6006 , 464.86075, 381.28815,\n",
       "       537.08984, 316.34857, 404.4138 , 544.2663 , 423.79105, 535.30316,\n",
       "       500.33643, 529.11725, 425.10577, 492.80466, 541.0605 , 559.46826,\n",
       "       570.04736, 478.56943, 544.4588 , 294.77005, 519.61633, 294.47733,\n",
       "       409.35168, 399.11334, 540.4637 , 260.02948, 391.07507, 481.8012 ,\n",
       "       543.7863 , 530.22766, 542.20667, 414.3871 , 533.7945 , 433.6549 ,\n",
       "       503.3322 , 291.11578, 523.91003, 395.19534, 454.08597, 441.09753,\n",
       "       511.80362, 284.56683, 595.5242 , 485.96832, 515.5805 , 420.09946,\n",
       "       560.86475, 580.66736, 205.78456, 544.40265, 277.96964, 201.49901,\n",
       "       318.51892, 533.256  , 508.8106 , 520.41327, 600.73846, 555.6455 ,\n",
       "       450.4392 , 250.36667, 542.93414, 467.00018, 460.76697, 581.2017 ,\n",
       "       443.19696, 349.74146, 317.2013 , 535.72833, 584.9293 , 279.11365,\n",
       "       371.47797, 472.6111 , 431.94952, 363.39197, 512.3483 , 586.779  ,\n",
       "       434.2674 , 513.6455 , 372.1685 , 529.5823 , 461.8738 , 590.9056 ,\n",
       "       544.37476, 361.3395 , 536.64105, 496.16214, 334.4374 , 511.26645,\n",
       "       538.21173, 660.3969 , 366.21048, 549.7797 , 507.02863, 552.7504 ,\n",
       "       494.19992, 387.9209 , 547.7904 , 254.62909, 538.5148 , 484.89944,\n",
       "       600.198  , 609.817  , 640.9324 , 237.46002, 503.87573, 527.5247 ,\n",
       "       409.5115 , 296.51047, 372.44574, 563.4086 , 605.1668 , 623.0056 ,\n",
       "       422.7735 , 335.48666, 462.97186, 537.3159 , 502.2496 , 483.4574 ,\n",
       "       445.15833, 163.91911, 526.20184, 506.18692, 519.427  , 569.64624,\n",
       "       550.20166, 488.25723, 482.5608 , 313.73117, 295.67715, 463.8455 ,\n",
       "       512.1899 , 480.3017 , 469.10883, 530.80896, 222.0835 , 480.70114,\n",
       "       487.52298, 363.9531 , 480.5647 , 530.8493 , 522.93317, 675.2767 ,\n",
       "       608.96655, 389.33975, 589.1193 , 406.47882, 403.4746 , 368.39664,\n",
       "       329.78424, 485.77664, 276.6489 , 453.38107, 564.2939 , 496.34332,\n",
       "       600.799  , 548.3643 , 512.9049 , 526.38824, 608.8876 , 424.45697,\n",
       "       286.57867, 420.28943, 403.6247 , 501.003  , 388.35492, 363.9411 ,\n",
       "       494.70758, 367.21426, 509.10553, 517.8537 , 362.20892, 477.23544,\n",
       "       480.27573, 531.8593 , 233.49292, 497.91452, 297.58832, 221.8098 ,\n",
       "       508.12012, 521.7382 , 541.26166, 506.58118, 564.6004 , 499.50146,\n",
       "       524.9128 , 576.4375 , 398.90384, 375.36893, 519.71136, 465.9068 ,\n",
       "       325.2802 ], dtype=float32)"
      ]
     },
     "execution_count": 270,
     "metadata": {},
     "output_type": "execute_result"
    }
   ],
   "source": [
    "pred = model.predict(dinner_X_test)\n",
    "pred"
   ]
  },
  {
   "cell_type": "code",
   "execution_count": 271,
   "metadata": {},
   "outputs": [
    {
     "name": "stdout",
     "output_type": "stream",
     "text": [
      "훈련결과 : 0.9180631717149882\n",
      "점검결과 : 0.6352986524206728\n"
     ]
    }
   ],
   "source": [
    "score = model.score(dinner_X_train, dinner_y_train)\n",
    "print(\"훈련결과 : {}\".format(score))\n",
    "print(\"점검결과 : {}\".format(model.score(dinner_X_test, dinner_y_test)))"
   ]
  },
  {
   "cell_type": "markdown",
   "metadata": {},
   "source": [
    "## 5. 릿지, 라쏘, 엘라스틱넷"
   ]
  },
  {
   "cell_type": "markdown",
   "metadata": {},
   "source": [
    "### 1. 릿지 - 점심"
   ]
  },
  {
   "cell_type": "code",
   "execution_count": 272,
   "metadata": {},
   "outputs": [
    {
     "name": "stdout",
     "output_type": "stream",
     "text": [
      "Ridge(alpha=10)\n"
     ]
    }
   ],
   "source": [
    "param = {'alpha':[0.1, 1, 10, 100]}\n",
    "\n",
    "model = Ridge()\n",
    "gs= GridSearchCV(estimator=model, param_grid=param, scoring='neg_mean_squared_error',cv=5)\n",
    "\n",
    "gs.fit(lunch_X_train,lunch_y_train)\n",
    "print(gs.best_estimator_)"
   ]
  },
  {
   "cell_type": "code",
   "execution_count": 273,
   "metadata": {},
   "outputs": [
    {
     "name": "stdout",
     "output_type": "stream",
     "text": [
      "훈련 결과 : 0.8051371079674186\n",
      "점검 결과 : 0.8216060418923412\n"
     ]
    }
   ],
   "source": [
    "model = Ridge(alpha=10)\n",
    "\n",
    "model.fit(lunch_X_train, lunch_y_train)\n",
    "\n",
    "print(\"훈련 결과 : {}\".format(model.score(lunch_X_train, lunch_y_train)))\n",
    "print(\"점검 결과 : {}\".format(model.score(lunch_X_test, lunch_y_test)))"
   ]
  },
  {
   "cell_type": "markdown",
   "metadata": {},
   "source": [
    "### 2. 릿지 - 저녁"
   ]
  },
  {
   "cell_type": "code",
   "execution_count": 274,
   "metadata": {},
   "outputs": [
    {
     "name": "stdout",
     "output_type": "stream",
     "text": [
      "Ridge(alpha=10)\n"
     ]
    }
   ],
   "source": [
    "param = {'alpha':[0.1, 1, 10, 100]}\n",
    "\n",
    "model = Ridge()\n",
    "gs= GridSearchCV(estimator=model, param_grid=param, scoring='neg_mean_squared_error',cv=5)\n",
    "\n",
    "gs.fit(dinner_X_train,dinner_y_train)\n",
    "print(gs.best_estimator_)"
   ]
  },
  {
   "cell_type": "code",
   "execution_count": 275,
   "metadata": {},
   "outputs": [
    {
     "name": "stdout",
     "output_type": "stream",
     "text": [
      "훈련 결과 : 0.5846964863308441\n",
      "점검 결과 : 0.5114079584877648\n"
     ]
    }
   ],
   "source": [
    "model = Ridge(alpha=10)\n",
    "\n",
    "model.fit(dinner_X_train, dinner_y_train)\n",
    "\n",
    "print(\"훈련 결과 : {}\".format(model.score(dinner_X_train, dinner_y_train)))\n",
    "print(\"점검 결과 : {}\".format(model.score(dinner_X_test, dinner_y_test)))"
   ]
  },
  {
   "cell_type": "markdown",
   "metadata": {},
   "source": [
    "### 1. 라쏘 - 점심"
   ]
  },
  {
   "cell_type": "code",
   "execution_count": 276,
   "metadata": {},
   "outputs": [
    {
     "name": "stderr",
     "output_type": "stream",
     "text": [
      "/Users/hoon/miniforge3/envs/ML/lib/python3.9/site-packages/sklearn/linear_model/_coordinate_descent.py:647: ConvergenceWarning: Objective did not converge. You might want to increase the number of iterations, check the scale of the features or consider increasing regularisation. Duality gap: 2.376e+06, tolerance: 2.958e+03\n",
      "  model = cd_fast.enet_coordinate_descent(\n",
      "/Users/hoon/miniforge3/envs/ML/lib/python3.9/site-packages/sklearn/linear_model/_coordinate_descent.py:647: ConvergenceWarning: Objective did not converge. You might want to increase the number of iterations, check the scale of the features or consider increasing regularisation. Duality gap: 1.338e+06, tolerance: 2.916e+03\n",
      "  model = cd_fast.enet_coordinate_descent(\n",
      "/Users/hoon/miniforge3/envs/ML/lib/python3.9/site-packages/sklearn/linear_model/_coordinate_descent.py:647: ConvergenceWarning: Objective did not converge. You might want to increase the number of iterations, check the scale of the features or consider increasing regularisation. Duality gap: 2.515e+06, tolerance: 2.969e+03\n",
      "  model = cd_fast.enet_coordinate_descent(\n",
      "/Users/hoon/miniforge3/envs/ML/lib/python3.9/site-packages/sklearn/linear_model/_coordinate_descent.py:647: ConvergenceWarning: Objective did not converge. You might want to increase the number of iterations, check the scale of the features or consider increasing regularisation. Duality gap: 2.476e+06, tolerance: 3.010e+03\n",
      "  model = cd_fast.enet_coordinate_descent(\n",
      "/Users/hoon/miniforge3/envs/ML/lib/python3.9/site-packages/sklearn/linear_model/_coordinate_descent.py:647: ConvergenceWarning: Objective did not converge. You might want to increase the number of iterations, check the scale of the features or consider increasing regularisation. Duality gap: 1.602e+06, tolerance: 3.196e+03\n",
      "  model = cd_fast.enet_coordinate_descent(\n",
      "/Users/hoon/miniforge3/envs/ML/lib/python3.9/site-packages/sklearn/linear_model/_coordinate_descent.py:647: ConvergenceWarning: Objective did not converge. You might want to increase the number of iterations, check the scale of the features or consider increasing regularisation. Duality gap: 8.319e+04, tolerance: 2.958e+03\n",
      "  model = cd_fast.enet_coordinate_descent(\n",
      "/Users/hoon/miniforge3/envs/ML/lib/python3.9/site-packages/sklearn/linear_model/_coordinate_descent.py:647: ConvergenceWarning: Objective did not converge. You might want to increase the number of iterations, check the scale of the features or consider increasing regularisation. Duality gap: 6.353e+04, tolerance: 2.916e+03\n",
      "  model = cd_fast.enet_coordinate_descent(\n",
      "/Users/hoon/miniforge3/envs/ML/lib/python3.9/site-packages/sklearn/linear_model/_coordinate_descent.py:647: ConvergenceWarning: Objective did not converge. You might want to increase the number of iterations, check the scale of the features or consider increasing regularisation. Duality gap: 5.673e+04, tolerance: 2.969e+03\n",
      "  model = cd_fast.enet_coordinate_descent(\n",
      "/Users/hoon/miniforge3/envs/ML/lib/python3.9/site-packages/sklearn/linear_model/_coordinate_descent.py:647: ConvergenceWarning: Objective did not converge. You might want to increase the number of iterations, check the scale of the features or consider increasing regularisation. Duality gap: 1.419e+05, tolerance: 3.010e+03\n",
      "  model = cd_fast.enet_coordinate_descent(\n",
      "/Users/hoon/miniforge3/envs/ML/lib/python3.9/site-packages/sklearn/linear_model/_coordinate_descent.py:647: ConvergenceWarning: Objective did not converge. You might want to increase the number of iterations, check the scale of the features or consider increasing regularisation. Duality gap: 5.618e+04, tolerance: 3.196e+03\n",
      "  model = cd_fast.enet_coordinate_descent(\n"
     ]
    },
    {
     "name": "stdout",
     "output_type": "stream",
     "text": [
      "Lasso(alpha=1)\n"
     ]
    },
    {
     "name": "stderr",
     "output_type": "stream",
     "text": [
      "/Users/hoon/miniforge3/envs/ML/lib/python3.9/site-packages/sklearn/linear_model/_coordinate_descent.py:647: ConvergenceWarning: Objective did not converge. You might want to increase the number of iterations, check the scale of the features or consider increasing regularisation. Duality gap: 7.864e+04, tolerance: 3.763e+03\n",
      "  model = cd_fast.enet_coordinate_descent(\n"
     ]
    }
   ],
   "source": [
    "param = {'alpha':[0.1, 1, 10, 100]}\n",
    "\n",
    "model = Lasso()\n",
    "gs= GridSearchCV(estimator=model, param_grid=param, scoring='neg_mean_squared_error',cv=5)\n",
    "\n",
    "gs.fit(lunch_X_train,lunch_y_train)\n",
    "print(gs.best_estimator_)"
   ]
  },
  {
   "cell_type": "code",
   "execution_count": 277,
   "metadata": {},
   "outputs": [
    {
     "name": "stdout",
     "output_type": "stream",
     "text": [
      "훈련 결과 : 0.79289893058166\n",
      "점검 결과 : 0.825226121116565\n"
     ]
    },
    {
     "name": "stderr",
     "output_type": "stream",
     "text": [
      "/Users/hoon/miniforge3/envs/ML/lib/python3.9/site-packages/sklearn/linear_model/_coordinate_descent.py:647: ConvergenceWarning: Objective did not converge. You might want to increase the number of iterations, check the scale of the features or consider increasing regularisation. Duality gap: 7.864e+04, tolerance: 3.763e+03\n",
      "  model = cd_fast.enet_coordinate_descent(\n"
     ]
    }
   ],
   "source": [
    "model = Lasso(alpha=1)\n",
    "\n",
    "model.fit(lunch_X_train, lunch_y_train)\n",
    "\n",
    "print(\"훈련 결과 : {}\".format(model.score(lunch_X_train, lunch_y_train)))\n",
    "print(\"점검 결과 : {}\".format(model.score(lunch_X_test, lunch_y_test)))"
   ]
  },
  {
   "cell_type": "markdown",
   "metadata": {},
   "source": [
    "### 2. 릿지 - 저녁"
   ]
  },
  {
   "cell_type": "code",
   "execution_count": 278,
   "metadata": {},
   "outputs": [
    {
     "name": "stderr",
     "output_type": "stream",
     "text": [
      "/Users/hoon/miniforge3/envs/ML/lib/python3.9/site-packages/sklearn/linear_model/_coordinate_descent.py:647: ConvergenceWarning: Objective did not converge. You might want to increase the number of iterations, check the scale of the features or consider increasing regularisation. Duality gap: 2.489e+06, tolerance: 1.282e+03\n",
      "  model = cd_fast.enet_coordinate_descent(\n",
      "/Users/hoon/miniforge3/envs/ML/lib/python3.9/site-packages/sklearn/linear_model/_coordinate_descent.py:647: ConvergenceWarning: Objective did not converge. You might want to increase the number of iterations, check the scale of the features or consider increasing regularisation. Duality gap: 9.327e+05, tolerance: 1.433e+03\n",
      "  model = cd_fast.enet_coordinate_descent(\n",
      "/Users/hoon/miniforge3/envs/ML/lib/python3.9/site-packages/sklearn/linear_model/_coordinate_descent.py:647: ConvergenceWarning: Objective did not converge. You might want to increase the number of iterations, check the scale of the features or consider increasing regularisation. Duality gap: 2.677e+06, tolerance: 1.407e+03\n",
      "  model = cd_fast.enet_coordinate_descent(\n",
      "/Users/hoon/miniforge3/envs/ML/lib/python3.9/site-packages/sklearn/linear_model/_coordinate_descent.py:647: ConvergenceWarning: Objective did not converge. You might want to increase the number of iterations, check the scale of the features or consider increasing regularisation. Duality gap: 2.580e+06, tolerance: 1.357e+03\n",
      "  model = cd_fast.enet_coordinate_descent(\n",
      "/Users/hoon/miniforge3/envs/ML/lib/python3.9/site-packages/sklearn/linear_model/_coordinate_descent.py:647: ConvergenceWarning: Objective did not converge. You might want to increase the number of iterations, check the scale of the features or consider increasing regularisation. Duality gap: 2.547e+06, tolerance: 1.383e+03\n",
      "  model = cd_fast.enet_coordinate_descent(\n",
      "/Users/hoon/miniforge3/envs/ML/lib/python3.9/site-packages/sklearn/linear_model/_coordinate_descent.py:647: ConvergenceWarning: Objective did not converge. You might want to increase the number of iterations, check the scale of the features or consider increasing regularisation. Duality gap: 1.810e+06, tolerance: 1.282e+03\n",
      "  model = cd_fast.enet_coordinate_descent(\n",
      "/Users/hoon/miniforge3/envs/ML/lib/python3.9/site-packages/sklearn/linear_model/_coordinate_descent.py:647: ConvergenceWarning: Objective did not converge. You might want to increase the number of iterations, check the scale of the features or consider increasing regularisation. Duality gap: 3.120e+04, tolerance: 1.433e+03\n",
      "  model = cd_fast.enet_coordinate_descent(\n",
      "/Users/hoon/miniforge3/envs/ML/lib/python3.9/site-packages/sklearn/linear_model/_coordinate_descent.py:647: ConvergenceWarning: Objective did not converge. You might want to increase the number of iterations, check the scale of the features or consider increasing regularisation. Duality gap: 8.280e+05, tolerance: 1.407e+03\n",
      "  model = cd_fast.enet_coordinate_descent(\n",
      "/Users/hoon/miniforge3/envs/ML/lib/python3.9/site-packages/sklearn/linear_model/_coordinate_descent.py:647: ConvergenceWarning: Objective did not converge. You might want to increase the number of iterations, check the scale of the features or consider increasing regularisation. Duality gap: 1.627e+06, tolerance: 1.357e+03\n",
      "  model = cd_fast.enet_coordinate_descent(\n",
      "/Users/hoon/miniforge3/envs/ML/lib/python3.9/site-packages/sklearn/linear_model/_coordinate_descent.py:647: ConvergenceWarning: Objective did not converge. You might want to increase the number of iterations, check the scale of the features or consider increasing regularisation. Duality gap: 1.360e+05, tolerance: 1.383e+03\n",
      "  model = cd_fast.enet_coordinate_descent(\n",
      "/Users/hoon/miniforge3/envs/ML/lib/python3.9/site-packages/sklearn/linear_model/_coordinate_descent.py:647: ConvergenceWarning: Objective did not converge. You might want to increase the number of iterations, check the scale of the features or consider increasing regularisation. Duality gap: 2.271e+04, tolerance: 1.282e+03\n",
      "  model = cd_fast.enet_coordinate_descent(\n",
      "/Users/hoon/miniforge3/envs/ML/lib/python3.9/site-packages/sklearn/linear_model/_coordinate_descent.py:647: ConvergenceWarning: Objective did not converge. You might want to increase the number of iterations, check the scale of the features or consider increasing regularisation. Duality gap: 3.614e+04, tolerance: 1.433e+03\n",
      "  model = cd_fast.enet_coordinate_descent(\n",
      "/Users/hoon/miniforge3/envs/ML/lib/python3.9/site-packages/sklearn/linear_model/_coordinate_descent.py:647: ConvergenceWarning: Objective did not converge. You might want to increase the number of iterations, check the scale of the features or consider increasing regularisation. Duality gap: 4.277e+04, tolerance: 1.407e+03\n",
      "  model = cd_fast.enet_coordinate_descent(\n",
      "/Users/hoon/miniforge3/envs/ML/lib/python3.9/site-packages/sklearn/linear_model/_coordinate_descent.py:647: ConvergenceWarning: Objective did not converge. You might want to increase the number of iterations, check the scale of the features or consider increasing regularisation. Duality gap: 2.762e+03, tolerance: 1.357e+03\n",
      "  model = cd_fast.enet_coordinate_descent(\n"
     ]
    },
    {
     "name": "stdout",
     "output_type": "stream",
     "text": [
      "Lasso(alpha=0.1)\n"
     ]
    },
    {
     "name": "stderr",
     "output_type": "stream",
     "text": [
      "/Users/hoon/miniforge3/envs/ML/lib/python3.9/site-packages/sklearn/linear_model/_coordinate_descent.py:647: ConvergenceWarning: Objective did not converge. You might want to increase the number of iterations, check the scale of the features or consider increasing regularisation. Duality gap: 1.483e+06, tolerance: 1.716e+03\n",
      "  model = cd_fast.enet_coordinate_descent(\n"
     ]
    }
   ],
   "source": [
    "param = {'alpha':[0.01, 0.1, 1, 10, 100]}\n",
    "\n",
    "model = Lasso()\n",
    "gs= GridSearchCV(estimator=model, param_grid=param, scoring='neg_mean_squared_error',cv=5)\n",
    "\n",
    "gs.fit(dinner_X_train,dinner_y_train)\n",
    "print(gs.best_estimator_)"
   ]
  },
  {
   "cell_type": "code",
   "execution_count": 279,
   "metadata": {},
   "outputs": [
    {
     "name": "stdout",
     "output_type": "stream",
     "text": [
      "훈련 결과 : 0.5915282738733196\n",
      "점검 결과 : 0.49785499714720094\n"
     ]
    },
    {
     "name": "stderr",
     "output_type": "stream",
     "text": [
      "/Users/hoon/miniforge3/envs/ML/lib/python3.9/site-packages/sklearn/linear_model/_coordinate_descent.py:647: ConvergenceWarning: Objective did not converge. You might want to increase the number of iterations, check the scale of the features or consider increasing regularisation. Duality gap: 1.483e+06, tolerance: 1.716e+03\n",
      "  model = cd_fast.enet_coordinate_descent(\n"
     ]
    }
   ],
   "source": [
    "model = Lasso(alpha=0.1)\n",
    "\n",
    "model.fit(dinner_X_train, dinner_y_train)\n",
    "\n",
    "print(\"훈련 결과 : {}\".format(model.score(dinner_X_train, dinner_y_train)))\n",
    "print(\"점검 결과 : {}\".format(model.score(dinner_X_test, dinner_y_test)))"
   ]
  },
  {
   "cell_type": "markdown",
   "metadata": {},
   "source": [
    "### 1. 엘라스틱넷 - 점심"
   ]
  },
  {
   "cell_type": "code",
   "execution_count": 280,
   "metadata": {},
   "outputs": [
    {
     "name": "stderr",
     "output_type": "stream",
     "text": [
      "/Users/hoon/miniforge3/envs/ML/lib/python3.9/site-packages/sklearn/linear_model/_coordinate_descent.py:647: ConvergenceWarning: Objective did not converge. You might want to increase the number of iterations, check the scale of the features or consider increasing regularisation. Duality gap: 2.831e+06, tolerance: 2.958e+03\n",
      "  model = cd_fast.enet_coordinate_descent(\n",
      "/Users/hoon/miniforge3/envs/ML/lib/python3.9/site-packages/sklearn/linear_model/_coordinate_descent.py:647: ConvergenceWarning: Objective did not converge. You might want to increase the number of iterations, check the scale of the features or consider increasing regularisation. Duality gap: 2.722e+06, tolerance: 2.916e+03\n",
      "  model = cd_fast.enet_coordinate_descent(\n",
      "/Users/hoon/miniforge3/envs/ML/lib/python3.9/site-packages/sklearn/linear_model/_coordinate_descent.py:647: ConvergenceWarning: Objective did not converge. You might want to increase the number of iterations, check the scale of the features or consider increasing regularisation. Duality gap: 3.121e+06, tolerance: 2.969e+03\n",
      "  model = cd_fast.enet_coordinate_descent(\n",
      "/Users/hoon/miniforge3/envs/ML/lib/python3.9/site-packages/sklearn/linear_model/_coordinate_descent.py:647: ConvergenceWarning: Objective did not converge. You might want to increase the number of iterations, check the scale of the features or consider increasing regularisation. Duality gap: 2.979e+06, tolerance: 3.010e+03\n",
      "  model = cd_fast.enet_coordinate_descent(\n",
      "/Users/hoon/miniforge3/envs/ML/lib/python3.9/site-packages/sklearn/linear_model/_coordinate_descent.py:647: ConvergenceWarning: Objective did not converge. You might want to increase the number of iterations, check the scale of the features or consider increasing regularisation. Duality gap: 3.007e+06, tolerance: 3.196e+03\n",
      "  model = cd_fast.enet_coordinate_descent(\n",
      "/Users/hoon/miniforge3/envs/ML/lib/python3.9/site-packages/sklearn/linear_model/_coordinate_descent.py:647: ConvergenceWarning: Objective did not converge. You might want to increase the number of iterations, check the scale of the features or consider increasing regularisation. Duality gap: 2.481e+06, tolerance: 2.958e+03\n",
      "  model = cd_fast.enet_coordinate_descent(\n",
      "/Users/hoon/miniforge3/envs/ML/lib/python3.9/site-packages/sklearn/linear_model/_coordinate_descent.py:647: ConvergenceWarning: Objective did not converge. You might want to increase the number of iterations, check the scale of the features or consider increasing regularisation. Duality gap: 3.188e+05, tolerance: 2.916e+03\n",
      "  model = cd_fast.enet_coordinate_descent(\n",
      "/Users/hoon/miniforge3/envs/ML/lib/python3.9/site-packages/sklearn/linear_model/_coordinate_descent.py:647: ConvergenceWarning: Objective did not converge. You might want to increase the number of iterations, check the scale of the features or consider increasing regularisation. Duality gap: 2.145e+06, tolerance: 2.969e+03\n",
      "  model = cd_fast.enet_coordinate_descent(\n",
      "/Users/hoon/miniforge3/envs/ML/lib/python3.9/site-packages/sklearn/linear_model/_coordinate_descent.py:647: ConvergenceWarning: Objective did not converge. You might want to increase the number of iterations, check the scale of the features or consider increasing regularisation. Duality gap: 2.200e+06, tolerance: 3.010e+03\n",
      "  model = cd_fast.enet_coordinate_descent(\n",
      "/Users/hoon/miniforge3/envs/ML/lib/python3.9/site-packages/sklearn/linear_model/_coordinate_descent.py:647: ConvergenceWarning: Objective did not converge. You might want to increase the number of iterations, check the scale of the features or consider increasing regularisation. Duality gap: 2.555e+05, tolerance: 3.196e+03\n",
      "  model = cd_fast.enet_coordinate_descent(\n",
      "/Users/hoon/miniforge3/envs/ML/lib/python3.9/site-packages/sklearn/linear_model/_coordinate_descent.py:647: ConvergenceWarning: Objective did not converge. You might want to increase the number of iterations, check the scale of the features or consider increasing regularisation. Duality gap: 6.718e+05, tolerance: 2.958e+03\n",
      "  model = cd_fast.enet_coordinate_descent(\n",
      "/Users/hoon/miniforge3/envs/ML/lib/python3.9/site-packages/sklearn/linear_model/_coordinate_descent.py:647: ConvergenceWarning: Objective did not converge. You might want to increase the number of iterations, check the scale of the features or consider increasing regularisation. Duality gap: 7.782e+05, tolerance: 2.916e+03\n",
      "  model = cd_fast.enet_coordinate_descent(\n",
      "/Users/hoon/miniforge3/envs/ML/lib/python3.9/site-packages/sklearn/linear_model/_coordinate_descent.py:647: ConvergenceWarning: Objective did not converge. You might want to increase the number of iterations, check the scale of the features or consider increasing regularisation. Duality gap: 5.386e+05, tolerance: 2.969e+03\n",
      "  model = cd_fast.enet_coordinate_descent(\n",
      "/Users/hoon/miniforge3/envs/ML/lib/python3.9/site-packages/sklearn/linear_model/_coordinate_descent.py:647: ConvergenceWarning: Objective did not converge. You might want to increase the number of iterations, check the scale of the features or consider increasing regularisation. Duality gap: 7.298e+05, tolerance: 3.010e+03\n",
      "  model = cd_fast.enet_coordinate_descent(\n",
      "/Users/hoon/miniforge3/envs/ML/lib/python3.9/site-packages/sklearn/linear_model/_coordinate_descent.py:647: ConvergenceWarning: Objective did not converge. You might want to increase the number of iterations, check the scale of the features or consider increasing regularisation. Duality gap: 7.911e+05, tolerance: 3.196e+03\n",
      "  model = cd_fast.enet_coordinate_descent(\n",
      "/Users/hoon/miniforge3/envs/ML/lib/python3.9/site-packages/sklearn/linear_model/_coordinate_descent.py:647: ConvergenceWarning: Objective did not converge. You might want to increase the number of iterations, check the scale of the features or consider increasing regularisation. Duality gap: 4.552e+05, tolerance: 2.958e+03\n",
      "  model = cd_fast.enet_coordinate_descent(\n",
      "/Users/hoon/miniforge3/envs/ML/lib/python3.9/site-packages/sklearn/linear_model/_coordinate_descent.py:647: ConvergenceWarning: Objective did not converge. You might want to increase the number of iterations, check the scale of the features or consider increasing regularisation. Duality gap: 5.186e+05, tolerance: 2.916e+03\n",
      "  model = cd_fast.enet_coordinate_descent(\n",
      "/Users/hoon/miniforge3/envs/ML/lib/python3.9/site-packages/sklearn/linear_model/_coordinate_descent.py:647: ConvergenceWarning: Objective did not converge. You might want to increase the number of iterations, check the scale of the features or consider increasing regularisation. Duality gap: 3.635e+05, tolerance: 2.969e+03\n",
      "  model = cd_fast.enet_coordinate_descent(\n",
      "/Users/hoon/miniforge3/envs/ML/lib/python3.9/site-packages/sklearn/linear_model/_coordinate_descent.py:647: ConvergenceWarning: Objective did not converge. You might want to increase the number of iterations, check the scale of the features or consider increasing regularisation. Duality gap: 5.058e+05, tolerance: 3.010e+03\n",
      "  model = cd_fast.enet_coordinate_descent(\n",
      "/Users/hoon/miniforge3/envs/ML/lib/python3.9/site-packages/sklearn/linear_model/_coordinate_descent.py:647: ConvergenceWarning: Objective did not converge. You might want to increase the number of iterations, check the scale of the features or consider increasing regularisation. Duality gap: 5.448e+05, tolerance: 3.196e+03\n",
      "  model = cd_fast.enet_coordinate_descent(\n"
     ]
    },
    {
     "name": "stdout",
     "output_type": "stream",
     "text": [
      "ElasticNet(alpha=0.01)\n"
     ]
    },
    {
     "name": "stderr",
     "output_type": "stream",
     "text": [
      "/Users/hoon/miniforge3/envs/ML/lib/python3.9/site-packages/sklearn/linear_model/_coordinate_descent.py:647: ConvergenceWarning: Objective did not converge. You might want to increase the number of iterations, check the scale of the features or consider increasing regularisation. Duality gap: 3.739e+06, tolerance: 3.763e+03\n",
      "  model = cd_fast.enet_coordinate_descent(\n"
     ]
    }
   ],
   "source": [
    "param = {'alpha':[0.01, 0.1, 1, 10, 100]}\n",
    "\n",
    "model = ElasticNet()\n",
    "gs= GridSearchCV(estimator=model, param_grid=param, scoring='neg_mean_squared_error',cv=5)\n",
    "\n",
    "gs.fit(lunch_X_train,lunch_y_train)\n",
    "print(gs.best_estimator_)"
   ]
  },
  {
   "cell_type": "code",
   "execution_count": 281,
   "metadata": {},
   "outputs": [
    {
     "name": "stdout",
     "output_type": "stream",
     "text": [
      "훈련 결과 : 0.8068362251560386\n",
      "점검 결과 : 0.8215253825745953\n"
     ]
    },
    {
     "name": "stderr",
     "output_type": "stream",
     "text": [
      "/Users/hoon/miniforge3/envs/ML/lib/python3.9/site-packages/sklearn/linear_model/_coordinate_descent.py:647: ConvergenceWarning: Objective did not converge. You might want to increase the number of iterations, check the scale of the features or consider increasing regularisation. Duality gap: 3.739e+06, tolerance: 3.763e+03\n",
      "  model = cd_fast.enet_coordinate_descent(\n"
     ]
    }
   ],
   "source": [
    "model = ElasticNet(alpha=0.01)\n",
    "\n",
    "model.fit(lunch_X_train, lunch_y_train)\n",
    "\n",
    "print(\"훈련 결과 : {}\".format(model.score(lunch_X_train, lunch_y_train)))\n",
    "print(\"점검 결과 : {}\".format(model.score(lunch_X_test, lunch_y_test)))"
   ]
  },
  {
   "cell_type": "markdown",
   "metadata": {},
   "source": [
    "### 2. 릿지 - 저녁"
   ]
  },
  {
   "cell_type": "code",
   "execution_count": 282,
   "metadata": {},
   "outputs": [
    {
     "name": "stderr",
     "output_type": "stream",
     "text": [
      "/Users/hoon/miniforge3/envs/ML/lib/python3.9/site-packages/sklearn/linear_model/_coordinate_descent.py:647: ConvergenceWarning: Objective did not converge. You might want to increase the number of iterations, check the scale of the features or consider increasing regularisation. Duality gap: 2.582e+06, tolerance: 1.282e+03\n",
      "  model = cd_fast.enet_coordinate_descent(\n",
      "/Users/hoon/miniforge3/envs/ML/lib/python3.9/site-packages/sklearn/linear_model/_coordinate_descent.py:647: ConvergenceWarning: Objective did not converge. You might want to increase the number of iterations, check the scale of the features or consider increasing regularisation. Duality gap: 2.677e+06, tolerance: 1.433e+03\n",
      "  model = cd_fast.enet_coordinate_descent(\n",
      "/Users/hoon/miniforge3/envs/ML/lib/python3.9/site-packages/sklearn/linear_model/_coordinate_descent.py:647: ConvergenceWarning: Objective did not converge. You might want to increase the number of iterations, check the scale of the features or consider increasing regularisation. Duality gap: 2.846e+06, tolerance: 1.407e+03\n",
      "  model = cd_fast.enet_coordinate_descent(\n",
      "/Users/hoon/miniforge3/envs/ML/lib/python3.9/site-packages/sklearn/linear_model/_coordinate_descent.py:647: ConvergenceWarning: Objective did not converge. You might want to increase the number of iterations, check the scale of the features or consider increasing regularisation. Duality gap: 2.692e+06, tolerance: 1.357e+03\n",
      "  model = cd_fast.enet_coordinate_descent(\n",
      "/Users/hoon/miniforge3/envs/ML/lib/python3.9/site-packages/sklearn/linear_model/_coordinate_descent.py:647: ConvergenceWarning: Objective did not converge. You might want to increase the number of iterations, check the scale of the features or consider increasing regularisation. Duality gap: 2.780e+06, tolerance: 1.383e+03\n",
      "  model = cd_fast.enet_coordinate_descent(\n",
      "/Users/hoon/miniforge3/envs/ML/lib/python3.9/site-packages/sklearn/linear_model/_coordinate_descent.py:647: ConvergenceWarning: Objective did not converge. You might want to increase the number of iterations, check the scale of the features or consider increasing regularisation. Duality gap: 2.598e+06, tolerance: 1.282e+03\n",
      "  model = cd_fast.enet_coordinate_descent(\n",
      "/Users/hoon/miniforge3/envs/ML/lib/python3.9/site-packages/sklearn/linear_model/_coordinate_descent.py:647: ConvergenceWarning: Objective did not converge. You might want to increase the number of iterations, check the scale of the features or consider increasing regularisation. Duality gap: 2.690e+06, tolerance: 1.433e+03\n",
      "  model = cd_fast.enet_coordinate_descent(\n",
      "/Users/hoon/miniforge3/envs/ML/lib/python3.9/site-packages/sklearn/linear_model/_coordinate_descent.py:647: ConvergenceWarning: Objective did not converge. You might want to increase the number of iterations, check the scale of the features or consider increasing regularisation. Duality gap: 2.807e+06, tolerance: 1.407e+03\n",
      "  model = cd_fast.enet_coordinate_descent(\n",
      "/Users/hoon/miniforge3/envs/ML/lib/python3.9/site-packages/sklearn/linear_model/_coordinate_descent.py:647: ConvergenceWarning: Objective did not converge. You might want to increase the number of iterations, check the scale of the features or consider increasing regularisation. Duality gap: 2.709e+06, tolerance: 1.357e+03\n",
      "  model = cd_fast.enet_coordinate_descent(\n",
      "/Users/hoon/miniforge3/envs/ML/lib/python3.9/site-packages/sklearn/linear_model/_coordinate_descent.py:647: ConvergenceWarning: Objective did not converge. You might want to increase the number of iterations, check the scale of the features or consider increasing regularisation. Duality gap: 2.529e+06, tolerance: 1.383e+03\n",
      "  model = cd_fast.enet_coordinate_descent(\n",
      "/Users/hoon/miniforge3/envs/ML/lib/python3.9/site-packages/sklearn/linear_model/_coordinate_descent.py:647: ConvergenceWarning: Objective did not converge. You might want to increase the number of iterations, check the scale of the features or consider increasing regularisation. Duality gap: 2.203e+05, tolerance: 1.282e+03\n",
      "  model = cd_fast.enet_coordinate_descent(\n",
      "/Users/hoon/miniforge3/envs/ML/lib/python3.9/site-packages/sklearn/linear_model/_coordinate_descent.py:647: ConvergenceWarning: Objective did not converge. You might want to increase the number of iterations, check the scale of the features or consider increasing regularisation. Duality gap: 4.661e+05, tolerance: 1.433e+03\n",
      "  model = cd_fast.enet_coordinate_descent(\n",
      "/Users/hoon/miniforge3/envs/ML/lib/python3.9/site-packages/sklearn/linear_model/_coordinate_descent.py:647: ConvergenceWarning: Objective did not converge. You might want to increase the number of iterations, check the scale of the features or consider increasing regularisation. Duality gap: 5.374e+05, tolerance: 1.407e+03\n",
      "  model = cd_fast.enet_coordinate_descent(\n",
      "/Users/hoon/miniforge3/envs/ML/lib/python3.9/site-packages/sklearn/linear_model/_coordinate_descent.py:647: ConvergenceWarning: Objective did not converge. You might want to increase the number of iterations, check the scale of the features or consider increasing regularisation. Duality gap: 7.388e+05, tolerance: 1.357e+03\n",
      "  model = cd_fast.enet_coordinate_descent(\n",
      "/Users/hoon/miniforge3/envs/ML/lib/python3.9/site-packages/sklearn/linear_model/_coordinate_descent.py:647: ConvergenceWarning: Objective did not converge. You might want to increase the number of iterations, check the scale of the features or consider increasing regularisation. Duality gap: 1.210e+06, tolerance: 1.383e+03\n",
      "  model = cd_fast.enet_coordinate_descent(\n",
      "/Users/hoon/miniforge3/envs/ML/lib/python3.9/site-packages/sklearn/linear_model/_coordinate_descent.py:647: ConvergenceWarning: Objective did not converge. You might want to increase the number of iterations, check the scale of the features or consider increasing regularisation. Duality gap: 5.709e+05, tolerance: 1.282e+03\n",
      "  model = cd_fast.enet_coordinate_descent(\n",
      "/Users/hoon/miniforge3/envs/ML/lib/python3.9/site-packages/sklearn/linear_model/_coordinate_descent.py:647: ConvergenceWarning: Objective did not converge. You might want to increase the number of iterations, check the scale of the features or consider increasing regularisation. Duality gap: 7.788e+05, tolerance: 1.433e+03\n",
      "  model = cd_fast.enet_coordinate_descent(\n",
      "/Users/hoon/miniforge3/envs/ML/lib/python3.9/site-packages/sklearn/linear_model/_coordinate_descent.py:647: ConvergenceWarning: Objective did not converge. You might want to increase the number of iterations, check the scale of the features or consider increasing regularisation. Duality gap: 7.412e+05, tolerance: 1.407e+03\n",
      "  model = cd_fast.enet_coordinate_descent(\n",
      "/Users/hoon/miniforge3/envs/ML/lib/python3.9/site-packages/sklearn/linear_model/_coordinate_descent.py:647: ConvergenceWarning: Objective did not converge. You might want to increase the number of iterations, check the scale of the features or consider increasing regularisation. Duality gap: 7.230e+05, tolerance: 1.357e+03\n",
      "  model = cd_fast.enet_coordinate_descent(\n",
      "/Users/hoon/miniforge3/envs/ML/lib/python3.9/site-packages/sklearn/linear_model/_coordinate_descent.py:647: ConvergenceWarning: Objective did not converge. You might want to increase the number of iterations, check the scale of the features or consider increasing regularisation. Duality gap: 7.591e+05, tolerance: 1.383e+03\n",
      "  model = cd_fast.enet_coordinate_descent(\n"
     ]
    },
    {
     "name": "stdout",
     "output_type": "stream",
     "text": [
      "ElasticNet(alpha=0.01)\n"
     ]
    },
    {
     "name": "stderr",
     "output_type": "stream",
     "text": [
      "/Users/hoon/miniforge3/envs/ML/lib/python3.9/site-packages/sklearn/linear_model/_coordinate_descent.py:647: ConvergenceWarning: Objective did not converge. You might want to increase the number of iterations, check the scale of the features or consider increasing regularisation. Duality gap: 3.472e+06, tolerance: 1.716e+03\n",
      "  model = cd_fast.enet_coordinate_descent(\n"
     ]
    }
   ],
   "source": [
    "param = {'alpha':[0.005, 0.01, 0.1, 1, 10, 100]}\n",
    "\n",
    "model = ElasticNet()\n",
    "gs= GridSearchCV(estimator=model, param_grid=param, scoring='neg_mean_squared_error',cv=5)\n",
    "\n",
    "gs.fit(dinner_X_train,dinner_y_train)\n",
    "print(gs.best_estimator_)"
   ]
  },
  {
   "cell_type": "code",
   "execution_count": 283,
   "metadata": {},
   "outputs": [
    {
     "name": "stdout",
     "output_type": "stream",
     "text": [
      "훈련 결과 : 0.5925658313245357\n",
      "점검 결과 : 0.48988364101805504\n"
     ]
    }
   ],
   "source": [
    "model = Ridge(alpha=0.01)\n",
    "\n",
    "model.fit(dinner_X_train, dinner_y_train)\n",
    "\n",
    "print(\"훈련 결과 : {}\".format(model.score(dinner_X_train, dinner_y_train)))\n",
    "print(\"점검 결과 : {}\".format(model.score(dinner_X_test, dinner_y_test)))"
   ]
  },
  {
   "cell_type": "markdown",
   "metadata": {},
   "source": [
    "## 6. KFold, Cross_val_score로 XGBoost Modeling"
   ]
  },
  {
   "cell_type": "markdown",
   "metadata": {},
   "source": [
    "### 1. data"
   ]
  },
  {
   "cell_type": "code",
   "execution_count": 389,
   "metadata": {},
   "outputs": [],
   "source": [
    "def split_lunch(data):\n",
    "    data_train = data.drop([\"lunch_number\", \"datetime\"], axis = \"columns\")\n",
    "    data_target = data.loc[:, 'lunch_number']\n",
    "    times = ['year', 'month', 'date']\n",
    "    for col in times:\n",
    "        data_train[col] = data_train[col].astype('category')\n",
    "    data_train = pd.get_dummies(data_train)\n",
    "\n",
    "    return data_train, data_target\n",
    "\n",
    "def split_dinner(data):\n",
    "    data_train = data.drop([\"dinner_number\", \"datetime\"], axis = \"columns\")\n",
    "    data_target = data.loc[:, 'dinner_number']\n",
    "    times = ['year', 'month', 'date']\n",
    "    for col in times:\n",
    "        data_train[col] = data_train[col].astype('category')\n",
    "    data_train = pd.get_dummies(data_train)\n",
    "\n",
    "    return data_train, data_target"
   ]
  },
  {
   "cell_type": "code",
   "execution_count": 390,
   "metadata": {},
   "outputs": [],
   "source": [
    "lunch = pd.read_csv(\"data/lunch_df_encoding.csv\")\n",
    "dinner = pd.read_csv(\"data/dinner_df_encoding.csv\")\n",
    "\n",
    "lunch_train, lunch_target = split_lunch(lunch)\n",
    "dinner_train, dinner_target = split_dinner(dinner)"
   ]
  },
  {
   "cell_type": "markdown",
   "metadata": {},
   "source": [
    "### 2. KFold & corss_val_score"
   ]
  },
  {
   "cell_type": "code",
   "execution_count": 391,
   "metadata": {},
   "outputs": [
    {
     "name": "stdout",
     "output_type": "stream",
     "text": [
      "[ -9839.63978288  -7531.21893697  -7089.63187678  -6180.18863793\n",
      "  -5544.7559934   -8027.06909476 -10418.18606676  -6492.23536107\n",
      " -10868.50984261  -6209.07937353]\n"
     ]
    },
    {
     "data": {
      "text/plain": [
       "-782005.15"
      ]
     },
     "execution_count": 391,
     "metadata": {},
     "output_type": "execute_result"
    }
   ],
   "source": [
    "kfold = KFold(n_splits=10, shuffle=True)\n",
    "\n",
    "xgbr_lunch = XGBRegressor(n_estimators=300, colsample_bylevel=1, learning_rate=0.1, colsample_bytree=1, max_depth=2)\n",
    "scores = cross_val_score(xgbr_lunch, lunch_train, lunch_target, cv=kfold, scoring=\"neg_mean_squared_error\")\n",
    "print(scores)\n",
    "round(np.mean(scores)*100, 2)"
   ]
  },
  {
   "cell_type": "code",
   "execution_count": 392,
   "metadata": {},
   "outputs": [
    {
     "name": "stdout",
     "output_type": "stream",
     "text": [
      "[ -7241.56294919  -4190.05939708  -6798.74813318 -10708.66167151\n",
      "  -8574.32086105  -9732.36663175  -8808.71520542  -6105.04303813\n",
      "  -5931.492307    -9512.84273703]\n"
     ]
    },
    {
     "data": {
      "text/plain": [
       "-776038.13"
      ]
     },
     "execution_count": 392,
     "metadata": {},
     "output_type": "execute_result"
    }
   ],
   "source": [
    "kfold = KFold(n_splits=10, shuffle=True)\n",
    "\n",
    "xgbr_dinner = XGBRegressor(n_estimators=300, colsample_bylevel=0.7, learning_rate=0.1, colsample_bytree=0.7, max_depth=4)\n",
    "scores = cross_val_score(xgbr_dinner, dinner_train, dinner_target, cv=kfold, scoring=\"neg_mean_squared_error\")\n",
    "print(scores)\n",
    "round(np.mean(scores)*100, 2)"
   ]
  },
  {
   "cell_type": "markdown",
   "metadata": {},
   "source": [
    "### 3. Test-data"
   ]
  },
  {
   "cell_type": "code",
   "execution_count": 393,
   "metadata": {},
   "outputs": [],
   "source": [
    "def split_forecast(data):\n",
    "    data = data.drop(\"datetime\", axis = \"columns\")\n",
    "    \n",
    "    times = ['year', 'month', 'date']\n",
    "    for col in times:\n",
    "        data[col] = data[col].astype('category')\n",
    "    \n",
    "    data = pd.get_dummies(data)\n",
    "\n",
    "    return data\n",
    "\n",
    "def equal_columns(train, forecast):\n",
    "    onehot_list = train.columns\n",
    "    for c in onehot_list:\n",
    "        if c not in forecast.columns:\n",
    "            forecast[c] = 0\n",
    "\n",
    "    data = forecast.loc[:, train.columns]\n",
    "\n",
    "    return data"
   ]
  },
  {
   "cell_type": "code",
   "execution_count": 394,
   "metadata": {},
   "outputs": [],
   "source": [
    "#### lunch\n",
    "df = pd.read_csv(\"data/lunch_test_encoding.csv\")\n",
    "\n",
    "df = split_forecast(df)\n",
    "lunch_forecast = equal_columns(lunch_train, df)"
   ]
  },
  {
   "cell_type": "code",
   "execution_count": 395,
   "metadata": {},
   "outputs": [],
   "source": [
    "#### dinner\n",
    "\n",
    "df = pd.read_csv(\"data/dinner_test_encoding.csv\")\n",
    "\n",
    "df = split_forecast(df)\n",
    "dinner_forecast = equal_columns(dinner_train, df)"
   ]
  },
  {
   "cell_type": "markdown",
   "metadata": {},
   "source": [
    "## 4. Predict"
   ]
  },
  {
   "cell_type": "code",
   "execution_count": 396,
   "metadata": {},
   "outputs": [
    {
     "data": {
      "text/html": [
       "<div>\n",
       "<style scoped>\n",
       "    .dataframe tbody tr th:only-of-type {\n",
       "        vertical-align: middle;\n",
       "    }\n",
       "\n",
       "    .dataframe tbody tr th {\n",
       "        vertical-align: top;\n",
       "    }\n",
       "\n",
       "    .dataframe thead th {\n",
       "        text-align: right;\n",
       "    }\n",
       "</style>\n",
       "<table border=\"1\" class=\"dataframe\">\n",
       "  <thead>\n",
       "    <tr style=\"text-align: right;\">\n",
       "      <th></th>\n",
       "      <th>0</th>\n",
       "    </tr>\n",
       "  </thead>\n",
       "  <tbody>\n",
       "    <tr>\n",
       "      <th>0</th>\n",
       "      <td>1029.781616</td>\n",
       "    </tr>\n",
       "    <tr>\n",
       "      <th>1</th>\n",
       "      <td>937.481628</td>\n",
       "    </tr>\n",
       "    <tr>\n",
       "      <th>2</th>\n",
       "      <td>749.427856</td>\n",
       "    </tr>\n",
       "    <tr>\n",
       "      <th>3</th>\n",
       "      <td>1285.755737</td>\n",
       "    </tr>\n",
       "    <tr>\n",
       "      <th>4</th>\n",
       "      <td>1083.098145</td>\n",
       "    </tr>\n",
       "    <tr>\n",
       "      <th>5</th>\n",
       "      <td>967.697144</td>\n",
       "    </tr>\n",
       "    <tr>\n",
       "      <th>6</th>\n",
       "      <td>988.964111</td>\n",
       "    </tr>\n",
       "    <tr>\n",
       "      <th>7</th>\n",
       "      <td>711.650024</td>\n",
       "    </tr>\n",
       "    <tr>\n",
       "      <th>8</th>\n",
       "      <td>1314.591553</td>\n",
       "    </tr>\n",
       "    <tr>\n",
       "      <th>9</th>\n",
       "      <td>1079.361450</td>\n",
       "    </tr>\n",
       "    <tr>\n",
       "      <th>10</th>\n",
       "      <td>794.641785</td>\n",
       "    </tr>\n",
       "    <tr>\n",
       "      <th>11</th>\n",
       "      <td>1311.749512</td>\n",
       "    </tr>\n",
       "    <tr>\n",
       "      <th>12</th>\n",
       "      <td>1140.272827</td>\n",
       "    </tr>\n",
       "    <tr>\n",
       "      <th>13</th>\n",
       "      <td>1112.795410</td>\n",
       "    </tr>\n",
       "    <tr>\n",
       "      <th>14</th>\n",
       "      <td>956.702454</td>\n",
       "    </tr>\n",
       "    <tr>\n",
       "      <th>15</th>\n",
       "      <td>688.962097</td>\n",
       "    </tr>\n",
       "    <tr>\n",
       "      <th>16</th>\n",
       "      <td>1262.672241</td>\n",
       "    </tr>\n",
       "    <tr>\n",
       "      <th>17</th>\n",
       "      <td>1033.135986</td>\n",
       "    </tr>\n",
       "    <tr>\n",
       "      <th>18</th>\n",
       "      <td>906.887085</td>\n",
       "    </tr>\n",
       "    <tr>\n",
       "      <th>19</th>\n",
       "      <td>860.670288</td>\n",
       "    </tr>\n",
       "    <tr>\n",
       "      <th>20</th>\n",
       "      <td>613.262756</td>\n",
       "    </tr>\n",
       "    <tr>\n",
       "      <th>21</th>\n",
       "      <td>1061.590454</td>\n",
       "    </tr>\n",
       "    <tr>\n",
       "      <th>22</th>\n",
       "      <td>1021.750183</td>\n",
       "    </tr>\n",
       "    <tr>\n",
       "      <th>23</th>\n",
       "      <td>918.514648</td>\n",
       "    </tr>\n",
       "    <tr>\n",
       "      <th>24</th>\n",
       "      <td>701.683533</td>\n",
       "    </tr>\n",
       "    <tr>\n",
       "      <th>25</th>\n",
       "      <td>1327.437256</td>\n",
       "    </tr>\n",
       "    <tr>\n",
       "      <th>26</th>\n",
       "      <td>1144.179810</td>\n",
       "    </tr>\n",
       "    <tr>\n",
       "      <th>27</th>\n",
       "      <td>1024.355591</td>\n",
       "    </tr>\n",
       "    <tr>\n",
       "      <th>28</th>\n",
       "      <td>905.451904</td>\n",
       "    </tr>\n",
       "    <tr>\n",
       "      <th>29</th>\n",
       "      <td>741.499268</td>\n",
       "    </tr>\n",
       "    <tr>\n",
       "      <th>30</th>\n",
       "      <td>1270.403687</td>\n",
       "    </tr>\n",
       "    <tr>\n",
       "      <th>31</th>\n",
       "      <td>1050.031494</td>\n",
       "    </tr>\n",
       "    <tr>\n",
       "      <th>32</th>\n",
       "      <td>1035.607788</td>\n",
       "    </tr>\n",
       "    <tr>\n",
       "      <th>33</th>\n",
       "      <td>897.720642</td>\n",
       "    </tr>\n",
       "    <tr>\n",
       "      <th>34</th>\n",
       "      <td>679.408997</td>\n",
       "    </tr>\n",
       "    <tr>\n",
       "      <th>35</th>\n",
       "      <td>1267.640625</td>\n",
       "    </tr>\n",
       "    <tr>\n",
       "      <th>36</th>\n",
       "      <td>1023.833435</td>\n",
       "    </tr>\n",
       "    <tr>\n",
       "      <th>37</th>\n",
       "      <td>908.377197</td>\n",
       "    </tr>\n",
       "    <tr>\n",
       "      <th>38</th>\n",
       "      <td>824.840759</td>\n",
       "    </tr>\n",
       "    <tr>\n",
       "      <th>39</th>\n",
       "      <td>633.085144</td>\n",
       "    </tr>\n",
       "    <tr>\n",
       "      <th>40</th>\n",
       "      <td>1259.915283</td>\n",
       "    </tr>\n",
       "    <tr>\n",
       "      <th>41</th>\n",
       "      <td>1054.552734</td>\n",
       "    </tr>\n",
       "    <tr>\n",
       "      <th>42</th>\n",
       "      <td>968.627563</td>\n",
       "    </tr>\n",
       "    <tr>\n",
       "      <th>43</th>\n",
       "      <td>822.108765</td>\n",
       "    </tr>\n",
       "    <tr>\n",
       "      <th>44</th>\n",
       "      <td>622.931641</td>\n",
       "    </tr>\n",
       "    <tr>\n",
       "      <th>45</th>\n",
       "      <td>1239.401001</td>\n",
       "    </tr>\n",
       "    <tr>\n",
       "      <th>46</th>\n",
       "      <td>1033.697021</td>\n",
       "    </tr>\n",
       "    <tr>\n",
       "      <th>47</th>\n",
       "      <td>982.295349</td>\n",
       "    </tr>\n",
       "    <tr>\n",
       "      <th>48</th>\n",
       "      <td>890.496582</td>\n",
       "    </tr>\n",
       "    <tr>\n",
       "      <th>49</th>\n",
       "      <td>610.529236</td>\n",
       "    </tr>\n",
       "  </tbody>\n",
       "</table>\n",
       "</div>"
      ],
      "text/plain": [
       "              0\n",
       "0   1029.781616\n",
       "1    937.481628\n",
       "2    749.427856\n",
       "3   1285.755737\n",
       "4   1083.098145\n",
       "5    967.697144\n",
       "6    988.964111\n",
       "7    711.650024\n",
       "8   1314.591553\n",
       "9   1079.361450\n",
       "10   794.641785\n",
       "11  1311.749512\n",
       "12  1140.272827\n",
       "13  1112.795410\n",
       "14   956.702454\n",
       "15   688.962097\n",
       "16  1262.672241\n",
       "17  1033.135986\n",
       "18   906.887085\n",
       "19   860.670288\n",
       "20   613.262756\n",
       "21  1061.590454\n",
       "22  1021.750183\n",
       "23   918.514648\n",
       "24   701.683533\n",
       "25  1327.437256\n",
       "26  1144.179810\n",
       "27  1024.355591\n",
       "28   905.451904\n",
       "29   741.499268\n",
       "30  1270.403687\n",
       "31  1050.031494\n",
       "32  1035.607788\n",
       "33   897.720642\n",
       "34   679.408997\n",
       "35  1267.640625\n",
       "36  1023.833435\n",
       "37   908.377197\n",
       "38   824.840759\n",
       "39   633.085144\n",
       "40  1259.915283\n",
       "41  1054.552734\n",
       "42   968.627563\n",
       "43   822.108765\n",
       "44   622.931641\n",
       "45  1239.401001\n",
       "46  1033.697021\n",
       "47   982.295349\n",
       "48   890.496582\n",
       "49   610.529236"
      ]
     },
     "execution_count": 396,
     "metadata": {},
     "output_type": "execute_result"
    }
   ],
   "source": [
    "#### lunch\n",
    "\n",
    "xgbr_lunch.fit(lunch_train, lunch_target)\n",
    "lunch_forecast = xgbr_lunch.predict(lunch_forecast)\n",
    "lunch_forecast = pd.DataFrame(lunch_forecast)\n",
    "lunch_forecast"
   ]
  },
  {
   "cell_type": "code",
   "execution_count": 397,
   "metadata": {},
   "outputs": [
    {
     "data": {
      "text/html": [
       "<div>\n",
       "<style scoped>\n",
       "    .dataframe tbody tr th:only-of-type {\n",
       "        vertical-align: middle;\n",
       "    }\n",
       "\n",
       "    .dataframe tbody tr th {\n",
       "        vertical-align: top;\n",
       "    }\n",
       "\n",
       "    .dataframe thead th {\n",
       "        text-align: right;\n",
       "    }\n",
       "</style>\n",
       "<table border=\"1\" class=\"dataframe\">\n",
       "  <thead>\n",
       "    <tr style=\"text-align: right;\">\n",
       "      <th></th>\n",
       "      <th>0</th>\n",
       "    </tr>\n",
       "  </thead>\n",
       "  <tbody>\n",
       "    <tr>\n",
       "      <th>0</th>\n",
       "      <td>250.138245</td>\n",
       "    </tr>\n",
       "    <tr>\n",
       "      <th>1</th>\n",
       "      <td>425.636963</td>\n",
       "    </tr>\n",
       "    <tr>\n",
       "      <th>2</th>\n",
       "      <td>175.367050</td>\n",
       "    </tr>\n",
       "    <tr>\n",
       "      <th>3</th>\n",
       "      <td>573.584961</td>\n",
       "    </tr>\n",
       "    <tr>\n",
       "      <th>4</th>\n",
       "      <td>485.291351</td>\n",
       "    </tr>\n",
       "    <tr>\n",
       "      <th>5</th>\n",
       "      <td>388.156189</td>\n",
       "    </tr>\n",
       "    <tr>\n",
       "      <th>6</th>\n",
       "      <td>488.630310</td>\n",
       "    </tr>\n",
       "    <tr>\n",
       "      <th>7</th>\n",
       "      <td>387.139313</td>\n",
       "    </tr>\n",
       "    <tr>\n",
       "      <th>8</th>\n",
       "      <td>666.938232</td>\n",
       "    </tr>\n",
       "    <tr>\n",
       "      <th>9</th>\n",
       "      <td>545.182922</td>\n",
       "    </tr>\n",
       "    <tr>\n",
       "      <th>10</th>\n",
       "      <td>185.126053</td>\n",
       "    </tr>\n",
       "    <tr>\n",
       "      <th>11</th>\n",
       "      <td>698.047607</td>\n",
       "    </tr>\n",
       "    <tr>\n",
       "      <th>12</th>\n",
       "      <td>663.400879</td>\n",
       "    </tr>\n",
       "    <tr>\n",
       "      <th>13</th>\n",
       "      <td>403.056671</td>\n",
       "    </tr>\n",
       "    <tr>\n",
       "      <th>14</th>\n",
       "      <td>544.970337</td>\n",
       "    </tr>\n",
       "    <tr>\n",
       "      <th>15</th>\n",
       "      <td>363.941559</td>\n",
       "    </tr>\n",
       "    <tr>\n",
       "      <th>16</th>\n",
       "      <td>635.533752</td>\n",
       "    </tr>\n",
       "    <tr>\n",
       "      <th>17</th>\n",
       "      <td>607.606689</td>\n",
       "    </tr>\n",
       "    <tr>\n",
       "      <th>18</th>\n",
       "      <td>380.579956</td>\n",
       "    </tr>\n",
       "    <tr>\n",
       "      <th>19</th>\n",
       "      <td>485.305756</td>\n",
       "    </tr>\n",
       "    <tr>\n",
       "      <th>20</th>\n",
       "      <td>199.257172</td>\n",
       "    </tr>\n",
       "    <tr>\n",
       "      <th>21</th>\n",
       "      <td>638.343201</td>\n",
       "    </tr>\n",
       "    <tr>\n",
       "      <th>22</th>\n",
       "      <td>449.364838</td>\n",
       "    </tr>\n",
       "    <tr>\n",
       "      <th>23</th>\n",
       "      <td>531.125977</td>\n",
       "    </tr>\n",
       "    <tr>\n",
       "      <th>24</th>\n",
       "      <td>382.811279</td>\n",
       "    </tr>\n",
       "    <tr>\n",
       "      <th>25</th>\n",
       "      <td>724.549622</td>\n",
       "    </tr>\n",
       "    <tr>\n",
       "      <th>26</th>\n",
       "      <td>697.670105</td>\n",
       "    </tr>\n",
       "    <tr>\n",
       "      <th>27</th>\n",
       "      <td>439.835663</td>\n",
       "    </tr>\n",
       "    <tr>\n",
       "      <th>28</th>\n",
       "      <td>530.516296</td>\n",
       "    </tr>\n",
       "    <tr>\n",
       "      <th>29</th>\n",
       "      <td>307.595032</td>\n",
       "    </tr>\n",
       "    <tr>\n",
       "      <th>30</th>\n",
       "      <td>701.483276</td>\n",
       "    </tr>\n",
       "    <tr>\n",
       "      <th>31</th>\n",
       "      <td>606.270752</td>\n",
       "    </tr>\n",
       "    <tr>\n",
       "      <th>32</th>\n",
       "      <td>403.722290</td>\n",
       "    </tr>\n",
       "    <tr>\n",
       "      <th>33</th>\n",
       "      <td>509.836548</td>\n",
       "    </tr>\n",
       "    <tr>\n",
       "      <th>34</th>\n",
       "      <td>332.369080</td>\n",
       "    </tr>\n",
       "    <tr>\n",
       "      <th>35</th>\n",
       "      <td>583.453979</td>\n",
       "    </tr>\n",
       "    <tr>\n",
       "      <th>36</th>\n",
       "      <td>584.888611</td>\n",
       "    </tr>\n",
       "    <tr>\n",
       "      <th>37</th>\n",
       "      <td>413.805359</td>\n",
       "    </tr>\n",
       "    <tr>\n",
       "      <th>38</th>\n",
       "      <td>476.952637</td>\n",
       "    </tr>\n",
       "    <tr>\n",
       "      <th>39</th>\n",
       "      <td>199.206879</td>\n",
       "    </tr>\n",
       "    <tr>\n",
       "      <th>40</th>\n",
       "      <td>586.235413</td>\n",
       "    </tr>\n",
       "    <tr>\n",
       "      <th>41</th>\n",
       "      <td>563.308289</td>\n",
       "    </tr>\n",
       "    <tr>\n",
       "      <th>42</th>\n",
       "      <td>220.034592</td>\n",
       "    </tr>\n",
       "    <tr>\n",
       "      <th>43</th>\n",
       "      <td>442.579895</td>\n",
       "    </tr>\n",
       "    <tr>\n",
       "      <th>44</th>\n",
       "      <td>311.524719</td>\n",
       "    </tr>\n",
       "    <tr>\n",
       "      <th>45</th>\n",
       "      <td>610.775696</td>\n",
       "    </tr>\n",
       "    <tr>\n",
       "      <th>46</th>\n",
       "      <td>569.243347</td>\n",
       "    </tr>\n",
       "    <tr>\n",
       "      <th>47</th>\n",
       "      <td>403.353394</td>\n",
       "    </tr>\n",
       "    <tr>\n",
       "      <th>48</th>\n",
       "      <td>463.381531</td>\n",
       "    </tr>\n",
       "    <tr>\n",
       "      <th>49</th>\n",
       "      <td>306.762329</td>\n",
       "    </tr>\n",
       "  </tbody>\n",
       "</table>\n",
       "</div>"
      ],
      "text/plain": [
       "             0\n",
       "0   250.138245\n",
       "1   425.636963\n",
       "2   175.367050\n",
       "3   573.584961\n",
       "4   485.291351\n",
       "5   388.156189\n",
       "6   488.630310\n",
       "7   387.139313\n",
       "8   666.938232\n",
       "9   545.182922\n",
       "10  185.126053\n",
       "11  698.047607\n",
       "12  663.400879\n",
       "13  403.056671\n",
       "14  544.970337\n",
       "15  363.941559\n",
       "16  635.533752\n",
       "17  607.606689\n",
       "18  380.579956\n",
       "19  485.305756\n",
       "20  199.257172\n",
       "21  638.343201\n",
       "22  449.364838\n",
       "23  531.125977\n",
       "24  382.811279\n",
       "25  724.549622\n",
       "26  697.670105\n",
       "27  439.835663\n",
       "28  530.516296\n",
       "29  307.595032\n",
       "30  701.483276\n",
       "31  606.270752\n",
       "32  403.722290\n",
       "33  509.836548\n",
       "34  332.369080\n",
       "35  583.453979\n",
       "36  584.888611\n",
       "37  413.805359\n",
       "38  476.952637\n",
       "39  199.206879\n",
       "40  586.235413\n",
       "41  563.308289\n",
       "42  220.034592\n",
       "43  442.579895\n",
       "44  311.524719\n",
       "45  610.775696\n",
       "46  569.243347\n",
       "47  403.353394\n",
       "48  463.381531\n",
       "49  306.762329"
      ]
     },
     "execution_count": 397,
     "metadata": {},
     "output_type": "execute_result"
    }
   ],
   "source": [
    "#### dinner\n",
    "xgbr_dinner.fit(dinner_train, dinner_target)\n",
    "dinner_forecast = xgbr_dinner.predict(dinner_forecast)\n",
    "dinner_forecast = pd.DataFrame(dinner_forecast)\n",
    "dinner_forecast"
   ]
  }
 ],
 "metadata": {
  "interpreter": {
   "hash": "476a94dc85aeef50ce38d52ab019ae32fa2a67ff1ac8045d45d38aa23f62cc9d"
  },
  "kernelspec": {
   "display_name": "Python 3.9.7 64-bit ('ML': conda)",
   "language": "python",
   "name": "python3"
  },
  "language_info": {
   "codemirror_mode": {
    "name": "ipython",
    "version": 3
   },
   "file_extension": ".py",
   "mimetype": "text/x-python",
   "name": "python",
   "nbconvert_exporter": "python",
   "pygments_lexer": "ipython3",
   "version": "3.9.7"
  },
  "orig_nbformat": 4
 },
 "nbformat": 4,
 "nbformat_minor": 2
}
