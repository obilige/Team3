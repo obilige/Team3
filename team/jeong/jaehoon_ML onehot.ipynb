{
 "cells": [
  {
   "cell_type": "markdown",
   "metadata": {},
   "source": [
    "# 데이터테이블 수정 후 작업\n",
    "- 1. year, month, date가 int값으로 되어있어 회귀분석에 영향을 줌\n",
    "    + 이 셋을 categorical화 시킴\n",
    "    + one-hot을 진행해 연도, 월, 날의 불필요한 영향 제거\n",
    "\n",
    "- 2. XGBRegressor가 가장 성적이 좋으며 중식 : 90/86 // 석식 : 91/63\n",
    "- 3. forecast 데이터테이블 자동 업데이트, 전처리 되도록 함수 생성"
   ]
  },
  {
   "cell_type": "code",
   "execution_count": 3,
   "metadata": {},
   "outputs": [],
   "source": [
    "import numpy as np\n",
    "import pandas as pd\n",
    "import matplotlib.pyplot as plt\n",
    "import seaborn as sns\n",
    "\n",
    "import matplotlib.font_manager as fm\n",
    "font_name = fm.FontProperties(fname='/Users/hoon/Library/Fonts/NanumSquareRegular.ttf').get_name()\n",
    "plt.rc(\"font\", family=font_name)\n",
    "import matplotlib as mpl\n",
    "mpl.rcParams[\"axes.unicode_minus\"] = False\n",
    "\n",
    "import requests as req\n",
    "import time\n",
    "import re\n",
    "import pickle\n",
    "\n",
    "\n",
    "from sklearn.model_selection import train_test_split, cross_val_score, cross_validate, GridSearchCV, KFold # 데이터 나누기, 점검 및 훈련\n",
    "\n",
    "from sklearn.metrics import explained_variance_score, accuracy_score, confusion_matrix, classification_report, roc_curve, precision_score, recall_score # 평가지표\n",
    "from sklearn.preprocessing import LabelEncoder, OneHotEncoder, MinMaxScaler, StandardScaler # Feature Scaling\n",
    "\n",
    "\n",
    "from sklearn.neighbors import KNeighborsRegressor\n",
    "\n",
    "from sklearn.datasets import load_iris, load_boston, load_breast_cancer, make_moons, load_digits, load_diabetes, load_wine, make_blobs # 데이터\n",
    "import mglearn # 그래프\n",
    "\n",
    "from sklearn.linear_model import LinearRegression, Lasso, Ridge, ElasticNet\n",
    "from sklearn.svm import LinearSVC, LinearSVR\n",
    "\n",
    "# conda install -c conda -py\n",
    "import xgboost as xgb\n",
    "from xgboost import XGBRegressor\n",
    "from xgboost import plot_importance, plot_tree\n",
    "\n",
    "from sklearn.pipeline import make_pipeline\n",
    "import multiprocessing\n",
    "from sklearn.pipeline import Pipeline\n",
    "\n",
    "from sklearn.naive_bayes import GaussianNB, BernoulliNB, MultinomialNB\n",
    "from sklearn.linear_model import Perceptron\n",
    "from sklearn.neural_network import MLPRegressor\n",
    "\n",
    "# pip install lightgbm\n",
    "# conda install -c conda-forge lightgbm\n",
    "from lightgbm import LGBMRegressor\n",
    "from lightgbm import plot_importance, plot_tree, plot_metric\n",
    "\n",
    "import graphviz\n",
    "\n",
    "import statsmodels.api as sm\n",
    "\n",
    "# SVC는 분류, SVR은 회귀\n",
    "# 분류알고리즘에선 끝판왕으로 불림\n",
    "from sklearn.svm import SVR, SVC"
   ]
  },
  {
   "cell_type": "markdown",
   "metadata": {},
   "source": [
    "## 1. 데이터 불러오기"
   ]
  },
  {
   "cell_type": "code",
   "execution_count": 4,
   "metadata": {},
   "outputs": [],
   "source": [
    "lunch = pd.read_csv(\"data/lunch_df_encoding.csv\")\n",
    "dinner = pd.read_csv(\"data/dinner_df_encoding.csv\")"
   ]
  },
  {
   "cell_type": "code",
   "execution_count": 5,
   "metadata": {},
   "outputs": [
    {
     "name": "stdout",
     "output_type": "stream",
     "text": [
      "<class 'pandas.core.frame.DataFrame'>\n",
      "RangeIndex: 1205 entries, 0 to 1204\n",
      "Data columns (total 31 columns):\n",
      " #   Column                 Non-Null Count  Dtype  \n",
      "---  ------                 --------------  -----  \n",
      " 0   datetime               1205 non-null   object \n",
      " 1   year                   1205 non-null   int64  \n",
      " 2   month                  1205 non-null   int64  \n",
      " 3   date                   1205 non-null   int64  \n",
      " 4   worker_number          1205 non-null   int64  \n",
      " 5   real_number            1205 non-null   int64  \n",
      " 6   vacation_number        1205 non-null   int64  \n",
      " 7   biztrip_number         1205 non-null   int64  \n",
      " 8   overtime_number        1205 non-null   int64  \n",
      " 9   telecom_number         1205 non-null   int64  \n",
      " 10  temperature            1204 non-null   float64\n",
      " 11  rain                   1205 non-null   float64\n",
      " 12  wind                   1204 non-null   float64\n",
      " 13  humidity               1205 non-null   float64\n",
      " 14  discomfort_index       1204 non-null   float64\n",
      " 15  perceived_temperature  1203 non-null   float64\n",
      " 16  lunch_rice             1205 non-null   int64  \n",
      " 17  lunch_number           1205 non-null   int64  \n",
      " 18  season_fall            1205 non-null   int64  \n",
      " 19  season_spring          1205 non-null   int64  \n",
      " 20  season_summer          1205 non-null   int64  \n",
      " 21  season_winter          1205 non-null   int64  \n",
      " 22  weekdays_friday        1205 non-null   int64  \n",
      " 23  weekdays_monday        1205 non-null   int64  \n",
      " 24  weekdays_thursday      1205 non-null   int64  \n",
      " 25  weekdays_tuesday       1205 non-null   int64  \n",
      " 26  weekdays_wednesday     1205 non-null   int64  \n",
      " 27  vacation_N             1205 non-null   int64  \n",
      " 28  vacation_Y             1205 non-null   int64  \n",
      " 29  new_lunch_N            1205 non-null   int64  \n",
      " 30  new_lunch_Y            1205 non-null   int64  \n",
      "dtypes: float64(6), int64(24), object(1)\n",
      "memory usage: 292.0+ KB\n"
     ]
    }
   ],
   "source": [
    "lunch.info()"
   ]
  },
  {
   "cell_type": "code",
   "execution_count": 6,
   "metadata": {},
   "outputs": [
    {
     "name": "stdout",
     "output_type": "stream",
     "text": [
      "<class 'pandas.core.frame.DataFrame'>\n",
      "RangeIndex: 1205 entries, 0 to 1204\n",
      "Data columns (total 31 columns):\n",
      " #   Column                 Non-Null Count  Dtype  \n",
      "---  ------                 --------------  -----  \n",
      " 0   datetime               1205 non-null   object \n",
      " 1   year                   1205 non-null   int64  \n",
      " 2   month                  1205 non-null   int64  \n",
      " 3   date                   1205 non-null   int64  \n",
      " 4   worker_number          1205 non-null   int64  \n",
      " 5   real_number            1205 non-null   int64  \n",
      " 6   vacation_number        1205 non-null   int64  \n",
      " 7   biztrip_number         1205 non-null   int64  \n",
      " 8   overtime_number        1205 non-null   int64  \n",
      " 9   telecom_number         1205 non-null   int64  \n",
      " 10  temperature            1204 non-null   float64\n",
      " 11  rain                   1205 non-null   float64\n",
      " 12  wind                   1204 non-null   float64\n",
      " 13  humidity               1205 non-null   float64\n",
      " 14  discomfort_index       1204 non-null   float64\n",
      " 15  perceived_temperature  1203 non-null   float64\n",
      " 16  dinner_rice            1205 non-null   int64  \n",
      " 17  dinner_number          1205 non-null   int64  \n",
      " 18  season_fall            1205 non-null   int64  \n",
      " 19  season_spring          1205 non-null   int64  \n",
      " 20  season_summer          1205 non-null   int64  \n",
      " 21  season_winter          1205 non-null   int64  \n",
      " 22  weekdays_friday        1205 non-null   int64  \n",
      " 23  weekdays_monday        1205 non-null   int64  \n",
      " 24  weekdays_thursday      1205 non-null   int64  \n",
      " 25  weekdays_tuesday       1205 non-null   int64  \n",
      " 26  weekdays_wednesday     1205 non-null   int64  \n",
      " 27  vacation_N             1205 non-null   int64  \n",
      " 28  vacation_Y             1205 non-null   int64  \n",
      " 29  new_dinner_N           1205 non-null   int64  \n",
      " 30  new_dinner_Y           1205 non-null   int64  \n",
      "dtypes: float64(6), int64(24), object(1)\n",
      "memory usage: 292.0+ KB\n"
     ]
    }
   ],
   "source": [
    "dinner.info()"
   ]
  },
  {
   "cell_type": "code",
   "execution_count": 7,
   "metadata": {},
   "outputs": [],
   "source": [
    "lunch = lunch.dropna()\n",
    "dinner = dinner.dropna()"
   ]
  },
  {
   "cell_type": "code",
   "execution_count": 8,
   "metadata": {},
   "outputs": [],
   "source": [
    "def split_lunch(data):\n",
    "    data_train = data.drop([\"lunch_number\", \"datetime\"], axis = \"columns\")\n",
    "    data_target = data.loc[:, 'lunch_number']\n",
    "    times = ['year', 'month', 'date']\n",
    "    for col in times:\n",
    "        data_train[col] = data_train[col].astype('category')\n",
    "    data_train = pd.get_dummies(data_train)\n",
    "    X_train, X_test, y_train, y_test = train_test_split(data_train, data_target)\n",
    "\n",
    "    return X_train, X_test, y_train, y_test\n",
    "\n",
    "def split_dinner(data):\n",
    "    data_train = data.drop([\"dinner_number\", \"datetime\"], axis = \"columns\")\n",
    "    data_target = data.loc[:, 'dinner_number']\n",
    "    times = ['year', 'month', 'date']\n",
    "    for col in times:\n",
    "        data_train[col] = data_train[col].astype('category')\n",
    "    data_train = pd.get_dummies(data_train)\n",
    "    X_train, X_test, y_train, y_test = train_test_split(data_train, data_target)\n",
    "\n",
    "    return X_train, X_test, y_train, y_test"
   ]
  },
  {
   "cell_type": "code",
   "execution_count": 9,
   "metadata": {},
   "outputs": [],
   "source": [
    "lunch_X_train, lunch_X_test, lunch_y_train, lunch_y_test = split_lunch(lunch)\n",
    "dinner_X_train, dinner_X_test, dinner_y_train, dinner_y_test = split_dinner(dinner)"
   ]
  },
  {
   "cell_type": "code",
   "execution_count": 10,
   "metadata": {},
   "outputs": [
    {
     "name": "stdout",
     "output_type": "stream",
     "text": [
      "<class 'pandas.core.frame.DataFrame'>\n",
      "Int64Index: 902 entries, 288 to 312\n",
      "Data columns (total 75 columns):\n",
      " #   Column                 Non-Null Count  Dtype  \n",
      "---  ------                 --------------  -----  \n",
      " 0   worker_number          902 non-null    int64  \n",
      " 1   real_number            902 non-null    int64  \n",
      " 2   vacation_number        902 non-null    int64  \n",
      " 3   biztrip_number         902 non-null    int64  \n",
      " 4   overtime_number        902 non-null    int64  \n",
      " 5   telecom_number         902 non-null    int64  \n",
      " 6   temperature            902 non-null    float64\n",
      " 7   rain                   902 non-null    float64\n",
      " 8   wind                   902 non-null    float64\n",
      " 9   humidity               902 non-null    float64\n",
      " 10  discomfort_index       902 non-null    float64\n",
      " 11  perceived_temperature  902 non-null    float64\n",
      " 12  lunch_rice             902 non-null    int64  \n",
      " 13  season_fall            902 non-null    int64  \n",
      " 14  season_spring          902 non-null    int64  \n",
      " 15  season_summer          902 non-null    int64  \n",
      " 16  season_winter          902 non-null    int64  \n",
      " 17  weekdays_friday        902 non-null    int64  \n",
      " 18  weekdays_monday        902 non-null    int64  \n",
      " 19  weekdays_thursday      902 non-null    int64  \n",
      " 20  weekdays_tuesday       902 non-null    int64  \n",
      " 21  weekdays_wednesday     902 non-null    int64  \n",
      " 22  vacation_N             902 non-null    int64  \n",
      " 23  vacation_Y             902 non-null    int64  \n",
      " 24  new_lunch_N            902 non-null    int64  \n",
      " 25  new_lunch_Y            902 non-null    int64  \n",
      " 26  year_2016              902 non-null    uint8  \n",
      " 27  year_2017              902 non-null    uint8  \n",
      " 28  year_2018              902 non-null    uint8  \n",
      " 29  year_2019              902 non-null    uint8  \n",
      " 30  year_2020              902 non-null    uint8  \n",
      " 31  year_2021              902 non-null    uint8  \n",
      " 32  month_1                902 non-null    uint8  \n",
      " 33  month_2                902 non-null    uint8  \n",
      " 34  month_3                902 non-null    uint8  \n",
      " 35  month_4                902 non-null    uint8  \n",
      " 36  month_5                902 non-null    uint8  \n",
      " 37  month_6                902 non-null    uint8  \n",
      " 38  month_7                902 non-null    uint8  \n",
      " 39  month_8                902 non-null    uint8  \n",
      " 40  month_9                902 non-null    uint8  \n",
      " 41  month_10               902 non-null    uint8  \n",
      " 42  month_11               902 non-null    uint8  \n",
      " 43  month_12               902 non-null    uint8  \n",
      " 44  date_1                 902 non-null    uint8  \n",
      " 45  date_2                 902 non-null    uint8  \n",
      " 46  date_3                 902 non-null    uint8  \n",
      " 47  date_4                 902 non-null    uint8  \n",
      " 48  date_5                 902 non-null    uint8  \n",
      " 49  date_6                 902 non-null    uint8  \n",
      " 50  date_7                 902 non-null    uint8  \n",
      " 51  date_8                 902 non-null    uint8  \n",
      " 52  date_9                 902 non-null    uint8  \n",
      " 53  date_10                902 non-null    uint8  \n",
      " 54  date_11                902 non-null    uint8  \n",
      " 55  date_12                902 non-null    uint8  \n",
      " 56  date_13                902 non-null    uint8  \n",
      " 57  date_14                902 non-null    uint8  \n",
      " 58  date_15                902 non-null    uint8  \n",
      " 59  date_16                902 non-null    uint8  \n",
      " 60  date_17                902 non-null    uint8  \n",
      " 61  date_18                902 non-null    uint8  \n",
      " 62  date_19                902 non-null    uint8  \n",
      " 63  date_20                902 non-null    uint8  \n",
      " 64  date_21                902 non-null    uint8  \n",
      " 65  date_22                902 non-null    uint8  \n",
      " 66  date_23                902 non-null    uint8  \n",
      " 67  date_24                902 non-null    uint8  \n",
      " 68  date_25                902 non-null    uint8  \n",
      " 69  date_26                902 non-null    uint8  \n",
      " 70  date_27                902 non-null    uint8  \n",
      " 71  date_28                902 non-null    uint8  \n",
      " 72  date_29                902 non-null    uint8  \n",
      " 73  date_30                902 non-null    uint8  \n",
      " 74  date_31                902 non-null    uint8  \n",
      "dtypes: float64(6), int64(20), uint8(49)\n",
      "memory usage: 233.4 KB\n"
     ]
    }
   ],
   "source": [
    "lunch_X_train.info()"
   ]
  },
  {
   "cell_type": "code",
   "execution_count": 11,
   "metadata": {},
   "outputs": [
    {
     "name": "stdout",
     "output_type": "stream",
     "text": [
      "<class 'pandas.core.frame.DataFrame'>\n",
      "Int64Index: 902 entries, 394 to 943\n",
      "Data columns (total 75 columns):\n",
      " #   Column                 Non-Null Count  Dtype  \n",
      "---  ------                 --------------  -----  \n",
      " 0   worker_number          902 non-null    int64  \n",
      " 1   real_number            902 non-null    int64  \n",
      " 2   vacation_number        902 non-null    int64  \n",
      " 3   biztrip_number         902 non-null    int64  \n",
      " 4   overtime_number        902 non-null    int64  \n",
      " 5   telecom_number         902 non-null    int64  \n",
      " 6   temperature            902 non-null    float64\n",
      " 7   rain                   902 non-null    float64\n",
      " 8   wind                   902 non-null    float64\n",
      " 9   humidity               902 non-null    float64\n",
      " 10  discomfort_index       902 non-null    float64\n",
      " 11  perceived_temperature  902 non-null    float64\n",
      " 12  dinner_rice            902 non-null    int64  \n",
      " 13  season_fall            902 non-null    int64  \n",
      " 14  season_spring          902 non-null    int64  \n",
      " 15  season_summer          902 non-null    int64  \n",
      " 16  season_winter          902 non-null    int64  \n",
      " 17  weekdays_friday        902 non-null    int64  \n",
      " 18  weekdays_monday        902 non-null    int64  \n",
      " 19  weekdays_thursday      902 non-null    int64  \n",
      " 20  weekdays_tuesday       902 non-null    int64  \n",
      " 21  weekdays_wednesday     902 non-null    int64  \n",
      " 22  vacation_N             902 non-null    int64  \n",
      " 23  vacation_Y             902 non-null    int64  \n",
      " 24  new_dinner_N           902 non-null    int64  \n",
      " 25  new_dinner_Y           902 non-null    int64  \n",
      " 26  year_2016              902 non-null    uint8  \n",
      " 27  year_2017              902 non-null    uint8  \n",
      " 28  year_2018              902 non-null    uint8  \n",
      " 29  year_2019              902 non-null    uint8  \n",
      " 30  year_2020              902 non-null    uint8  \n",
      " 31  year_2021              902 non-null    uint8  \n",
      " 32  month_1                902 non-null    uint8  \n",
      " 33  month_2                902 non-null    uint8  \n",
      " 34  month_3                902 non-null    uint8  \n",
      " 35  month_4                902 non-null    uint8  \n",
      " 36  month_5                902 non-null    uint8  \n",
      " 37  month_6                902 non-null    uint8  \n",
      " 38  month_7                902 non-null    uint8  \n",
      " 39  month_8                902 non-null    uint8  \n",
      " 40  month_9                902 non-null    uint8  \n",
      " 41  month_10               902 non-null    uint8  \n",
      " 42  month_11               902 non-null    uint8  \n",
      " 43  month_12               902 non-null    uint8  \n",
      " 44  date_1                 902 non-null    uint8  \n",
      " 45  date_2                 902 non-null    uint8  \n",
      " 46  date_3                 902 non-null    uint8  \n",
      " 47  date_4                 902 non-null    uint8  \n",
      " 48  date_5                 902 non-null    uint8  \n",
      " 49  date_6                 902 non-null    uint8  \n",
      " 50  date_7                 902 non-null    uint8  \n",
      " 51  date_8                 902 non-null    uint8  \n",
      " 52  date_9                 902 non-null    uint8  \n",
      " 53  date_10                902 non-null    uint8  \n",
      " 54  date_11                902 non-null    uint8  \n",
      " 55  date_12                902 non-null    uint8  \n",
      " 56  date_13                902 non-null    uint8  \n",
      " 57  date_14                902 non-null    uint8  \n",
      " 58  date_15                902 non-null    uint8  \n",
      " 59  date_16                902 non-null    uint8  \n",
      " 60  date_17                902 non-null    uint8  \n",
      " 61  date_18                902 non-null    uint8  \n",
      " 62  date_19                902 non-null    uint8  \n",
      " 63  date_20                902 non-null    uint8  \n",
      " 64  date_21                902 non-null    uint8  \n",
      " 65  date_22                902 non-null    uint8  \n",
      " 66  date_23                902 non-null    uint8  \n",
      " 67  date_24                902 non-null    uint8  \n",
      " 68  date_25                902 non-null    uint8  \n",
      " 69  date_26                902 non-null    uint8  \n",
      " 70  date_27                902 non-null    uint8  \n",
      " 71  date_28                902 non-null    uint8  \n",
      " 72  date_29                902 non-null    uint8  \n",
      " 73  date_30                902 non-null    uint8  \n",
      " 74  date_31                902 non-null    uint8  \n",
      "dtypes: float64(6), int64(20), uint8(49)\n",
      "memory usage: 233.4 KB\n"
     ]
    }
   ],
   "source": [
    "dinner_X_train.info()"
   ]
  },
  {
   "cell_type": "code",
   "execution_count": 12,
   "metadata": {},
   "outputs": [
    {
     "data": {
      "text/html": [
       "<div>\n",
       "<style scoped>\n",
       "    .dataframe tbody tr th:only-of-type {\n",
       "        vertical-align: middle;\n",
       "    }\n",
       "\n",
       "    .dataframe tbody tr th {\n",
       "        vertical-align: top;\n",
       "    }\n",
       "\n",
       "    .dataframe thead th {\n",
       "        text-align: right;\n",
       "    }\n",
       "</style>\n",
       "<table border=\"1\" class=\"dataframe\">\n",
       "  <thead>\n",
       "    <tr style=\"text-align: right;\">\n",
       "      <th></th>\n",
       "      <th>worker_number</th>\n",
       "      <th>real_number</th>\n",
       "      <th>vacation_number</th>\n",
       "      <th>biztrip_number</th>\n",
       "      <th>overtime_number</th>\n",
       "      <th>telecom_number</th>\n",
       "      <th>temperature</th>\n",
       "      <th>rain</th>\n",
       "      <th>wind</th>\n",
       "      <th>humidity</th>\n",
       "      <th>...</th>\n",
       "      <th>date_22</th>\n",
       "      <th>date_23</th>\n",
       "      <th>date_24</th>\n",
       "      <th>date_25</th>\n",
       "      <th>date_26</th>\n",
       "      <th>date_27</th>\n",
       "      <th>date_28</th>\n",
       "      <th>date_29</th>\n",
       "      <th>date_30</th>\n",
       "      <th>date_31</th>\n",
       "    </tr>\n",
       "  </thead>\n",
       "  <tbody>\n",
       "    <tr>\n",
       "      <th>701</th>\n",
       "      <td>2846</td>\n",
       "      <td>2516</td>\n",
       "      <td>87</td>\n",
       "      <td>243</td>\n",
       "      <td>525</td>\n",
       "      <td>0</td>\n",
       "      <td>1.5</td>\n",
       "      <td>0.0</td>\n",
       "      <td>0.4</td>\n",
       "      <td>68.5</td>\n",
       "      <td>...</td>\n",
       "      <td>0</td>\n",
       "      <td>0</td>\n",
       "      <td>0</td>\n",
       "      <td>0</td>\n",
       "      <td>0</td>\n",
       "      <td>0</td>\n",
       "      <td>0</td>\n",
       "      <td>0</td>\n",
       "      <td>0</td>\n",
       "      <td>0</td>\n",
       "    </tr>\n",
       "    <tr>\n",
       "      <th>211</th>\n",
       "      <td>2705</td>\n",
       "      <td>2225</td>\n",
       "      <td>196</td>\n",
       "      <td>284</td>\n",
       "      <td>152</td>\n",
       "      <td>0</td>\n",
       "      <td>6.9</td>\n",
       "      <td>0.0</td>\n",
       "      <td>1.6</td>\n",
       "      <td>49.9</td>\n",
       "      <td>...</td>\n",
       "      <td>0</td>\n",
       "      <td>0</td>\n",
       "      <td>0</td>\n",
       "      <td>0</td>\n",
       "      <td>0</td>\n",
       "      <td>0</td>\n",
       "      <td>0</td>\n",
       "      <td>0</td>\n",
       "      <td>0</td>\n",
       "      <td>0</td>\n",
       "    </tr>\n",
       "    <tr>\n",
       "      <th>273</th>\n",
       "      <td>2627</td>\n",
       "      <td>2191</td>\n",
       "      <td>145</td>\n",
       "      <td>291</td>\n",
       "      <td>63</td>\n",
       "      <td>0</td>\n",
       "      <td>5.6</td>\n",
       "      <td>0.0</td>\n",
       "      <td>1.0</td>\n",
       "      <td>42.0</td>\n",
       "      <td>...</td>\n",
       "      <td>0</td>\n",
       "      <td>0</td>\n",
       "      <td>0</td>\n",
       "      <td>0</td>\n",
       "      <td>0</td>\n",
       "      <td>0</td>\n",
       "      <td>0</td>\n",
       "      <td>0</td>\n",
       "      <td>0</td>\n",
       "      <td>0</td>\n",
       "    </tr>\n",
       "    <tr>\n",
       "      <th>433</th>\n",
       "      <td>2644</td>\n",
       "      <td>2301</td>\n",
       "      <td>75</td>\n",
       "      <td>268</td>\n",
       "      <td>462</td>\n",
       "      <td>0</td>\n",
       "      <td>13.0</td>\n",
       "      <td>0.0</td>\n",
       "      <td>0.6</td>\n",
       "      <td>74.9</td>\n",
       "      <td>...</td>\n",
       "      <td>0</td>\n",
       "      <td>0</td>\n",
       "      <td>0</td>\n",
       "      <td>0</td>\n",
       "      <td>0</td>\n",
       "      <td>0</td>\n",
       "      <td>0</td>\n",
       "      <td>0</td>\n",
       "      <td>0</td>\n",
       "      <td>0</td>\n",
       "    </tr>\n",
       "    <tr>\n",
       "      <th>537</th>\n",
       "      <td>2714</td>\n",
       "      <td>2375</td>\n",
       "      <td>118</td>\n",
       "      <td>221</td>\n",
       "      <td>523</td>\n",
       "      <td>0</td>\n",
       "      <td>12.9</td>\n",
       "      <td>0.0</td>\n",
       "      <td>1.4</td>\n",
       "      <td>53.8</td>\n",
       "      <td>...</td>\n",
       "      <td>0</td>\n",
       "      <td>0</td>\n",
       "      <td>0</td>\n",
       "      <td>0</td>\n",
       "      <td>0</td>\n",
       "      <td>0</td>\n",
       "      <td>0</td>\n",
       "      <td>0</td>\n",
       "      <td>0</td>\n",
       "      <td>0</td>\n",
       "    </tr>\n",
       "  </tbody>\n",
       "</table>\n",
       "<p>5 rows × 75 columns</p>\n",
       "</div>"
      ],
      "text/plain": [
       "     worker_number  real_number  vacation_number  biztrip_number  \\\n",
       "701           2846         2516               87             243   \n",
       "211           2705         2225              196             284   \n",
       "273           2627         2191              145             291   \n",
       "433           2644         2301               75             268   \n",
       "537           2714         2375              118             221   \n",
       "\n",
       "     overtime_number  telecom_number  temperature  rain  wind  humidity  ...  \\\n",
       "701              525               0          1.5   0.0   0.4      68.5  ...   \n",
       "211              152               0          6.9   0.0   1.6      49.9  ...   \n",
       "273               63               0          5.6   0.0   1.0      42.0  ...   \n",
       "433              462               0         13.0   0.0   0.6      74.9  ...   \n",
       "537              523               0         12.9   0.0   1.4      53.8  ...   \n",
       "\n",
       "     date_22  date_23  date_24  date_25  date_26  date_27  date_28  date_29  \\\n",
       "701        0        0        0        0        0        0        0        0   \n",
       "211        0        0        0        0        0        0        0        0   \n",
       "273        0        0        0        0        0        0        0        0   \n",
       "433        0        0        0        0        0        0        0        0   \n",
       "537        0        0        0        0        0        0        0        0   \n",
       "\n",
       "     date_30  date_31  \n",
       "701        0        0  \n",
       "211        0        0  \n",
       "273        0        0  \n",
       "433        0        0  \n",
       "537        0        0  \n",
       "\n",
       "[5 rows x 75 columns]"
      ]
     },
     "execution_count": 12,
     "metadata": {},
     "output_type": "execute_result"
    }
   ],
   "source": [
    "lunch_X_test.head()"
   ]
  },
  {
   "cell_type": "code",
   "execution_count": 13,
   "metadata": {},
   "outputs": [
    {
     "data": {
      "text/html": [
       "<div>\n",
       "<style scoped>\n",
       "    .dataframe tbody tr th:only-of-type {\n",
       "        vertical-align: middle;\n",
       "    }\n",
       "\n",
       "    .dataframe tbody tr th {\n",
       "        vertical-align: top;\n",
       "    }\n",
       "\n",
       "    .dataframe thead th {\n",
       "        text-align: right;\n",
       "    }\n",
       "</style>\n",
       "<table border=\"1\" class=\"dataframe\">\n",
       "  <thead>\n",
       "    <tr style=\"text-align: right;\">\n",
       "      <th></th>\n",
       "      <th>worker_number</th>\n",
       "      <th>real_number</th>\n",
       "      <th>vacation_number</th>\n",
       "      <th>biztrip_number</th>\n",
       "      <th>overtime_number</th>\n",
       "      <th>telecom_number</th>\n",
       "      <th>temperature</th>\n",
       "      <th>rain</th>\n",
       "      <th>wind</th>\n",
       "      <th>humidity</th>\n",
       "      <th>...</th>\n",
       "      <th>date_22</th>\n",
       "      <th>date_23</th>\n",
       "      <th>date_24</th>\n",
       "      <th>date_25</th>\n",
       "      <th>date_26</th>\n",
       "      <th>date_27</th>\n",
       "      <th>date_28</th>\n",
       "      <th>date_29</th>\n",
       "      <th>date_30</th>\n",
       "      <th>date_31</th>\n",
       "    </tr>\n",
       "  </thead>\n",
       "  <tbody>\n",
       "    <tr>\n",
       "      <th>394</th>\n",
       "      <td>2642</td>\n",
       "      <td>2303</td>\n",
       "      <td>74</td>\n",
       "      <td>265</td>\n",
       "      <td>390</td>\n",
       "      <td>0</td>\n",
       "      <td>21.5</td>\n",
       "      <td>0.7</td>\n",
       "      <td>0.9</td>\n",
       "      <td>76.3</td>\n",
       "      <td>...</td>\n",
       "      <td>0</td>\n",
       "      <td>0</td>\n",
       "      <td>0</td>\n",
       "      <td>0</td>\n",
       "      <td>0</td>\n",
       "      <td>0</td>\n",
       "      <td>0</td>\n",
       "      <td>0</td>\n",
       "      <td>0</td>\n",
       "      <td>0</td>\n",
       "    </tr>\n",
       "    <tr>\n",
       "      <th>125</th>\n",
       "      <td>2644</td>\n",
       "      <td>1977</td>\n",
       "      <td>467</td>\n",
       "      <td>200</td>\n",
       "      <td>262</td>\n",
       "      <td>0</td>\n",
       "      <td>27.1</td>\n",
       "      <td>0.0</td>\n",
       "      <td>1.2</td>\n",
       "      <td>73.6</td>\n",
       "      <td>...</td>\n",
       "      <td>0</td>\n",
       "      <td>0</td>\n",
       "      <td>0</td>\n",
       "      <td>0</td>\n",
       "      <td>0</td>\n",
       "      <td>0</td>\n",
       "      <td>0</td>\n",
       "      <td>0</td>\n",
       "      <td>0</td>\n",
       "      <td>0</td>\n",
       "    </tr>\n",
       "    <tr>\n",
       "      <th>1112</th>\n",
       "      <td>3132</td>\n",
       "      <td>2307</td>\n",
       "      <td>119</td>\n",
       "      <td>195</td>\n",
       "      <td>531</td>\n",
       "      <td>511</td>\n",
       "      <td>25.8</td>\n",
       "      <td>50.5</td>\n",
       "      <td>3.9</td>\n",
       "      <td>66.6</td>\n",
       "      <td>...</td>\n",
       "      <td>0</td>\n",
       "      <td>0</td>\n",
       "      <td>0</td>\n",
       "      <td>0</td>\n",
       "      <td>0</td>\n",
       "      <td>0</td>\n",
       "      <td>0</td>\n",
       "      <td>0</td>\n",
       "      <td>0</td>\n",
       "      <td>0</td>\n",
       "    </tr>\n",
       "    <tr>\n",
       "      <th>556</th>\n",
       "      <td>2721</td>\n",
       "      <td>2357</td>\n",
       "      <td>133</td>\n",
       "      <td>231</td>\n",
       "      <td>590</td>\n",
       "      <td>0</td>\n",
       "      <td>14.9</td>\n",
       "      <td>0.0</td>\n",
       "      <td>2.0</td>\n",
       "      <td>65.1</td>\n",
       "      <td>...</td>\n",
       "      <td>0</td>\n",
       "      <td>0</td>\n",
       "      <td>0</td>\n",
       "      <td>0</td>\n",
       "      <td>0</td>\n",
       "      <td>0</td>\n",
       "      <td>0</td>\n",
       "      <td>0</td>\n",
       "      <td>0</td>\n",
       "      <td>0</td>\n",
       "    </tr>\n",
       "    <tr>\n",
       "      <th>414</th>\n",
       "      <td>2645</td>\n",
       "      <td>2335</td>\n",
       "      <td>60</td>\n",
       "      <td>250</td>\n",
       "      <td>0</td>\n",
       "      <td>0</td>\n",
       "      <td>21.1</td>\n",
       "      <td>0.0</td>\n",
       "      <td>1.0</td>\n",
       "      <td>72.8</td>\n",
       "      <td>...</td>\n",
       "      <td>0</td>\n",
       "      <td>0</td>\n",
       "      <td>0</td>\n",
       "      <td>0</td>\n",
       "      <td>0</td>\n",
       "      <td>0</td>\n",
       "      <td>0</td>\n",
       "      <td>0</td>\n",
       "      <td>0</td>\n",
       "      <td>0</td>\n",
       "    </tr>\n",
       "  </tbody>\n",
       "</table>\n",
       "<p>5 rows × 75 columns</p>\n",
       "</div>"
      ],
      "text/plain": [
       "      worker_number  real_number  vacation_number  biztrip_number  \\\n",
       "394            2642         2303               74             265   \n",
       "125            2644         1977              467             200   \n",
       "1112           3132         2307              119             195   \n",
       "556            2721         2357              133             231   \n",
       "414            2645         2335               60             250   \n",
       "\n",
       "      overtime_number  telecom_number  temperature  rain  wind  humidity  ...  \\\n",
       "394               390               0         21.5   0.7   0.9      76.3  ...   \n",
       "125               262               0         27.1   0.0   1.2      73.6  ...   \n",
       "1112              531             511         25.8  50.5   3.9      66.6  ...   \n",
       "556               590               0         14.9   0.0   2.0      65.1  ...   \n",
       "414                 0               0         21.1   0.0   1.0      72.8  ...   \n",
       "\n",
       "      date_22  date_23  date_24  date_25  date_26  date_27  date_28  date_29  \\\n",
       "394         0        0        0        0        0        0        0        0   \n",
       "125         0        0        0        0        0        0        0        0   \n",
       "1112        0        0        0        0        0        0        0        0   \n",
       "556         0        0        0        0        0        0        0        0   \n",
       "414         0        0        0        0        0        0        0        0   \n",
       "\n",
       "      date_30  date_31  \n",
       "394         0        0  \n",
       "125         0        0  \n",
       "1112        0        0  \n",
       "556         0        0  \n",
       "414         0        0  \n",
       "\n",
       "[5 rows x 75 columns]"
      ]
     },
     "execution_count": 13,
     "metadata": {},
     "output_type": "execute_result"
    }
   ],
   "source": [
    "dinner_X_train.head()"
   ]
  },
  {
   "cell_type": "code",
   "execution_count": 14,
   "metadata": {},
   "outputs": [],
   "source": [
    "# lunch_X_train.to_csv(\"data/split/lunch_X_train.csv\", encoding='utf-8', index=False)\n",
    "# lunch_X_test.to_csv(\"data/split/lunch_X_test.csv\", encoding='utf-8', index=False)\n",
    "# lunch_y_train.to_csv(\"data/split/lunch_y_train.csv\", encoding='utf-8', index=False)\n",
    "# lunch_y_test.to_csv(\"data/split/lunch_y_test.csv\", encoding='utf-8', index=False)\n",
    "# dinner_X_train.to_csv(\"data/split/dinner_X_train.csv\", encoding='utf-8', index=False)\n",
    "# dinner_X_test.to_csv(\"data/split/dinner_X_test.csv\", encoding='utf-8', index=False)\n",
    "# dinner_y_train.to_csv(\"data/split/dinner_y_train.csv\", encoding='utf-8', index=False)\n",
    "# dinner_y_test.to_csv(\"data/split/dinner_y_test.csv\", encoding='utf-8', index=False)"
   ]
  },
  {
   "cell_type": "markdown",
   "metadata": {},
   "source": [
    "## 2. LinearRegression"
   ]
  },
  {
   "cell_type": "code",
   "execution_count": 16,
   "metadata": {},
   "outputs": [],
   "source": [
    "lunch_X_train=pd.read_csv(\"data/split/lunch_X_train.csv\")\n",
    "lunch_X_test=pd.read_csv(\"data/split/lunch_X_test.csv\")\n",
    "lunch_y_train=pd.read_csv(\"data/split/lunch_y_train.csv\")\n",
    "lunch_y_test=pd.read_csv(\"data/split/lunch_y_test.csv\")\n",
    "dinner_X_train=pd.read_csv(\"data/split/dinner_X_train.csv\")\n",
    "dinner_X_test=pd.read_csv(\"data/split/dinner_X_test.csv\")\n",
    "dinner_y_train=pd.read_csv(\"data/split/dinner_y_train.csv\")\n",
    "dinner_y_test=pd.read_csv(\"data/split/dinner_y_test.csv\")"
   ]
  },
  {
   "cell_type": "markdown",
   "metadata": {},
   "source": [
    "### 점심"
   ]
  },
  {
   "cell_type": "code",
   "execution_count": 17,
   "metadata": {},
   "outputs": [
    {
     "name": "stdout",
     "output_type": "stream",
     "text": [
      "기울기 : [[ 1.13059138e+13 -1.13059138e+13 -1.13059138e+13 -1.13059138e+13\n",
      "   2.38281250e-01 -1.13059138e+13  3.29296875e+01  1.26745605e+00\n",
      "  -1.83566589e+01  7.85385132e-01 -5.46847534e+00 -2.63050537e+01\n",
      "   3.05175781e-05  5.03477859e+00 -1.01627350e+01  1.67403584e+01\n",
      "  -1.16124783e+01 -7.36395359e+01  1.44866682e+02 -7.87282581e+01\n",
      "  -4.54209833e+01  5.29222560e+01  1.73616467e+01 -1.73616519e+01\n",
      "  -2.68873926e+01  2.68873892e+01  4.22482506e+01  3.58335898e+01\n",
      "   4.27073306e+01  1.26705122e+01 -7.47107023e+01 -5.87490189e+01\n",
      "  -1.73876482e+01  5.79107372e+01  8.42953414e+00 -3.91913190e+01\n",
      "   2.05990554e+01 -2.80794165e+01 -1.17333224e+01  5.65530664e+01\n",
      "  -7.95450979e+00  3.51998407e+01 -2.22105065e+01 -5.21355751e+01\n",
      "  -1.19980212e+01  3.05332513e+01  1.42331254e+01  5.65376680e+00\n",
      "  -1.06826908e+01  1.08066349e+01  2.47373862e+01  2.77672729e+01\n",
      "   1.16738781e+00  8.78349966e+00  1.81383563e+01 -7.70575871e+00\n",
      "  -1.95851484e+01  8.57564775e+00 -1.24276220e+01  2.90927037e+01\n",
      "   6.71821905e+00 -7.36952024e+00  9.46448007e+00 -8.37395253e+00\n",
      "  -1.22064906e+01  7.47980373e+00 -7.80843588e+00 -6.67349317e+00\n",
      "  -3.51483850e+00 -1.08381601e+01  2.11289790e+01 -3.88706768e+01\n",
      "  -9.35775360e+00 -2.33697581e+01 -3.34981697e+01]], 절편 : [1727.67826323]\n",
      "훈련 설명력 : 0.8060685580206686\n",
      "테스트 설명력 : 0.81850928043697\n"
     ]
    }
   ],
   "source": [
    "lr = LinearRegression()\n",
    "lr.fit(lunch_X_train, lunch_y_train)\n",
    "\n",
    "print(\"기울기 : {0}, 절편 : {1}\".format(lr.coef_, lr.intercept_))\n",
    "print(\"훈련 설명력 : {}\".format(lr.score(lunch_X_train, lunch_y_train)))\n",
    "print(\"테스트 설명력 : {}\".format(lr.score(lunch_X_test, lunch_y_test)))"
   ]
  },
  {
   "cell_type": "markdown",
   "metadata": {},
   "source": [
    "### 저녁"
   ]
  },
  {
   "cell_type": "code",
   "execution_count": 18,
   "metadata": {},
   "outputs": [
    {
     "name": "stdout",
     "output_type": "stream",
     "text": [
      "기울기 : [[ 3.19558948e+12 -3.19558948e+12 -3.19558948e+12 -3.19558948e+12\n",
      "   3.07128906e-01 -3.19558948e+12  1.27355957e+01  3.65737915e-01\n",
      "  -1.00421638e+01 -2.62134552e-01 -4.05921936e-01 -1.03546028e+01\n",
      "  -5.72204590e-06 -4.73717308e+00  1.31138725e+01 -7.49961376e-01\n",
      "  -7.62670374e+00  6.63777947e+01 -1.47301283e+01 -5.02882051e+00\n",
      "  -2.03245878e+01 -2.62942872e+01  7.51502436e+00 -7.51502839e+00\n",
      "   7.97423193e+00 -7.97423261e+00  8.67263487e+01  2.89136296e+01\n",
      "   5.47083350e+01  1.40705726e+01 -5.70251600e+01 -1.27393644e+02\n",
      "  -7.94776911e+00  5.56666793e+01  2.84713453e+01 -1.34939497e+01\n",
      "  -1.86353449e+00 -1.71853476e+01 -1.52806927e+01  3.17160776e+01\n",
      "  -1.56021438e+01  2.94010458e+01 -1.85361010e+01 -5.53456323e+01\n",
      "  -1.84342786e+01  2.83781934e+01  9.57981948e+00  3.13984313e+01\n",
      "   2.20433202e+01  3.19662682e+01  2.00256427e+01  3.03066862e+01\n",
      "   1.25338656e+01  1.36909631e+01  2.42842944e+01  1.12450656e+00\n",
      "   1.12310684e+01  5.58197916e+00  1.36497432e+01  2.37115349e+01\n",
      "  -6.78047550e+00  6.75871921e+00  1.30768529e+01  1.03492137e+01\n",
      "   2.57036029e+01 -1.91286100e+01  3.31007288e+01 -5.40670668e+00\n",
      "  -5.62244489e+01 -4.39127168e+01 -5.85245307e+01 -2.61129709e+01\n",
      "  -4.65144164e+01 -6.12838074e+01 -2.61724722e+01]], 절편 : [573.97187936]\n",
      "훈련 설명력 : 0.5918834531954169\n",
      "테스트 설명력 : 0.49013363353201655\n"
     ]
    }
   ],
   "source": [
    "lr = LinearRegression()\n",
    "lr.fit(dinner_X_train, dinner_y_train)\n",
    "\n",
    "print(\"기울기 : {0}, 절편 : {1}\".format(lr.coef_, lr.intercept_))\n",
    "print(\"훈련 설명력 : {}\".format(lr.score(dinner_X_train, dinner_y_train)))\n",
    "print(\"테스트 설명력 : {}\".format(lr.score(dinner_X_test, dinner_y_test)))"
   ]
  },
  {
   "cell_type": "markdown",
   "metadata": {},
   "source": [
    "## 3. SVR"
   ]
  },
  {
   "cell_type": "markdown",
   "metadata": {},
   "source": [
    "### 점심"
   ]
  },
  {
   "cell_type": "code",
   "execution_count": 19,
   "metadata": {},
   "outputs": [
    {
     "name": "stdout",
     "output_type": "stream",
     "text": [
      "Fitting 5 folds for each of 6 candidates, totalling 30 fits\n"
     ]
    },
    {
     "name": "stderr",
     "output_type": "stream",
     "text": [
      "/Users/hoon/miniforge3/envs/ML/lib/python3.9/site-packages/sklearn/utils/validation.py:985: DataConversionWarning: A column-vector y was passed when a 1d array was expected. Please change the shape of y to (n_samples, ), for example using ravel().\n",
      "  y = column_or_1d(y, warn=True)\n",
      "/Users/hoon/miniforge3/envs/ML/lib/python3.9/site-packages/sklearn/utils/validation.py:985: DataConversionWarning: A column-vector y was passed when a 1d array was expected. Please change the shape of y to (n_samples, ), for example using ravel().\n",
      "  y = column_or_1d(y, warn=True)\n",
      "/Users/hoon/miniforge3/envs/ML/lib/python3.9/site-packages/sklearn/utils/validation.py:985: DataConversionWarning: A column-vector y was passed when a 1d array was expected. Please change the shape of y to (n_samples, ), for example using ravel().\n",
      "  y = column_or_1d(y, warn=True)\n",
      "/Users/hoon/miniforge3/envs/ML/lib/python3.9/site-packages/sklearn/utils/validation.py:985: DataConversionWarning: A column-vector y was passed when a 1d array was expected. Please change the shape of y to (n_samples, ), for example using ravel().\n",
      "  y = column_or_1d(y, warn=True)\n",
      "/Users/hoon/miniforge3/envs/ML/lib/python3.9/site-packages/sklearn/utils/validation.py:985: DataConversionWarning: A column-vector y was passed when a 1d array was expected. Please change the shape of y to (n_samples, ), for example using ravel().\n",
      "  y = column_or_1d(y, warn=True)\n",
      "/Users/hoon/miniforge3/envs/ML/lib/python3.9/site-packages/sklearn/utils/validation.py:985: DataConversionWarning: A column-vector y was passed when a 1d array was expected. Please change the shape of y to (n_samples, ), for example using ravel().\n",
      "  y = column_or_1d(y, warn=True)\n",
      "/Users/hoon/miniforge3/envs/ML/lib/python3.9/site-packages/sklearn/utils/validation.py:985: DataConversionWarning: A column-vector y was passed when a 1d array was expected. Please change the shape of y to (n_samples, ), for example using ravel().\n",
      "  y = column_or_1d(y, warn=True)\n",
      "/Users/hoon/miniforge3/envs/ML/lib/python3.9/site-packages/sklearn/utils/validation.py:985: DataConversionWarning: A column-vector y was passed when a 1d array was expected. Please change the shape of y to (n_samples, ), for example using ravel().\n",
      "  y = column_or_1d(y, warn=True)\n",
      "/Users/hoon/miniforge3/envs/ML/lib/python3.9/site-packages/sklearn/utils/validation.py:985: DataConversionWarning: A column-vector y was passed when a 1d array was expected. Please change the shape of y to (n_samples, ), for example using ravel().\n",
      "  y = column_or_1d(y, warn=True)\n",
      "/Users/hoon/miniforge3/envs/ML/lib/python3.9/site-packages/sklearn/utils/validation.py:985: DataConversionWarning: A column-vector y was passed when a 1d array was expected. Please change the shape of y to (n_samples, ), for example using ravel().\n",
      "  y = column_or_1d(y, warn=True)\n",
      "/Users/hoon/miniforge3/envs/ML/lib/python3.9/site-packages/sklearn/utils/validation.py:985: DataConversionWarning: A column-vector y was passed when a 1d array was expected. Please change the shape of y to (n_samples, ), for example using ravel().\n",
      "  y = column_or_1d(y, warn=True)\n",
      "/Users/hoon/miniforge3/envs/ML/lib/python3.9/site-packages/sklearn/utils/validation.py:985: DataConversionWarning: A column-vector y was passed when a 1d array was expected. Please change the shape of y to (n_samples, ), for example using ravel().\n",
      "  y = column_or_1d(y, warn=True)\n",
      "/Users/hoon/miniforge3/envs/ML/lib/python3.9/site-packages/sklearn/utils/validation.py:985: DataConversionWarning: A column-vector y was passed when a 1d array was expected. Please change the shape of y to (n_samples, ), for example using ravel().\n",
      "  y = column_or_1d(y, warn=True)\n",
      "/Users/hoon/miniforge3/envs/ML/lib/python3.9/site-packages/sklearn/utils/validation.py:985: DataConversionWarning: A column-vector y was passed when a 1d array was expected. Please change the shape of y to (n_samples, ), for example using ravel().\n",
      "  y = column_or_1d(y, warn=True)\n",
      "/Users/hoon/miniforge3/envs/ML/lib/python3.9/site-packages/sklearn/utils/validation.py:985: DataConversionWarning: A column-vector y was passed when a 1d array was expected. Please change the shape of y to (n_samples, ), for example using ravel().\n",
      "  y = column_or_1d(y, warn=True)\n",
      "/Users/hoon/miniforge3/envs/ML/lib/python3.9/site-packages/sklearn/utils/validation.py:985: DataConversionWarning: A column-vector y was passed when a 1d array was expected. Please change the shape of y to (n_samples, ), for example using ravel().\n",
      "  y = column_or_1d(y, warn=True)\n",
      "/Users/hoon/miniforge3/envs/ML/lib/python3.9/site-packages/sklearn/utils/validation.py:985: DataConversionWarning: A column-vector y was passed when a 1d array was expected. Please change the shape of y to (n_samples, ), for example using ravel().\n",
      "  y = column_or_1d(y, warn=True)\n",
      "/Users/hoon/miniforge3/envs/ML/lib/python3.9/site-packages/sklearn/utils/validation.py:985: DataConversionWarning: A column-vector y was passed when a 1d array was expected. Please change the shape of y to (n_samples, ), for example using ravel().\n",
      "  y = column_or_1d(y, warn=True)\n",
      "/Users/hoon/miniforge3/envs/ML/lib/python3.9/site-packages/sklearn/utils/validation.py:985: DataConversionWarning: A column-vector y was passed when a 1d array was expected. Please change the shape of y to (n_samples, ), for example using ravel().\n",
      "  y = column_or_1d(y, warn=True)\n",
      "/Users/hoon/miniforge3/envs/ML/lib/python3.9/site-packages/sklearn/utils/validation.py:985: DataConversionWarning: A column-vector y was passed when a 1d array was expected. Please change the shape of y to (n_samples, ), for example using ravel().\n",
      "  y = column_or_1d(y, warn=True)\n"
     ]
    },
    {
     "name": "stdout",
     "output_type": "stream",
     "text": [
      "{'model__C': 1.0, 'model__gamma': 'scale'}\n",
      "0.7627546754441044\n"
     ]
    },
    {
     "name": "stderr",
     "output_type": "stream",
     "text": [
      "/Users/hoon/miniforge3/envs/ML/lib/python3.9/site-packages/sklearn/utils/validation.py:985: DataConversionWarning: A column-vector y was passed when a 1d array was expected. Please change the shape of y to (n_samples, ), for example using ravel().\n",
      "  y = column_or_1d(y, warn=True)\n",
      "/Users/hoon/miniforge3/envs/ML/lib/python3.9/site-packages/sklearn/utils/validation.py:985: DataConversionWarning: A column-vector y was passed when a 1d array was expected. Please change the shape of y to (n_samples, ), for example using ravel().\n",
      "  y = column_or_1d(y, warn=True)\n",
      "/Users/hoon/miniforge3/envs/ML/lib/python3.9/site-packages/sklearn/utils/validation.py:985: DataConversionWarning: A column-vector y was passed when a 1d array was expected. Please change the shape of y to (n_samples, ), for example using ravel().\n",
      "  y = column_or_1d(y, warn=True)\n",
      "/Users/hoon/miniforge3/envs/ML/lib/python3.9/site-packages/sklearn/utils/validation.py:985: DataConversionWarning: A column-vector y was passed when a 1d array was expected. Please change the shape of y to (n_samples, ), for example using ravel().\n",
      "  y = column_or_1d(y, warn=True)\n",
      "/Users/hoon/miniforge3/envs/ML/lib/python3.9/site-packages/sklearn/utils/validation.py:985: DataConversionWarning: A column-vector y was passed when a 1d array was expected. Please change the shape of y to (n_samples, ), for example using ravel().\n",
      "  y = column_or_1d(y, warn=True)\n",
      "/Users/hoon/miniforge3/envs/ML/lib/python3.9/site-packages/sklearn/utils/validation.py:985: DataConversionWarning: A column-vector y was passed when a 1d array was expected. Please change the shape of y to (n_samples, ), for example using ravel().\n",
      "  y = column_or_1d(y, warn=True)\n",
      "/Users/hoon/miniforge3/envs/ML/lib/python3.9/site-packages/sklearn/utils/validation.py:985: DataConversionWarning: A column-vector y was passed when a 1d array was expected. Please change the shape of y to (n_samples, ), for example using ravel().\n",
      "  y = column_or_1d(y, warn=True)\n",
      "/Users/hoon/miniforge3/envs/ML/lib/python3.9/site-packages/sklearn/utils/validation.py:985: DataConversionWarning: A column-vector y was passed when a 1d array was expected. Please change the shape of y to (n_samples, ), for example using ravel().\n",
      "  y = column_or_1d(y, warn=True)\n",
      "/Users/hoon/miniforge3/envs/ML/lib/python3.9/site-packages/sklearn/utils/validation.py:985: DataConversionWarning: A column-vector y was passed when a 1d array was expected. Please change the shape of y to (n_samples, ), for example using ravel().\n",
      "  y = column_or_1d(y, warn=True)\n",
      "/Users/hoon/miniforge3/envs/ML/lib/python3.9/site-packages/sklearn/utils/validation.py:985: DataConversionWarning: A column-vector y was passed when a 1d array was expected. Please change the shape of y to (n_samples, ), for example using ravel().\n",
      "  y = column_or_1d(y, warn=True)\n",
      "/Users/hoon/miniforge3/envs/ML/lib/python3.9/site-packages/sklearn/utils/validation.py:985: DataConversionWarning: A column-vector y was passed when a 1d array was expected. Please change the shape of y to (n_samples, ), for example using ravel().\n",
      "  y = column_or_1d(y, warn=True)\n"
     ]
    }
   ],
   "source": [
    "pipe = Pipeline([('standardscaler', StandardScaler()), (\"model\", SVR(kernel='linear'))])\n",
    "params = [{\"model__gamma\":['scale', 'auto'], 'model__C':[1.0, 0.1, 0.01]}]\n",
    "\n",
    "gs = GridSearchCV(estimator=pipe, param_grid=params, n_jobs=multiprocessing.cpu_count(), verbose=True, cv=5)\n",
    "\n",
    "gs.fit(lunch_X_train, lunch_y_train)\n",
    "\n",
    "print(gs.best_params_)\n",
    "print(gs.best_score_)"
   ]
  },
  {
   "cell_type": "code",
   "execution_count": 20,
   "metadata": {},
   "outputs": [
    {
     "name": "stderr",
     "output_type": "stream",
     "text": [
      "/Users/hoon/miniforge3/envs/ML/lib/python3.9/site-packages/sklearn/utils/validation.py:985: DataConversionWarning: A column-vector y was passed when a 1d array was expected. Please change the shape of y to (n_samples, ), for example using ravel().\n",
      "  y = column_or_1d(y, warn=True)\n"
     ]
    },
    {
     "name": "stdout",
     "output_type": "stream",
     "text": [
      "훈련 결과 : 0.7613506932960563\n",
      "점검 결과 : 0.7995813751591392\n"
     ]
    }
   ],
   "source": [
    "model = SVR(kernel='linear', C=1.0, gamma='scale')\n",
    "model.fit(lunch_X_train, lunch_y_train)\n",
    "\n",
    "print(\"훈련 결과 : {}\".format(model.score(lunch_X_train, lunch_y_train)))\n",
    "print(\"점검 결과 : {}\".format(model.score(lunch_X_test, lunch_y_test)))"
   ]
  },
  {
   "cell_type": "markdown",
   "metadata": {},
   "source": [
    "### 저녁"
   ]
  },
  {
   "cell_type": "code",
   "execution_count": 21,
   "metadata": {},
   "outputs": [
    {
     "name": "stdout",
     "output_type": "stream",
     "text": [
      "Fitting 5 folds for each of 6 candidates, totalling 30 fits\n"
     ]
    },
    {
     "name": "stderr",
     "output_type": "stream",
     "text": [
      "/Users/hoon/miniforge3/envs/ML/lib/python3.9/site-packages/sklearn/utils/validation.py:985: DataConversionWarning: A column-vector y was passed when a 1d array was expected. Please change the shape of y to (n_samples, ), for example using ravel().\n",
      "  y = column_or_1d(y, warn=True)\n",
      "/Users/hoon/miniforge3/envs/ML/lib/python3.9/site-packages/sklearn/utils/validation.py:985: DataConversionWarning: A column-vector y was passed when a 1d array was expected. Please change the shape of y to (n_samples, ), for example using ravel().\n",
      "  y = column_or_1d(y, warn=True)\n",
      "/Users/hoon/miniforge3/envs/ML/lib/python3.9/site-packages/sklearn/utils/validation.py:985: DataConversionWarning: A column-vector y was passed when a 1d array was expected. Please change the shape of y to (n_samples, ), for example using ravel().\n",
      "  y = column_or_1d(y, warn=True)\n",
      "/Users/hoon/miniforge3/envs/ML/lib/python3.9/site-packages/sklearn/utils/validation.py:985: DataConversionWarning: A column-vector y was passed when a 1d array was expected. Please change the shape of y to (n_samples, ), for example using ravel().\n",
      "  y = column_or_1d(y, warn=True)\n",
      "/Users/hoon/miniforge3/envs/ML/lib/python3.9/site-packages/sklearn/utils/validation.py:985: DataConversionWarning: A column-vector y was passed when a 1d array was expected. Please change the shape of y to (n_samples, ), for example using ravel().\n",
      "  y = column_or_1d(y, warn=True)\n",
      "/Users/hoon/miniforge3/envs/ML/lib/python3.9/site-packages/sklearn/utils/validation.py:985: DataConversionWarning: A column-vector y was passed when a 1d array was expected. Please change the shape of y to (n_samples, ), for example using ravel().\n",
      "  y = column_or_1d(y, warn=True)\n",
      "/Users/hoon/miniforge3/envs/ML/lib/python3.9/site-packages/sklearn/utils/validation.py:985: DataConversionWarning: A column-vector y was passed when a 1d array was expected. Please change the shape of y to (n_samples, ), for example using ravel().\n",
      "  y = column_or_1d(y, warn=True)\n",
      "/Users/hoon/miniforge3/envs/ML/lib/python3.9/site-packages/sklearn/utils/validation.py:985: DataConversionWarning: A column-vector y was passed when a 1d array was expected. Please change the shape of y to (n_samples, ), for example using ravel().\n",
      "  y = column_or_1d(y, warn=True)\n",
      "/Users/hoon/miniforge3/envs/ML/lib/python3.9/site-packages/sklearn/utils/validation.py:985: DataConversionWarning: A column-vector y was passed when a 1d array was expected. Please change the shape of y to (n_samples, ), for example using ravel().\n",
      "  y = column_or_1d(y, warn=True)\n",
      "/Users/hoon/miniforge3/envs/ML/lib/python3.9/site-packages/sklearn/utils/validation.py:985: DataConversionWarning: A column-vector y was passed when a 1d array was expected. Please change the shape of y to (n_samples, ), for example using ravel().\n",
      "  y = column_or_1d(y, warn=True)\n",
      "/Users/hoon/miniforge3/envs/ML/lib/python3.9/site-packages/sklearn/utils/validation.py:985: DataConversionWarning: A column-vector y was passed when a 1d array was expected. Please change the shape of y to (n_samples, ), for example using ravel().\n",
      "  y = column_or_1d(y, warn=True)\n",
      "/Users/hoon/miniforge3/envs/ML/lib/python3.9/site-packages/sklearn/utils/validation.py:985: DataConversionWarning: A column-vector y was passed when a 1d array was expected. Please change the shape of y to (n_samples, ), for example using ravel().\n",
      "  y = column_or_1d(y, warn=True)\n",
      "/Users/hoon/miniforge3/envs/ML/lib/python3.9/site-packages/sklearn/utils/validation.py:985: DataConversionWarning: A column-vector y was passed when a 1d array was expected. Please change the shape of y to (n_samples, ), for example using ravel().\n",
      "  y = column_or_1d(y, warn=True)\n",
      "/Users/hoon/miniforge3/envs/ML/lib/python3.9/site-packages/sklearn/utils/validation.py:985: DataConversionWarning: A column-vector y was passed when a 1d array was expected. Please change the shape of y to (n_samples, ), for example using ravel().\n",
      "  y = column_or_1d(y, warn=True)\n",
      "/Users/hoon/miniforge3/envs/ML/lib/python3.9/site-packages/sklearn/utils/validation.py:985: DataConversionWarning: A column-vector y was passed when a 1d array was expected. Please change the shape of y to (n_samples, ), for example using ravel().\n",
      "  y = column_or_1d(y, warn=True)\n",
      "/Users/hoon/miniforge3/envs/ML/lib/python3.9/site-packages/sklearn/utils/validation.py:985: DataConversionWarning: A column-vector y was passed when a 1d array was expected. Please change the shape of y to (n_samples, ), for example using ravel().\n",
      "  y = column_or_1d(y, warn=True)\n",
      "/Users/hoon/miniforge3/envs/ML/lib/python3.9/site-packages/sklearn/utils/validation.py:985: DataConversionWarning: A column-vector y was passed when a 1d array was expected. Please change the shape of y to (n_samples, ), for example using ravel().\n",
      "  y = column_or_1d(y, warn=True)\n",
      "/Users/hoon/miniforge3/envs/ML/lib/python3.9/site-packages/sklearn/utils/validation.py:985: DataConversionWarning: A column-vector y was passed when a 1d array was expected. Please change the shape of y to (n_samples, ), for example using ravel().\n",
      "  y = column_or_1d(y, warn=True)\n",
      "/Users/hoon/miniforge3/envs/ML/lib/python3.9/site-packages/sklearn/utils/validation.py:985: DataConversionWarning: A column-vector y was passed when a 1d array was expected. Please change the shape of y to (n_samples, ), for example using ravel().\n",
      "  y = column_or_1d(y, warn=True)\n",
      "/Users/hoon/miniforge3/envs/ML/lib/python3.9/site-packages/sklearn/utils/validation.py:985: DataConversionWarning: A column-vector y was passed when a 1d array was expected. Please change the shape of y to (n_samples, ), for example using ravel().\n",
      "  y = column_or_1d(y, warn=True)\n",
      "/Users/hoon/miniforge3/envs/ML/lib/python3.9/site-packages/sklearn/utils/validation.py:985: DataConversionWarning: A column-vector y was passed when a 1d array was expected. Please change the shape of y to (n_samples, ), for example using ravel().\n",
      "  y = column_or_1d(y, warn=True)\n",
      "/Users/hoon/miniforge3/envs/ML/lib/python3.9/site-packages/sklearn/utils/validation.py:985: DataConversionWarning: A column-vector y was passed when a 1d array was expected. Please change the shape of y to (n_samples, ), for example using ravel().\n",
      "  y = column_or_1d(y, warn=True)\n",
      "/Users/hoon/miniforge3/envs/ML/lib/python3.9/site-packages/sklearn/utils/validation.py:985: DataConversionWarning: A column-vector y was passed when a 1d array was expected. Please change the shape of y to (n_samples, ), for example using ravel().\n",
      "  y = column_or_1d(y, warn=True)\n",
      "/Users/hoon/miniforge3/envs/ML/lib/python3.9/site-packages/sklearn/utils/validation.py:985: DataConversionWarning: A column-vector y was passed when a 1d array was expected. Please change the shape of y to (n_samples, ), for example using ravel().\n",
      "  y = column_or_1d(y, warn=True)\n",
      "/Users/hoon/miniforge3/envs/ML/lib/python3.9/site-packages/sklearn/utils/validation.py:985: DataConversionWarning: A column-vector y was passed when a 1d array was expected. Please change the shape of y to (n_samples, ), for example using ravel().\n",
      "  y = column_or_1d(y, warn=True)\n",
      "/Users/hoon/miniforge3/envs/ML/lib/python3.9/site-packages/sklearn/utils/validation.py:985: DataConversionWarning: A column-vector y was passed when a 1d array was expected. Please change the shape of y to (n_samples, ), for example using ravel().\n",
      "  y = column_or_1d(y, warn=True)\n",
      "/Users/hoon/miniforge3/envs/ML/lib/python3.9/site-packages/sklearn/utils/validation.py:985: DataConversionWarning: A column-vector y was passed when a 1d array was expected. Please change the shape of y to (n_samples, ), for example using ravel().\n",
      "  y = column_or_1d(y, warn=True)\n",
      "/Users/hoon/miniforge3/envs/ML/lib/python3.9/site-packages/sklearn/utils/validation.py:985: DataConversionWarning: A column-vector y was passed when a 1d array was expected. Please change the shape of y to (n_samples, ), for example using ravel().\n",
      "  y = column_or_1d(y, warn=True)\n",
      "/Users/hoon/miniforge3/envs/ML/lib/python3.9/site-packages/sklearn/utils/validation.py:985: DataConversionWarning: A column-vector y was passed when a 1d array was expected. Please change the shape of y to (n_samples, ), for example using ravel().\n",
      "  y = column_or_1d(y, warn=True)\n",
      "/Users/hoon/miniforge3/envs/ML/lib/python3.9/site-packages/sklearn/utils/validation.py:985: DataConversionWarning: A column-vector y was passed when a 1d array was expected. Please change the shape of y to (n_samples, ), for example using ravel().\n",
      "  y = column_or_1d(y, warn=True)\n"
     ]
    },
    {
     "name": "stdout",
     "output_type": "stream",
     "text": [
      "{'model__C': 1.0, 'model__gamma': 'scale'}\n",
      "0.4763476351867186\n"
     ]
    },
    {
     "name": "stderr",
     "output_type": "stream",
     "text": [
      "/Users/hoon/miniforge3/envs/ML/lib/python3.9/site-packages/sklearn/utils/validation.py:985: DataConversionWarning: A column-vector y was passed when a 1d array was expected. Please change the shape of y to (n_samples, ), for example using ravel().\n",
      "  y = column_or_1d(y, warn=True)\n"
     ]
    }
   ],
   "source": [
    "pipe = Pipeline([('standardscaler', StandardScaler()), (\"model\", SVR(kernel='linear'))])\n",
    "params = [{\"model__gamma\":['scale', 'auto'], 'model__C':[1.0, 0.1, 0.01]}]\n",
    "\n",
    "gs = GridSearchCV(estimator=pipe, param_grid=params, n_jobs=multiprocessing.cpu_count(), verbose=True, cv=5)\n",
    "\n",
    "gs.fit(dinner_X_train, dinner_y_train)\n",
    "\n",
    "print(gs.best_params_)\n",
    "print(gs.best_score_)"
   ]
  },
  {
   "cell_type": "code",
   "execution_count": 22,
   "metadata": {},
   "outputs": [
    {
     "name": "stderr",
     "output_type": "stream",
     "text": [
      "/Users/hoon/miniforge3/envs/ML/lib/python3.9/site-packages/sklearn/utils/validation.py:985: DataConversionWarning: A column-vector y was passed when a 1d array was expected. Please change the shape of y to (n_samples, ), for example using ravel().\n",
      "  y = column_or_1d(y, warn=True)\n"
     ]
    },
    {
     "name": "stdout",
     "output_type": "stream",
     "text": [
      "훈련 결과 : 0.4852389711423035\n",
      "점검 결과 : 0.4614920262445352\n"
     ]
    }
   ],
   "source": [
    "model = SVR(kernel='linear', C=1.0, gamma='scale')\n",
    "model.fit(dinner_X_train, dinner_y_train)\n",
    "\n",
    "print(\"훈련 결과 : {}\".format(model.score(dinner_X_train, dinner_y_train)))\n",
    "print(\"점검 결과 : {}\".format(model.score(dinner_X_test, dinner_y_test)))"
   ]
  },
  {
   "cell_type": "markdown",
   "metadata": {},
   "source": [
    "## 4. XGBoost"
   ]
  },
  {
   "cell_type": "markdown",
   "metadata": {},
   "source": [
    "### 점심"
   ]
  },
  {
   "cell_type": "code",
   "execution_count": 139,
   "metadata": {},
   "outputs": [
    {
     "name": "stdout",
     "output_type": "stream",
     "text": [
      "{'colsample_bylevel': 0.5, 'colsample_bytree': 0.5, 'max_depth': 2, 'n_estimators': 300}\n",
      "-7766.8530837239505\n"
     ]
    }
   ],
   "source": [
    "param = {\n",
    "    'max_depth':[2,3,4],\n",
    "    'n_estimators':range(300,600,100), #  'n_estimators':range(600,700,50) 여기에 cv 10 (이거와 별반차이가 없다.)\n",
    "    'colsample_bytree':[0.5,0.7,1],\n",
    "    'colsample_bylevel':[0.5,0.7,1]\n",
    "}\n",
    "\n",
    "model = XGBRegressor()\n",
    "\n",
    "gs = GridSearchCV(estimator=model, param_grid=param, cv=10, \n",
    "                           scoring='neg_mean_squared_error',\n",
    "                           n_jobs=multiprocessing.cpu_count())\n",
    "\n",
    "gs.fit(lunch_X_train, lunch_y_train)\n",
    "\n",
    "print(gs.best_params_)\n",
    "print(gs.best_score_)"
   ]
  },
  {
   "cell_type": "code",
   "execution_count": 23,
   "metadata": {},
   "outputs": [
    {
     "data": {
      "text/plain": [
       "XGBRegressor(base_score=0.5, booster='gbtree', colsample_bylevel=1,\n",
       "             colsample_bynode=1, colsample_bytree=1, enable_categorical=False,\n",
       "             gamma=0, gpu_id=-1, importance_type=None,\n",
       "             interaction_constraints='', learning_rate=0.1, max_delta_step=0,\n",
       "             max_depth=2, min_child_weight=1, missing=nan,\n",
       "             monotone_constraints='()', n_estimators=300, n_jobs=8,\n",
       "             num_parallel_tree=1, predictor='auto', random_state=0, reg_alpha=0,\n",
       "             reg_lambda=1, scale_pos_weight=1, subsample=1, tree_method='exact',\n",
       "             validate_parameters=1, verbosity=None)"
      ]
     },
     "execution_count": 23,
     "metadata": {},
     "output_type": "execute_result"
    }
   ],
   "source": [
    "model = XGBRegressor(n_estimators=300, colsample_bylevel=1, learning_rate=0.1, colsample_bytree=1, max_depth=2)\n",
    "\n",
    "model.fit(lunch_X_train, lunch_y_train)"
   ]
  },
  {
   "cell_type": "code",
   "execution_count": 24,
   "metadata": {},
   "outputs": [
    {
     "data": {
      "text/plain": [
       "<AxesSubplot:title={'center':'Feature importance'}, xlabel='F score', ylabel='Features'>"
      ]
     },
     "execution_count": 24,
     "metadata": {},
     "output_type": "execute_result"
    },
    {
     "data": {
      "image/png": "[encoded data removed]",
      "text/plain": [
       "<Figure size 432x288 with 1 Axes>"
      ]
     },
     "metadata": {
      "needs_background": "light"
     },
     "output_type": "display_data"
    }
   ],
   "source": [
    "xgb.plot_importance(model)"
   ]
  },
  {
   "cell_type": "code",
   "execution_count": 25,
   "metadata": {},
   "outputs": [
    {
     "data": {
      "text/plain": [
       "array([ 885.8877 ,  794.1983 , 1223.9185 , 1136.2916 ,  737.0808 ,\n",
       "       1007.04364, 1086.426  ,  519.8119 ,  903.4033 ,  865.42993,\n",
       "        881.2333 , 1162.0223 , 1131.1565 ,  921.4428 ,  908.4274 ,\n",
       "       1032.4493 ,  953.41125,  551.23334,  623.0806 , 1129.5492 ,\n",
       "        879.37775,  555.7052 ,  880.17303,  858.84454,  957.83154,\n",
       "        913.06805,  693.0731 ,  886.8988 ,  530.79   ,  672.9007 ,\n",
       "        896.0049 ,  884.1988 ,  911.04297,  525.3153 ,  963.2154 ,\n",
       "       1169.4473 ,  946.77313,  924.90576,  791.88635,  837.08154,\n",
       "        824.07733,  633.9319 ,  702.2428 ,  704.4929 , 1176.8567 ,\n",
       "        970.8271 , 1052.9459 ,  844.4112 ,  850.15796, 1208.8363 ,\n",
       "       1219.9374 ,  887.00995,  867.4183 ,  739.895  ,  852.5577 ,\n",
       "        714.2273 ,  703.8203 ,  705.74036, 1018.21295,  946.5297 ,\n",
       "        795.39746, 1135.8949 ,  644.9801 ,  848.9449 , 1164.4419 ,\n",
       "        758.22327, 1007.86035,  758.94727, 1218.241  ,  654.19403,\n",
       "       1228.1754 ,  613.9799 , 1015.1499 , 1133.466  , 1133.6056 ,\n",
       "       1167.0497 ,  803.3351 , 1095.8235 , 1199.3301 ,  671.04596,\n",
       "        882.695  ,  872.2554 ,  834.29285,  814.3971 ,  895.1533 ,\n",
       "        912.70465,  660.02155, 1252.1259 ,  586.09973,  836.9016 ,\n",
       "        980.31726,  938.24164,  945.5911 ,  904.4373 ,  611.8693 ,\n",
       "       1115.1667 , 1010.63556, 1109.3146 ,  823.6913 , 1243.2855 ,\n",
       "        361.41873, 1150.7999 , 1083.6222 ,  827.96796, 1272.3889 ,\n",
       "        717.0195 ,  922.6343 ,  724.2733 , 1146.6766 ,  829.5686 ,\n",
       "       1215.9601 ,  898.0729 ,  835.7889 ,  628.67993,  635.20667,\n",
       "        719.83655,  885.7418 , 1062.1794 ,  994.0008 ,  656.0096 ,\n",
       "        920.9214 ,  859.5485 ,  922.5472 , 1269.0653 ,  586.8463 ,\n",
       "        681.97424, 1302.671  ,  898.71796,  874.00104,  607.5261 ,\n",
       "        863.1076 ,  810.4444 ,  917.4478 ,  887.8019 ,  991.43506,\n",
       "       1047.044  ,  655.6608 ,  964.71783,  843.5555 ,  664.75165,\n",
       "        811.46295,  849.0368 ,  897.67065, 1092.5146 ,  548.43713,\n",
       "        429.42838, 1175.5729 ,  752.12164,  966.6391 ,  580.26416,\n",
       "        989.23413,  901.1442 ,  914.5788 , 1070.4354 , 1046.9863 ,\n",
       "       1172.9991 ,  925.3966 ,  642.6207 ,  827.4072 ,  952.6586 ,\n",
       "        903.94727,  848.9345 ,  702.9749 ,  754.0389 ,  924.3504 ,\n",
       "       1194.0885 , 1300.2257 ,  634.664  ,  900.08954,  575.3213 ,\n",
       "       1314.8674 ,  735.45667,  896.5024 ,  870.9804 ,  868.0003 ,\n",
       "        541.0565 ,  606.7435 ,  945.6501 ,  931.2926 ,  608.7485 ,\n",
       "       1148.3022 ,  932.7628 ,  779.18823,  630.91016,  621.89856,\n",
       "       1011.10895, 1051.7659 , 1235.2859 , 1172.8638 ,  786.3065 ,\n",
       "       1140.3088 ,  610.80414,  883.59644,  858.5814 , 1045.3295 ,\n",
       "       1149.1841 ,  928.28723,  920.57733,  914.9243 , 1155.7129 ,\n",
       "        943.3147 ,  852.71954, 1230.5836 ,  861.7747 ,  808.04535,\n",
       "        816.102  ,  897.36743,  928.78546,  909.2659 ,  946.2113 ,\n",
       "       1129.5007 ,  641.69196,  855.1861 ,  915.7699 ,  821.23303,\n",
       "       1150.931  , 1210.5791 ,  712.6682 , 1115.0085 ,  859.7253 ,\n",
       "       1000.8176 ,  815.1995 , 1188.5804 ,  914.16046,  719.36865,\n",
       "        818.7867 ,  828.2683 ,  615.15857, 1249.8552 , 1249.9177 ,\n",
       "        749.8834 ,  790.0054 ,  922.1484 ,  865.60626, 1197.5967 ,\n",
       "       1043.2812 ,  877.66504,  850.5877 , 1148.867  ,  884.37885,\n",
       "       1003.4747 ,  896.04425,  957.5752 ,  633.9018 ,  589.93756,\n",
       "       1175.4615 ,  743.0078 , 1153.2551 ,  659.7769 , 1185.6412 ,\n",
       "        737.10455, 1196.4342 , 1208.7955 ,  658.3044 ,  929.9157 ,\n",
       "       1021.1972 ,  884.5117 ,  637.4883 ,  693.4032 ,  859.2245 ,\n",
       "       1023.5124 ,  573.98645,  714.94336,  618.2095 ,  787.5228 ,\n",
       "        930.2602 , 1167.1493 ,  868.5055 ,  767.27386,  857.1892 ,\n",
       "        796.76544,  839.42285, 1137.7833 , 1210.5226 ,  566.1553 ,\n",
       "        840.3642 , 1022.71075, 1185.9492 ,  712.0034 ,  506.2116 ,\n",
       "        917.16254,  783.4097 ,  777.433  , 1001.2587 ,  905.4563 ,\n",
       "       1236.3856 ,  950.235  , 1006.9004 , 1152.5627 ,  612.1566 ,\n",
       "       1117.9825 ,  906.49646,  794.89606,  968.85144,  940.49927,\n",
       "        792.8713 , 1143.4197 ,  796.73755,  855.30115,  819.69434,\n",
       "        884.1306 ], dtype=float32)"
      ]
     },
     "execution_count": 25,
     "metadata": {},
     "output_type": "execute_result"
    }
   ],
   "source": [
    "pred = model.predict(lunch_X_test)\n",
    "pred"
   ]
  },
  {
   "cell_type": "code",
   "execution_count": 26,
   "metadata": {},
   "outputs": [
    {
     "name": "stdout",
     "output_type": "stream",
     "text": [
      "훈련결과 : 0.9023025200953646\n",
      "점검결과 : 0.860508319733749\n"
     ]
    }
   ],
   "source": [
    "score = model.score(lunch_X_train, lunch_y_train)\n",
    "print(\"훈련결과 : {}\".format(score))\n",
    "print(\"점검결과 : {}\".format(model.score(lunch_X_test, lunch_y_test)))"
   ]
  },
  {
   "cell_type": "markdown",
   "metadata": {},
   "source": [
    "### 저녁"
   ]
  },
  {
   "cell_type": "code",
   "execution_count": 27,
   "metadata": {},
   "outputs": [
    {
     "name": "stdout",
     "output_type": "stream",
     "text": [
      "{'colsample_bylevel': 0.7, 'colsample_bytree': 1, 'max_depth': 2, 'n_estimators': 300}\n",
      "-8998.85170660378\n"
     ]
    }
   ],
   "source": [
    "param = {\n",
    "    'max_depth':[2,3,4],\n",
    "    'n_estimators':range(300,600,100), #  'n_estimators':range(600,700,50) 여기에 cv 10 (이거와 별반차이가 없다.)\n",
    "    'colsample_bytree':[0.5,0.7,1],\n",
    "    'colsample_bylevel':[0.5,0.7,1]\n",
    "}\n",
    "model = XGBRegressor()\n",
    "\n",
    "gs = GridSearchCV(estimator=model, param_grid=param, cv=10, \n",
    "                           scoring='neg_mean_squared_error',\n",
    "                           n_jobs=multiprocessing.cpu_count())\n",
    "\n",
    "gs.fit(dinner_X_train, dinner_y_train)\n",
    "\n",
    "print(gs.best_params_)\n",
    "print(gs.best_score_)"
   ]
  },
  {
   "cell_type": "code",
   "execution_count": 44,
   "metadata": {},
   "outputs": [
    {
     "data": {
      "text/plain": [
       "XGBRegressor(base_score=0.5, booster='gbtree', colsample_bylevel=0.7,\n",
       "             colsample_bynode=1, colsample_bytree=1, enable_categorical=False,\n",
       "             gamma=0, gpu_id=-1, importance_type=None,\n",
       "             interaction_constraints='', learning_rate=0.1, max_delta_step=0,\n",
       "             max_depth=2, min_child_weight=1, missing=nan,\n",
       "             monotone_constraints='()', n_estimators=300, n_jobs=8,\n",
       "             num_parallel_tree=1, predictor='auto', random_state=0, reg_alpha=0,\n",
       "             reg_lambda=1, scale_pos_weight=1, subsample=1, tree_method='exact',\n",
       "             validate_parameters=1, verbosity=None)"
      ]
     },
     "execution_count": 44,
     "metadata": {},
     "output_type": "execute_result"
    }
   ],
   "source": [
    "model = XGBRegressor(n_estimators=300, colsample_bylevel=0.7, learning_rate=0.1, colsample_bytree=1, max_depth=2)\n",
    "\n",
    "model.fit(dinner_X_train, dinner_y_train)"
   ]
  },
  {
   "cell_type": "code",
   "execution_count": 45,
   "metadata": {},
   "outputs": [
    {
     "data": {
      "text/plain": [
       "<AxesSubplot:title={'center':'Feature importance'}, xlabel='F score', ylabel='Features'>"
      ]
     },
     "execution_count": 45,
     "metadata": {},
     "output_type": "execute_result"
    },
    {
     "data": {
      "image/png": "[encoded data removed]",
      "text/plain": [
       "<Figure size 432x288 with 1 Axes>"
      ]
     },
     "metadata": {
      "needs_background": "light"
     },
     "output_type": "display_data"
    }
   ],
   "source": [
    "xgb.plot_importance(model)"
   ]
  },
  {
   "cell_type": "code",
   "execution_count": 46,
   "metadata": {},
   "outputs": [
    {
     "data": {
      "text/plain": [
       "array([475.35318, 520.44415, 387.70993, 407.34546, 314.63092, 410.4143 ,\n",
       "       336.6692 , 386.52994, 540.35443, 407.34503, 425.75885, 388.33856,\n",
       "       533.3915 , 452.56064, 526.96826, 530.51166, 306.64746, 469.34235,\n",
       "       236.20943, 475.9912 , 381.9945 , 515.3661 , 492.94556, 384.88055,\n",
       "       535.7939 , 542.8771 , 484.66876, 295.73184, 355.84753, 445.4067 ,\n",
       "       483.8989 , 350.5261 , 481.86374, 426.47723, 508.36597, 511.41165,\n",
       "       562.41235, 414.7803 , 427.3452 , 403.874  , 396.0232 , 433.6723 ,\n",
       "       194.27306, 502.7773 , 531.14996, 639.4176 , 417.6316 , 447.4865 ,\n",
       "       515.55597, 494.17722, 568.1013 , 526.67944, 565.29047, 550.5711 ,\n",
       "       629.27   , 439.1853 , 298.42993, 372.35364, 351.21072, 534.02057,\n",
       "       319.8255 , 492.4499 , 602.5479 , 338.51285, 525.39484, 535.12714,\n",
       "       577.8551 , 461.05478, 480.7785 , 568.9825 , 360.4095 , 440.3149 ,\n",
       "       587.7242 , 477.91058, 525.8583 , 552.0952 , 539.29944, 410.51453,\n",
       "       343.01624, 486.73233, 510.43655, 530.45667, 357.266  , 585.06   ,\n",
       "       358.1923 , 277.50717, 341.09183, 547.9849 , 526.8129 , 424.15952,\n",
       "       462.60745, 520.16235, 549.42334, 470.84436, 510.48828, 502.37402,\n",
       "       691.5112 , 588.4331 , 537.2598 , 343.68774, 256.1743 , 366.10117,\n",
       "       329.17795, 442.3789 , 394.06165, 530.80035, 513.08167, 550.8278 ,\n",
       "       441.39905, 524.089  , 524.125  , 436.7457 , 479.24835, 374.44327,\n",
       "       538.4546 , 307.588  , 430.30524, 527.7184 , 416.59314, 524.0168 ,\n",
       "       471.96655, 538.186  , 436.05716, 477.27786, 535.2159 , 561.8003 ,\n",
       "       579.68   , 483.27115, 536.5204 , 325.62085, 494.23434, 288.92792,\n",
       "       454.4707 , 353.7417 , 533.2269 , 305.55048, 353.11523, 491.362  ,\n",
       "       538.0126 , 533.5606 , 549.347  , 407.45355, 542.60724, 449.115  ,\n",
       "       473.79355, 277.64276, 508.37537, 410.871  , 412.92743, 434.1015 ,\n",
       "       497.92505, 292.85394, 555.05206, 501.9698 , 526.5097 , 458.99457,\n",
       "       575.7457 , 610.27765, 300.7479 , 564.5904 , 321.53055, 191.08917,\n",
       "       324.46255, 534.70874, 510.97006, 513.22687, 616.8022 , 518.0238 ,\n",
       "       424.07526, 251.23512, 541.4106 , 500.3463 , 430.42474, 579.53455,\n",
       "       472.7844 , 364.44617, 336.26257, 571.3227 , 599.49   , 317.67212,\n",
       "       381.34625, 493.32355, 462.33353, 408.28732, 513.8291 , 594.79834,\n",
       "       436.32196, 502.5912 , 385.89908, 517.9729 , 470.93225, 577.399  ,\n",
       "       559.3679 , 370.9038 , 545.9473 , 489.11203, 353.84622, 502.64072,\n",
       "       534.2859 , 652.9058 , 386.28287, 537.7375 , 506.4941 , 552.083  ,\n",
       "       470.57812, 403.3261 , 558.4106 , 193.47916, 536.671  , 510.5606 ,\n",
       "       626.7561 , 564.986  , 566.7762 , 215.94043, 496.9268 , 527.7493 ,\n",
       "       406.9229 , 300.0051 , 360.6937 , 539.35944, 601.42114, 627.466  ,\n",
       "       430.5577 , 349.1333 , 455.75214, 521.4654 , 471.02493, 478.882  ,\n",
       "       480.97064, 210.46538, 519.04315, 499.15823, 499.41504, 571.82574,\n",
       "       537.43994, 503.63492, 488.06705, 288.69022, 270.77332, 429.76657,\n",
       "       524.4256 , 470.82535, 467.44156, 531.734  , 215.95665, 480.78247,\n",
       "       466.00015, 420.93375, 479.76602, 565.31915, 539.8614 , 615.9568 ,\n",
       "       592.6665 , 374.41434, 596.66693, 390.31158, 416.6109 , 292.80185,\n",
       "       353.65796, 464.76874, 187.7831 , 482.49222, 574.7968 , 503.69415,\n",
       "       607.71106, 546.55096, 518.0926 , 568.614  , 590.2668 , 446.91776,\n",
       "       286.49594, 390.51694, 322.7762 , 529.72784, 386.30063, 359.66623,\n",
       "       490.25677, 354.68103, 488.59766, 504.9787 , 366.7045 , 488.38135,\n",
       "       502.29053, 516.579  , 290.98364, 505.75168, 167.81154, 251.90924,\n",
       "       518.39374, 533.56085, 513.66693, 487.34448, 579.8264 , 487.89734,\n",
       "       539.893  , 574.3461 , 422.64517, 371.6671 , 507.65723, 465.7392 ,\n",
       "       355.3819 ], dtype=float32)"
      ]
     },
     "execution_count": 46,
     "metadata": {},
     "output_type": "execute_result"
    }
   ],
   "source": [
    "pred = model.predict(dinner_X_test)\n",
    "pred"
   ]
  },
  {
   "cell_type": "code",
   "execution_count": 47,
   "metadata": {},
   "outputs": [
    {
     "name": "stdout",
     "output_type": "stream",
     "text": [
      "훈련결과 : 0.7960968384558765\n",
      "점검결과 : 0.5983145743541849\n"
     ]
    }
   ],
   "source": [
    "score = model.score(dinner_X_train, dinner_y_train)\n",
    "print(\"훈련결과 : {}\".format(score))\n",
    "print(\"점검결과 : {}\".format(model.score(dinner_X_test, dinner_y_test)))"
   ]
  },
  {
   "cell_type": "markdown",
   "metadata": {},
   "source": [
    "## 5. 릿지, 라쏘, 엘라스틱넷"
   ]
  },
  {
   "cell_type": "markdown",
   "metadata": {},
   "source": [
    "### 1. 릿지 - 점심"
   ]
  },
  {
   "cell_type": "code",
   "execution_count": 48,
   "metadata": {},
   "outputs": [
    {
     "name": "stdout",
     "output_type": "stream",
     "text": [
      "Ridge(alpha=10)\n"
     ]
    }
   ],
   "source": [
    "param = {'alpha':[0.1, 1, 10, 100]}\n",
    "\n",
    "model = Ridge()\n",
    "gs= GridSearchCV(estimator=model, param_grid=param, scoring='neg_mean_squared_error',cv=5)\n",
    "\n",
    "gs.fit(lunch_X_train,lunch_y_train)\n",
    "print(gs.best_estimator_)"
   ]
  },
  {
   "cell_type": "code",
   "execution_count": 49,
   "metadata": {},
   "outputs": [
    {
     "name": "stdout",
     "output_type": "stream",
     "text": [
      "훈련 결과 : 0.8051371079674186\n",
      "점검 결과 : 0.8216060418923412\n"
     ]
    }
   ],
   "source": [
    "model = Ridge(alpha=10)\n",
    "\n",
    "model.fit(lunch_X_train, lunch_y_train)\n",
    "\n",
    "print(\"훈련 결과 : {}\".format(model.score(lunch_X_train, lunch_y_train)))\n",
    "print(\"점검 결과 : {}\".format(model.score(lunch_X_test, lunch_y_test)))"
   ]
  },
  {
   "cell_type": "markdown",
   "metadata": {},
   "source": [
    "### 2. 릿지 - 저녁"
   ]
  },
  {
   "cell_type": "code",
   "execution_count": 50,
   "metadata": {},
   "outputs": [
    {
     "name": "stdout",
     "output_type": "stream",
     "text": [
      "Ridge(alpha=10)\n"
     ]
    }
   ],
   "source": [
    "param = {'alpha':[0.1, 1, 10, 100]}\n",
    "\n",
    "model = Ridge()\n",
    "gs= GridSearchCV(estimator=model, param_grid=param, scoring='neg_mean_squared_error',cv=5)\n",
    "\n",
    "gs.fit(dinner_X_train,dinner_y_train)\n",
    "print(gs.best_estimator_)"
   ]
  },
  {
   "cell_type": "code",
   "execution_count": 51,
   "metadata": {},
   "outputs": [
    {
     "name": "stdout",
     "output_type": "stream",
     "text": [
      "훈련 결과 : 0.5846964863308441\n",
      "점검 결과 : 0.5114079584877648\n"
     ]
    }
   ],
   "source": [
    "model = Ridge(alpha=10)\n",
    "\n",
    "model.fit(dinner_X_train, dinner_y_train)\n",
    "\n",
    "print(\"훈련 결과 : {}\".format(model.score(dinner_X_train, dinner_y_train)))\n",
    "print(\"점검 결과 : {}\".format(model.score(dinner_X_test, dinner_y_test)))"
   ]
  },
  {
   "cell_type": "markdown",
   "metadata": {},
   "source": [
    "### 1. 라쏘 - 점심"
   ]
  },
  {
   "cell_type": "code",
   "execution_count": 52,
   "metadata": {},
   "outputs": [
    {
     "name": "stderr",
     "output_type": "stream",
     "text": [
      "/Users/hoon/miniforge3/envs/ML/lib/python3.9/site-packages/sklearn/linear_model/_coordinate_descent.py:647: ConvergenceWarning: Objective did not converge. You might want to increase the number of iterations, check the scale of the features or consider increasing regularisation. Duality gap: 2.376e+06, tolerance: 2.958e+03\n",
      "  model = cd_fast.enet_coordinate_descent(\n",
      "/Users/hoon/miniforge3/envs/ML/lib/python3.9/site-packages/sklearn/linear_model/_coordinate_descent.py:647: ConvergenceWarning: Objective did not converge. You might want to increase the number of iterations, check the scale of the features or consider increasing regularisation. Duality gap: 1.338e+06, tolerance: 2.916e+03\n",
      "  model = cd_fast.enet_coordinate_descent(\n",
      "/Users/hoon/miniforge3/envs/ML/lib/python3.9/site-packages/sklearn/linear_model/_coordinate_descent.py:647: ConvergenceWarning: Objective did not converge. You might want to increase the number of iterations, check the scale of the features or consider increasing regularisation. Duality gap: 2.515e+06, tolerance: 2.969e+03\n",
      "  model = cd_fast.enet_coordinate_descent(\n",
      "/Users/hoon/miniforge3/envs/ML/lib/python3.9/site-packages/sklearn/linear_model/_coordinate_descent.py:647: ConvergenceWarning: Objective did not converge. You might want to increase the number of iterations, check the scale of the features or consider increasing regularisation. Duality gap: 2.476e+06, tolerance: 3.010e+03\n",
      "  model = cd_fast.enet_coordinate_descent(\n",
      "/Users/hoon/miniforge3/envs/ML/lib/python3.9/site-packages/sklearn/linear_model/_coordinate_descent.py:647: ConvergenceWarning: Objective did not converge. You might want to increase the number of iterations, check the scale of the features or consider increasing regularisation. Duality gap: 1.602e+06, tolerance: 3.196e+03\n",
      "  model = cd_fast.enet_coordinate_descent(\n",
      "/Users/hoon/miniforge3/envs/ML/lib/python3.9/site-packages/sklearn/linear_model/_coordinate_descent.py:647: ConvergenceWarning: Objective did not converge. You might want to increase the number of iterations, check the scale of the features or consider increasing regularisation. Duality gap: 8.319e+04, tolerance: 2.958e+03\n",
      "  model = cd_fast.enet_coordinate_descent(\n",
      "/Users/hoon/miniforge3/envs/ML/lib/python3.9/site-packages/sklearn/linear_model/_coordinate_descent.py:647: ConvergenceWarning: Objective did not converge. You might want to increase the number of iterations, check the scale of the features or consider increasing regularisation. Duality gap: 6.353e+04, tolerance: 2.916e+03\n",
      "  model = cd_fast.enet_coordinate_descent(\n",
      "/Users/hoon/miniforge3/envs/ML/lib/python3.9/site-packages/sklearn/linear_model/_coordinate_descent.py:647: ConvergenceWarning: Objective did not converge. You might want to increase the number of iterations, check the scale of the features or consider increasing regularisation. Duality gap: 5.673e+04, tolerance: 2.969e+03\n",
      "  model = cd_fast.enet_coordinate_descent(\n",
      "/Users/hoon/miniforge3/envs/ML/lib/python3.9/site-packages/sklearn/linear_model/_coordinate_descent.py:647: ConvergenceWarning: Objective did not converge. You might want to increase the number of iterations, check the scale of the features or consider increasing regularisation. Duality gap: 1.419e+05, tolerance: 3.010e+03\n",
      "  model = cd_fast.enet_coordinate_descent(\n",
      "/Users/hoon/miniforge3/envs/ML/lib/python3.9/site-packages/sklearn/linear_model/_coordinate_descent.py:647: ConvergenceWarning: Objective did not converge. You might want to increase the number of iterations, check the scale of the features or consider increasing regularisation. Duality gap: 5.618e+04, tolerance: 3.196e+03\n",
      "  model = cd_fast.enet_coordinate_descent(\n"
     ]
    },
    {
     "name": "stdout",
     "output_type": "stream",
     "text": [
      "Lasso(alpha=1)\n"
     ]
    },
    {
     "name": "stderr",
     "output_type": "stream",
     "text": [
      "/Users/hoon/miniforge3/envs/ML/lib/python3.9/site-packages/sklearn/linear_model/_coordinate_descent.py:647: ConvergenceWarning: Objective did not converge. You might want to increase the number of iterations, check the scale of the features or consider increasing regularisation. Duality gap: 7.864e+04, tolerance: 3.763e+03\n",
      "  model = cd_fast.enet_coordinate_descent(\n"
     ]
    }
   ],
   "source": [
    "param = {'alpha':[0.1, 1, 10, 100]}\n",
    "\n",
    "model = Lasso()\n",
    "gs= GridSearchCV(estimator=model, param_grid=param, scoring='neg_mean_squared_error',cv=5)\n",
    "\n",
    "gs.fit(lunch_X_train,lunch_y_train)\n",
    "print(gs.best_estimator_)"
   ]
  },
  {
   "cell_type": "code",
   "execution_count": 53,
   "metadata": {},
   "outputs": [
    {
     "name": "stdout",
     "output_type": "stream",
     "text": [
      "훈련 결과 : 0.79289893058166\n",
      "점검 결과 : 0.825226121116565\n"
     ]
    },
    {
     "name": "stderr",
     "output_type": "stream",
     "text": [
      "/Users/hoon/miniforge3/envs/ML/lib/python3.9/site-packages/sklearn/linear_model/_coordinate_descent.py:647: ConvergenceWarning: Objective did not converge. You might want to increase the number of iterations, check the scale of the features or consider increasing regularisation. Duality gap: 7.864e+04, tolerance: 3.763e+03\n",
      "  model = cd_fast.enet_coordinate_descent(\n"
     ]
    }
   ],
   "source": [
    "model = Lasso(alpha=1)\n",
    "\n",
    "model.fit(lunch_X_train, lunch_y_train)\n",
    "\n",
    "print(\"훈련 결과 : {}\".format(model.score(lunch_X_train, lunch_y_train)))\n",
    "print(\"점검 결과 : {}\".format(model.score(lunch_X_test, lunch_y_test)))"
   ]
  },
  {
   "cell_type": "markdown",
   "metadata": {},
   "source": [
    "### 2. 릿지 - 저녁"
   ]
  },
  {
   "cell_type": "code",
   "execution_count": 278,
   "metadata": {},
   "outputs": [
    {
     "name": "stderr",
     "output_type": "stream",
     "text": [
      "/Users/hoon/miniforge3/envs/ML/lib/python3.9/site-packages/sklearn/linear_model/_coordinate_descent.py:647: ConvergenceWarning: Objective did not converge. You might want to increase the number of iterations, check the scale of the features or consider increasing regularisation. Duality gap: 2.489e+06, tolerance: 1.282e+03\n",
      "  model = cd_fast.enet_coordinate_descent(\n",
      "/Users/hoon/miniforge3/envs/ML/lib/python3.9/site-packages/sklearn/linear_model/_coordinate_descent.py:647: ConvergenceWarning: Objective did not converge. You might want to increase the number of iterations, check the scale of the features or consider increasing regularisation. Duality gap: 9.327e+05, tolerance: 1.433e+03\n",
      "  model = cd_fast.enet_coordinate_descent(\n",
      "/Users/hoon/miniforge3/envs/ML/lib/python3.9/site-packages/sklearn/linear_model/_coordinate_descent.py:647: ConvergenceWarning: Objective did not converge. You might want to increase the number of iterations, check the scale of the features or consider increasing regularisation. Duality gap: 2.677e+06, tolerance: 1.407e+03\n",
      "  model = cd_fast.enet_coordinate_descent(\n",
      "/Users/hoon/miniforge3/envs/ML/lib/python3.9/site-packages/sklearn/linear_model/_coordinate_descent.py:647: ConvergenceWarning: Objective did not converge. You might want to increase the number of iterations, check the scale of the features or consider increasing regularisation. Duality gap: 2.580e+06, tolerance: 1.357e+03\n",
      "  model = cd_fast.enet_coordinate_descent(\n",
      "/Users/hoon/miniforge3/envs/ML/lib/python3.9/site-packages/sklearn/linear_model/_coordinate_descent.py:647: ConvergenceWarning: Objective did not converge. You might want to increase the number of iterations, check the scale of the features or consider increasing regularisation. Duality gap: 2.547e+06, tolerance: 1.383e+03\n",
      "  model = cd_fast.enet_coordinate_descent(\n",
      "/Users/hoon/miniforge3/envs/ML/lib/python3.9/site-packages/sklearn/linear_model/_coordinate_descent.py:647: ConvergenceWarning: Objective did not converge. You might want to increase the number of iterations, check the scale of the features or consider increasing regularisation. Duality gap: 1.810e+06, tolerance: 1.282e+03\n",
      "  model = cd_fast.enet_coordinate_descent(\n",
      "/Users/hoon/miniforge3/envs/ML/lib/python3.9/site-packages/sklearn/linear_model/_coordinate_descent.py:647: ConvergenceWarning: Objective did not converge. You might want to increase the number of iterations, check the scale of the features or consider increasing regularisation. Duality gap: 3.120e+04, tolerance: 1.433e+03\n",
      "  model = cd_fast.enet_coordinate_descent(\n",
      "/Users/hoon/miniforge3/envs/ML/lib/python3.9/site-packages/sklearn/linear_model/_coordinate_descent.py:647: ConvergenceWarning: Objective did not converge. You might want to increase the number of iterations, check the scale of the features or consider increasing regularisation. Duality gap: 8.280e+05, tolerance: 1.407e+03\n",
      "  model = cd_fast.enet_coordinate_descent(\n",
      "/Users/hoon/miniforge3/envs/ML/lib/python3.9/site-packages/sklearn/linear_model/_coordinate_descent.py:647: ConvergenceWarning: Objective did not converge. You might want to increase the number of iterations, check the scale of the features or consider increasing regularisation. Duality gap: 1.627e+06, tolerance: 1.357e+03\n",
      "  model = cd_fast.enet_coordinate_descent(\n",
      "/Users/hoon/miniforge3/envs/ML/lib/python3.9/site-packages/sklearn/linear_model/_coordinate_descent.py:647: ConvergenceWarning: Objective did not converge. You might want to increase the number of iterations, check the scale of the features or consider increasing regularisation. Duality gap: 1.360e+05, tolerance: 1.383e+03\n",
      "  model = cd_fast.enet_coordinate_descent(\n",
      "/Users/hoon/miniforge3/envs/ML/lib/python3.9/site-packages/sklearn/linear_model/_coordinate_descent.py:647: ConvergenceWarning: Objective did not converge. You might want to increase the number of iterations, check the scale of the features or consider increasing regularisation. Duality gap: 2.271e+04, tolerance: 1.282e+03\n",
      "  model = cd_fast.enet_coordinate_descent(\n",
      "/Users/hoon/miniforge3/envs/ML/lib/python3.9/site-packages/sklearn/linear_model/_coordinate_descent.py:647: ConvergenceWarning: Objective did not converge. You might want to increase the number of iterations, check the scale of the features or consider increasing regularisation. Duality gap: 3.614e+04, tolerance: 1.433e+03\n",
      "  model = cd_fast.enet_coordinate_descent(\n",
      "/Users/hoon/miniforge3/envs/ML/lib/python3.9/site-packages/sklearn/linear_model/_coordinate_descent.py:647: ConvergenceWarning: Objective did not converge. You might want to increase the number of iterations, check the scale of the features or consider increasing regularisation. Duality gap: 4.277e+04, tolerance: 1.407e+03\n",
      "  model = cd_fast.enet_coordinate_descent(\n",
      "/Users/hoon/miniforge3/envs/ML/lib/python3.9/site-packages/sklearn/linear_model/_coordinate_descent.py:647: ConvergenceWarning: Objective did not converge. You might want to increase the number of iterations, check the scale of the features or consider increasing regularisation. Duality gap: 2.762e+03, tolerance: 1.357e+03\n",
      "  model = cd_fast.enet_coordinate_descent(\n"
     ]
    },
    {
     "name": "stdout",
     "output_type": "stream",
     "text": [
      "Lasso(alpha=0.1)\n"
     ]
    },
    {
     "name": "stderr",
     "output_type": "stream",
     "text": [
      "/Users/hoon/miniforge3/envs/ML/lib/python3.9/site-packages/sklearn/linear_model/_coordinate_descent.py:647: ConvergenceWarning: Objective did not converge. You might want to increase the number of iterations, check the scale of the features or consider increasing regularisation. Duality gap: 1.483e+06, tolerance: 1.716e+03\n",
      "  model = cd_fast.enet_coordinate_descent(\n"
     ]
    }
   ],
   "source": [
    "param = {'alpha':[0.01, 0.1, 1, 10, 100]}\n",
    "\n",
    "model = Lasso()\n",
    "gs= GridSearchCV(estimator=model, param_grid=param, scoring='neg_mean_squared_error',cv=5)\n",
    "\n",
    "gs.fit(dinner_X_train,dinner_y_train)\n",
    "print(gs.best_estimator_)"
   ]
  },
  {
   "cell_type": "code",
   "execution_count": 279,
   "metadata": {},
   "outputs": [
    {
     "name": "stdout",
     "output_type": "stream",
     "text": [
      "훈련 결과 : 0.5915282738733196\n",
      "점검 결과 : 0.49785499714720094\n"
     ]
    },
    {
     "name": "stderr",
     "output_type": "stream",
     "text": [
      "/Users/hoon/miniforge3/envs/ML/lib/python3.9/site-packages/sklearn/linear_model/_coordinate_descent.py:647: ConvergenceWarning: Objective did not converge. You might want to increase the number of iterations, check the scale of the features or consider increasing regularisation. Duality gap: 1.483e+06, tolerance: 1.716e+03\n",
      "  model = cd_fast.enet_coordinate_descent(\n"
     ]
    }
   ],
   "source": [
    "model = Lasso(alpha=0.1)\n",
    "\n",
    "model.fit(dinner_X_train, dinner_y_train)\n",
    "\n",
    "print(\"훈련 결과 : {}\".format(model.score(dinner_X_train, dinner_y_train)))\n",
    "print(\"점검 결과 : {}\".format(model.score(dinner_X_test, dinner_y_test)))"
   ]
  },
  {
   "cell_type": "markdown",
   "metadata": {},
   "source": [
    "### 1. 엘라스틱넷 - 점심"
   ]
  },
  {
   "cell_type": "code",
   "execution_count": 280,
   "metadata": {},
   "outputs": [
    {
     "name": "stderr",
     "output_type": "stream",
     "text": [
      "/Users/hoon/miniforge3/envs/ML/lib/python3.9/site-packages/sklearn/linear_model/_coordinate_descent.py:647: ConvergenceWarning: Objective did not converge. You might want to increase the number of iterations, check the scale of the features or consider increasing regularisation. Duality gap: 2.831e+06, tolerance: 2.958e+03\n",
      "  model = cd_fast.enet_coordinate_descent(\n",
      "/Users/hoon/miniforge3/envs/ML/lib/python3.9/site-packages/sklearn/linear_model/_coordinate_descent.py:647: ConvergenceWarning: Objective did not converge. You might want to increase the number of iterations, check the scale of the features or consider increasing regularisation. Duality gap: 2.722e+06, tolerance: 2.916e+03\n",
      "  model = cd_fast.enet_coordinate_descent(\n",
      "/Users/hoon/miniforge3/envs/ML/lib/python3.9/site-packages/sklearn/linear_model/_coordinate_descent.py:647: ConvergenceWarning: Objective did not converge. You might want to increase the number of iterations, check the scale of the features or consider increasing regularisation. Duality gap: 3.121e+06, tolerance: 2.969e+03\n",
      "  model = cd_fast.enet_coordinate_descent(\n",
      "/Users/hoon/miniforge3/envs/ML/lib/python3.9/site-packages/sklearn/linear_model/_coordinate_descent.py:647: ConvergenceWarning: Objective did not converge. You might want to increase the number of iterations, check the scale of the features or consider increasing regularisation. Duality gap: 2.979e+06, tolerance: 3.010e+03\n",
      "  model = cd_fast.enet_coordinate_descent(\n",
      "/Users/hoon/miniforge3/envs/ML/lib/python3.9/site-packages/sklearn/linear_model/_coordinate_descent.py:647: ConvergenceWarning: Objective did not converge. You might want to increase the number of iterations, check the scale of the features or consider increasing regularisation. Duality gap: 3.007e+06, tolerance: 3.196e+03\n",
      "  model = cd_fast.enet_coordinate_descent(\n",
      "/Users/hoon/miniforge3/envs/ML/lib/python3.9/site-packages/sklearn/linear_model/_coordinate_descent.py:647: ConvergenceWarning: Objective did not converge. You might want to increase the number of iterations, check the scale of the features or consider increasing regularisation. Duality gap: 2.481e+06, tolerance: 2.958e+03\n",
      "  model = cd_fast.enet_coordinate_descent(\n",
      "/Users/hoon/miniforge3/envs/ML/lib/python3.9/site-packages/sklearn/linear_model/_coordinate_descent.py:647: ConvergenceWarning: Objective did not converge. You might want to increase the number of iterations, check the scale of the features or consider increasing regularisation. Duality gap: 3.188e+05, tolerance: 2.916e+03\n",
      "  model = cd_fast.enet_coordinate_descent(\n",
      "/Users/hoon/miniforge3/envs/ML/lib/python3.9/site-packages/sklearn/linear_model/_coordinate_descent.py:647: ConvergenceWarning: Objective did not converge. You might want to increase the number of iterations, check the scale of the features or consider increasing regularisation. Duality gap: 2.145e+06, tolerance: 2.969e+03\n",
      "  model = cd_fast.enet_coordinate_descent(\n",
      "/Users/hoon/miniforge3/envs/ML/lib/python3.9/site-packages/sklearn/linear_model/_coordinate_descent.py:647: ConvergenceWarning: Objective did not converge. You might want to increase the number of iterations, check the scale of the features or consider increasing regularisation. Duality gap: 2.200e+06, tolerance: 3.010e+03\n",
      "  model = cd_fast.enet_coordinate_descent(\n",
      "/Users/hoon/miniforge3/envs/ML/lib/python3.9/site-packages/sklearn/linear_model/_coordinate_descent.py:647: ConvergenceWarning: Objective did not converge. You might want to increase the number of iterations, check the scale of the features or consider increasing regularisation. Duality gap: 2.555e+05, tolerance: 3.196e+03\n",
      "  model = cd_fast.enet_coordinate_descent(\n",
      "/Users/hoon/miniforge3/envs/ML/lib/python3.9/site-packages/sklearn/linear_model/_coordinate_descent.py:647: ConvergenceWarning: Objective did not converge. You might want to increase the number of iterations, check the scale of the features or consider increasing regularisation. Duality gap: 6.718e+05, tolerance: 2.958e+03\n",
      "  model = cd_fast.enet_coordinate_descent(\n",
      "/Users/hoon/miniforge3/envs/ML/lib/python3.9/site-packages/sklearn/linear_model/_coordinate_descent.py:647: ConvergenceWarning: Objective did not converge. You might want to increase the number of iterations, check the scale of the features or consider increasing regularisation. Duality gap: 7.782e+05, tolerance: 2.916e+03\n",
      "  model = cd_fast.enet_coordinate_descent(\n",
      "/Users/hoon/miniforge3/envs/ML/lib/python3.9/site-packages/sklearn/linear_model/_coordinate_descent.py:647: ConvergenceWarning: Objective did not converge. You might want to increase the number of iterations, check the scale of the features or consider increasing regularisation. Duality gap: 5.386e+05, tolerance: 2.969e+03\n",
      "  model = cd_fast.enet_coordinate_descent(\n",
      "/Users/hoon/miniforge3/envs/ML/lib/python3.9/site-packages/sklearn/linear_model/_coordinate_descent.py:647: ConvergenceWarning: Objective did not converge. You might want to increase the number of iterations, check the scale of the features or consider increasing regularisation. Duality gap: 7.298e+05, tolerance: 3.010e+03\n",
      "  model = cd_fast.enet_coordinate_descent(\n",
      "/Users/hoon/miniforge3/envs/ML/lib/python3.9/site-packages/sklearn/linear_model/_coordinate_descent.py:647: ConvergenceWarning: Objective did not converge. You might want to increase the number of iterations, check the scale of the features or consider increasing regularisation. Duality gap: 7.911e+05, tolerance: 3.196e+03\n",
      "  model = cd_fast.enet_coordinate_descent(\n",
      "/Users/hoon/miniforge3/envs/ML/lib/python3.9/site-packages/sklearn/linear_model/_coordinate_descent.py:647: ConvergenceWarning: Objective did not converge. You might want to increase the number of iterations, check the scale of the features or consider increasing regularisation. Duality gap: 4.552e+05, tolerance: 2.958e+03\n",
      "  model = cd_fast.enet_coordinate_descent(\n",
      "/Users/hoon/miniforge3/envs/ML/lib/python3.9/site-packages/sklearn/linear_model/_coordinate_descent.py:647: ConvergenceWarning: Objective did not converge. You might want to increase the number of iterations, check the scale of the features or consider increasing regularisation. Duality gap: 5.186e+05, tolerance: 2.916e+03\n",
      "  model = cd_fast.enet_coordinate_descent(\n",
      "/Users/hoon/miniforge3/envs/ML/lib/python3.9/site-packages/sklearn/linear_model/_coordinate_descent.py:647: ConvergenceWarning: Objective did not converge. You might want to increase the number of iterations, check the scale of the features or consider increasing regularisation. Duality gap: 3.635e+05, tolerance: 2.969e+03\n",
      "  model = cd_fast.enet_coordinate_descent(\n",
      "/Users/hoon/miniforge3/envs/ML/lib/python3.9/site-packages/sklearn/linear_model/_coordinate_descent.py:647: ConvergenceWarning: Objective did not converge. You might want to increase the number of iterations, check the scale of the features or consider increasing regularisation. Duality gap: 5.058e+05, tolerance: 3.010e+03\n",
      "  model = cd_fast.enet_coordinate_descent(\n",
      "/Users/hoon/miniforge3/envs/ML/lib/python3.9/site-packages/sklearn/linear_model/_coordinate_descent.py:647: ConvergenceWarning: Objective did not converge. You might want to increase the number of iterations, check the scale of the features or consider increasing regularisation. Duality gap: 5.448e+05, tolerance: 3.196e+03\n",
      "  model = cd_fast.enet_coordinate_descent(\n"
     ]
    },
    {
     "name": "stdout",
     "output_type": "stream",
     "text": [
      "ElasticNet(alpha=0.01)\n"
     ]
    },
    {
     "name": "stderr",
     "output_type": "stream",
     "text": [
      "/Users/hoon/miniforge3/envs/ML/lib/python3.9/site-packages/sklearn/linear_model/_coordinate_descent.py:647: ConvergenceWarning: Objective did not converge. You might want to increase the number of iterations, check the scale of the features or consider increasing regularisation. Duality gap: 3.739e+06, tolerance: 3.763e+03\n",
      "  model = cd_fast.enet_coordinate_descent(\n"
     ]
    }
   ],
   "source": [
    "param = {'alpha':[0.01, 0.1, 1, 10, 100]}\n",
    "\n",
    "model = ElasticNet()\n",
    "gs= GridSearchCV(estimator=model, param_grid=param, scoring='neg_mean_squared_error',cv=5)\n",
    "\n",
    "gs.fit(lunch_X_train,lunch_y_train)\n",
    "print(gs.best_estimator_)"
   ]
  },
  {
   "cell_type": "code",
   "execution_count": 281,
   "metadata": {},
   "outputs": [
    {
     "name": "stdout",
     "output_type": "stream",
     "text": [
      "훈련 결과 : 0.8068362251560386\n",
      "점검 결과 : 0.8215253825745953\n"
     ]
    },
    {
     "name": "stderr",
     "output_type": "stream",
     "text": [
      "/Users/hoon/miniforge3/envs/ML/lib/python3.9/site-packages/sklearn/linear_model/_coordinate_descent.py:647: ConvergenceWarning: Objective did not converge. You might want to increase the number of iterations, check the scale of the features or consider increasing regularisation. Duality gap: 3.739e+06, tolerance: 3.763e+03\n",
      "  model = cd_fast.enet_coordinate_descent(\n"
     ]
    }
   ],
   "source": [
    "model = ElasticNet(alpha=0.01)\n",
    "\n",
    "model.fit(lunch_X_train, lunch_y_train)\n",
    "\n",
    "print(\"훈련 결과 : {}\".format(model.score(lunch_X_train, lunch_y_train)))\n",
    "print(\"점검 결과 : {}\".format(model.score(lunch_X_test, lunch_y_test)))"
   ]
  },
  {
   "cell_type": "markdown",
   "metadata": {},
   "source": [
    "### 2. 릿지 - 저녁"
   ]
  },
  {
   "cell_type": "code",
   "execution_count": 282,
   "metadata": {},
   "outputs": [
    {
     "name": "stderr",
     "output_type": "stream",
     "text": [
      "/Users/hoon/miniforge3/envs/ML/lib/python3.9/site-packages/sklearn/linear_model/_coordinate_descent.py:647: ConvergenceWarning: Objective did not converge. You might want to increase the number of iterations, check the scale of the features or consider increasing regularisation. Duality gap: 2.582e+06, tolerance: 1.282e+03\n",
      "  model = cd_fast.enet_coordinate_descent(\n",
      "/Users/hoon/miniforge3/envs/ML/lib/python3.9/site-packages/sklearn/linear_model/_coordinate_descent.py:647: ConvergenceWarning: Objective did not converge. You might want to increase the number of iterations, check the scale of the features or consider increasing regularisation. Duality gap: 2.677e+06, tolerance: 1.433e+03\n",
      "  model = cd_fast.enet_coordinate_descent(\n",
      "/Users/hoon/miniforge3/envs/ML/lib/python3.9/site-packages/sklearn/linear_model/_coordinate_descent.py:647: ConvergenceWarning: Objective did not converge. You might want to increase the number of iterations, check the scale of the features or consider increasing regularisation. Duality gap: 2.846e+06, tolerance: 1.407e+03\n",
      "  model = cd_fast.enet_coordinate_descent(\n",
      "/Users/hoon/miniforge3/envs/ML/lib/python3.9/site-packages/sklearn/linear_model/_coordinate_descent.py:647: ConvergenceWarning: Objective did not converge. You might want to increase the number of iterations, check the scale of the features or consider increasing regularisation. Duality gap: 2.692e+06, tolerance: 1.357e+03\n",
      "  model = cd_fast.enet_coordinate_descent(\n",
      "/Users/hoon/miniforge3/envs/ML/lib/python3.9/site-packages/sklearn/linear_model/_coordinate_descent.py:647: ConvergenceWarning: Objective did not converge. You might want to increase the number of iterations, check the scale of the features or consider increasing regularisation. Duality gap: 2.780e+06, tolerance: 1.383e+03\n",
      "  model = cd_fast.enet_coordinate_descent(\n",
      "/Users/hoon/miniforge3/envs/ML/lib/python3.9/site-packages/sklearn/linear_model/_coordinate_descent.py:647: ConvergenceWarning: Objective did not converge. You might want to increase the number of iterations, check the scale of the features or consider increasing regularisation. Duality gap: 2.598e+06, tolerance: 1.282e+03\n",
      "  model = cd_fast.enet_coordinate_descent(\n",
      "/Users/hoon/miniforge3/envs/ML/lib/python3.9/site-packages/sklearn/linear_model/_coordinate_descent.py:647: ConvergenceWarning: Objective did not converge. You might want to increase the number of iterations, check the scale of the features or consider increasing regularisation. Duality gap: 2.690e+06, tolerance: 1.433e+03\n",
      "  model = cd_fast.enet_coordinate_descent(\n",
      "/Users/hoon/miniforge3/envs/ML/lib/python3.9/site-packages/sklearn/linear_model/_coordinate_descent.py:647: ConvergenceWarning: Objective did not converge. You might want to increase the number of iterations, check the scale of the features or consider increasing regularisation. Duality gap: 2.807e+06, tolerance: 1.407e+03\n",
      "  model = cd_fast.enet_coordinate_descent(\n",
      "/Users/hoon/miniforge3/envs/ML/lib/python3.9/site-packages/sklearn/linear_model/_coordinate_descent.py:647: ConvergenceWarning: Objective did not converge. You might want to increase the number of iterations, check the scale of the features or consider increasing regularisation. Duality gap: 2.709e+06, tolerance: 1.357e+03\n",
      "  model = cd_fast.enet_coordinate_descent(\n",
      "/Users/hoon/miniforge3/envs/ML/lib/python3.9/site-packages/sklearn/linear_model/_coordinate_descent.py:647: ConvergenceWarning: Objective did not converge. You might want to increase the number of iterations, check the scale of the features or consider increasing regularisation. Duality gap: 2.529e+06, tolerance: 1.383e+03\n",
      "  model = cd_fast.enet_coordinate_descent(\n",
      "/Users/hoon/miniforge3/envs/ML/lib/python3.9/site-packages/sklearn/linear_model/_coordinate_descent.py:647: ConvergenceWarning: Objective did not converge. You might want to increase the number of iterations, check the scale of the features or consider increasing regularisation. Duality gap: 2.203e+05, tolerance: 1.282e+03\n",
      "  model = cd_fast.enet_coordinate_descent(\n",
      "/Users/hoon/miniforge3/envs/ML/lib/python3.9/site-packages/sklearn/linear_model/_coordinate_descent.py:647: ConvergenceWarning: Objective did not converge. You might want to increase the number of iterations, check the scale of the features or consider increasing regularisation. Duality gap: 4.661e+05, tolerance: 1.433e+03\n",
      "  model = cd_fast.enet_coordinate_descent(\n",
      "/Users/hoon/miniforge3/envs/ML/lib/python3.9/site-packages/sklearn/linear_model/_coordinate_descent.py:647: ConvergenceWarning: Objective did not converge. You might want to increase the number of iterations, check the scale of the features or consider increasing regularisation. Duality gap: 5.374e+05, tolerance: 1.407e+03\n",
      "  model = cd_fast.enet_coordinate_descent(\n",
      "/Users/hoon/miniforge3/envs/ML/lib/python3.9/site-packages/sklearn/linear_model/_coordinate_descent.py:647: ConvergenceWarning: Objective did not converge. You might want to increase the number of iterations, check the scale of the features or consider increasing regularisation. Duality gap: 7.388e+05, tolerance: 1.357e+03\n",
      "  model = cd_fast.enet_coordinate_descent(\n",
      "/Users/hoon/miniforge3/envs/ML/lib/python3.9/site-packages/sklearn/linear_model/_coordinate_descent.py:647: ConvergenceWarning: Objective did not converge. You might want to increase the number of iterations, check the scale of the features or consider increasing regularisation. Duality gap: 1.210e+06, tolerance: 1.383e+03\n",
      "  model = cd_fast.enet_coordinate_descent(\n",
      "/Users/hoon/miniforge3/envs/ML/lib/python3.9/site-packages/sklearn/linear_model/_coordinate_descent.py:647: ConvergenceWarning: Objective did not converge. You might want to increase the number of iterations, check the scale of the features or consider increasing regularisation. Duality gap: 5.709e+05, tolerance: 1.282e+03\n",
      "  model = cd_fast.enet_coordinate_descent(\n",
      "/Users/hoon/miniforge3/envs/ML/lib/python3.9/site-packages/sklearn/linear_model/_coordinate_descent.py:647: ConvergenceWarning: Objective did not converge. You might want to increase the number of iterations, check the scale of the features or consider increasing regularisation. Duality gap: 7.788e+05, tolerance: 1.433e+03\n",
      "  model = cd_fast.enet_coordinate_descent(\n",
      "/Users/hoon/miniforge3/envs/ML/lib/python3.9/site-packages/sklearn/linear_model/_coordinate_descent.py:647: ConvergenceWarning: Objective did not converge. You might want to increase the number of iterations, check the scale of the features or consider increasing regularisation. Duality gap: 7.412e+05, tolerance: 1.407e+03\n",
      "  model = cd_fast.enet_coordinate_descent(\n",
      "/Users/hoon/miniforge3/envs/ML/lib/python3.9/site-packages/sklearn/linear_model/_coordinate_descent.py:647: ConvergenceWarning: Objective did not converge. You might want to increase the number of iterations, check the scale of the features or consider increasing regularisation. Duality gap: 7.230e+05, tolerance: 1.357e+03\n",
      "  model = cd_fast.enet_coordinate_descent(\n",
      "/Users/hoon/miniforge3/envs/ML/lib/python3.9/site-packages/sklearn/linear_model/_coordinate_descent.py:647: ConvergenceWarning: Objective did not converge. You might want to increase the number of iterations, check the scale of the features or consider increasing regularisation. Duality gap: 7.591e+05, tolerance: 1.383e+03\n",
      "  model = cd_fast.enet_coordinate_descent(\n"
     ]
    },
    {
     "name": "stdout",
     "output_type": "stream",
     "text": [
      "ElasticNet(alpha=0.01)\n"
     ]
    },
    {
     "name": "stderr",
     "output_type": "stream",
     "text": [
      "/Users/hoon/miniforge3/envs/ML/lib/python3.9/site-packages/sklearn/linear_model/_coordinate_descent.py:647: ConvergenceWarning: Objective did not converge. You might want to increase the number of iterations, check the scale of the features or consider increasing regularisation. Duality gap: 3.472e+06, tolerance: 1.716e+03\n",
      "  model = cd_fast.enet_coordinate_descent(\n"
     ]
    }
   ],
   "source": [
    "param = {'alpha':[0.005, 0.01, 0.1, 1, 10, 100]}\n",
    "\n",
    "model = ElasticNet()\n",
    "gs= GridSearchCV(estimator=model, param_grid=param, scoring='neg_mean_squared_error',cv=5)\n",
    "\n",
    "gs.fit(dinner_X_train,dinner_y_train)\n",
    "print(gs.best_estimator_)"
   ]
  },
  {
   "cell_type": "code",
   "execution_count": 283,
   "metadata": {},
   "outputs": [
    {
     "name": "stdout",
     "output_type": "stream",
     "text": [
      "훈련 결과 : 0.5925658313245357\n",
      "점검 결과 : 0.48988364101805504\n"
     ]
    }
   ],
   "source": [
    "model = Ridge(alpha=0.01)\n",
    "\n",
    "model.fit(dinner_X_train, dinner_y_train)\n",
    "\n",
    "print(\"훈련 결과 : {}\".format(model.score(dinner_X_train, dinner_y_train)))\n",
    "print(\"점검 결과 : {}\".format(model.score(dinner_X_test, dinner_y_test)))"
   ]
  },
  {
   "cell_type": "markdown",
   "metadata": {},
   "source": [
    "## 6. KFold, Cross_val_score로 XGBoost Modeling"
   ]
  },
  {
   "cell_type": "markdown",
   "metadata": {},
   "source": [
    "### 1. data"
   ]
  },
  {
   "cell_type": "code",
   "execution_count": 54,
   "metadata": {},
   "outputs": [],
   "source": [
    "def split_lunch(data):\n",
    "    data_train = data.drop([\"lunch_number\", \"datetime\"], axis = \"columns\")\n",
    "    data_target = data.loc[:, 'lunch_number']\n",
    "    times = ['year', 'month', 'date']\n",
    "    for col in times:\n",
    "        data_train[col] = data_train[col].astype('category')\n",
    "    data_train = pd.get_dummies(data_train)\n",
    "\n",
    "    return data_train, data_target\n",
    "\n",
    "def split_dinner(data):\n",
    "    data_train = data.drop([\"dinner_number\", \"datetime\"], axis = \"columns\")\n",
    "    data_target = data.loc[:, 'dinner_number']\n",
    "    times = ['year', 'month', 'date']\n",
    "    for col in times:\n",
    "        data_train[col] = data_train[col].astype('category')\n",
    "    data_train = pd.get_dummies(data_train)\n",
    "\n",
    "    return data_train, data_target"
   ]
  },
  {
   "cell_type": "code",
   "execution_count": 55,
   "metadata": {},
   "outputs": [],
   "source": [
    "lunch = pd.read_csv(\"data/lunch_df_encoding.csv\")\n",
    "dinner = pd.read_csv(\"data/dinner_df_encoding.csv\")\n",
    "\n",
    "lunch_train, lunch_target = split_lunch(lunch)\n",
    "dinner_train, dinner_target = split_dinner(dinner)"
   ]
  },
  {
   "cell_type": "markdown",
   "metadata": {},
   "source": [
    "### 2. KFold & corss_val_score"
   ]
  },
  {
   "cell_type": "code",
   "execution_count": 57,
   "metadata": {},
   "outputs": [
    {
     "name": "stdout",
     "output_type": "stream",
     "text": [
      "[-7451.70953704 -8653.17292525 -9201.43070975 -6424.63335683\n",
      " -7204.93478234 -7378.33044376 -8299.87735814 -6881.57728521\n",
      " -8229.78757914 -8126.36244131]\n"
     ]
    },
    {
     "data": {
      "text/plain": [
       "-778518.16"
      ]
     },
     "execution_count": 57,
     "metadata": {},
     "output_type": "execute_result"
    }
   ],
   "source": [
    "kfold = KFold(n_splits=10, shuffle=True)\n",
    "\n",
    "xgbr_lunch = XGBRegressor(n_estimators=300, colsample_bylevel=1, learning_rate=0.1, colsample_bytree=1, max_depth=2)\n",
    "scores = cross_val_score(xgbr_lunch, lunch_train, lunch_target, cv=kfold, scoring=\"neg_mean_squared_error\")\n",
    "print(scores)\n",
    "round(np.mean(scores)*100, 2)"
   ]
  },
  {
   "cell_type": "code",
   "execution_count": 58,
   "metadata": {},
   "outputs": [
    {
     "name": "stdout",
     "output_type": "stream",
     "text": [
      "[ -8068.26106854  -6060.29626615  -6240.03481917  -9736.91774656\n",
      "  -8266.40857475  -6998.30098837  -6457.50156301  -8097.53875402\n",
      " -10713.85159381  -7605.32372466]\n"
     ]
    },
    {
     "data": {
      "text/plain": [
       "-782444.35"
      ]
     },
     "execution_count": 58,
     "metadata": {},
     "output_type": "execute_result"
    }
   ],
   "source": [
    "kfold = KFold(n_splits=10, shuffle=True)\n",
    "\n",
    "xgbr_dinner = XGBRegressor(n_estimators=300, colsample_bylevel=0.7, learning_rate=0.1, colsample_bytree=0.7, max_depth=4)\n",
    "scores = cross_val_score(xgbr_dinner, dinner_train, dinner_target, cv=kfold, scoring=\"neg_mean_squared_error\")\n",
    "print(scores)\n",
    "round(np.mean(scores)*100, 2)"
   ]
  },
  {
   "cell_type": "markdown",
   "metadata": {},
   "source": [
    "### 3. Test-data"
   ]
  },
  {
   "cell_type": "code",
   "execution_count": 59,
   "metadata": {},
   "outputs": [],
   "source": [
    "def split_forecast(data):\n",
    "    data = data.drop(\"datetime\", axis = \"columns\")\n",
    "    \n",
    "    times = ['year', 'month', 'date']\n",
    "    for col in times:\n",
    "        data[col] = data[col].astype('category')\n",
    "    \n",
    "    data = pd.get_dummies(data)\n",
    "\n",
    "    return data\n",
    "\n",
    "def equal_columns(train, forecast):\n",
    "    onehot_list = train.columns\n",
    "    for c in onehot_list:\n",
    "        if c not in forecast.columns:\n",
    "            forecast[c] = 0\n",
    "\n",
    "    data = forecast.loc[:, train.columns]\n",
    "\n",
    "    return data"
   ]
  },
  {
   "cell_type": "code",
   "execution_count": 60,
   "metadata": {},
   "outputs": [],
   "source": [
    "#### lunch\n",
    "df = pd.read_csv(\"data/lunch_test_encoding.csv\")\n",
    "\n",
    "df = split_forecast(df)\n",
    "lunch_forecast = equal_columns(lunch_train, df)"
   ]
  },
  {
   "cell_type": "code",
   "execution_count": 61,
   "metadata": {},
   "outputs": [],
   "source": [
    "#### dinner\n",
    "\n",
    "df = pd.read_csv(\"data/dinner_test_encoding.csv\")\n",
    "\n",
    "df = split_forecast(df)\n",
    "dinner_forecast = equal_columns(dinner_train, df)"
   ]
  },
  {
   "cell_type": "markdown",
   "metadata": {},
   "source": [
    "## 4. Predict"
   ]
  },
  {
   "cell_type": "code",
   "execution_count": 62,
   "metadata": {},
   "outputs": [
    {
     "data": {
      "text/html": [
       "<div>\n",
       "<style scoped>\n",
       "    .dataframe tbody tr th:only-of-type {\n",
       "        vertical-align: middle;\n",
       "    }\n",
       "\n",
       "    .dataframe tbody tr th {\n",
       "        vertical-align: top;\n",
       "    }\n",
       "\n",
       "    .dataframe thead th {\n",
       "        text-align: right;\n",
       "    }\n",
       "</style>\n",
       "<table border=\"1\" class=\"dataframe\">\n",
       "  <thead>\n",
       "    <tr style=\"text-align: right;\">\n",
       "      <th></th>\n",
       "      <th>0</th>\n",
       "    </tr>\n",
       "  </thead>\n",
       "  <tbody>\n",
       "    <tr>\n",
       "      <th>0</th>\n",
       "      <td>1029.781616</td>\n",
       "    </tr>\n",
       "    <tr>\n",
       "      <th>1</th>\n",
       "      <td>937.481628</td>\n",
       "    </tr>\n",
       "    <tr>\n",
       "      <th>2</th>\n",
       "      <td>749.427856</td>\n",
       "    </tr>\n",
       "    <tr>\n",
       "      <th>3</th>\n",
       "      <td>1285.755737</td>\n",
       "    </tr>\n",
       "    <tr>\n",
       "      <th>4</th>\n",
       "      <td>1083.098145</td>\n",
       "    </tr>\n",
       "    <tr>\n",
       "      <th>5</th>\n",
       "      <td>967.697144</td>\n",
       "    </tr>\n",
       "    <tr>\n",
       "      <th>6</th>\n",
       "      <td>988.964111</td>\n",
       "    </tr>\n",
       "    <tr>\n",
       "      <th>7</th>\n",
       "      <td>711.650024</td>\n",
       "    </tr>\n",
       "    <tr>\n",
       "      <th>8</th>\n",
       "      <td>1314.591553</td>\n",
       "    </tr>\n",
       "    <tr>\n",
       "      <th>9</th>\n",
       "      <td>1079.361450</td>\n",
       "    </tr>\n",
       "    <tr>\n",
       "      <th>10</th>\n",
       "      <td>794.641785</td>\n",
       "    </tr>\n",
       "    <tr>\n",
       "      <th>11</th>\n",
       "      <td>1311.749512</td>\n",
       "    </tr>\n",
       "    <tr>\n",
       "      <th>12</th>\n",
       "      <td>1140.272827</td>\n",
       "    </tr>\n",
       "    <tr>\n",
       "      <th>13</th>\n",
       "      <td>1112.795410</td>\n",
       "    </tr>\n",
       "    <tr>\n",
       "      <th>14</th>\n",
       "      <td>956.702454</td>\n",
       "    </tr>\n",
       "    <tr>\n",
       "      <th>15</th>\n",
       "      <td>688.962097</td>\n",
       "    </tr>\n",
       "    <tr>\n",
       "      <th>16</th>\n",
       "      <td>1262.672241</td>\n",
       "    </tr>\n",
       "    <tr>\n",
       "      <th>17</th>\n",
       "      <td>1033.135986</td>\n",
       "    </tr>\n",
       "    <tr>\n",
       "      <th>18</th>\n",
       "      <td>906.887085</td>\n",
       "    </tr>\n",
       "    <tr>\n",
       "      <th>19</th>\n",
       "      <td>860.670288</td>\n",
       "    </tr>\n",
       "    <tr>\n",
       "      <th>20</th>\n",
       "      <td>613.262756</td>\n",
       "    </tr>\n",
       "    <tr>\n",
       "      <th>21</th>\n",
       "      <td>1061.590454</td>\n",
       "    </tr>\n",
       "    <tr>\n",
       "      <th>22</th>\n",
       "      <td>1021.750183</td>\n",
       "    </tr>\n",
       "    <tr>\n",
       "      <th>23</th>\n",
       "      <td>918.514648</td>\n",
       "    </tr>\n",
       "    <tr>\n",
       "      <th>24</th>\n",
       "      <td>701.683533</td>\n",
       "    </tr>\n",
       "    <tr>\n",
       "      <th>25</th>\n",
       "      <td>1327.437256</td>\n",
       "    </tr>\n",
       "    <tr>\n",
       "      <th>26</th>\n",
       "      <td>1144.179810</td>\n",
       "    </tr>\n",
       "    <tr>\n",
       "      <th>27</th>\n",
       "      <td>1024.355591</td>\n",
       "    </tr>\n",
       "    <tr>\n",
       "      <th>28</th>\n",
       "      <td>905.451904</td>\n",
       "    </tr>\n",
       "    <tr>\n",
       "      <th>29</th>\n",
       "      <td>741.499268</td>\n",
       "    </tr>\n",
       "    <tr>\n",
       "      <th>30</th>\n",
       "      <td>1270.403687</td>\n",
       "    </tr>\n",
       "    <tr>\n",
       "      <th>31</th>\n",
       "      <td>1050.031494</td>\n",
       "    </tr>\n",
       "    <tr>\n",
       "      <th>32</th>\n",
       "      <td>1035.607788</td>\n",
       "    </tr>\n",
       "    <tr>\n",
       "      <th>33</th>\n",
       "      <td>897.720642</td>\n",
       "    </tr>\n",
       "    <tr>\n",
       "      <th>34</th>\n",
       "      <td>679.408997</td>\n",
       "    </tr>\n",
       "    <tr>\n",
       "      <th>35</th>\n",
       "      <td>1267.640625</td>\n",
       "    </tr>\n",
       "    <tr>\n",
       "      <th>36</th>\n",
       "      <td>1023.833435</td>\n",
       "    </tr>\n",
       "    <tr>\n",
       "      <th>37</th>\n",
       "      <td>908.377197</td>\n",
       "    </tr>\n",
       "    <tr>\n",
       "      <th>38</th>\n",
       "      <td>824.840759</td>\n",
       "    </tr>\n",
       "    <tr>\n",
       "      <th>39</th>\n",
       "      <td>633.085144</td>\n",
       "    </tr>\n",
       "    <tr>\n",
       "      <th>40</th>\n",
       "      <td>1259.915283</td>\n",
       "    </tr>\n",
       "    <tr>\n",
       "      <th>41</th>\n",
       "      <td>1054.552734</td>\n",
       "    </tr>\n",
       "    <tr>\n",
       "      <th>42</th>\n",
       "      <td>968.627563</td>\n",
       "    </tr>\n",
       "    <tr>\n",
       "      <th>43</th>\n",
       "      <td>822.108765</td>\n",
       "    </tr>\n",
       "    <tr>\n",
       "      <th>44</th>\n",
       "      <td>622.931641</td>\n",
       "    </tr>\n",
       "    <tr>\n",
       "      <th>45</th>\n",
       "      <td>1239.401001</td>\n",
       "    </tr>\n",
       "    <tr>\n",
       "      <th>46</th>\n",
       "      <td>1033.697021</td>\n",
       "    </tr>\n",
       "    <tr>\n",
       "      <th>47</th>\n",
       "      <td>982.295349</td>\n",
       "    </tr>\n",
       "    <tr>\n",
       "      <th>48</th>\n",
       "      <td>890.496582</td>\n",
       "    </tr>\n",
       "    <tr>\n",
       "      <th>49</th>\n",
       "      <td>610.529236</td>\n",
       "    </tr>\n",
       "  </tbody>\n",
       "</table>\n",
       "</div>"
      ],
      "text/plain": [
       "              0\n",
       "0   1029.781616\n",
       "1    937.481628\n",
       "2    749.427856\n",
       "3   1285.755737\n",
       "4   1083.098145\n",
       "5    967.697144\n",
       "6    988.964111\n",
       "7    711.650024\n",
       "8   1314.591553\n",
       "9   1079.361450\n",
       "10   794.641785\n",
       "11  1311.749512\n",
       "12  1140.272827\n",
       "13  1112.795410\n",
       "14   956.702454\n",
       "15   688.962097\n",
       "16  1262.672241\n",
       "17  1033.135986\n",
       "18   906.887085\n",
       "19   860.670288\n",
       "20   613.262756\n",
       "21  1061.590454\n",
       "22  1021.750183\n",
       "23   918.514648\n",
       "24   701.683533\n",
       "25  1327.437256\n",
       "26  1144.179810\n",
       "27  1024.355591\n",
       "28   905.451904\n",
       "29   741.499268\n",
       "30  1270.403687\n",
       "31  1050.031494\n",
       "32  1035.607788\n",
       "33   897.720642\n",
       "34   679.408997\n",
       "35  1267.640625\n",
       "36  1023.833435\n",
       "37   908.377197\n",
       "38   824.840759\n",
       "39   633.085144\n",
       "40  1259.915283\n",
       "41  1054.552734\n",
       "42   968.627563\n",
       "43   822.108765\n",
       "44   622.931641\n",
       "45  1239.401001\n",
       "46  1033.697021\n",
       "47   982.295349\n",
       "48   890.496582\n",
       "49   610.529236"
      ]
     },
     "execution_count": 62,
     "metadata": {},
     "output_type": "execute_result"
    }
   ],
   "source": [
    "#### lunch\n",
    "\n",
    "xgbr_lunch.fit(lunch_train, lunch_target)\n",
    "lunch_forecast = xgbr_lunch.predict(lunch_forecast)\n",
    "lunch_forecast = pd.DataFrame(lunch_forecast)\n",
    "lunch_forecast"
   ]
  },
  {
   "cell_type": "code",
   "execution_count": 63,
   "metadata": {},
   "outputs": [
    {
     "data": {
      "text/html": [
       "<div>\n",
       "<style scoped>\n",
       "    .dataframe tbody tr th:only-of-type {\n",
       "        vertical-align: middle;\n",
       "    }\n",
       "\n",
       "    .dataframe tbody tr th {\n",
       "        vertical-align: top;\n",
       "    }\n",
       "\n",
       "    .dataframe thead th {\n",
       "        text-align: right;\n",
       "    }\n",
       "</style>\n",
       "<table border=\"1\" class=\"dataframe\">\n",
       "  <thead>\n",
       "    <tr style=\"text-align: right;\">\n",
       "      <th></th>\n",
       "      <th>0</th>\n",
       "    </tr>\n",
       "  </thead>\n",
       "  <tbody>\n",
       "    <tr>\n",
       "      <th>0</th>\n",
       "      <td>250.138245</td>\n",
       "    </tr>\n",
       "    <tr>\n",
       "      <th>1</th>\n",
       "      <td>425.636963</td>\n",
       "    </tr>\n",
       "    <tr>\n",
       "      <th>2</th>\n",
       "      <td>175.367050</td>\n",
       "    </tr>\n",
       "    <tr>\n",
       "      <th>3</th>\n",
       "      <td>573.584961</td>\n",
       "    </tr>\n",
       "    <tr>\n",
       "      <th>4</th>\n",
       "      <td>485.291351</td>\n",
       "    </tr>\n",
       "    <tr>\n",
       "      <th>5</th>\n",
       "      <td>388.156189</td>\n",
       "    </tr>\n",
       "    <tr>\n",
       "      <th>6</th>\n",
       "      <td>488.630310</td>\n",
       "    </tr>\n",
       "    <tr>\n",
       "      <th>7</th>\n",
       "      <td>387.139313</td>\n",
       "    </tr>\n",
       "    <tr>\n",
       "      <th>8</th>\n",
       "      <td>666.938232</td>\n",
       "    </tr>\n",
       "    <tr>\n",
       "      <th>9</th>\n",
       "      <td>545.182922</td>\n",
       "    </tr>\n",
       "    <tr>\n",
       "      <th>10</th>\n",
       "      <td>185.126053</td>\n",
       "    </tr>\n",
       "    <tr>\n",
       "      <th>11</th>\n",
       "      <td>698.047607</td>\n",
       "    </tr>\n",
       "    <tr>\n",
       "      <th>12</th>\n",
       "      <td>663.400879</td>\n",
       "    </tr>\n",
       "    <tr>\n",
       "      <th>13</th>\n",
       "      <td>403.056671</td>\n",
       "    </tr>\n",
       "    <tr>\n",
       "      <th>14</th>\n",
       "      <td>544.970337</td>\n",
       "    </tr>\n",
       "    <tr>\n",
       "      <th>15</th>\n",
       "      <td>363.941559</td>\n",
       "    </tr>\n",
       "    <tr>\n",
       "      <th>16</th>\n",
       "      <td>635.533752</td>\n",
       "    </tr>\n",
       "    <tr>\n",
       "      <th>17</th>\n",
       "      <td>607.606689</td>\n",
       "    </tr>\n",
       "    <tr>\n",
       "      <th>18</th>\n",
       "      <td>380.579956</td>\n",
       "    </tr>\n",
       "    <tr>\n",
       "      <th>19</th>\n",
       "      <td>485.305756</td>\n",
       "    </tr>\n",
       "    <tr>\n",
       "      <th>20</th>\n",
       "      <td>199.257172</td>\n",
       "    </tr>\n",
       "    <tr>\n",
       "      <th>21</th>\n",
       "      <td>638.343201</td>\n",
       "    </tr>\n",
       "    <tr>\n",
       "      <th>22</th>\n",
       "      <td>449.364838</td>\n",
       "    </tr>\n",
       "    <tr>\n",
       "      <th>23</th>\n",
       "      <td>531.125977</td>\n",
       "    </tr>\n",
       "    <tr>\n",
       "      <th>24</th>\n",
       "      <td>382.811279</td>\n",
       "    </tr>\n",
       "    <tr>\n",
       "      <th>25</th>\n",
       "      <td>724.549622</td>\n",
       "    </tr>\n",
       "    <tr>\n",
       "      <th>26</th>\n",
       "      <td>697.670105</td>\n",
       "    </tr>\n",
       "    <tr>\n",
       "      <th>27</th>\n",
       "      <td>439.835663</td>\n",
       "    </tr>\n",
       "    <tr>\n",
       "      <th>28</th>\n",
       "      <td>530.516296</td>\n",
       "    </tr>\n",
       "    <tr>\n",
       "      <th>29</th>\n",
       "      <td>307.595032</td>\n",
       "    </tr>\n",
       "    <tr>\n",
       "      <th>30</th>\n",
       "      <td>701.483276</td>\n",
       "    </tr>\n",
       "    <tr>\n",
       "      <th>31</th>\n",
       "      <td>606.270752</td>\n",
       "    </tr>\n",
       "    <tr>\n",
       "      <th>32</th>\n",
       "      <td>403.722290</td>\n",
       "    </tr>\n",
       "    <tr>\n",
       "      <th>33</th>\n",
       "      <td>509.836548</td>\n",
       "    </tr>\n",
       "    <tr>\n",
       "      <th>34</th>\n",
       "      <td>332.369080</td>\n",
       "    </tr>\n",
       "    <tr>\n",
       "      <th>35</th>\n",
       "      <td>583.453979</td>\n",
       "    </tr>\n",
       "    <tr>\n",
       "      <th>36</th>\n",
       "      <td>584.888611</td>\n",
       "    </tr>\n",
       "    <tr>\n",
       "      <th>37</th>\n",
       "      <td>413.805359</td>\n",
       "    </tr>\n",
       "    <tr>\n",
       "      <th>38</th>\n",
       "      <td>476.952637</td>\n",
       "    </tr>\n",
       "    <tr>\n",
       "      <th>39</th>\n",
       "      <td>199.206879</td>\n",
       "    </tr>\n",
       "    <tr>\n",
       "      <th>40</th>\n",
       "      <td>586.235413</td>\n",
       "    </tr>\n",
       "    <tr>\n",
       "      <th>41</th>\n",
       "      <td>563.308289</td>\n",
       "    </tr>\n",
       "    <tr>\n",
       "      <th>42</th>\n",
       "      <td>220.034592</td>\n",
       "    </tr>\n",
       "    <tr>\n",
       "      <th>43</th>\n",
       "      <td>442.579895</td>\n",
       "    </tr>\n",
       "    <tr>\n",
       "      <th>44</th>\n",
       "      <td>311.524719</td>\n",
       "    </tr>\n",
       "    <tr>\n",
       "      <th>45</th>\n",
       "      <td>610.775696</td>\n",
       "    </tr>\n",
       "    <tr>\n",
       "      <th>46</th>\n",
       "      <td>569.243347</td>\n",
       "    </tr>\n",
       "    <tr>\n",
       "      <th>47</th>\n",
       "      <td>403.353394</td>\n",
       "    </tr>\n",
       "    <tr>\n",
       "      <th>48</th>\n",
       "      <td>463.381531</td>\n",
       "    </tr>\n",
       "    <tr>\n",
       "      <th>49</th>\n",
       "      <td>306.762329</td>\n",
       "    </tr>\n",
       "  </tbody>\n",
       "</table>\n",
       "</div>"
      ],
      "text/plain": [
       "             0\n",
       "0   250.138245\n",
       "1   425.636963\n",
       "2   175.367050\n",
       "3   573.584961\n",
       "4   485.291351\n",
       "5   388.156189\n",
       "6   488.630310\n",
       "7   387.139313\n",
       "8   666.938232\n",
       "9   545.182922\n",
       "10  185.126053\n",
       "11  698.047607\n",
       "12  663.400879\n",
       "13  403.056671\n",
       "14  544.970337\n",
       "15  363.941559\n",
       "16  635.533752\n",
       "17  607.606689\n",
       "18  380.579956\n",
       "19  485.305756\n",
       "20  199.257172\n",
       "21  638.343201\n",
       "22  449.364838\n",
       "23  531.125977\n",
       "24  382.811279\n",
       "25  724.549622\n",
       "26  697.670105\n",
       "27  439.835663\n",
       "28  530.516296\n",
       "29  307.595032\n",
       "30  701.483276\n",
       "31  606.270752\n",
       "32  403.722290\n",
       "33  509.836548\n",
       "34  332.369080\n",
       "35  583.453979\n",
       "36  584.888611\n",
       "37  413.805359\n",
       "38  476.952637\n",
       "39  199.206879\n",
       "40  586.235413\n",
       "41  563.308289\n",
       "42  220.034592\n",
       "43  442.579895\n",
       "44  311.524719\n",
       "45  610.775696\n",
       "46  569.243347\n",
       "47  403.353394\n",
       "48  463.381531\n",
       "49  306.762329"
      ]
     },
     "execution_count": 63,
     "metadata": {},
     "output_type": "execute_result"
    }
   ],
   "source": [
    "#### dinner\n",
    "xgbr_dinner.fit(dinner_train, dinner_target)\n",
    "dinner_forecast = xgbr_dinner.predict(dinner_forecast)\n",
    "dinner_forecast = pd.DataFrame(dinner_forecast)\n",
    "dinner_forecast"
   ]
  },
  {
   "cell_type": "code",
   "execution_count": 64,
   "metadata": {},
   "outputs": [],
   "source": [
    "lunch_forecast.columns = ['lunch']\n",
    "dinner_forecast.columns = ['dinner']"
   ]
  },
  {
   "cell_type": "code",
   "execution_count": 65,
   "metadata": {},
   "outputs": [
    {
     "data": {
      "text/html": [
       "<div>\n",
       "<style scoped>\n",
       "    .dataframe tbody tr th:only-of-type {\n",
       "        vertical-align: middle;\n",
       "    }\n",
       "\n",
       "    .dataframe tbody tr th {\n",
       "        vertical-align: top;\n",
       "    }\n",
       "\n",
       "    .dataframe thead th {\n",
       "        text-align: right;\n",
       "    }\n",
       "</style>\n",
       "<table border=\"1\" class=\"dataframe\">\n",
       "  <thead>\n",
       "    <tr style=\"text-align: right;\">\n",
       "      <th></th>\n",
       "      <th>lunch</th>\n",
       "    </tr>\n",
       "  </thead>\n",
       "  <tbody>\n",
       "    <tr>\n",
       "      <th>0</th>\n",
       "      <td>1029.781616</td>\n",
       "    </tr>\n",
       "    <tr>\n",
       "      <th>1</th>\n",
       "      <td>937.481628</td>\n",
       "    </tr>\n",
       "    <tr>\n",
       "      <th>2</th>\n",
       "      <td>749.427856</td>\n",
       "    </tr>\n",
       "    <tr>\n",
       "      <th>3</th>\n",
       "      <td>1285.755737</td>\n",
       "    </tr>\n",
       "    <tr>\n",
       "      <th>4</th>\n",
       "      <td>1083.098145</td>\n",
       "    </tr>\n",
       "  </tbody>\n",
       "</table>\n",
       "</div>"
      ],
      "text/plain": [
       "         lunch\n",
       "0  1029.781616\n",
       "1   937.481628\n",
       "2   749.427856\n",
       "3  1285.755737\n",
       "4  1083.098145"
      ]
     },
     "execution_count": 65,
     "metadata": {},
     "output_type": "execute_result"
    }
   ],
   "source": [
    "lunch_forecast.head()"
   ]
  },
  {
   "cell_type": "code",
   "execution_count": 66,
   "metadata": {},
   "outputs": [
    {
     "data": {
      "text/html": [
       "<div>\n",
       "<style scoped>\n",
       "    .dataframe tbody tr th:only-of-type {\n",
       "        vertical-align: middle;\n",
       "    }\n",
       "\n",
       "    .dataframe tbody tr th {\n",
       "        vertical-align: top;\n",
       "    }\n",
       "\n",
       "    .dataframe thead th {\n",
       "        text-align: right;\n",
       "    }\n",
       "</style>\n",
       "<table border=\"1\" class=\"dataframe\">\n",
       "  <thead>\n",
       "    <tr style=\"text-align: right;\">\n",
       "      <th></th>\n",
       "      <th>dinner</th>\n",
       "    </tr>\n",
       "  </thead>\n",
       "  <tbody>\n",
       "    <tr>\n",
       "      <th>0</th>\n",
       "      <td>250.138245</td>\n",
       "    </tr>\n",
       "    <tr>\n",
       "      <th>1</th>\n",
       "      <td>425.636963</td>\n",
       "    </tr>\n",
       "    <tr>\n",
       "      <th>2</th>\n",
       "      <td>175.367050</td>\n",
       "    </tr>\n",
       "    <tr>\n",
       "      <th>3</th>\n",
       "      <td>573.584961</td>\n",
       "    </tr>\n",
       "    <tr>\n",
       "      <th>4</th>\n",
       "      <td>485.291351</td>\n",
       "    </tr>\n",
       "  </tbody>\n",
       "</table>\n",
       "</div>"
      ],
      "text/plain": [
       "       dinner\n",
       "0  250.138245\n",
       "1  425.636963\n",
       "2  175.367050\n",
       "3  573.584961\n",
       "4  485.291351"
      ]
     },
     "execution_count": 66,
     "metadata": {},
     "output_type": "execute_result"
    }
   ],
   "source": [
    "dinner_forecast.head()"
   ]
  },
  {
   "cell_type": "code",
   "execution_count": 69,
   "metadata": {},
   "outputs": [],
   "source": [
    "lunch_forecast.to_csv(\"data/forecast/lunch.csv\", encoding='utf-8', index=False)\n",
    "dinner_forecast.to_csv(\"data/forecast/dinner.csv\", encoding='utf-8', index=False)"
   ]
  }
 ],
 "metadata": {
  "interpreter": {
   "hash": "476a94dc85aeef50ce38d52ab019ae32fa2a67ff1ac8045d45d38aa23f62cc9d"
  },
  "kernelspec": {
   "display_name": "Python 3.9.7 64-bit ('ML': conda)",
   "language": "python",
   "name": "python3"
  },
  "language_info": {
   "codemirror_mode": {
    "name": "ipython",
    "version": 3
   },
   "file_extension": ".py",
   "mimetype": "text/x-python",
   "name": "python",
   "nbconvert_exporter": "python",
   "pygments_lexer": "ipython3",
   "version": "3.9.7"
  },
  "orig_nbformat": 4
 },
 "nbformat": 4,
 "nbformat_minor": 2
}
