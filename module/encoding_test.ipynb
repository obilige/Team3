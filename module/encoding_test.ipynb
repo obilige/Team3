{
 "cells": [
  {
   "cell_type": "markdown",
   "metadata": {},
   "source": [
    "# 1. train_encoding.ipynb\n",
    "- 머신러닝하기 위해 필요한 데이터 구조 조작 클래스"
   ]
  },
  {
   "cell_type": "code",
   "execution_count": 1,
   "metadata": {},
   "outputs": [],
   "source": [
    "import numpy as np\n",
    "import pandas as pd\n",
    "from sklearn.model_selection import train_test_split\n",
    "from unicodedata import category\n",
    "import encoding"
   ]
  },
  {
   "cell_type": "markdown",
   "metadata": {},
   "source": [
    "# 2. Data 불러오기"
   ]
  },
  {
   "cell_type": "code",
   "execution_count": 2,
   "metadata": {},
   "outputs": [],
   "source": [
    "# csv 파일 읽으면 datetime 칼럼은 datetime 형태가 아닙니다. 그래서, parse_dates=['datetime]을 꼭 붙여줘야합니다.\n",
    "df = pd.read_csv(\"data/df_from_sql.csv\", parse_dates=['datetime'], index_col=0)"
   ]
  },
  {
   "cell_type": "code",
   "execution_count": 3,
   "metadata": {},
   "outputs": [
    {
     "data": {
      "text/html": [
       "<div>\n",
       "<style scoped>\n",
       "    .dataframe tbody tr th:only-of-type {\n",
       "        vertical-align: middle;\n",
       "    }\n",
       "\n",
       "    .dataframe tbody tr th {\n",
       "        vertical-align: top;\n",
       "    }\n",
       "\n",
       "    .dataframe thead th {\n",
       "        text-align: right;\n",
       "    }\n",
       "</style>\n",
       "<table border=\"1\" class=\"dataframe\">\n",
       "  <thead>\n",
       "    <tr style=\"text-align: right;\">\n",
       "      <th></th>\n",
       "      <th>datetime</th>\n",
       "      <th>weekdays</th>\n",
       "      <th>worker_number</th>\n",
       "      <th>real_number</th>\n",
       "      <th>vacation_number</th>\n",
       "      <th>biztrip_number</th>\n",
       "      <th>overtime_number</th>\n",
       "      <th>telecom_number</th>\n",
       "      <th>lunch_number</th>\n",
       "      <th>dinner_number</th>\n",
       "      <th>...</th>\n",
       "      <th>lunch_main</th>\n",
       "      <th>dinner_rice</th>\n",
       "      <th>dinner_soup</th>\n",
       "      <th>dinner_main</th>\n",
       "      <th>temperature</th>\n",
       "      <th>rain</th>\n",
       "      <th>wind</th>\n",
       "      <th>humidity</th>\n",
       "      <th>discomfort_index</th>\n",
       "      <th>perceived_temperature</th>\n",
       "    </tr>\n",
       "  </thead>\n",
       "  <tbody>\n",
       "    <tr>\n",
       "      <th>0</th>\n",
       "      <td>2016-02-01</td>\n",
       "      <td>monday</td>\n",
       "      <td>2601</td>\n",
       "      <td>2401</td>\n",
       "      <td>50</td>\n",
       "      <td>150</td>\n",
       "      <td>238</td>\n",
       "      <td>0</td>\n",
       "      <td>1039</td>\n",
       "      <td>331</td>\n",
       "      <td>...</td>\n",
       "      <td>쇠불고기</td>\n",
       "      <td>밥</td>\n",
       "      <td>육개장</td>\n",
       "      <td>자반고등어구이</td>\n",
       "      <td>-0.6</td>\n",
       "      <td>0.0</td>\n",
       "      <td>1.3</td>\n",
       "      <td>43.9</td>\n",
       "      <td>39.275534</td>\n",
       "      <td>0.641548</td>\n",
       "    </tr>\n",
       "    <tr>\n",
       "      <th>1</th>\n",
       "      <td>2016-02-02</td>\n",
       "      <td>tuesday</td>\n",
       "      <td>2601</td>\n",
       "      <td>2378</td>\n",
       "      <td>50</td>\n",
       "      <td>173</td>\n",
       "      <td>319</td>\n",
       "      <td>0</td>\n",
       "      <td>867</td>\n",
       "      <td>560</td>\n",
       "      <td>...</td>\n",
       "      <td>가자미튀김</td>\n",
       "      <td>콩나물밥*양념장</td>\n",
       "      <td>어묵국</td>\n",
       "      <td>유산슬</td>\n",
       "      <td>-2.3</td>\n",
       "      <td>0.0</td>\n",
       "      <td>0.8</td>\n",
       "      <td>47.5</td>\n",
       "      <td>36.562925</td>\n",
       "      <td>-0.160634</td>\n",
       "    </tr>\n",
       "    <tr>\n",
       "      <th>2</th>\n",
       "      <td>2016-02-03</td>\n",
       "      <td>wednesday</td>\n",
       "      <td>2601</td>\n",
       "      <td>2365</td>\n",
       "      <td>56</td>\n",
       "      <td>180</td>\n",
       "      <td>111</td>\n",
       "      <td>0</td>\n",
       "      <td>1017</td>\n",
       "      <td>573</td>\n",
       "      <td>...</td>\n",
       "      <td>치킨핑거</td>\n",
       "      <td>밥</td>\n",
       "      <td>청국장찌개</td>\n",
       "      <td>황태양념구이</td>\n",
       "      <td>-1.7</td>\n",
       "      <td>0.0</td>\n",
       "      <td>0.6</td>\n",
       "      <td>57.1</td>\n",
       "      <td>35.796707</td>\n",
       "      <td>0.964631</td>\n",
       "    </tr>\n",
       "    <tr>\n",
       "      <th>3</th>\n",
       "      <td>2016-02-04</td>\n",
       "      <td>thursday</td>\n",
       "      <td>2601</td>\n",
       "      <td>2277</td>\n",
       "      <td>104</td>\n",
       "      <td>220</td>\n",
       "      <td>355</td>\n",
       "      <td>0</td>\n",
       "      <td>978</td>\n",
       "      <td>525</td>\n",
       "      <td>...</td>\n",
       "      <td>주꾸미볶음</td>\n",
       "      <td>미니김밥*겨자장</td>\n",
       "      <td>우동</td>\n",
       "      <td>멕시칸샐러드</td>\n",
       "      <td>-0.2</td>\n",
       "      <td>0.0</td>\n",
       "      <td>0.7</td>\n",
       "      <td>53.4</td>\n",
       "      <td>38.396068</td>\n",
       "      <td>2.181494</td>\n",
       "    </tr>\n",
       "    <tr>\n",
       "      <th>4</th>\n",
       "      <td>2016-02-05</td>\n",
       "      <td>friday</td>\n",
       "      <td>2601</td>\n",
       "      <td>2142</td>\n",
       "      <td>278</td>\n",
       "      <td>181</td>\n",
       "      <td>34</td>\n",
       "      <td>0</td>\n",
       "      <td>925</td>\n",
       "      <td>330</td>\n",
       "      <td>...</td>\n",
       "      <td>돈육씨앗강정</td>\n",
       "      <td>밥</td>\n",
       "      <td>차돌박이찌개</td>\n",
       "      <td>닭갈비</td>\n",
       "      <td>1.3</td>\n",
       "      <td>0.0</td>\n",
       "      <td>1.0</td>\n",
       "      <td>44.4</td>\n",
       "      <td>41.575228</td>\n",
       "      <td>3.073400</td>\n",
       "    </tr>\n",
       "  </tbody>\n",
       "</table>\n",
       "<p>5 rows × 29 columns</p>\n",
       "</div>"
      ],
      "text/plain": [
       "    datetime   weekdays  worker_number  real_number  vacation_number  \\\n",
       "0 2016-02-01     monday           2601         2401               50   \n",
       "1 2016-02-02    tuesday           2601         2378               50   \n",
       "2 2016-02-03  wednesday           2601         2365               56   \n",
       "3 2016-02-04   thursday           2601         2277              104   \n",
       "4 2016-02-05     friday           2601         2142              278   \n",
       "\n",
       "   biztrip_number  overtime_number  telecom_number  lunch_number  \\\n",
       "0             150              238               0          1039   \n",
       "1             173              319               0           867   \n",
       "2             180              111               0          1017   \n",
       "3             220              355               0           978   \n",
       "4             181               34               0           925   \n",
       "\n",
       "   dinner_number  ...  lunch_main  dinner_rice  dinner_soup dinner_main  \\\n",
       "0            331  ...        쇠불고기            밥          육개장     자반고등어구이   \n",
       "1            560  ...       가자미튀김     콩나물밥*양념장          어묵국         유산슬   \n",
       "2            573  ...        치킨핑거            밥        청국장찌개      황태양념구이   \n",
       "3            525  ...       주꾸미볶음     미니김밥*겨자장           우동      멕시칸샐러드   \n",
       "4            330  ...      돈육씨앗강정            밥       차돌박이찌개         닭갈비   \n",
       "\n",
       "   temperature rain wind humidity discomfort_index perceived_temperature  \n",
       "0         -0.6  0.0  1.3     43.9        39.275534              0.641548  \n",
       "1         -2.3  0.0  0.8     47.5        36.562925             -0.160634  \n",
       "2         -1.7  0.0  0.6     57.1        35.796707              0.964631  \n",
       "3         -0.2  0.0  0.7     53.4        38.396068              2.181494  \n",
       "4          1.3  0.0  1.0     44.4        41.575228              3.073400  \n",
       "\n",
       "[5 rows x 29 columns]"
      ]
     },
     "execution_count": 3,
     "metadata": {},
     "output_type": "execute_result"
    }
   ],
   "source": [
    "df.head()"
   ]
  },
  {
   "cell_type": "code",
   "execution_count": 4,
   "metadata": {},
   "outputs": [
    {
     "name": "stdout",
     "output_type": "stream",
     "text": [
      "<class 'pandas.core.frame.DataFrame'>\n",
      "Int64Index: 1205 entries, 0 to 1204\n",
      "Data columns (total 29 columns):\n",
      " #   Column                 Non-Null Count  Dtype         \n",
      "---  ------                 --------------  -----         \n",
      " 0   datetime               1205 non-null   datetime64[ns]\n",
      " 1   weekdays               1205 non-null   object        \n",
      " 2   worker_number          1205 non-null   int64         \n",
      " 3   real_number            1205 non-null   int64         \n",
      " 4   vacation_number        1205 non-null   int64         \n",
      " 5   biztrip_number         1205 non-null   int64         \n",
      " 6   overtime_number        1205 non-null   int64         \n",
      " 7   telecom_number         1205 non-null   int64         \n",
      " 8   lunch_number           1205 non-null   int64         \n",
      " 9   dinner_number          1205 non-null   int64         \n",
      " 10  year                   1205 non-null   int64         \n",
      " 11  month                  1205 non-null   int64         \n",
      " 12  date                   1205 non-null   int64         \n",
      " 13  season                 1205 non-null   object        \n",
      " 14  vacation               1205 non-null   int64         \n",
      " 15  new_lunch              1205 non-null   object        \n",
      " 16  new_dinner             1205 non-null   object        \n",
      " 17  lunch_rice             1205 non-null   object        \n",
      " 18  lunch_soup             1205 non-null   object        \n",
      " 19  lunch_main             1205 non-null   object        \n",
      " 20  dinner_rice            1205 non-null   object        \n",
      " 21  dinner_soup            1205 non-null   object        \n",
      " 22  dinner_main            1205 non-null   object        \n",
      " 23  temperature            1204 non-null   float64       \n",
      " 24  rain                   1205 non-null   float64       \n",
      " 25  wind                   1204 non-null   float64       \n",
      " 26  humidity               1205 non-null   float64       \n",
      " 27  discomfort_index       1204 non-null   float64       \n",
      " 28  perceived_temperature  1203 non-null   float64       \n",
      "dtypes: datetime64[ns](1), float64(6), int64(12), object(10)\n",
      "memory usage: 282.4+ KB\n"
     ]
    }
   ],
   "source": [
    "df.info()"
   ]
  },
  {
   "cell_type": "markdown",
   "metadata": {},
   "source": [
    "# 3. class 호출 및 테스트"
   ]
  },
  {
   "cell_type": "code",
   "execution_count": 5,
   "metadata": {},
   "outputs": [],
   "source": [
    "encoding = encoding.Train_Encoding(df)"
   ]
  },
  {
   "cell_type": "markdown",
   "metadata": {},
   "source": [
    "### 1. drop\n",
    "- ok"
   ]
  },
  {
   "cell_type": "code",
   "execution_count": 6,
   "metadata": {},
   "outputs": [],
   "source": [
    "df_dropna = encoding.drop()"
   ]
  },
  {
   "cell_type": "code",
   "execution_count": 7,
   "metadata": {},
   "outputs": [
    {
     "name": "stdout",
     "output_type": "stream",
     "text": [
      "<class 'pandas.core.frame.DataFrame'>\n",
      "Int64Index: 1203 entries, 0 to 1204\n",
      "Data columns (total 29 columns):\n",
      " #   Column                 Non-Null Count  Dtype         \n",
      "---  ------                 --------------  -----         \n",
      " 0   datetime               1203 non-null   datetime64[ns]\n",
      " 1   weekdays               1203 non-null   object        \n",
      " 2   worker_number          1203 non-null   int64         \n",
      " 3   real_number            1203 non-null   int64         \n",
      " 4   vacation_number        1203 non-null   int64         \n",
      " 5   biztrip_number         1203 non-null   int64         \n",
      " 6   overtime_number        1203 non-null   int64         \n",
      " 7   telecom_number         1203 non-null   int64         \n",
      " 8   lunch_number           1203 non-null   int64         \n",
      " 9   dinner_number          1203 non-null   int64         \n",
      " 10  year                   1203 non-null   int64         \n",
      " 11  month                  1203 non-null   int64         \n",
      " 12  date                   1203 non-null   int64         \n",
      " 13  season                 1203 non-null   object        \n",
      " 14  vacation               1203 non-null   int64         \n",
      " 15  new_lunch              1203 non-null   object        \n",
      " 16  new_dinner             1203 non-null   object        \n",
      " 17  lunch_rice             1203 non-null   object        \n",
      " 18  lunch_soup             1203 non-null   object        \n",
      " 19  lunch_main             1203 non-null   object        \n",
      " 20  dinner_rice            1203 non-null   object        \n",
      " 21  dinner_soup            1203 non-null   object        \n",
      " 22  dinner_main            1203 non-null   object        \n",
      " 23  temperature            1203 non-null   float64       \n",
      " 24  rain                   1203 non-null   float64       \n",
      " 25  wind                   1203 non-null   float64       \n",
      " 26  humidity               1203 non-null   float64       \n",
      " 27  discomfort_index       1203 non-null   float64       \n",
      " 28  perceived_temperature  1203 non-null   float64       \n",
      "dtypes: datetime64[ns](1), float64(6), int64(12), object(10)\n",
      "memory usage: 282.0+ KB\n"
     ]
    }
   ],
   "source": [
    "df_dropna.info()"
   ]
  },
  {
   "cell_type": "markdown",
   "metadata": {},
   "source": [
    "### 2. seperate\n",
    "- ok"
   ]
  },
  {
   "cell_type": "code",
   "execution_count": 6,
   "metadata": {},
   "outputs": [],
   "source": [
    "df_lunch = encoding.seperate()[0]\n",
    "df_dinner = encoding.seperate()[1]"
   ]
  },
  {
   "cell_type": "code",
   "execution_count": 7,
   "metadata": {},
   "outputs": [
    {
     "name": "stdout",
     "output_type": "stream",
     "text": [
      "<class 'pandas.core.frame.DataFrame'>\n",
      "Int64Index: 1203 entries, 0 to 1204\n",
      "Data columns (total 24 columns):\n",
      " #   Column                 Non-Null Count  Dtype         \n",
      "---  ------                 --------------  -----         \n",
      " 0   datetime               1203 non-null   datetime64[ns]\n",
      " 1   season                 1203 non-null   object        \n",
      " 2   year                   1203 non-null   int64         \n",
      " 3   month                  1203 non-null   int64         \n",
      " 4   date                   1203 non-null   int64         \n",
      " 5   weekdays               1203 non-null   object        \n",
      " 6   vacation               1203 non-null   int64         \n",
      " 7   worker_number          1203 non-null   int64         \n",
      " 8   real_number            1203 non-null   int64         \n",
      " 9   vacation_number        1203 non-null   int64         \n",
      " 10  biztrip_number         1203 non-null   int64         \n",
      " 11  overtime_number        1203 non-null   int64         \n",
      " 12  telecom_number         1203 non-null   int64         \n",
      " 13  temperature            1203 non-null   float64       \n",
      " 14  rain                   1203 non-null   float64       \n",
      " 15  wind                   1203 non-null   float64       \n",
      " 16  humidity               1203 non-null   float64       \n",
      " 17  discomfort_index       1203 non-null   float64       \n",
      " 18  perceived_temperature  1203 non-null   float64       \n",
      " 19  lunch_rice             1203 non-null   object        \n",
      " 20  lunch_soup             1203 non-null   object        \n",
      " 21  lunch_main             1203 non-null   object        \n",
      " 22  new_lunch              1203 non-null   object        \n",
      " 23  lunch_number           1203 non-null   int64         \n",
      "dtypes: datetime64[ns](1), float64(6), int64(11), object(6)\n",
      "memory usage: 235.0+ KB\n"
     ]
    }
   ],
   "source": [
    "df_lunch.info()"
   ]
  },
  {
   "cell_type": "code",
   "execution_count": 8,
   "metadata": {},
   "outputs": [
    {
     "name": "stdout",
     "output_type": "stream",
     "text": [
      "<class 'pandas.core.frame.DataFrame'>\n",
      "Int64Index: 1203 entries, 0 to 1204\n",
      "Data columns (total 24 columns):\n",
      " #   Column                 Non-Null Count  Dtype         \n",
      "---  ------                 --------------  -----         \n",
      " 0   datetime               1203 non-null   datetime64[ns]\n",
      " 1   season                 1203 non-null   object        \n",
      " 2   year                   1203 non-null   int64         \n",
      " 3   month                  1203 non-null   int64         \n",
      " 4   date                   1203 non-null   int64         \n",
      " 5   weekdays               1203 non-null   object        \n",
      " 6   vacation               1203 non-null   int64         \n",
      " 7   worker_number          1203 non-null   int64         \n",
      " 8   real_number            1203 non-null   int64         \n",
      " 9   vacation_number        1203 non-null   int64         \n",
      " 10  biztrip_number         1203 non-null   int64         \n",
      " 11  overtime_number        1203 non-null   int64         \n",
      " 12  telecom_number         1203 non-null   int64         \n",
      " 13  temperature            1203 non-null   float64       \n",
      " 14  rain                   1203 non-null   float64       \n",
      " 15  wind                   1203 non-null   float64       \n",
      " 16  humidity               1203 non-null   float64       \n",
      " 17  discomfort_index       1203 non-null   float64       \n",
      " 18  perceived_temperature  1203 non-null   float64       \n",
      " 19  dinner_rice            1203 non-null   object        \n",
      " 20  dinner_soup            1203 non-null   object        \n",
      " 21  dinner_main            1203 non-null   object        \n",
      " 22  new_dinner             1203 non-null   object        \n",
      " 23  dinner_number          1203 non-null   int64         \n",
      "dtypes: datetime64[ns](1), float64(6), int64(11), object(6)\n",
      "memory usage: 235.0+ KB\n"
     ]
    }
   ],
   "source": [
    "df_dinner.info()"
   ]
  },
  {
   "cell_type": "markdown",
   "metadata": {},
   "source": [
    "### 3. rice\n",
    "+ ok\n",
    "+ 메뉴를 모두 겟더미할 수 없어 밥을 일반과 특식으로 나눴습니다. 이 외 국, 반찬은 데이터가 아깝지만 카테고리화할 수 없어 버렸습니다."
   ]
  },
  {
   "cell_type": "code",
   "execution_count": 6,
   "metadata": {},
   "outputs": [
    {
     "name": "stderr",
     "output_type": "stream",
     "text": [
      "/Users/hoon/Desktop/Data/vscode/team_project/Forecast_final/module/encoding.py:29: SettingWithCopyWarning: \n",
      "A value is trying to be set on a copy of a slice from a DataFrame\n",
      "\n",
      "See the caveats in the documentation: https://pandas.pydata.org/pandas-docs/stable/user_guide/indexing.html#returning-a-view-versus-a-copy\n",
      "  lunch['lunch_rice'][index] = \"N\"\n",
      "/Users/hoon/Desktop/Data/vscode/team_project/Forecast_final/module/encoding.py:42: SettingWithCopyWarning: \n",
      "A value is trying to be set on a copy of a slice from a DataFrame\n",
      "\n",
      "See the caveats in the documentation: https://pandas.pydata.org/pandas-docs/stable/user_guide/indexing.html#returning-a-view-versus-a-copy\n",
      "  dinner['dinner_rice'][index] = \"N\"\n"
     ]
    }
   ],
   "source": [
    "rice_lunch = encoding.rice_lunch()\n",
    "rice_dinner = encoding.rice_dinner()"
   ]
  },
  {
   "cell_type": "code",
   "execution_count": 8,
   "metadata": {},
   "outputs": [
    {
     "name": "stdout",
     "output_type": "stream",
     "text": [
      "<class 'pandas.core.frame.DataFrame'>\n",
      "Int64Index: 1203 entries, 0 to 1204\n",
      "Data columns (total 22 columns):\n",
      " #   Column                 Non-Null Count  Dtype         \n",
      "---  ------                 --------------  -----         \n",
      " 0   datetime               1203 non-null   datetime64[ns]\n",
      " 1   season                 1203 non-null   object        \n",
      " 2   year                   1203 non-null   int64         \n",
      " 3   month                  1203 non-null   int64         \n",
      " 4   date                   1203 non-null   int64         \n",
      " 5   weekdays               1203 non-null   object        \n",
      " 6   vacation               1203 non-null   int64         \n",
      " 7   worker_number          1203 non-null   int64         \n",
      " 8   real_number            1203 non-null   int64         \n",
      " 9   vacation_number        1203 non-null   int64         \n",
      " 10  biztrip_number         1203 non-null   int64         \n",
      " 11  overtime_number        1203 non-null   int64         \n",
      " 12  telecom_number         1203 non-null   int64         \n",
      " 13  temperature            1203 non-null   float64       \n",
      " 14  rain                   1203 non-null   float64       \n",
      " 15  wind                   1203 non-null   float64       \n",
      " 16  humidity               1203 non-null   float64       \n",
      " 17  discomfort_index       1203 non-null   float64       \n",
      " 18  perceived_temperature  1203 non-null   float64       \n",
      " 19  lunch_rice             1203 non-null   object        \n",
      " 20  new_lunch              1203 non-null   object        \n",
      " 21  lunch_number           1203 non-null   int64         \n",
      "dtypes: datetime64[ns](1), float64(6), int64(11), object(4)\n",
      "memory usage: 248.5+ KB\n"
     ]
    }
   ],
   "source": [
    "rice_lunch.info()"
   ]
  },
  {
   "cell_type": "code",
   "execution_count": 9,
   "metadata": {},
   "outputs": [
    {
     "name": "stdout",
     "output_type": "stream",
     "text": [
      "<class 'pandas.core.frame.DataFrame'>\n",
      "Int64Index: 1203 entries, 0 to 1204\n",
      "Data columns (total 22 columns):\n",
      " #   Column                 Non-Null Count  Dtype         \n",
      "---  ------                 --------------  -----         \n",
      " 0   datetime               1203 non-null   datetime64[ns]\n",
      " 1   season                 1203 non-null   object        \n",
      " 2   year                   1203 non-null   int64         \n",
      " 3   month                  1203 non-null   int64         \n",
      " 4   date                   1203 non-null   int64         \n",
      " 5   weekdays               1203 non-null   object        \n",
      " 6   vacation               1203 non-null   int64         \n",
      " 7   worker_number          1203 non-null   int64         \n",
      " 8   real_number            1203 non-null   int64         \n",
      " 9   vacation_number        1203 non-null   int64         \n",
      " 10  biztrip_number         1203 non-null   int64         \n",
      " 11  overtime_number        1203 non-null   int64         \n",
      " 12  telecom_number         1203 non-null   int64         \n",
      " 13  temperature            1203 non-null   float64       \n",
      " 14  rain                   1203 non-null   float64       \n",
      " 15  wind                   1203 non-null   float64       \n",
      " 16  humidity               1203 non-null   float64       \n",
      " 17  discomfort_index       1203 non-null   float64       \n",
      " 18  perceived_temperature  1203 non-null   float64       \n",
      " 19  dinner_rice            1203 non-null   object        \n",
      " 20  new_dinner             1203 non-null   object        \n",
      " 21  dinner_number          1203 non-null   int64         \n",
      "dtypes: datetime64[ns](1), float64(6), int64(11), object(4)\n",
      "memory usage: 248.5+ KB\n"
     ]
    }
   ],
   "source": [
    "rice_dinner.info()"
   ]
  },
  {
   "cell_type": "markdown",
   "metadata": {},
   "source": [
    "### 4. one_hot\n",
    "+ ok"
   ]
  },
  {
   "cell_type": "code",
   "execution_count": 6,
   "metadata": {},
   "outputs": [
    {
     "name": "stderr",
     "output_type": "stream",
     "text": [
      "/Users/hoon/Desktop/Data/vscode/team_project/Forecast_final/module/encoding.py:30: SettingWithCopyWarning: \n",
      "A value is trying to be set on a copy of a slice from a DataFrame\n",
      "\n",
      "See the caveats in the documentation: https://pandas.pydata.org/pandas-docs/stable/user_guide/indexing.html#returning-a-view-versus-a-copy\n",
      "  lunch['lunch_rice'][index] = \"N\"\n",
      "/Users/hoon/Desktop/Data/vscode/team_project/Forecast_final/module/encoding.py:43: SettingWithCopyWarning: \n",
      "A value is trying to be set on a copy of a slice from a DataFrame\n",
      "\n",
      "See the caveats in the documentation: https://pandas.pydata.org/pandas-docs/stable/user_guide/indexing.html#returning-a-view-versus-a-copy\n",
      "  dinner['dinner_rice'][index] = \"N\"\n"
     ]
    }
   ],
   "source": [
    "df_onehot_lunch = encoding.onehot_lunch()\n",
    "df_onehot_dinner = encoding.onehot_dinner()"
   ]
  },
  {
   "cell_type": "code",
   "execution_count": 7,
   "metadata": {},
   "outputs": [
    {
     "name": "stdout",
     "output_type": "stream",
     "text": [
      "<class 'pandas.core.frame.DataFrame'>\n",
      "Int64Index: 1203 entries, 0 to 1204\n",
      "Data columns (total 31 columns):\n",
      " #   Column                 Non-Null Count  Dtype         \n",
      "---  ------                 --------------  -----         \n",
      " 0   datetime               1203 non-null   datetime64[ns]\n",
      " 1   year                   1203 non-null   int64         \n",
      " 2   month                  1203 non-null   int64         \n",
      " 3   date                   1203 non-null   int64         \n",
      " 4   vacation               1203 non-null   int64         \n",
      " 5   worker_number          1203 non-null   int64         \n",
      " 6   real_number            1203 non-null   int64         \n",
      " 7   vacation_number        1203 non-null   int64         \n",
      " 8   biztrip_number         1203 non-null   int64         \n",
      " 9   overtime_number        1203 non-null   int64         \n",
      " 10  telecom_number         1203 non-null   int64         \n",
      " 11  temperature            1203 non-null   float64       \n",
      " 12  rain                   1203 non-null   float64       \n",
      " 13  wind                   1203 non-null   float64       \n",
      " 14  humidity               1203 non-null   float64       \n",
      " 15  discomfort_index       1203 non-null   float64       \n",
      " 16  perceived_temperature  1203 non-null   float64       \n",
      " 17  lunch_number           1203 non-null   int64         \n",
      " 18  season_fall            1203 non-null   uint8         \n",
      " 19  season_spring          1203 non-null   uint8         \n",
      " 20  season_summer          1203 non-null   uint8         \n",
      " 21  season_winter          1203 non-null   uint8         \n",
      " 22  weekdays_friday        1203 non-null   uint8         \n",
      " 23  weekdays_monday        1203 non-null   uint8         \n",
      " 24  weekdays_thursday      1203 non-null   uint8         \n",
      " 25  weekdays_tuesday       1203 non-null   uint8         \n",
      " 26  weekdays_wednesday     1203 non-null   uint8         \n",
      " 27  lunch_rice_N           1203 non-null   uint8         \n",
      " 28  lunch_rice_밥           1203 non-null   uint8         \n",
      " 29  new_lunch_N            1203 non-null   uint8         \n",
      " 30  new_lunch_Y            1203 non-null   uint8         \n",
      "dtypes: datetime64[ns](1), float64(6), int64(11), uint8(13)\n",
      "memory usage: 226.1 KB\n"
     ]
    }
   ],
   "source": [
    "df_onehot_lunch.info()"
   ]
  },
  {
   "cell_type": "code",
   "execution_count": 8,
   "metadata": {},
   "outputs": [
    {
     "name": "stdout",
     "output_type": "stream",
     "text": [
      "<class 'pandas.core.frame.DataFrame'>\n",
      "Int64Index: 1203 entries, 0 to 1204\n",
      "Data columns (total 32 columns):\n",
      " #   Column                 Non-Null Count  Dtype         \n",
      "---  ------                 --------------  -----         \n",
      " 0   datetime               1203 non-null   datetime64[ns]\n",
      " 1   year                   1203 non-null   int64         \n",
      " 2   month                  1203 non-null   int64         \n",
      " 3   date                   1203 non-null   int64         \n",
      " 4   vacation               1203 non-null   int64         \n",
      " 5   worker_number          1203 non-null   int64         \n",
      " 6   real_number            1203 non-null   int64         \n",
      " 7   vacation_number        1203 non-null   int64         \n",
      " 8   biztrip_number         1203 non-null   int64         \n",
      " 9   overtime_number        1203 non-null   int64         \n",
      " 10  telecom_number         1203 non-null   int64         \n",
      " 11  temperature            1203 non-null   float64       \n",
      " 12  rain                   1203 non-null   float64       \n",
      " 13  wind                   1203 non-null   float64       \n",
      " 14  humidity               1203 non-null   float64       \n",
      " 15  discomfort_index       1203 non-null   float64       \n",
      " 16  perceived_temperature  1203 non-null   float64       \n",
      " 17  dinner_number          1203 non-null   int64         \n",
      " 18  season_fall            1203 non-null   uint8         \n",
      " 19  season_spring          1203 non-null   uint8         \n",
      " 20  season_summer          1203 non-null   uint8         \n",
      " 21  season_winter          1203 non-null   uint8         \n",
      " 22  weekdays_friday        1203 non-null   uint8         \n",
      " 23  weekdays_monday        1203 non-null   uint8         \n",
      " 24  weekdays_thursday      1203 non-null   uint8         \n",
      " 25  weekdays_tuesday       1203 non-null   uint8         \n",
      " 26  weekdays_wednesday     1203 non-null   uint8         \n",
      " 27  dinner_rice_N          1203 non-null   uint8         \n",
      " 28  dinner_rice_밥          1203 non-null   uint8         \n",
      " 29  dinner_rice_잔치국수       1203 non-null   uint8         \n",
      " 30  new_dinner_N           1203 non-null   uint8         \n",
      " 31  new_dinner_Y           1203 non-null   uint8         \n",
      "dtypes: datetime64[ns](1), float64(6), int64(11), uint8(14)\n",
      "memory usage: 227.3 KB\n"
     ]
    }
   ],
   "source": [
    "df_onehot_dinner.info()"
   ]
  },
  {
   "cell_type": "code",
   "execution_count": null,
   "metadata": {},
   "outputs": [],
   "source": [
    "### lunch_rice, dinner_rice 부분에서 문제 발생\n",
    "### lunch_rice, dinner_rice가 밥/특식을 0과 1로 나누지 못한 느낌이 듬\n",
    "### 밥 부분을 0과 1로 바꾸는 코드 입력하면 끝날 듯"
   ]
  }
 ],
 "metadata": {
  "interpreter": {
   "hash": "476a94dc85aeef50ce38d52ab019ae32fa2a67ff1ac8045d45d38aa23f62cc9d"
  },
  "kernelspec": {
   "display_name": "Python 3.9.7 ('ML')",
   "language": "python",
   "name": "python3"
  },
  "language_info": {
   "codemirror_mode": {
    "name": "ipython",
    "version": 3
   },
   "file_extension": ".py",
   "mimetype": "text/x-python",
   "name": "python",
   "nbconvert_exporter": "python",
   "pygments_lexer": "ipython3",
   "version": "3.9.7"
  },
  "orig_nbformat": 4
 },
 "nbformat": 4,
 "nbformat_minor": 2
}
